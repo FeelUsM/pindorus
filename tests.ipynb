{
 "cells": [
  {
   "cell_type": "code",
   "execution_count": 1,
   "metadata": {
    "ExecuteTime": {
     "end_time": "2019-04-14T21:20:50.261932Z",
     "start_time": "2019-04-14T21:20:50.237929Z"
    }
   },
   "outputs": [],
   "source": [
    "import time\n",
    "from parse_system import tokenize, TestError, seq, W, SAttrs"
   ]
  },
  {
   "cell_type": "code",
   "execution_count": 2,
   "metadata": {
    "ExecuteTime": {
     "end_time": "2019-04-14T21:20:50.468938Z",
     "start_time": "2019-04-14T21:20:50.296933Z"
    }
   },
   "outputs": [],
   "source": [
    "import parse_system\n",
    "def warning_hook(s):\n",
    "    raise TestError(s)\n",
    "def warning_print(s):\n",
    "    print(s)\n"
   ]
  },
  {
   "cell_type": "code",
   "execution_count": 3,
   "metadata": {
    "ExecuteTime": {
     "end_time": "2019-04-14T21:20:50.629942Z",
     "start_time": "2019-04-14T21:20:50.481941Z"
    },
    "code_folding": [
     0
    ]
   },
   "outputs": [],
   "source": [
    "TEST_ERRORS=[]\n",
    "\n",
    "def test(tmp,rezs):\n",
    "    global N\n",
    "    if tmp==rezs:\n",
    "        return True\n",
    "    else:\n",
    "        print('TestError')\n",
    "        if type(tmp)==str or type(rezs)==str:\n",
    "            print(tmp)\n",
    "        else:\n",
    "            if len(tmp)!=len(rezs):\n",
    "                print(tmp)\n",
    "            else:\n",
    "                for i in range(len(tmp)):\n",
    "                    if tmp[i]!=rezs[i]:\n",
    "                        print(i+1,')',tmp[i])\n",
    "        TEST_ERRORS.append({'N':N,'type':'wrong result','expected':rezs,\n",
    "                            'real':tmp})\n",
    "        return False"
   ]
  },
  {
   "cell_type": "code",
   "execution_count": 4,
   "metadata": {
    "ExecuteTime": {
     "end_time": "2019-04-14T21:20:50.775947Z",
     "start_time": "2019-04-14T21:20:50.642946Z"
    }
   },
   "outputs": [],
   "source": [
    "def ttest(f,arg,rez,ddt=5):\n",
    "    global N\n",
    "    try:\n",
    "        start_time = time.time()\n",
    "        test_OK = test(f(arg),rez)\n",
    "        dt = time.time() - start_time\n",
    "        if test_OK:\n",
    "            print('OK')\n",
    "        print('%d'%(dt*1000))\n",
    "        miltiplier=5\n",
    "        if dt*1000>miltiplier*ddt:\n",
    "            average = dt\n",
    "            LEN = 10\n",
    "            for i in range(LEN):\n",
    "                start_time = time.time()\n",
    "                f(arg)\n",
    "                average+= time.time() - start_time\n",
    "            average/=(LEN+1)\n",
    "            if average*1000>miltiplier*ddt:\n",
    "                print('over time')\n",
    "                TEST_ERRORS.append(\n",
    "                    {'N':N,'type':'over time','expected':rez,\n",
    "                     'real time':int(1000*dt),'expected time':ddt})\n",
    "    except BaseException as err:\n",
    "        if isinstance(err,TestError):\n",
    "            print('WARNING CATCHED')\n",
    "            TEST_ERRORS.append({'N':N,'type':'warning','expected':rez,\n",
    "                                'warning':err})\n",
    "            test_OK = False\n",
    "        else:\n",
    "            print('EXCEPTION CATCHED')\n",
    "            TEST_ERRORS.append({'N':N,'type':'exception','expected':rez,\n",
    "                                'error':err})\n",
    "            test_OK = True # не надо снова\n",
    "        print(err)\n",
    "    if not test_OK and f==en2ru:\n",
    "        parse_system.warning_fun=warning_print\n",
    "        try:\n",
    "            scheme(arg)\n",
    "        finally:\n",
    "            parse_system.warning_fun=warning_hook"
   ]
  },
  {
   "cell_type": "code",
   "execution_count": 5,
   "metadata": {
    "ExecuteTime": {
     "end_time": "2019-04-14T21:20:50.956952Z",
     "start_time": "2019-04-14T21:20:50.788946Z"
    }
   },
   "outputs": [],
   "source": [
    "t1=time.time()"
   ]
  },
  {
   "cell_type": "code",
   "execution_count": 6,
   "metadata": {
    "ExecuteTime": {
     "end_time": "2019-04-14T21:21:07.642351Z",
     "start_time": "2019-04-14T21:20:50.966953Z"
    },
    "scrolled": true
   },
   "outputs": [
    {
     "name": "stderr",
     "output_type": "stream",
     "text": [
      "[NbConvertApp] Converting notebook en2ru.ipynb to script\n",
      "[NbConvertApp] Writing 40605 bytes to en2ru.py\n"
     ]
    }
   ],
   "source": [
    "!jupyter nbconvert --to script en2ru.ipynb"
   ]
  },
  {
   "cell_type": "code",
   "execution_count": 7,
   "metadata": {
    "ExecuteTime": {
     "end_time": "2019-04-14T21:21:08.556145Z",
     "start_time": "2019-04-14T21:21:07.642351Z"
    }
   },
   "outputs": [
    {
     "name": "stderr",
     "output_type": "stream",
     "text": [
      "no tokens\n"
     ]
    },
    {
     "name": "stdout",
     "output_type": "stream",
     "text": [
      "добавлены цыплёнок цыплята\n",
      "склонение 4\n",
      "        'цыплёнок'   ,'цыплята',\n",
      "нет     'цыплёнка'   ,'цыплят',\n",
      "дать    'цыплёнку'   ,'цыплятам',\n",
      "вижу    'цыплёнка'   ,'цыплят',\n",
      "творю   'цыплёнком'  ,'цыплятами',\n",
      "думаю о 'цыплёнке'   ,'цыплятах',\n",
      "\n",
      "в dict_noun добавлено chicken\n",
      "в dict_noun добавлено chickens\n",
      "Считай от одного до десяти! Один, два, три,\n",
      "четыре, пять, шесть, семь, восемь, девять, десять.\n",
      "Добавлено новое склонение 7 m True {'ed': ('яц', 'йца', 'йцу', 'йца', 'йцем', 'йце'), 'mn': ('ы', 'ев', 'ам', 'ев', 'ами', 'ах')}\n",
      "добавлены заяц зайцы\n",
      "склонение 7\n",
      "        'заяц'    ,'зайцы',\n",
      "нет     'зайца'   ,'зайцев',\n",
      "дать    'зайцу'   ,'зайцам',\n",
      "вижу    'зайца'   ,'зайцев',\n",
      "творю   'зайцем'  ,'зайцами',\n",
      "думаю о 'зайце'   ,'зайцах',\n",
      "\n",
      "в dict_noun добавлено rabbit\n",
      "в dict_noun добавлено rabbits\n",
      "добавлены кролик кролики\n",
      "склонение 2\n",
      "        'кролик'    ,'кролики',\n",
      "нет     'кролика'   ,'кроликов',\n",
      "дать    'кролику'   ,'кроликам',\n",
      "вижу    'кролика'   ,'кроликов',\n",
      "творю   'кроликом'  ,'кроликами',\n",
      "думаю о 'кролике'   ,'кроликах',\n",
      "\n",
      "в dict_noun добавлено rabbit\n",
      "в dict_noun добавлено rabbits\n",
      "'''Считай кроликов!\n",
      "Один, два.\n",
      "Считай цыплят!\n",
      "Один, два, три.\n",
      "У этой девочки есть три\n",
      "кролика.\n",
      "У неё есть пять цыплят.'''\n",
      "'''кот.\n",
      "____Один, два.'''\n",
      "два кролика\n",
      "У этой девочки есть котёнок? Да, у неё есть.\n",
      "У этой девочки есть ваза? Да, у неё есть.\n",
      "У неё есть собака? Да, у неё есть.\n",
      "У неё есть шляпа? Да, у неё есть.\n",
      "У неё есть змея? Нет, у неё нет.\n",
      "У неё есть ягушка? Нет, у неё нет.\n",
      "У неё есть летучая мышь? Нет, у неё нет.\n",
      "У того мальчика есть две белки.\n",
      "Он тоже имеет одну лису.\n",
      "У него есть девять кроликов.\n",
      "У него есть четыре летучей мыши.\n",
      "У того мальчика есть волк?\n",
      "Нет, у него нет.\n",
      "У него есть ружьё?\n",
      "Нет, у него нет.\n",
      "У него есть пистолет?\n",
      "Нет, у него нет.\n",
      "У него есть палка?\n",
      "Да, у него есть.\n",
      "У него есть мяч?\n",
      "Да, у него есть.\n",
      "У тебя есть одна курица и восемь цыплят.\n",
      "Ты тоже имеешь девять кроликов.\n",
      "У тебя есть шляпа? Да, у меня есть.\n",
      "У тебя есть палка? Нет, у меня нет.\n",
      "Лови того кролика!\n",
      "У тебя есть мяч?\n",
      "Да, у меня есть.\n",
      "Покажи мне мяч!\n",
      "Кот, кот, лови летучую мышь!\n",
      "Считай цыплят!\n",
      "Лови того мальчика!\n",
      "Покажи мне этого кролика!\n",
      "Считай от десяти до одного!\n",
      "У тебя есть кукла?\n",
      "Нет, у меня нет.\n",
      "Скажи десять слов!\n",
      "\n",
      "\n"
     ]
    },
    {
     "name": "stderr",
     "output_type": "stream",
     "text": [
      "no tokens\n",
      "no tokens\n"
     ]
    }
   ],
   "source": [
    "t2=time.time()\n",
    "\n",
    "from en2ru import en2ru, decline, scheme, d_en2ru, pr_l_repr, \\\n",
    "p_noun, p_noun1, r_noun_comma_noun\n",
    "\n",
    "t3=time.time()"
   ]
  },
  {
   "cell_type": "code",
   "execution_count": 8,
   "metadata": {
    "ExecuteTime": {
     "end_time": "2019-04-14T21:21:08.600143Z",
     "start_time": "2019-04-14T21:21:08.575143Z"
    }
   },
   "outputs": [
    {
     "name": "stdout",
     "output_type": "stream",
     "text": [
      "\n",
      "converting: 16.689\n",
      "loading: 0.901\n"
     ]
    }
   ],
   "source": [
    "print()\n",
    "print('converting: %.3f'%(t2-t1))\n",
    "print('loading: %.3f'%(t3-t2))\n",
    "parse_system.warning_fun=warning_hook\n"
   ]
  },
  {
   "cell_type": "markdown",
   "metadata": {},
   "source": [
    "## Lesson 1"
   ]
  },
  {
   "cell_type": "code",
   "execution_count": 9,
   "metadata": {
    "ExecuteTime": {
     "end_time": "2019-04-14T21:21:08.856272Z",
     "start_time": "2019-04-14T21:21:08.618148Z"
    }
   },
   "outputs": [],
   "source": [
    "N=1"
   ]
  },
  {
   "cell_type": "code",
   "execution_count": 10,
   "metadata": {
    "ExecuteTime": {
     "end_time": "2019-04-14T21:21:08.998912Z",
     "start_time": "2019-04-14T21:21:08.874814Z"
    },
    "scrolled": false
   },
   "outputs": [
    {
     "name": "stdout",
     "output_type": "stream",
     "text": [
      "OK\n",
      "2\n"
     ]
    }
   ],
   "source": [
    "ttest(en2ru,'cat','кот')#,60"
   ]
  },
  {
   "cell_type": "code",
   "execution_count": 11,
   "metadata": {
    "ExecuteTime": {
     "end_time": "2019-04-14T21:21:09.206228Z",
     "start_time": "2019-04-14T21:21:09.009914Z"
    }
   },
   "outputs": [
    {
     "name": "stdout",
     "output_type": "stream",
     "text": [
      "OK\n",
      "10\n"
     ]
    }
   ],
   "source": [
    "ttest(en2ru,'a cat','кот')#,90"
   ]
  },
  {
   "cell_type": "code",
   "execution_count": 12,
   "metadata": {
    "ExecuteTime": {
     "end_time": "2019-04-14T21:21:09.385251Z",
     "start_time": "2019-04-14T21:21:09.220233Z"
    }
   },
   "outputs": [
    {
     "name": "stdout",
     "output_type": "stream",
     "text": [
      "OK\n",
      "0\n"
     ]
    }
   ],
   "source": [
    "ttest(en2ru,'rat','крыса')#,60"
   ]
  },
  {
   "cell_type": "code",
   "execution_count": 13,
   "metadata": {
    "ExecuteTime": {
     "end_time": "2019-04-14T21:21:09.554564Z",
     "start_time": "2019-04-14T21:21:09.410255Z"
    }
   },
   "outputs": [
    {
     "name": "stdout",
     "output_type": "stream",
     "text": [
      "OK\n",
      "15\n"
     ]
    }
   ],
   "source": [
    "ttest(en2ru,'bat','летучая мышь')#,110"
   ]
  },
  {
   "cell_type": "code",
   "execution_count": 14,
   "metadata": {
    "ExecuteTime": {
     "end_time": "2019-04-14T21:21:09.721710Z",
     "start_time": "2019-04-14T21:21:09.582563Z"
    }
   },
   "outputs": [
    {
     "name": "stdout",
     "output_type": "stream",
     "text": [
      "OK\n",
      "0\n"
     ]
    }
   ],
   "source": [
    "ttest(en2ru,'a','некоторый')#,80"
   ]
  },
  {
   "cell_type": "code",
   "execution_count": 15,
   "metadata": {
    "ExecuteTime": {
     "end_time": "2019-04-14T21:21:09.889136Z",
     "start_time": "2019-04-14T21:21:09.745708Z"
    }
   },
   "outputs": [
    {
     "name": "stdout",
     "output_type": "stream",
     "text": [
      "OK\n",
      "15\n"
     ]
    }
   ],
   "source": [
    "ttest(en2ru,'lesson','урок')#,60"
   ]
  },
  {
   "cell_type": "code",
   "execution_count": 16,
   "metadata": {
    "ExecuteTime": {
     "end_time": "2019-04-14T21:21:10.091683Z",
     "start_time": "2019-04-14T21:21:09.920191Z"
    }
   },
   "outputs": [
    {
     "name": "stdout",
     "output_type": "stream",
     "text": [
      "OK\n",
      "15\n"
     ]
    }
   ],
   "source": [
    "ttest(en2ru,'_Cat and cat','_Кот и кот')#,120"
   ]
  },
  {
   "cell_type": "code",
   "execution_count": 17,
   "metadata": {
    "ExecuteTime": {
     "end_time": "2019-04-14T21:21:10.298894Z",
     "start_time": "2019-04-14T21:21:10.117681Z"
    },
    "scrolled": true
   },
   "outputs": [
    {
     "name": "stdout",
     "output_type": "stream",
     "text": [
      "OK\n",
      "0\n"
     ]
    }
   ],
   "source": [
    "ttest(en2ru,'_a cat and cat','_кот и кот')#,150"
   ]
  },
  {
   "cell_type": "code",
   "execution_count": 18,
   "metadata": {
    "ExecuteTime": {
     "end_time": "2019-04-14T21:21:10.364896Z",
     "start_time": "2019-04-14T21:21:10.321894Z"
    },
    "scrolled": false
   },
   "outputs": [
    {
     "name": "stdout",
     "output_type": "stream",
     "text": [
      "OK\n",
      "7\n"
     ]
    }
   ],
   "source": [
    "ttest(en2ru,'_a cat , cat','_кот, кот')#,150"
   ]
  },
  {
   "cell_type": "code",
   "execution_count": 19,
   "metadata": {
    "ExecuteTime": {
     "end_time": "2019-04-14T21:21:10.712443Z",
     "start_time": "2019-04-14T21:21:10.386895Z"
    },
    "scrolled": false
   },
   "outputs": [
    {
     "data": {
      "text/plain": [
       "True"
      ]
     },
     "execution_count": 19,
     "metadata": {},
     "output_type": "execute_result"
    }
   ],
   "source": [
    "x=p_noun(tokenize('_a cat, cat'),0)[0][1]\n",
    "test(x.tostr(),'_кот, кот')"
   ]
  },
  {
   "cell_type": "code",
   "execution_count": 20,
   "metadata": {
    "ExecuteTime": {
     "end_time": "2019-04-14T21:21:10.887399Z",
     "start_time": "2019-04-14T21:21:10.731693Z"
    },
    "scrolled": false
   },
   "outputs": [
    {
     "data": {
      "text/plain": [
       "True"
      ]
     },
     "execution_count": 20,
     "metadata": {},
     "output_type": "execute_result"
    }
   ],
   "source": [
    "s=tokenize('_a cat, cat')\n",
    "rezs=seq([ p_noun1, W(',')  , p_noun ],r_noun_comma_noun)(s,0)\n",
    "test(rezs[0][1].tostr(),'_кот, кот')"
   ]
  },
  {
   "cell_type": "code",
   "execution_count": 21,
   "metadata": {
    "ExecuteTime": {
     "end_time": "2019-04-14T21:21:11.067361Z",
     "start_time": "2019-04-14T21:21:10.910403Z"
    },
    "scrolled": true
   },
   "outputs": [
    {
     "data": {
      "text/plain": [
       "True"
      ]
     },
     "execution_count": 21,
     "metadata": {},
     "output_type": "execute_result"
    }
   ],
   "source": [
    "test(p_noun(tokenize('cat,_cat,_a cat'),0)[0][1].tostr(),'кот,_кот,_кот')"
   ]
  },
  {
   "cell_type": "code",
   "execution_count": 22,
   "metadata": {
    "ExecuteTime": {
     "end_time": "2019-04-14T21:21:11.245107Z",
     "start_time": "2019-04-14T21:21:11.092366Z"
    },
    "scrolled": true
   },
   "outputs": [
    {
     "data": {
      "text/plain": [
       "True"
      ]
     },
     "execution_count": 22,
     "metadata": {},
     "output_type": "execute_result"
    }
   ],
   "source": [
    "test(SAttrs().join(tokenize('cat,_cat,_a cat')),'cat,_cat,_a cat')"
   ]
  },
  {
   "cell_type": "code",
   "execution_count": 23,
   "metadata": {
    "ExecuteTime": {
     "end_time": "2019-04-14T21:21:11.478981Z",
     "start_time": "2019-04-14T21:21:11.268111Z"
    },
    "scrolled": true
   },
   "outputs": [
    {
     "name": "stdout",
     "output_type": "stream",
     "text": [
      "OK\n",
      "15\n"
     ]
    }
   ],
   "source": [
    "ttest(en2ru,'rat, cat','крыса, кот')#,120"
   ]
  },
  {
   "cell_type": "markdown",
   "metadata": {
    "heading_collapsed": true
   },
   "source": [
    "## Lesson 2"
   ]
  },
  {
   "cell_type": "code",
   "execution_count": 24,
   "metadata": {
    "ExecuteTime": {
     "end_time": "2019-04-14T21:21:11.686987Z",
     "start_time": "2019-04-14T21:21:11.550984Z"
    },
    "hidden": true
   },
   "outputs": [],
   "source": [
    "N=2"
   ]
  },
  {
   "cell_type": "code",
   "execution_count": 25,
   "metadata": {
    "ExecuteTime": {
     "end_time": "2019-04-14T21:21:11.885008Z",
     "start_time": "2019-04-14T21:21:11.703989Z"
    },
    "hidden": true,
    "scrolled": false
   },
   "outputs": [
    {
     "name": "stdout",
     "output_type": "stream",
     "text": [
      "OK\n",
      "4\n"
     ]
    }
   ],
   "source": [
    "ttest(en2ru,'cat AND_Rat','кот И_Крыса')#,125"
   ]
  },
  {
   "cell_type": "code",
   "execution_count": 26,
   "metadata": {
    "ExecuteTime": {
     "end_time": "2019-04-14T21:21:12.043167Z",
     "start_time": "2019-04-14T21:21:11.902008Z"
    },
    "hidden": true
   },
   "outputs": [
    {
     "name": "stdout",
     "output_type": "stream",
     "text": [
      "OK\n",
      "6\n"
     ]
    }
   ],
   "source": [
    "ttest(en2ru,'a pen and a hen','ручка и курица')#,170"
   ]
  },
  {
   "cell_type": "code",
   "execution_count": 27,
   "metadata": {
    "ExecuteTime": {
     "end_time": "2019-04-14T21:21:12.209202Z",
     "start_time": "2019-04-14T21:21:12.054170Z"
    },
    "hidden": true,
    "scrolled": true
   },
   "outputs": [
    {
     "name": "stdout",
     "output_type": "stream",
     "text": [
      "OK\n",
      "7\n"
     ]
    }
   ],
   "source": [
    "ttest(en2ru,'a bat and a cat','летучая мышь и кот')#,210"
   ]
  },
  {
   "cell_type": "code",
   "execution_count": 28,
   "metadata": {
    "ExecuteTime": {
     "end_time": "2019-04-14T21:21:12.558143Z",
     "start_time": "2019-04-14T21:21:12.213643Z"
    },
    "hidden": true,
    "scrolled": true
   },
   "outputs": [
    {
     "name": "stdout",
     "output_type": "stream",
     "text": [
      "OK\n",
      "31\n"
     ]
    }
   ],
   "source": [
    "ttest(en2ru,'a hen, a bat, a cat and a rat','курица, летучая мышь, кот и крыса')#,360"
   ]
  },
  {
   "cell_type": "markdown",
   "metadata": {
    "heading_collapsed": true
   },
   "source": [
    "## Lesson 3"
   ]
  },
  {
   "cell_type": "code",
   "execution_count": 29,
   "metadata": {
    "ExecuteTime": {
     "end_time": "2019-04-14T21:21:12.579166Z",
     "start_time": "2019-04-14T21:21:12.558143Z"
    },
    "hidden": true
   },
   "outputs": [],
   "source": [
    "N=3"
   ]
  },
  {
   "cell_type": "code",
   "execution_count": 30,
   "metadata": {
    "ExecuteTime": {
     "end_time": "2019-04-14T21:21:12.742030Z",
     "start_time": "2019-04-14T21:21:12.609171Z"
    },
    "hidden": true
   },
   "outputs": [
    {
     "name": "stdout",
     "output_type": "stream",
     "text": [
      "OK\n",
      "0\n"
     ]
    }
   ],
   "source": [
    "ttest(en2ru,'one','один')#,85"
   ]
  },
  {
   "cell_type": "code",
   "execution_count": 31,
   "metadata": {
    "ExecuteTime": {
     "end_time": "2019-04-14T21:21:13.045179Z",
     "start_time": "2019-04-14T21:21:12.767525Z"
    },
    "hidden": true
   },
   "outputs": [
    {
     "name": "stdout",
     "output_type": "stream",
     "text": [
      "OK\n",
      "31\n"
     ]
    }
   ],
   "source": [
    "ttest(en2ru,'a bat, a dog and a pig','летучая мышь, собака и свинья')#,290"
   ]
  },
  {
   "cell_type": "code",
   "execution_count": 32,
   "metadata": {
    "ExecuteTime": {
     "end_time": "2019-04-14T21:21:13.082321Z",
     "start_time": "2019-04-14T21:21:13.045179Z"
    },
    "hidden": true
   },
   "outputs": [
    {
     "name": "stdout",
     "output_type": "stream",
     "text": [
      "OK\n",
      "2\n"
     ]
    }
   ],
   "source": [
    "ttest(en2ru,'one dog','одна собака')#,90"
   ]
  },
  {
   "cell_type": "code",
   "execution_count": 33,
   "metadata": {
    "ExecuteTime": {
     "end_time": "2019-04-14T21:21:13.243219Z",
     "start_time": "2019-04-14T21:21:13.092321Z"
    },
    "hidden": true
   },
   "outputs": [
    {
     "name": "stdout",
     "output_type": "stream",
     "text": [
      "OK\n",
      "15\n"
     ]
    }
   ],
   "source": [
    "ttest(en2ru,'three dogs','три собаки')#,100"
   ]
  },
  {
   "cell_type": "code",
   "execution_count": 34,
   "metadata": {
    "ExecuteTime": {
     "end_time": "2019-04-14T21:21:13.644477Z",
     "start_time": "2019-04-14T21:21:13.258849Z"
    },
    "hidden": true
   },
   "outputs": [
    {
     "name": "stdout",
     "output_type": "stream",
     "text": [
      "OK\n",
      "0\n"
     ]
    }
   ],
   "source": [
    "ttest(decline,'rat and cat',\n",
    "['крыса и кот',\n",
    " 'нет крысы и кота',\n",
    " 'дать крысе и коту',\n",
    " 'вижу крысу и кота',\n",
    " 'творю крысой и котом',\n",
    " 'думаю о крысе и коте'])"
   ]
  },
  {
   "cell_type": "code",
   "execution_count": 35,
   "metadata": {
    "ExecuteTime": {
     "end_time": "2019-04-14T21:21:13.675728Z",
     "start_time": "2019-04-14T21:21:13.644477Z"
    },
    "hidden": true,
    "scrolled": true
   },
   "outputs": [
    {
     "name": "stdout",
     "output_type": "stream",
     "text": [
      "OK\n",
      "0\n"
     ]
    }
   ],
   "source": [
    "ttest(en2ru,'rat and cat','крыса и кот')#,120"
   ]
  },
  {
   "cell_type": "code",
   "execution_count": 36,
   "metadata": {
    "ExecuteTime": {
     "end_time": "2019-04-14T21:21:14.013678Z",
     "start_time": "2019-04-14T21:21:13.686770Z"
    },
    "hidden": true,
    "scrolled": true
   },
   "outputs": [
    {
     "name": "stdout",
     "output_type": "stream",
     "text": [
      "OK\n",
      "31\n"
     ]
    }
   ],
   "source": [
    "ttest(decline,'one bat and three cups',\n",
    "['одна летучая мышь и три чашки',\n",
    "'нет одной летучей мыши и трёх чашек',\n",
    "'дать одной летучей мыши и трём чашкам',\n",
    "'вижу одну летучую мышь и три чашки',\n",
    "'творю одной летучей мышью и тремя чашками',\n",
    "'думаю о одной летучей мыши и трёх чашках'])#,8"
   ]
  },
  {
   "cell_type": "code",
   "execution_count": 37,
   "metadata": {
    "ExecuteTime": {
     "end_time": "2019-04-14T21:21:14.078822Z",
     "start_time": "2019-04-14T21:21:14.025684Z"
    },
    "hidden": true
   },
   "outputs": [
    {
     "name": "stdout",
     "output_type": "stream",
     "text": [
      "OK\n",
      "7\n"
     ]
    }
   ],
   "source": [
    "ttest(en2ru,'one bat and three cups','одна летучая мышь и три чашки')#,205"
   ]
  },
  {
   "cell_type": "code",
   "execution_count": 38,
   "metadata": {
    "ExecuteTime": {
     "end_time": "2019-04-14T21:21:14.382614Z",
     "start_time": "2019-04-14T21:21:14.089828Z"
    },
    "hidden": true
   },
   "outputs": [
    {
     "name": "stdout",
     "output_type": "stream",
     "text": [
      "OK\n",
      "30\n"
     ]
    }
   ],
   "source": [
    "ttest(decline,'one, two, three, four, five',[\n",
    "    'один, два, три, четыре, пять',\n",
    "    'нет одного, двух, трёх, четырёх, пяти',\n",
    "    'дать одному, двум, трём, четырём, пяти',\n",
    "    'вижу один, два, три, четыре, пять',\n",
    "    'творю одним, двумя, тремя, четырьмя, пятью',\n",
    "    'думаю о одном, двух, трёх, четырёх, пяти',])#,15"
   ]
  },
  {
   "cell_type": "code",
   "execution_count": 39,
   "metadata": {
    "ExecuteTime": {
     "end_time": "2019-04-14T21:21:14.461218Z",
     "start_time": "2019-04-14T21:21:14.382614Z"
    },
    "hidden": true
   },
   "outputs": [
    {
     "name": "stdout",
     "output_type": "stream",
     "text": [
      "OK\n",
      "3\n"
     ]
    }
   ],
   "source": [
    "ttest(decline,'cat, one cat, cats, two cats, three cats, five cats',[\n",
    "    'кот, один кот, коты, два кота, три кота, пять котов',\n",
    "    'нет кота, одного кота, котов, двух котов, трёх котов, пяти котов',\n",
    "    'дать коту, одному коту, котам, двум котам, трём котам, пяти котам',\n",
    "    'вижу кота, одного кота, котов, двух котов, трёх котов, пять котов',\n",
    "    'творю котом, одним котом, котами, двумя котами, тремя котами, пятью котами',\n",
    "    'думаю о коте, одном коте, котах, двух котах, трёх котах, пяти котах',\n",
    "])#,15"
   ]
  },
  {
   "cell_type": "code",
   "execution_count": 40,
   "metadata": {
    "ExecuteTime": {
     "end_time": "2019-04-14T21:21:14.839497Z",
     "start_time": "2019-04-14T21:21:14.473224Z"
    },
    "hidden": true
   },
   "outputs": [
    {
     "name": "stdout",
     "output_type": "stream",
     "text": [
      "OK\n",
      "47\n"
     ]
    }
   ],
   "source": [
    "ttest(decline,'lesson, one lesson, lessons, two lessons, three lessons, five lessons',[\n",
    "    'урок, один урок, уроки, два урока, три урока, пять уроков',\n",
    "    'нет урока, одного урока, уроков, двух уроков, трёх уроков, пяти уроков',\n",
    "    'дать уроку, одному уроку, урокам, двум урокам, трём урокам, пяти урокам',\n",
    "    'вижу урок, один урок, уроки, два урока, три урока, пять уроков',\n",
    "    'творю уроком, одним уроком, уроками, двумя уроками, тремя уроками, пятью уроками',\n",
    "    'думаю о уроке, одном уроке, уроках, двух уроках, трёх уроках, пяти уроках',\n",
    "])#,20"
   ]
  },
  {
   "cell_type": "code",
   "execution_count": 41,
   "metadata": {
    "ExecuteTime": {
     "end_time": "2019-04-14T21:21:14.912503Z",
     "start_time": "2019-04-14T21:21:14.850504Z"
    },
    "code_folding": [],
    "hidden": true
   },
   "outputs": [
    {
     "name": "stdout",
     "output_type": "stream",
     "text": [
      "OK\n",
      "33\n"
     ]
    }
   ],
   "source": [
    "ttest(decline,'rat, one rat, rats, two rats, three rats, five rats',[\n",
    "    'крыса, одна крыса, крысы, две крысы, три крысы, пять крыс',\n",
    "    'нет крысы, одной крысы, крыс, двух крыс, трёх крыс, пяти крыс',\n",
    "    'дать крысе, одной крысе, крысам, двум крысам, трём крысам, пяти крысам',\n",
    "    'вижу крысу, одну крысу, крыс, двух крыс, трёх крыс, пять крыс',\n",
    "    'творю крысой, одной крысой, крысами, двумя крысами, тремя крысами, пятью крысами',\n",
    "    'думаю о крысе, одной крысе, крысах, двух крысах, трёх крысах, пяти крысах',\n",
    "],8)#,20"
   ]
  },
  {
   "cell_type": "code",
   "execution_count": 42,
   "metadata": {
    "ExecuteTime": {
     "end_time": "2019-04-14T21:21:15.262564Z",
     "start_time": "2019-04-14T21:21:14.926505Z"
    },
    "hidden": true
   },
   "outputs": [
    {
     "name": "stdout",
     "output_type": "stream",
     "text": [
      "OK\n",
      "47\n"
     ]
    }
   ],
   "source": [
    "ttest(decline,'child, one child, children, two children, three children, five children',\n",
    "['ребёнок, один ребёнок, дети, два ребёнка, три ребёнка, пять детей',\n",
    "'нет ребёнка, одного ребёнка, детей, двух детей, трёх детей, пяти детей',\n",
    "'дать ребёнку, одному ребёнку, детям, двум детям, трём детям, пяти детям',\n",
    "'вижу ребёнка, одного ребёнка, детей, двух детей, трёх детей, пять детей',\n",
    "'творю ребёнком, одним ребёнком, детьми, двумя детьми, тремя детьми, пятью детьми',\n",
    "'думаю о ребёнке, одном ребёнке, детях, двух детях, трёх детях, пяти детях'])#,15"
   ]
  },
  {
   "cell_type": "markdown",
   "metadata": {
    "heading_collapsed": true
   },
   "source": [
    "## Lesson 4 (? видьте кота ?)"
   ]
  },
  {
   "cell_type": "code",
   "execution_count": 43,
   "metadata": {
    "ExecuteTime": {
     "end_time": "2019-04-14T21:21:15.283568Z",
     "start_time": "2019-04-14T21:21:15.273571Z"
    },
    "hidden": true
   },
   "outputs": [],
   "source": [
    "N=4"
   ]
  },
  {
   "cell_type": "code",
   "execution_count": 44,
   "metadata": {
    "ExecuteTime": {
     "end_time": "2019-04-14T21:21:15.690709Z",
     "start_time": "2019-04-14T21:21:15.300569Z"
    },
    "hidden": true,
    "scrolled": true
   },
   "outputs": [
    {
     "name": "stdout",
     "output_type": "stream",
     "text": [
      "OK\n",
      "46\n"
     ]
    }
   ],
   "source": [
    "ttest(en2ru,\n",
    "'''  A hat, a cup and a box.\n",
    "A bat, a hen and a fox.''',\n",
    "'''  Шляпа, чашка и ящик.\n",
    "Летучая мышь, курица и лиса.''',8)#,260"
   ]
  },
  {
   "cell_type": "code",
   "execution_count": 45,
   "metadata": {
    "ExecuteTime": {
     "end_time": "2019-04-14T21:21:15.721715Z",
     "start_time": "2019-04-14T21:21:15.701716Z"
    },
    "hidden": true
   },
   "outputs": [
    {
     "name": "stdout",
     "output_type": "stream",
     "text": [
      "OK\n",
      "1\n"
     ]
    }
   ],
   "source": [
    "ttest(en2ru,'I','я')#,60"
   ]
  },
  {
   "cell_type": "code",
   "execution_count": 46,
   "metadata": {
    "ExecuteTime": {
     "end_time": "2019-04-14T21:21:16.345150Z",
     "start_time": "2019-04-14T21:21:15.741714Z"
    },
    "hidden": true,
    "scrolled": false
   },
   "outputs": [
    {
     "name": "stdout",
     "output_type": "stream",
     "text": [
      "OK\n",
      "31\n"
     ]
    }
   ],
   "source": [
    "ttest(en2ru,'to see','видеть')#,20"
   ]
  },
  {
   "cell_type": "code",
   "execution_count": 47,
   "metadata": {
    "ExecuteTime": {
     "end_time": "2019-04-14T21:21:16.507221Z",
     "start_time": "2019-04-14T21:21:16.365151Z"
    },
    "hidden": true
   },
   "outputs": [
    {
     "name": "stdout",
     "output_type": "stream",
     "text": [
      "OK\n",
      "15\n"
     ]
    }
   ],
   "source": [
    "ttest(en2ru,'I see','я вижу')#,75"
   ]
  },
  {
   "cell_type": "code",
   "execution_count": 48,
   "metadata": {
    "ExecuteTime": {
     "end_time": "2019-04-14T21:21:16.722263Z",
     "start_time": "2019-04-14T21:21:16.519224Z"
    },
    "hidden": true,
    "scrolled": true
   },
   "outputs": [
    {
     "name": "stdout",
     "output_type": "stream",
     "text": [
      "OK\n",
      "15\n"
     ]
    }
   ],
   "source": [
    "ttest(en2ru,'see cat','видь кота')#,25"
   ]
  },
  {
   "cell_type": "code",
   "execution_count": 49,
   "metadata": {
    "ExecuteTime": {
     "end_time": "2019-04-14T21:21:17.266891Z",
     "start_time": "2019-04-14T21:21:16.738846Z"
    },
    "hidden": true,
    "scrolled": true
   },
   "outputs": [
    {
     "name": "stdout",
     "output_type": "stream",
     "text": [
      "OK\n",
      "75\n"
     ]
    }
   ],
   "source": [
    "ttest(en2ru,'''I see\n",
    "  a pig and a hen,\n",
    "  a dog and a gun,\n",
    "  a cat and a hat.''',\n",
    "'''Я вижу\n",
    "  свинью и курицу,\n",
    "  собаку и ружьё,\n",
    "  кота и шляпу.''',10)#,280"
   ]
  },
  {
   "cell_type": "code",
   "execution_count": 50,
   "metadata": {
    "ExecuteTime": {
     "end_time": "2019-04-14T21:21:17.313768Z",
     "start_time": "2019-04-14T21:21:17.266891Z"
    },
    "hidden": true,
    "scrolled": true
   },
   "outputs": [
    {
     "name": "stdout",
     "output_type": "stream",
     "text": [
      "OK\n",
      "15\n"
     ]
    }
   ],
   "source": [
    "ttest(en2ru,'I see one box, one hat and one cap',\n",
    "     'я вижу один ящик, одну шляпу и одну кепку')#,205"
   ]
  },
  {
   "cell_type": "code",
   "execution_count": 51,
   "metadata": {
    "ExecuteTime": {
     "end_time": "2019-04-14T21:21:17.560199Z",
     "start_time": "2019-04-14T21:21:17.388982Z"
    },
    "hidden": true,
    "scrolled": true
   },
   "outputs": [
    {
     "name": "stdout",
     "output_type": "stream",
     "text": [
      "OK\n",
      "15\n"
     ]
    }
   ],
   "source": [
    "ttest(en2ru,'I see jam and one cup',\n",
    "    'я вижу джем и одну чашку')#,140"
   ]
  },
  {
   "cell_type": "markdown",
   "metadata": {
    "heading_collapsed": true
   },
   "source": [
    "## Lessons 5, 6"
   ]
  },
  {
   "cell_type": "code",
   "execution_count": 52,
   "metadata": {
    "ExecuteTime": {
     "end_time": "2019-04-14T21:21:17.726183Z",
     "start_time": "2019-04-14T21:21:17.575828Z"
    },
    "hidden": true
   },
   "outputs": [],
   "source": [
    "N=5"
   ]
  },
  {
   "cell_type": "code",
   "execution_count": 53,
   "metadata": {
    "ExecuteTime": {
     "end_time": "2019-04-14T21:21:17.928611Z",
     "start_time": "2019-04-14T21:21:17.741605Z"
    },
    "hidden": true,
    "scrolled": true
   },
   "outputs": [
    {
     "name": "stdout",
     "output_type": "stream",
     "text": [
      "OK\n",
      "15\n"
     ]
    }
   ],
   "source": [
    "ttest(en2ru,'A vase and a cup','Ваза и чашка')#,170"
   ]
  },
  {
   "cell_type": "code",
   "execution_count": 54,
   "metadata": {
    "ExecuteTime": {
     "end_time": "2019-04-14T21:21:18.110047Z",
     "start_time": "2019-04-14T21:21:17.958119Z"
    },
    "hidden": true
   },
   "outputs": [
    {
     "name": "stdout",
     "output_type": "stream",
     "text": [
      "OK\n",
      "15\n"
     ]
    }
   ],
   "source": [
    "ttest(en2ru,'A kitten and a rat.','Котёнок и крыса.')#,90"
   ]
  },
  {
   "cell_type": "code",
   "execution_count": 55,
   "metadata": {
    "ExecuteTime": {
     "end_time": "2019-04-14T21:21:18.309715Z",
     "start_time": "2019-04-14T21:21:18.136902Z"
    },
    "hidden": true
   },
   "outputs": [
    {
     "name": "stdout",
     "output_type": "stream",
     "text": [
      "OK\n",
      "15\n"
     ]
    }
   ],
   "source": [
    "ttest(en2ru,'A gun and a star.','Ружьё и звезда.')#,100"
   ]
  },
  {
   "cell_type": "code",
   "execution_count": 56,
   "metadata": {
    "ExecuteTime": {
     "end_time": "2019-04-14T21:21:18.520226Z",
     "start_time": "2019-04-14T21:21:18.325719Z"
    },
    "hidden": true
   },
   "outputs": [
    {
     "name": "stdout",
     "output_type": "stream",
     "text": [
      "OK\n",
      "15\n"
     ]
    }
   ],
   "source": [
    "ttest(en2ru,'two lamps','две лампы')#,80"
   ]
  },
  {
   "cell_type": "code",
   "execution_count": 57,
   "metadata": {
    "ExecuteTime": {
     "end_time": "2019-04-14T21:21:18.823405Z",
     "start_time": "2019-04-14T21:21:18.536233Z"
    },
    "hidden": true,
    "scrolled": false
   },
   "outputs": [
    {
     "name": "stdout",
     "output_type": "stream",
     "text": [
      "OK\n",
      "31\n"
     ]
    }
   ],
   "source": [
    "ttest(en2ru,'I see one dog and one cat.','Я вижу одну собаку и одного кота.')#,80"
   ]
  },
  {
   "cell_type": "code",
   "execution_count": 58,
   "metadata": {
    "ExecuteTime": {
     "end_time": "2019-04-14T21:21:18.864412Z",
     "start_time": "2019-04-14T21:21:18.830409Z"
    },
    "hidden": true,
    "scrolled": true
   },
   "outputs": [
    {
     "name": "stdout",
     "output_type": "stream",
     "text": [
      "OK\n",
      "12\n"
     ]
    }
   ],
   "source": [
    "ttest(en2ru,'a wolf and a squirrel, zebras, boys','волк и белка, зебры, мальчики')#,270"
   ]
  },
  {
   "cell_type": "code",
   "execution_count": 59,
   "metadata": {
    "ExecuteTime": {
     "end_time": "2019-04-14T21:21:19.075055Z",
     "start_time": "2019-04-14T21:21:18.889417Z"
    },
    "hidden": true,
    "scrolled": true
   },
   "outputs": [
    {
     "name": "stdout",
     "output_type": "stream",
     "text": [
      "OK\n",
      "0\n"
     ]
    }
   ],
   "source": [
    "ttest(decline,'six squirrels',['шесть белок',\n",
    " 'нет шести белок',\n",
    " 'дать шести белкам',\n",
    " 'вижу шесть белок',\n",
    " 'творю шестью белками',\n",
    " 'думаю о шести белках'])"
   ]
  },
  {
   "cell_type": "markdown",
   "metadata": {
    "heading_collapsed": true
   },
   "source": [
    "## Lesson 7"
   ]
  },
  {
   "cell_type": "code",
   "execution_count": 60,
   "metadata": {
    "ExecuteTime": {
     "end_time": "2019-04-14T21:21:19.243812Z",
     "start_time": "2019-04-14T21:21:19.090685Z"
    },
    "hidden": true
   },
   "outputs": [],
   "source": [
    "N=7"
   ]
  },
  {
   "cell_type": "code",
   "execution_count": 61,
   "metadata": {
    "ExecuteTime": {
     "end_time": "2019-04-14T21:21:19.574830Z",
     "start_time": "2019-04-14T21:21:19.259238Z"
    },
    "hidden": true,
    "scrolled": true
   },
   "outputs": [
    {
     "name": "stdout",
     "output_type": "stream",
     "text": [
      "OK\n",
      "31\n"
     ]
    }
   ],
   "source": [
    "ttest(en2ru,'I have a cat.','У меня есть кот.')#,40"
   ]
  },
  {
   "cell_type": "code",
   "execution_count": 62,
   "metadata": {
    "ExecuteTime": {
     "end_time": "2019-04-14T21:21:19.618837Z",
     "start_time": "2019-04-14T21:21:19.585836Z"
    },
    "hidden": true,
    "scrolled": true
   },
   "outputs": [
    {
     "name": "stdout",
     "output_type": "stream",
     "text": [
      "OK\n",
      "13\n"
     ]
    }
   ],
   "source": [
    "ttest(en2ru,'I have no a cat.','У меня нет кота.')#,40"
   ]
  },
  {
   "cell_type": "code",
   "execution_count": 63,
   "metadata": {
    "ExecuteTime": {
     "end_time": "2019-04-14T21:21:19.946240Z",
     "start_time": "2019-04-14T21:21:19.633836Z"
    },
    "hidden": true,
    "scrolled": true
   },
   "outputs": [
    {
     "name": "stdout",
     "output_type": "stream",
     "text": [
      "OK\n",
      "46\n"
     ]
    }
   ],
   "source": [
    "ttest(en2ru,'I have no two guns.','У меня нет двух ружей.')#,40"
   ]
  },
  {
   "cell_type": "code",
   "execution_count": 64,
   "metadata": {
    "ExecuteTime": {
     "end_time": "2019-04-14T21:21:19.988665Z",
     "start_time": "2019-04-14T21:21:19.946240Z"
    },
    "hidden": true,
    "scrolled": true
   },
   "outputs": [
    {
     "name": "stdout",
     "output_type": "stream",
     "text": [
      "OK\n",
      "4\n"
     ]
    }
   ],
   "source": [
    "ttest(en2ru,'have','имей')#,20"
   ]
  },
  {
   "cell_type": "code",
   "execution_count": 65,
   "metadata": {
    "ExecuteTime": {
     "end_time": "2019-04-14T21:21:20.048666Z",
     "start_time": "2019-04-14T21:21:20.007667Z"
    },
    "hidden": true
   },
   "outputs": [
    {
     "name": "stdout",
     "output_type": "stream",
     "text": [
      "OK\n",
      "26\n"
     ]
    }
   ],
   "source": [
    "ttest(en2ru,'I have a dog, but I have no cat.',\n",
    "      'У меня есть собака, но у меня нет кота.',10)#,45"
   ]
  },
  {
   "cell_type": "code",
   "execution_count": 66,
   "metadata": {
    "ExecuteTime": {
     "end_time": "2019-04-14T21:21:20.380287Z",
     "start_time": "2019-04-14T21:21:20.063670Z"
    },
    "hidden": true
   },
   "outputs": [
    {
     "name": "stdout",
     "output_type": "stream",
     "text": [
      "OK\n",
      "31\n"
     ]
    }
   ],
   "source": [
    "ttest(en2ru,'I have no lamp.','У меня нет лампы.')#,35"
   ]
  },
  {
   "cell_type": "code",
   "execution_count": 67,
   "metadata": {
    "ExecuteTime": {
     "end_time": "2019-04-14T21:21:20.575248Z",
     "start_time": "2019-04-14T21:21:20.380287Z"
    },
    "hidden": true,
    "scrolled": true
   },
   "outputs": [
    {
     "name": "stdout",
     "output_type": "stream",
     "text": [
      "OK\n",
      "15\n"
     ]
    }
   ],
   "source": [
    "ttest(en2ru,'copy-book','тетрадь')#,55"
   ]
  },
  {
   "cell_type": "code",
   "execution_count": 68,
   "metadata": {
    "ExecuteTime": {
     "end_time": "2019-04-14T21:21:20.728331Z",
     "start_time": "2019-04-14T21:21:20.592256Z"
    },
    "hidden": true,
    "scrolled": true
   },
   "outputs": [
    {
     "name": "stdout",
     "output_type": "stream",
     "text": [
      "OK\n",
      "15\n"
     ]
    }
   ],
   "source": [
    "ttest(en2ru,'give me','дай мне')#,20"
   ]
  },
  {
   "cell_type": "code",
   "execution_count": 69,
   "metadata": {
    "ExecuteTime": {
     "end_time": "2019-04-14T21:21:20.989417Z",
     "start_time": "2019-04-14T21:21:20.855666Z"
    },
    "hidden": true,
    "scrolled": true
   },
   "outputs": [
    {
     "name": "stdout",
     "output_type": "stream",
     "text": [
      "OK\n",
      "5\n"
     ]
    }
   ],
   "source": [
    "ttest(en2ru,'give me cat','дай мне кота')#,25"
   ]
  },
  {
   "cell_type": "code",
   "execution_count": 70,
   "metadata": {
    "ExecuteTime": {
     "end_time": "2019-04-14T21:21:21.172427Z",
     "start_time": "2019-04-14T21:21:21.026418Z"
    },
    "hidden": true
   },
   "outputs": [
    {
     "name": "stdout",
     "output_type": "stream",
     "text": [
      "OK\n",
      "7\n"
     ]
    }
   ],
   "source": [
    "ttest(en2ru,'to give me cat','давать мне кота')#,30"
   ]
  },
  {
   "cell_type": "code",
   "execution_count": 71,
   "metadata": {
    "ExecuteTime": {
     "end_time": "2019-04-14T21:21:21.222425Z",
     "start_time": "2019-04-14T21:21:21.182425Z"
    },
    "hidden": true,
    "scrolled": true
   },
   "outputs": [
    {
     "name": "stdout",
     "output_type": "stream",
     "text": [
      "OK\n",
      "21\n"
     ]
    }
   ],
   "source": [
    "ttest(en2ru,'I have a kitten, but I have no squirrel.'\n",
    "      ,'У меня есть котёнок, но у меня нет белки.')#,45"
   ]
  },
  {
   "cell_type": "code",
   "execution_count": 72,
   "metadata": {
    "ExecuteTime": {
     "end_time": "2019-04-14T21:21:21.399432Z",
     "start_time": "2019-04-14T21:21:21.232427Z"
    },
    "hidden": true
   },
   "outputs": [
    {
     "name": "stdout",
     "output_type": "stream",
     "text": [
      "OK\n",
      "8\n"
     ]
    }
   ],
   "source": [
    "ttest(en2ru,'Show me Lesson Four!','Покажи мне Урок Четыре!')#,15"
   ]
  },
  {
   "cell_type": "code",
   "execution_count": 73,
   "metadata": {
    "ExecuteTime": {
     "end_time": "2019-04-14T21:21:21.852092Z",
     "start_time": "2019-04-14T21:21:21.411434Z"
    },
    "hidden": true
   },
   "outputs": [
    {
     "name": "stdout",
     "output_type": "stream",
     "text": [
      "OK\n",
      "31\n"
     ]
    }
   ],
   "source": [
    "ttest(en2ru,'cat has cat','у кота есть кот')#,70"
   ]
  },
  {
   "cell_type": "code",
   "execution_count": 74,
   "metadata": {
    "ExecuteTime": {
     "end_time": "2019-04-14T21:21:21.892873Z",
     "start_time": "2019-04-14T21:21:21.862092Z"
    },
    "hidden": true,
    "scrolled": true
   },
   "outputs": [
    {
     "name": "stdout",
     "output_type": "stream",
     "text": [
      "OK\n",
      "8\n"
     ]
    }
   ],
   "source": [
    "ttest(en2ru,'cat has me','у кота есть я')#,60"
   ]
  },
  {
   "cell_type": "code",
   "execution_count": 75,
   "metadata": {
    "ExecuteTime": {
     "end_time": "2019-04-14T21:21:22.045624Z",
     "start_time": "2019-04-14T21:21:21.902874Z"
    },
    "hidden": true,
    "scrolled": true
   },
   "outputs": [
    {
     "name": "stdout",
     "output_type": "stream",
     "text": [
      "OK\n",
      "0\n"
     ]
    }
   ],
   "source": [
    "ttest(en2ru,'me','мне')#,10"
   ]
  },
  {
   "cell_type": "code",
   "execution_count": 76,
   "metadata": {
    "ExecuteTime": {
     "end_time": "2019-04-14T21:21:22.227902Z",
     "start_time": "2019-04-14T21:21:22.065949Z"
    },
    "hidden": true,
    "scrolled": false
   },
   "outputs": [
    {
     "name": "stdout",
     "output_type": "stream",
     "text": [
      "OK\n",
      "15\n"
     ]
    }
   ],
   "source": [
    "ttest(en2ru,'Good_morning','Доброе_утро')#,110"
   ]
  },
  {
   "cell_type": "code",
   "execution_count": 77,
   "metadata": {
    "ExecuteTime": {
     "end_time": "2019-04-14T21:21:22.334338Z",
     "start_time": "2019-04-14T21:21:22.274773Z"
    },
    "hidden": true
   },
   "outputs": [
    {
     "name": "stdout",
     "output_type": "stream",
     "text": [
      "OK\n",
      "22\n"
     ]
    }
   ],
   "source": [
    "ttest(en2ru,'good mornings','хорошие утра')#,130"
   ]
  },
  {
   "cell_type": "code",
   "execution_count": 78,
   "metadata": {
    "ExecuteTime": {
     "end_time": "2019-04-14T21:21:22.544601Z",
     "start_time": "2019-04-14T21:21:22.362342Z"
    },
    "hidden": true,
    "scrolled": false
   },
   "outputs": [
    {
     "name": "stdout",
     "output_type": "stream",
     "text": [
      "OK\n",
      "15\n"
     ]
    }
   ],
   "source": [
    "ttest(en2ru,'seven','семь')#,80"
   ]
  },
  {
   "cell_type": "markdown",
   "metadata": {
    "heading_collapsed": true
   },
   "source": [
    "## Lesson 8 (открывающие кавычки...)"
   ]
  },
  {
   "cell_type": "code",
   "execution_count": 79,
   "metadata": {
    "ExecuteTime": {
     "end_time": "2019-04-14T21:21:22.674600Z",
     "start_time": "2019-04-14T21:21:22.555599Z"
    },
    "hidden": true
   },
   "outputs": [],
   "source": [
    "N=8"
   ]
  },
  {
   "cell_type": "code",
   "execution_count": 80,
   "metadata": {
    "ExecuteTime": {
     "end_time": "2019-04-14T21:21:22.977681Z",
     "start_time": "2019-04-14T21:21:22.685459Z"
    },
    "hidden": true,
    "scrolled": false
   },
   "outputs": [
    {
     "name": "stdout",
     "output_type": "stream",
     "text": [
      "OK\n",
      "31\n"
     ]
    }
   ],
   "source": [
    "ttest(en2ru,'This boy has a ball.','У этого мальчика есть мяч.')#,60"
   ]
  },
  {
   "cell_type": "code",
   "execution_count": 81,
   "metadata": {
    "ExecuteTime": {
     "end_time": "2019-04-14T21:21:23.037575Z",
     "start_time": "2019-04-14T21:21:22.983867Z"
    },
    "hidden": true,
    "scrolled": false
   },
   "outputs": [
    {
     "name": "stdout",
     "output_type": "stream",
     "text": [
      "OK\n",
      "11\n"
     ]
    }
   ],
   "source": [
    "ttest(en2ru,'He has no a copy-book.','У него нет тетради.')#,40"
   ]
  },
  {
   "cell_type": "code",
   "execution_count": 82,
   "metadata": {
    "ExecuteTime": {
     "end_time": "2019-04-14T21:21:23.369213Z",
     "start_time": "2019-04-14T21:21:23.049578Z"
    },
    "hidden": true
   },
   "outputs": [
    {
     "name": "stdout",
     "output_type": "stream",
     "text": [
      "OK\n",
      "31\n"
     ]
    }
   ],
   "source": [
    "ttest(en2ru,'He has no him.','У него нет его.')#,30"
   ]
  },
  {
   "cell_type": "code",
   "execution_count": 83,
   "metadata": {
    "ExecuteTime": {
     "end_time": "2019-04-14T21:21:23.415218Z",
     "start_time": "2019-04-14T21:21:23.379220Z"
    },
    "hidden": true,
    "scrolled": false
   },
   "outputs": [
    {
     "name": "stdout",
     "output_type": "stream",
     "text": [
      "OK\n",
      "9\n"
     ]
    }
   ],
   "source": [
    "ttest(en2ru,'Say: Good morning!','Скажи: Доброе утро!')#,250"
   ]
  },
  {
   "cell_type": "code",
   "execution_count": 84,
   "metadata": {
    "ExecuteTime": {
     "end_time": "2019-04-14T21:21:23.595779Z",
     "start_time": "2019-04-14T21:21:23.426218Z"
    },
    "hidden": true,
    "scrolled": false
   },
   "outputs": [
    {
     "name": "stdout",
     "output_type": "stream",
     "text": [
      "OK\n",
      "0\n"
     ]
    }
   ],
   "source": [
    "ttest(en2ru,'Say information','Скажи информацию')#,220"
   ]
  },
  {
   "cell_type": "code",
   "execution_count": 85,
   "metadata": {
    "ExecuteTime": {
     "end_time": "2019-04-14T21:21:24.103393Z",
     "start_time": "2019-04-14T21:21:23.615180Z"
    },
    "hidden": true,
    "scrolled": true
   },
   "outputs": [
    {
     "name": "stdout",
     "output_type": "stream",
     "text": [
      "OK\n",
      "62\n"
     ]
    }
   ],
   "source": [
    "ttest(en2ru,'Say: \"Seven, six, four, two, five, three, one.\"',\n",
    "      'Скажи:\" Семь, шесть, четыре, два, пять, три, один.\"',8)#,2200"
   ]
  },
  {
   "cell_type": "code",
   "execution_count": 86,
   "metadata": {
    "ExecuteTime": {
     "end_time": "2019-04-14T21:21:24.139395Z",
     "start_time": "2019-04-14T21:21:24.114395Z"
    },
    "hidden": true,
    "scrolled": true
   },
   "outputs": [
    {
     "name": "stdout",
     "output_type": "stream",
     "text": [
      "OK\n",
      "10\n"
     ]
    }
   ],
   "source": [
    "ttest(en2ru,'say: say seven','скажи: скажи семь',8)#,1200"
   ]
  },
  {
   "cell_type": "code",
   "execution_count": 87,
   "metadata": {
    "ExecuteTime": {
     "end_time": "2019-04-14T21:21:24.375921Z",
     "start_time": "2019-04-14T21:21:24.163395Z"
    },
    "hidden": true,
    "scrolled": false
   },
   "outputs": [
    {
     "name": "stdout",
     "output_type": "stream",
     "text": [
      "OK\n",
      "15\n"
     ]
    }
   ],
   "source": [
    "ttest(en2ru,'I have cat too.','Я тоже имею кота.')#,20"
   ]
  },
  {
   "cell_type": "code",
   "execution_count": 88,
   "metadata": {
    "ExecuteTime": {
     "end_time": "2019-04-14T21:21:24.809083Z",
     "start_time": "2019-04-14T21:21:24.383101Z"
    },
    "hidden": true
   },
   "outputs": [
    {
     "name": "stdout",
     "output_type": "stream",
     "text": [
      "OK\n",
      "62\n",
      "over time\n"
     ]
    }
   ],
   "source": [
    "ttest(en2ru,'I have no star and he has no star.',\n",
    "      'У меня нет звезды и у него нет звезды.')#,40"
   ]
  },
  {
   "cell_type": "markdown",
   "metadata": {
    "heading_collapsed": true
   },
   "source": [
    "## Lesson 8.1"
   ]
  },
  {
   "cell_type": "code",
   "execution_count": 89,
   "metadata": {
    "ExecuteTime": {
     "end_time": "2019-04-14T21:21:24.831080Z",
     "start_time": "2019-04-14T21:21:24.821082Z"
    },
    "hidden": true
   },
   "outputs": [],
   "source": [
    "N=8.1"
   ]
  },
  {
   "cell_type": "code",
   "execution_count": 90,
   "metadata": {
    "ExecuteTime": {
     "end_time": "2019-04-14T21:21:25.032826Z",
     "start_time": "2019-04-14T21:21:24.842082Z"
    },
    "hidden": true
   },
   "outputs": [
    {
     "name": "stdout",
     "output_type": "stream",
     "text": [
      "OK\n",
      "15\n"
     ]
    }
   ],
   "source": [
    "ttest(en2ru,'two balls','два мяча')"
   ]
  },
  {
   "cell_type": "code",
   "execution_count": 91,
   "metadata": {
    "ExecuteTime": {
     "end_time": "2019-04-14T21:21:25.195312Z",
     "start_time": "2019-04-14T21:21:25.043826Z"
    },
    "hidden": true
   },
   "outputs": [
    {
     "name": "stdout",
     "output_type": "stream",
     "text": [
      "OK\n",
      "15\n"
     ]
    }
   ],
   "source": [
    "ttest(en2ru,'boy sees','мальчик видит')"
   ]
  },
  {
   "cell_type": "code",
   "execution_count": 92,
   "metadata": {
    "ExecuteTime": {
     "end_time": "2019-04-14T21:21:25.388299Z",
     "start_time": "2019-04-14T21:21:25.217307Z"
    },
    "hidden": true
   },
   "outputs": [
    {
     "name": "stdout",
     "output_type": "stream",
     "text": [
      "OK\n",
      "0\n"
     ]
    }
   ],
   "source": [
    "ttest(en2ru,'see','видь')"
   ]
  },
  {
   "cell_type": "code",
   "execution_count": 93,
   "metadata": {
    "ExecuteTime": {
     "end_time": "2019-04-14T21:21:25.546659Z",
     "start_time": "2019-04-14T21:21:25.403307Z"
    },
    "hidden": true
   },
   "outputs": [
    {
     "name": "stdout",
     "output_type": "stream",
     "text": [
      "OK\n",
      "15\n"
     ]
    }
   ],
   "source": [
    "ttest(en2ru,'boy says','мальчик говорит')"
   ]
  },
  {
   "cell_type": "code",
   "execution_count": 94,
   "metadata": {
    "ExecuteTime": {
     "end_time": "2019-04-14T21:21:25.698905Z",
     "start_time": "2019-04-14T21:21:25.566743Z"
    },
    "hidden": true,
    "scrolled": false
   },
   "outputs": [
    {
     "name": "stdout",
     "output_type": "stream",
     "text": [
      "OK\n",
      "15\n"
     ]
    }
   ],
   "source": [
    "ttest(en2ru,'say','скажи')"
   ]
  },
  {
   "cell_type": "code",
   "execution_count": 95,
   "metadata": {
    "ExecuteTime": {
     "end_time": "2019-04-14T21:21:25.832468Z",
     "start_time": "2019-04-14T21:21:25.716911Z"
    },
    "hidden": true
   },
   "outputs": [
    {
     "name": "stdout",
     "output_type": "stream",
     "text": [
      "OK\n",
      "0\n"
     ]
    }
   ],
   "source": [
    "ttest(en2ru,'boy gives','мальчик даёт')"
   ]
  },
  {
   "cell_type": "code",
   "execution_count": 96,
   "metadata": {
    "ExecuteTime": {
     "end_time": "2019-04-14T21:21:25.964922Z",
     "start_time": "2019-04-14T21:21:25.846472Z"
    },
    "hidden": true
   },
   "outputs": [
    {
     "name": "stdout",
     "output_type": "stream",
     "text": [
      "OK\n",
      "0\n"
     ]
    }
   ],
   "source": [
    "ttest(en2ru,'give','дай')"
   ]
  },
  {
   "cell_type": "code",
   "execution_count": 116,
   "metadata": {
    "ExecuteTime": {
     "end_time": "2019-04-14T21:22:34.345973Z",
     "start_time": "2019-04-14T21:22:34.318359Z"
    },
    "hidden": true
   },
   "outputs": [
    {
     "name": "stdout",
     "output_type": "stream",
     "text": [
      "OK\n",
      "15\n"
     ]
    }
   ],
   "source": [
    "ttest(en2ru,'boy has','у мальчика есть')"
   ]
  },
  {
   "cell_type": "code",
   "execution_count": 98,
   "metadata": {
    "ExecuteTime": {
     "end_time": "2019-04-14T21:21:26.258473Z",
     "start_time": "2019-04-14T21:21:26.184455Z"
    },
    "hidden": true,
    "scrolled": false
   },
   "outputs": [
    {
     "name": "stdout",
     "output_type": "stream",
     "text": [
      "OK\n",
      "2\n"
     ]
    }
   ],
   "source": [
    "ttest(en2ru,'have','имей')"
   ]
  },
  {
   "cell_type": "code",
   "execution_count": 99,
   "metadata": {
    "ExecuteTime": {
     "end_time": "2019-04-14T21:21:26.596260Z",
     "start_time": "2019-04-14T21:21:26.276003Z"
    },
    "hidden": true,
    "scrolled": false
   },
   "outputs": [
    {
     "name": "stdout",
     "output_type": "stream",
     "text": [
      "OK\n",
      "31\n"
     ]
    }
   ],
   "source": [
    "ttest(en2ru,'\\nThis girl has three balls.','\\nУ этой девочки есть три мяча.')"
   ]
  },
  {
   "cell_type": "markdown",
   "metadata": {
    "heading_collapsed": true
   },
   "source": [
    "## Lesson 9"
   ]
  },
  {
   "cell_type": "code",
   "execution_count": 100,
   "metadata": {
    "ExecuteTime": {
     "end_time": "2019-04-14T21:21:26.616259Z",
     "start_time": "2019-04-14T21:21:26.605261Z"
    },
    "hidden": true
   },
   "outputs": [],
   "source": [
    "N=9"
   ]
  },
  {
   "cell_type": "code",
   "execution_count": 101,
   "metadata": {
    "ExecuteTime": {
     "end_time": "2019-04-14T21:21:26.826177Z",
     "start_time": "2019-04-14T21:21:26.631264Z"
    },
    "hidden": true,
    "scrolled": false
   },
   "outputs": [
    {
     "name": "stdout",
     "output_type": "stream",
     "text": [
      "OK\n",
      "15\n"
     ]
    }
   ],
   "source": [
    "ttest(en2ru,'She has ball','У Неё есть мяч')"
   ]
  },
  {
   "cell_type": "code",
   "execution_count": 102,
   "metadata": {
    "ExecuteTime": {
     "end_time": "2019-04-14T21:21:26.980548Z",
     "start_time": "2019-04-14T21:21:26.834180Z"
    },
    "hidden": true
   },
   "outputs": [
    {
     "name": "stdout",
     "output_type": "stream",
     "text": [
      "OK\n",
      "0\n"
     ]
    }
   ],
   "source": [
    "ttest(en2ru,'the','определённый')"
   ]
  },
  {
   "cell_type": "code",
   "execution_count": 103,
   "metadata": {
    "ExecuteTime": {
     "end_time": "2019-04-14T21:21:27.344234Z",
     "start_time": "2019-04-14T21:21:26.998452Z"
    },
    "hidden": true,
    "scrolled": true
   },
   "outputs": [
    {
     "name": "stdout",
     "output_type": "stream",
     "text": [
      "OK\n",
      "46\n"
     ]
    }
   ],
   "source": [
    "ttest(en2ru,'''This girl has a fish.\n",
    "This fish is on the dish.''',\n",
    "'''У этой девочки есть рыба.\n",
    "Эта рыба на блюде.''')"
   ]
  },
  {
   "cell_type": "code",
   "execution_count": 104,
   "metadata": {
    "ExecuteTime": {
     "end_time": "2019-04-14T21:21:27.431856Z",
     "start_time": "2019-04-14T21:21:27.361367Z"
    },
    "hidden": true,
    "scrolled": false
   },
   "outputs": [
    {
     "name": "stdout",
     "output_type": "stream",
     "text": [
      "OK\n",
      "45\n"
     ]
    }
   ],
   "source": [
    "ttest(en2ru,'''This girl has three dolls.\n",
    "This boy has two balls.\n",
    "That girl has five books.\n",
    "That boy has four pens.''',\n",
    "'''У этой девочки есть три куклы.\n",
    "У этого мальчика есть два мяча.\n",
    "У той девочки есть пять книг.\n",
    "У того мальчика есть четыре ручки.''',17)"
   ]
  },
  {
   "cell_type": "code",
   "execution_count": 105,
   "metadata": {
    "ExecuteTime": {
     "end_time": "2019-04-14T21:21:27.622301Z",
     "start_time": "2019-04-14T21:21:27.442858Z"
    },
    "hidden": true
   },
   "outputs": [
    {
     "name": "stdout",
     "output_type": "stream",
     "text": [
      "OK\n",
      "62\n"
     ]
    }
   ],
   "source": [
    "ttest(en2ru,'''The girl has one dish.\n",
    "She has two spoons.\n",
    "The boy has three sticks.\n",
    "He has five stars.''',\n",
    "'''У девочки есть одно блюдо.\n",
    "У неё есть две ложки.\n",
    "У мальчика есть три палки.\n",
    "У него есть пять звёзд.''',17     )"
   ]
  },
  {
   "cell_type": "code",
   "execution_count": 106,
   "metadata": {
    "ExecuteTime": {
     "end_time": "2019-04-14T21:21:28.069447Z",
     "start_time": "2019-04-14T21:21:27.634306Z"
    },
    "hidden": true,
    "scrolled": true
   },
   "outputs": [
    {
     "name": "stdout",
     "output_type": "stream",
     "text": [
      "OK\n",
      "78\n"
     ]
    }
   ],
   "source": [
    "ttest(en2ru,'''This frog is on the log.\n",
    "That frog is in the lake.\n",
    "The snake is in the box.''',\n",
    "'''Эта ягушка на бревне.\n",
    "Та ягушка в озере.\n",
    "Змея в ящике.''',10     )"
   ]
  },
  {
   "cell_type": "code",
   "execution_count": 107,
   "metadata": {
    "ExecuteTime": {
     "end_time": "2019-04-14T21:21:28.136451Z",
     "start_time": "2019-04-14T21:21:28.081452Z"
    },
    "hidden": true
   },
   "outputs": [
    {
     "name": "stdout",
     "output_type": "stream",
     "text": [
      "OK\n",
      "37\n"
     ]
    }
   ],
   "source": [
    "ttest(en2ru,'''The spoon is in the cup.\n",
    "The squirrel is on the log.\n",
    "The doll is on the bed.''',\n",
    " '''Ложка в чашке.\n",
    "Белка на бревне.\n",
    "Кукла на кровати.''',10    )"
   ]
  },
  {
   "cell_type": "code",
   "execution_count": 108,
   "metadata": {
    "ExecuteTime": {
     "end_time": "2019-04-14T21:21:28.377809Z",
     "start_time": "2019-04-14T21:21:28.159451Z"
    },
    "hidden": true,
    "scrolled": true
   },
   "outputs": [
    {
     "name": "stdout",
     "output_type": "stream",
     "text": [
      "OK\n",
      "31\n"
     ]
    }
   ],
   "source": [
    "ttest(en2ru,'''I like cakes.\n",
    "I have two cakes.\n",
    "He has two stars.\n",
    "She has three dolls.''',\n",
    "'''Я люблю торты.\n",
    "У меня есть два торта.\n",
    "У него есть две звезды.\n",
    "У неё есть три куклы.''',15     )"
   ]
  },
  {
   "cell_type": "code",
   "execution_count": 109,
   "metadata": {
    "ExecuteTime": {
     "end_time": "2019-04-14T21:21:28.935292Z",
     "start_time": "2019-04-14T21:21:28.393914Z"
    },
    "hidden": true,
    "scrolled": true
   },
   "outputs": [
    {
     "name": "stdout",
     "output_type": "stream",
     "text": [
      "OK\n",
      "77\n"
     ]
    }
   ],
   "source": [
    "ttest(en2ru,'''The doll is on the bed.\n",
    "The snake is in the lake.\n",
    "The hen is on the log.\n",
    "The bat is in the hat.''',\n",
    " '''Кукла на кровати.\n",
    "Змея в озере.\n",
    "Курица на бревне.\n",
    "Летучая мышь в шляпе.''',15)"
   ]
  },
  {
   "cell_type": "code",
   "execution_count": 110,
   "metadata": {
    "ExecuteTime": {
     "end_time": "2019-04-14T21:21:29.160114Z",
     "start_time": "2019-04-14T21:21:28.935292Z"
    },
    "hidden": true
   },
   "outputs": [
    {
     "name": "stdout",
     "output_type": "stream",
     "text": [
      "OK\n",
      "30\n"
     ]
    }
   ],
   "source": [
    "ttest(en2ru,'''This girl has five\n",
    "kittens and two cats.''',\n",
    "'''У этой девочки есть пять\n",
    "котят и два кота.'''     )"
   ]
  },
  {
   "cell_type": "code",
   "execution_count": 111,
   "metadata": {
    "ExecuteTime": {
     "end_time": "2019-04-14T21:21:29.252773Z",
     "start_time": "2019-04-14T21:21:29.171120Z"
    },
    "hidden": true,
    "scrolled": false
   },
   "outputs": [
    {
     "name": "stdout",
     "output_type": "stream",
     "text": [
      "OK\n",
      "58\n"
     ]
    }
   ],
   "source": [
    "ttest(en2ru,'''She has three hens.\n",
    "I have four books and nine copy-books.\n",
    "This boy has eight stars.\n",
    "He has six sticks, but he has no gun.''',\n",
    "'''У неё есть три курицы.\n",
    "У меня есть четыре книги и девять тетрадей.\n",
    "У этого мальчика есть восемь звёзд.\n",
    "У него есть шесть палок, но у него нет ружья.''',20     )\n"
   ]
  },
  {
   "cell_type": "code",
   "execution_count": 112,
   "metadata": {
    "ExecuteTime": {
     "end_time": "2019-04-14T21:21:29.431435Z",
     "start_time": "2019-04-14T21:21:29.263781Z"
    },
    "hidden": true
   },
   "outputs": [
    {
     "name": "stdout",
     "output_type": "stream",
     "text": [
      "OK\n",
      "62\n"
     ]
    }
   ],
   "source": [
    "ttest(en2ru,'''I like fish.\n",
    "One snake is in the lake.\n",
    "One frog is on the log.\n",
    "Jam is in the vase.''',\n",
    "'''Я люблю рыбу.\n",
    "Одна змея в озере.\n",
    "Одна ягушка на бревне.\n",
    "Джем в вазе.''',13     )"
   ]
  },
  {
   "cell_type": "markdown",
   "metadata": {},
   "source": [
    "## Result"
   ]
  },
  {
   "cell_type": "code",
   "execution_count": 113,
   "metadata": {
    "ExecuteTime": {
     "end_time": "2019-04-14T21:21:29.535884Z",
     "start_time": "2019-04-14T21:21:29.442441Z"
    },
    "scrolled": false
   },
   "outputs": [
    {
     "data": {
      "text/plain": [
       "[{'N': 8,\n",
       "  'type': 'over time',\n",
       "  'expected': 'У меня нет звезды и у него нет звезды.',\n",
       "  'real time': 62,\n",
       "  'expected time': 5},\n",
       " {'N': 8.1,\n",
       "  'type': 'wrong result',\n",
       "  'expected': 'мальчик имеет',\n",
       "  'real': 'у мальчика есть'}]"
      ]
     },
     "execution_count": 113,
     "metadata": {},
     "output_type": "execute_result"
    }
   ],
   "source": [
    "TEST_ERRORS"
   ]
  }
 ],
 "metadata": {
  "hide_input": false,
  "kernelspec": {
   "display_name": "Python 3",
   "language": "python",
   "name": "python3"
  },
  "language_info": {
   "codemirror_mode": {
    "name": "ipython",
    "version": 3
   },
   "file_extension": ".py",
   "mimetype": "text/x-python",
   "name": "python",
   "nbconvert_exporter": "python",
   "pygments_lexer": "ipython3",
   "version": "3.6.7"
  },
  "varInspector": {
   "cols": {
    "lenName": 16,
    "lenType": 16,
    "lenVar": 40
   },
   "kernels_config": {
    "python": {
     "delete_cmd_postfix": "",
     "delete_cmd_prefix": "del ",
     "library": "var_list.py",
     "varRefreshCmd": "print(var_dic_list())"
    },
    "r": {
     "delete_cmd_postfix": ") ",
     "delete_cmd_prefix": "rm(",
     "library": "var_list.r",
     "varRefreshCmd": "cat(var_dic_list()) "
    }
   },
   "types_to_exclude": [
    "module",
    "function",
    "builtin_function_or_method",
    "instance",
    "_Feature"
   ],
   "window_display": false
  }
 },
 "nbformat": 4,
 "nbformat_minor": 2
}
