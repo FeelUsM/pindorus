{
 "cells": [
  {
   "cell_type": "code",
   "execution_count": 1,
   "metadata": {
    "code_folding": [
     0
    ]
   },
   "outputs": [],
   "source": [
    "TEST_ERRORS=[]\n",
    "\n",
    "def test(tmp,rezs):\n",
    "    if tmp==rezs:\n",
    "        print('OK')\n",
    "    else:\n",
    "        TEST_ERRORS.append({'expected':rezs,'real':tmp})\n",
    "        print('TestError')\n",
    "        if type(tmp)==str or type(rezs)==str:\n",
    "            print(tmp)\n",
    "        else:\n",
    "            if len(tmp)!=len(rezs):\n",
    "                print(tmp)\n",
    "            else:\n",
    "                for i in range(len(tmp)):\n",
    "                    if tmp[i]!=rezs[i]:\n",
    "                        print(i+1,')',tmp[i])\n",
    "    "
   ]
  },
  {
   "cell_type": "code",
   "execution_count": 2,
   "metadata": {},
   "outputs": [],
   "source": [
    "import time"
   ]
  },
  {
   "cell_type": "code",
   "execution_count": 3,
   "metadata": {},
   "outputs": [],
   "source": [
    "def ttest(f,arg,rez,ddt=5):\n",
    "    try:\n",
    "        start_time = time.time()\n",
    "        test(f(arg),rez)\n",
    "        dt = time.time() - start_time\n",
    "        print('%d'%(dt*1000))\n",
    "        if dt*1000>1.5*ddt:\n",
    "            average = dt\n",
    "            LEN = 10\n",
    "            for i in range(LEN):\n",
    "                start_time = time.time()\n",
    "                test(f(arg),rez)\n",
    "                average+= time.time() - start_time\n",
    "            average/=(LEN+1)\n",
    "            if average*1000>1.5*ddt:\n",
    "                print('over time')\n",
    "                TEST_ERRORS.append(\n",
    "                    {'expected':rez,'real time':int(1000*dt),'expected time':ddt})\n",
    "    except TestError as err:\n",
    "        TEST_ERRORS.append((rez,err))\n"
   ]
  },
  {
   "cell_type": "code",
   "execution_count": 4,
   "metadata": {},
   "outputs": [],
   "source": [
    "t1=time.time()"
   ]
  },
  {
   "cell_type": "code",
   "execution_count": 5,
   "metadata": {
    "scrolled": true
   },
   "outputs": [
    {
     "name": "stderr",
     "output_type": "stream",
     "text": [
      "[NbConvertApp] Converting notebook en2ru.ipynb to script\n",
      "[NbConvertApp] Writing 31691 bytes to en2ru.py\n"
     ]
    }
   ],
   "source": [
    "!jupyter nbconvert --to script en2ru.ipynb"
   ]
  },
  {
   "cell_type": "code",
   "execution_count": 6,
   "metadata": {
    "scrolled": false
   },
   "outputs": [
    {
     "name": "stdout",
     "output_type": "stream",
     "text": [
      "no tokens\n",
      "TRANSLATION BREAKS: \n",
      "Эта рыба является\n",
      "CAN'T TRANSLATE: on\n",
      "TRANSLATION BREAKS: определённное блюдо.\n",
      "'''У этой девочки есть рыба. \n",
      "Эта рыба является on определённное блюдо.'''\n",
      "CAN'T TRANSLATE: dolls\n",
      "CAN'T TRANSLATE: .\n",
      "TRANSLATION BREAKS: \n",
      "У этого мальчика есть два мяча.\n",
      "У той девочки есть пять книг.\n",
      "У того мальчика есть четыре ручки.\n",
      "'''у Этой девочки есть три dolls . \n",
      "У этого мальчика есть два мяча.\n",
      "У той девочки есть пять книг.\n",
      "У того мальчика есть четыре ручки.'''\n",
      "'''У определённной девочки есть одно блюдо.\n",
      "У неё есть две ложки.\n",
      "У определённного мальчика есть три палки.\n",
      "У него есть пять звёзд.'''\n",
      "CAN'T TRANSLATE: frog\n",
      "TRANSLATION BREAKS: являйся\n",
      "CAN'T TRANSLATE: on\n",
      "TRANSLATION BREAKS: определённный\n",
      "CAN'T TRANSLATE: log\n",
      "CAN'T TRANSLATE: .\n",
      "TRANSLATION BREAKS: \n",
      "Тот\n",
      "CAN'T TRANSLATE: frog\n",
      "TRANSLATION BREAKS: являйся\n",
      "CAN'T TRANSLATE: in\n",
      "TRANSLATION BREAKS: определённный\n",
      "CAN'T TRANSLATE: lake\n",
      "CAN'T TRANSLATE: .\n",
      "TRANSLATION BREAKS: \n",
      "Определённный\n",
      "CAN'T TRANSLATE: snake\n",
      "TRANSLATION BREAKS: являйся\n",
      "CAN'T TRANSLATE: in\n",
      "TRANSLATION BREAKS: определённный ящик.\n",
      "'''Этот frog являйся on определённный log . \n",
      "Тот frog являйся in определённный lake . \n",
      "Определённный snake являйся in определённный ящик.'''\n",
      "CAN'T TRANSLATE: in\n",
      "TRANSLATION BREAKS: определённная чашка.\n",
      "TRANSLATION BREAKS: \n",
      "Определённная белка является\n",
      "CAN'T TRANSLATE: on\n",
      "TRANSLATION BREAKS: определённный\n",
      "CAN'T TRANSLATE: log\n",
      "CAN'T TRANSLATE: .\n",
      "TRANSLATION BREAKS: \n",
      "Определённный\n",
      "CAN'T TRANSLATE: doll\n",
      "TRANSLATION BREAKS: являйся\n",
      "CAN'T TRANSLATE: on\n",
      "TRANSLATION BREAKS: определённная кровать.\n",
      "'''Определённная ложка является in определённная чашка. \n",
      "Определённная белка является on определённный log . \n",
      "Определённный doll являйся on определённная кровать.'''\n",
      "\n",
      "converting: 2.939\n",
      "loading: 0.116\n"
     ]
    }
   ],
   "source": [
    "t2=time.time()\n",
    "\n",
    "from en2ru import en2ru, decline, p_noun, p_noun1, r_noun_comma_noun\n",
    "from parse_system import tokenize, TestError, seq, W, SAttrs\n",
    "\n",
    "t3=time.time()\n",
    "print()\n",
    "print('converting: %.3f'%(t2-t1))\n",
    "print('loading: %.3f'%(t3-t2))\n"
   ]
  },
  {
   "cell_type": "code",
   "execution_count": 7,
   "metadata": {},
   "outputs": [],
   "source": [
    "import parse_system\n",
    "def warning_hook(s):\n",
    "    raise TestError(s)\n",
    "parse_system.warning=warning_hook\n"
   ]
  },
  {
   "cell_type": "markdown",
   "metadata": {
    "heading_collapsed": true
   },
   "source": [
    "## Lesson 1"
   ]
  },
  {
   "cell_type": "code",
   "execution_count": 8,
   "metadata": {
    "hidden": true,
    "scrolled": false
   },
   "outputs": [
    {
     "name": "stdout",
     "output_type": "stream",
     "text": [
      "OK\n",
      "1\n"
     ]
    }
   ],
   "source": [
    "ttest(en2ru,'cat','кот')#,60"
   ]
  },
  {
   "cell_type": "code",
   "execution_count": 9,
   "metadata": {
    "hidden": true
   },
   "outputs": [
    {
     "name": "stdout",
     "output_type": "stream",
     "text": [
      "OK\n",
      "2\n"
     ]
    }
   ],
   "source": [
    "ttest(en2ru,'a cat','кот')#,90"
   ]
  },
  {
   "cell_type": "code",
   "execution_count": 10,
   "metadata": {
    "hidden": true
   },
   "outputs": [
    {
     "name": "stdout",
     "output_type": "stream",
     "text": [
      "OK\n",
      "3\n"
     ]
    }
   ],
   "source": [
    "ttest(en2ru,'rat','крыса')#,60"
   ]
  },
  {
   "cell_type": "code",
   "execution_count": 11,
   "metadata": {
    "hidden": true
   },
   "outputs": [
    {
     "name": "stdout",
     "output_type": "stream",
     "text": [
      "OK\n",
      "3\n"
     ]
    }
   ],
   "source": [
    "ttest(en2ru,'bat','летучая мышь')#,110"
   ]
  },
  {
   "cell_type": "code",
   "execution_count": 12,
   "metadata": {
    "hidden": true
   },
   "outputs": [
    {
     "name": "stdout",
     "output_type": "stream",
     "text": [
      "OK\n",
      "0\n"
     ]
    }
   ],
   "source": [
    "ttest(en2ru,'a','некоторый')#,80"
   ]
  },
  {
   "cell_type": "code",
   "execution_count": 13,
   "metadata": {
    "hidden": true
   },
   "outputs": [
    {
     "name": "stdout",
     "output_type": "stream",
     "text": [
      "OK\n",
      "0\n"
     ]
    }
   ],
   "source": [
    "ttest(en2ru,'lesson','урок')#,60"
   ]
  },
  {
   "cell_type": "code",
   "execution_count": 14,
   "metadata": {
    "hidden": true
   },
   "outputs": [
    {
     "name": "stdout",
     "output_type": "stream",
     "text": [
      "OK\n",
      "2\n"
     ]
    }
   ],
   "source": [
    "ttest(en2ru,'_Cat and cat','_Кот и кот')#,120"
   ]
  },
  {
   "cell_type": "code",
   "execution_count": 15,
   "metadata": {
    "hidden": true,
    "scrolled": true
   },
   "outputs": [
    {
     "name": "stdout",
     "output_type": "stream",
     "text": [
      "OK\n",
      "2\n"
     ]
    }
   ],
   "source": [
    "ttest(en2ru,'_a cat and cat','_кот и кот')#,150"
   ]
  },
  {
   "cell_type": "code",
   "execution_count": 16,
   "metadata": {
    "hidden": true,
    "scrolled": false
   },
   "outputs": [
    {
     "name": "stdout",
     "output_type": "stream",
     "text": [
      "OK\n",
      "1\n"
     ]
    }
   ],
   "source": [
    "ttest(en2ru,'_a cat , cat','_кот, кот')#,150"
   ]
  },
  {
   "cell_type": "code",
   "execution_count": 17,
   "metadata": {
    "hidden": true,
    "scrolled": false
   },
   "outputs": [
    {
     "name": "stdout",
     "output_type": "stream",
     "text": [
      "OK\n"
     ]
    }
   ],
   "source": [
    "x=p_noun(tokenize('_a cat, cat'),0)[0][1]\n",
    "test(x.tostr(),'_кот, кот')"
   ]
  },
  {
   "cell_type": "code",
   "execution_count": 18,
   "metadata": {
    "hidden": true,
    "scrolled": false
   },
   "outputs": [
    {
     "name": "stdout",
     "output_type": "stream",
     "text": [
      "OK\n"
     ]
    }
   ],
   "source": [
    "s=tokenize('_a cat, cat')\n",
    "rezs=seq([ p_noun1, W(',')  , p_noun ],r_noun_comma_noun)(s,0)\n",
    "test(rezs[0][1].tostr(),'_кот, кот')"
   ]
  },
  {
   "cell_type": "code",
   "execution_count": 19,
   "metadata": {
    "hidden": true,
    "scrolled": true
   },
   "outputs": [
    {
     "name": "stdout",
     "output_type": "stream",
     "text": [
      "OK\n"
     ]
    }
   ],
   "source": [
    "test(p_noun(tokenize('cat,_cat,_a cat'),0)[0][1].tostr(),'кот,_кот,_кот')"
   ]
  },
  {
   "cell_type": "code",
   "execution_count": 20,
   "metadata": {
    "hidden": true,
    "scrolled": true
   },
   "outputs": [
    {
     "name": "stdout",
     "output_type": "stream",
     "text": [
      "OK\n"
     ]
    }
   ],
   "source": [
    "test(SAttrs().join(tokenize('cat,_cat,_a cat')),'cat,_cat,_a cat')"
   ]
  },
  {
   "cell_type": "code",
   "execution_count": 21,
   "metadata": {
    "hidden": true,
    "scrolled": true
   },
   "outputs": [
    {
     "name": "stdout",
     "output_type": "stream",
     "text": [
      "OK\n",
      "3\n"
     ]
    }
   ],
   "source": [
    "ttest(en2ru,'rat, cat','крыса, кот')#,120"
   ]
  },
  {
   "cell_type": "markdown",
   "metadata": {
    "heading_collapsed": true
   },
   "source": [
    "## Lesson 2"
   ]
  },
  {
   "cell_type": "code",
   "execution_count": 22,
   "metadata": {
    "hidden": true,
    "scrolled": false
   },
   "outputs": [
    {
     "name": "stdout",
     "output_type": "stream",
     "text": [
      "OK\n",
      "2\n"
     ]
    }
   ],
   "source": [
    "ttest(en2ru,'cat AND_Rat','кот И_Крыса')#,125"
   ]
  },
  {
   "cell_type": "code",
   "execution_count": 23,
   "metadata": {
    "hidden": true
   },
   "outputs": [
    {
     "name": "stdout",
     "output_type": "stream",
     "text": [
      "OK\n",
      "2\n"
     ]
    }
   ],
   "source": [
    "ttest(en2ru,'a pen and a hen','ручка и курица')#,170"
   ]
  },
  {
   "cell_type": "code",
   "execution_count": 24,
   "metadata": {
    "hidden": true,
    "scrolled": true
   },
   "outputs": [
    {
     "name": "stdout",
     "output_type": "stream",
     "text": [
      "OK\n",
      "3\n"
     ]
    }
   ],
   "source": [
    "ttest(en2ru,'a bat and a cat','летучая мышь и кот')#,210"
   ]
  },
  {
   "cell_type": "code",
   "execution_count": 25,
   "metadata": {
    "hidden": true,
    "scrolled": true
   },
   "outputs": [
    {
     "name": "stdout",
     "output_type": "stream",
     "text": [
      "OK\n",
      "6\n"
     ]
    }
   ],
   "source": [
    "ttest(en2ru,'a hen, a bat, a cat and a rat','курица, летучая мышь, кот и крыса')#,360"
   ]
  },
  {
   "cell_type": "markdown",
   "metadata": {
    "heading_collapsed": true
   },
   "source": [
    "## Lesson 3"
   ]
  },
  {
   "cell_type": "code",
   "execution_count": 26,
   "metadata": {
    "hidden": true
   },
   "outputs": [
    {
     "name": "stdout",
     "output_type": "stream",
     "text": [
      "OK\n",
      "3\n"
     ]
    }
   ],
   "source": [
    "ttest(en2ru,'one','один')#,85"
   ]
  },
  {
   "cell_type": "code",
   "execution_count": 27,
   "metadata": {
    "hidden": true
   },
   "outputs": [
    {
     "name": "stdout",
     "output_type": "stream",
     "text": [
      "OK\n",
      "8\n",
      "OK\n",
      "OK\n",
      "OK\n",
      "OK\n",
      "OK\n",
      "OK\n",
      "OK\n",
      "OK\n",
      "OK\n",
      "OK\n"
     ]
    }
   ],
   "source": [
    "ttest(en2ru,'a bat, a dog and a pig','летучая мышь, собака и свинья')#,290"
   ]
  },
  {
   "cell_type": "code",
   "execution_count": 28,
   "metadata": {
    "hidden": true
   },
   "outputs": [
    {
     "name": "stdout",
     "output_type": "stream",
     "text": [
      "OK\n",
      "2\n"
     ]
    }
   ],
   "source": [
    "ttest(en2ru,'one dog','одна собака')#,90"
   ]
  },
  {
   "cell_type": "code",
   "execution_count": 29,
   "metadata": {
    "hidden": true
   },
   "outputs": [
    {
     "name": "stdout",
     "output_type": "stream",
     "text": [
      "OK\n",
      "2\n"
     ]
    }
   ],
   "source": [
    "ttest(en2ru,'three dogs','три собаки')#,100"
   ]
  },
  {
   "cell_type": "code",
   "execution_count": 30,
   "metadata": {
    "hidden": true
   },
   "outputs": [
    {
     "name": "stdout",
     "output_type": "stream",
     "text": [
      "OK\n",
      "2\n"
     ]
    }
   ],
   "source": [
    "ttest(decline,'rat and cat',\n",
    "['крыса и кот',\n",
    " 'нет крысы и кота',\n",
    " 'дать крысе и коту',\n",
    " 'вижу крысу и кота',\n",
    " 'творю крысой и котом',\n",
    " 'думаю о крысе и коте'])"
   ]
  },
  {
   "cell_type": "code",
   "execution_count": 31,
   "metadata": {
    "hidden": true,
    "scrolled": true
   },
   "outputs": [
    {
     "name": "stdout",
     "output_type": "stream",
     "text": [
      "OK\n",
      "1\n"
     ]
    }
   ],
   "source": [
    "ttest(en2ru,'rat and cat','крыса и кот')#,120"
   ]
  },
  {
   "cell_type": "code",
   "execution_count": 32,
   "metadata": {
    "hidden": true,
    "scrolled": true
   },
   "outputs": [
    {
     "name": "stdout",
     "output_type": "stream",
     "text": [
      "OK\n",
      "3\n"
     ]
    }
   ],
   "source": [
    "ttest(decline,'one bat and three cups',\n",
    "['одна летучая мышь и три чашки',\n",
    "'нет одной летучей мыши и трёх чашек',\n",
    "'дать одной летучей мыши и трём чашкам',\n",
    "'вижу одну летучую мышь и три чашки',\n",
    "'творю одной летучей мышью и тремя чашками',\n",
    "'думаю о одной летучей мыши и трёх чашках'])#,8"
   ]
  },
  {
   "cell_type": "code",
   "execution_count": 33,
   "metadata": {
    "hidden": true
   },
   "outputs": [
    {
     "name": "stdout",
     "output_type": "stream",
     "text": [
      "OK\n",
      "4\n"
     ]
    }
   ],
   "source": [
    "ttest(en2ru,'one bat and three cups','одна летучая мышь и три чашки')#,205"
   ]
  },
  {
   "cell_type": "code",
   "execution_count": 34,
   "metadata": {
    "hidden": true
   },
   "outputs": [
    {
     "name": "stdout",
     "output_type": "stream",
     "text": [
      "OK\n",
      "4\n"
     ]
    }
   ],
   "source": [
    "ttest(decline,'one, two, three, four, five',[\n",
    "    'один, два, три, четыре, пять',\n",
    "    'нет одного, двух, трёх, четырёх, пяти',\n",
    "    'дать одному, двум, трём, четырём, пяти',\n",
    "    'вижу один, два, три, четыре, пять',\n",
    "    'творю одним, двумя, тремя, четырьмя, пятью',\n",
    "    'думаю о одном, двух, трёх, четырёх, пяти',])#,15"
   ]
  },
  {
   "cell_type": "code",
   "execution_count": 35,
   "metadata": {
    "hidden": true
   },
   "outputs": [
    {
     "name": "stdout",
     "output_type": "stream",
     "text": [
      "OK\n",
      "7\n"
     ]
    }
   ],
   "source": [
    "ttest(decline,'cat, one cat, cats, two cats, three cats, five cats',[\n",
    "    'кот, один кот, коты, два кота, три кота, пять котов',\n",
    "    'нет кота, одного кота, котов, двух котов, трёх котов, пяти котов',\n",
    "    'дать коту, одному коту, котам, двум котам, трём котам, пяти котам',\n",
    "    'вижу кота, одного кота, котов, двух котов, трёх котов, пять котов',\n",
    "    'творю котом, одним котом, котами, двумя котами, тремя котами, пятью котами',\n",
    "    'думаю о коте, одном коте, котах, двух котах, трёх котах, пяти котах',\n",
    "])#,15"
   ]
  },
  {
   "cell_type": "code",
   "execution_count": 36,
   "metadata": {
    "hidden": true
   },
   "outputs": [
    {
     "name": "stdout",
     "output_type": "stream",
     "text": [
      "OK\n",
      "7\n"
     ]
    }
   ],
   "source": [
    "ttest(decline,'lesson, one lesson, lessons, two lessons, three lessons, five lessons',[\n",
    "    'урок, один урок, уроки, два урока, три урока, пять уроков',\n",
    "    'нет урока, одного урока, уроков, двух уроков, трёх уроков, пяти уроков',\n",
    "    'дать уроку, одному уроку, урокам, двум урокам, трём урокам, пяти урокам',\n",
    "    'вижу урок, один урок, уроки, два урока, три урока, пять уроков',\n",
    "    'творю уроком, одним уроком, уроками, двумя уроками, тремя уроками, пятью уроками',\n",
    "    'думаю о уроке, одном уроке, уроках, двух уроках, трёх уроках, пяти уроках',\n",
    "])#,20"
   ]
  },
  {
   "cell_type": "code",
   "execution_count": 37,
   "metadata": {
    "code_folding": [],
    "hidden": true
   },
   "outputs": [
    {
     "name": "stdout",
     "output_type": "stream",
     "text": [
      "OK\n",
      "7\n"
     ]
    }
   ],
   "source": [
    "ttest(decline,'rat, one rat, rats, two rats, three rats, five rats',[\n",
    "    'крыса, одна крыса, крысы, две крысы, три крысы, пять крыс',\n",
    "    'нет крысы, одной крысы, крыс, двух крыс, трёх крыс, пяти крыс',\n",
    "    'дать крысе, одной крысе, крысам, двум крысам, трём крысам, пяти крысам',\n",
    "    'вижу крысу, одну крысу, крыс, двух крыс, трёх крыс, пять крыс',\n",
    "    'творю крысой, одной крысой, крысами, двумя крысами, тремя крысами, пятью крысами',\n",
    "    'думаю о крысе, одной крысе, крысах, двух крысах, трёх крысах, пяти крысах',\n",
    "],8)#,20"
   ]
  },
  {
   "cell_type": "code",
   "execution_count": 38,
   "metadata": {
    "hidden": true
   },
   "outputs": [
    {
     "name": "stdout",
     "output_type": "stream",
     "text": [
      "OK\n",
      "7\n"
     ]
    }
   ],
   "source": [
    "ttest(decline,'child, one child, children, two children, three children, five children',\n",
    "['ребёнок, один ребёнок, дети, два ребёнка, три ребёнка, пять детей',\n",
    "'нет ребёнка, одного ребёнка, детей, двух детей, трёх детей, пяти детей',\n",
    "'дать ребёнку, одному ребёнку, детям, двум детям, трём детям, пяти детям',\n",
    "'вижу ребёнка, одного ребёнка, детей, двух детей, трёх детей, пять детей',\n",
    "'творю ребёнком, одним ребёнком, детьми, двумя детьми, тремя детьми, пятью детьми',\n",
    "'думаю о ребёнке, одном ребёнке, детях, двух детях, трёх детях, пяти детях'])#,15"
   ]
  },
  {
   "cell_type": "markdown",
   "metadata": {
    "heading_collapsed": true
   },
   "source": [
    "## Lesson 4 (? видьте кота ?)"
   ]
  },
  {
   "cell_type": "code",
   "execution_count": 39,
   "metadata": {
    "hidden": true,
    "scrolled": true
   },
   "outputs": [
    {
     "name": "stdout",
     "output_type": "stream",
     "text": [
      "OK\n",
      "7\n"
     ]
    }
   ],
   "source": [
    "ttest(en2ru,\n",
    "'''  A hat, a cup and a box.\n",
    "A bat, a hen and a fox.''',\n",
    "'''  Шляпа, чашка и ящик.\n",
    "Летучая мышь, курица и лиса.''',8)#,260"
   ]
  },
  {
   "cell_type": "code",
   "execution_count": 40,
   "metadata": {
    "hidden": true
   },
   "outputs": [
    {
     "name": "stdout",
     "output_type": "stream",
     "text": [
      "OK\n",
      "0\n"
     ]
    }
   ],
   "source": [
    "ttest(en2ru,'I','я')#,60"
   ]
  },
  {
   "cell_type": "code",
   "execution_count": 41,
   "metadata": {
    "hidden": true,
    "scrolled": false
   },
   "outputs": [
    {
     "name": "stdout",
     "output_type": "stream",
     "text": [
      "OK\n",
      "3\n"
     ]
    }
   ],
   "source": [
    "ttest(en2ru,'to see','видеть')#,20"
   ]
  },
  {
   "cell_type": "code",
   "execution_count": 42,
   "metadata": {
    "hidden": true
   },
   "outputs": [
    {
     "name": "stdout",
     "output_type": "stream",
     "text": [
      "OK\n",
      "32\n",
      "OK\n",
      "OK\n",
      "OK\n",
      "OK\n",
      "OK\n",
      "OK\n",
      "OK\n",
      "OK\n",
      "OK\n",
      "OK\n"
     ]
    }
   ],
   "source": [
    "ttest(en2ru,'I see','я вижу')#,75"
   ]
  },
  {
   "cell_type": "code",
   "execution_count": 43,
   "metadata": {
    "hidden": true,
    "scrolled": true
   },
   "outputs": [
    {
     "name": "stdout",
     "output_type": "stream",
     "text": [
      "OK\n",
      "2\n"
     ]
    }
   ],
   "source": [
    "ttest(en2ru,'see cat','видь кота')#,25"
   ]
  },
  {
   "cell_type": "code",
   "execution_count": 44,
   "metadata": {
    "hidden": true,
    "scrolled": true
   },
   "outputs": [
    {
     "name": "stdout",
     "output_type": "stream",
     "text": [
      "OK\n",
      "12\n"
     ]
    }
   ],
   "source": [
    "ttest(en2ru,'''I see\n",
    "  a pig and a hen,\n",
    "  a dog and a gun,\n",
    "  a cat and a hat.''',\n",
    "'''Я вижу\n",
    "  свинью и курицу,\n",
    "  собаку и ружьё,\n",
    "  кота и шляпу.''',10)#,280"
   ]
  },
  {
   "cell_type": "code",
   "execution_count": 45,
   "metadata": {
    "hidden": true,
    "scrolled": true
   },
   "outputs": [
    {
     "name": "stdout",
     "output_type": "stream",
     "text": [
      "OK\n",
      "7\n"
     ]
    }
   ],
   "source": [
    "ttest(en2ru,'I see one box, one hat and one cap',\n",
    "     'я вижу один ящик, одну шляпу и одну кепку')#,205"
   ]
  },
  {
   "cell_type": "code",
   "execution_count": 46,
   "metadata": {
    "hidden": true,
    "scrolled": true
   },
   "outputs": [
    {
     "name": "stdout",
     "output_type": "stream",
     "text": [
      "OK\n",
      "4\n"
     ]
    }
   ],
   "source": [
    "ttest(en2ru,'I see jam and one cup',\n",
    "    'я вижу джем и одну чашку')#,140"
   ]
  },
  {
   "cell_type": "markdown",
   "metadata": {
    "heading_collapsed": true
   },
   "source": [
    "## Lessons 5, 6"
   ]
  },
  {
   "cell_type": "code",
   "execution_count": 47,
   "metadata": {
    "hidden": true,
    "scrolled": true
   },
   "outputs": [
    {
     "name": "stdout",
     "output_type": "stream",
     "text": [
      "OK\n",
      "3\n"
     ]
    }
   ],
   "source": [
    "ttest(en2ru,'A vase and a cup','Ваза и чашка')#,170"
   ]
  },
  {
   "cell_type": "code",
   "execution_count": 48,
   "metadata": {
    "hidden": true
   },
   "outputs": [
    {
     "name": "stdout",
     "output_type": "stream",
     "text": [
      "OK\n",
      "7\n"
     ]
    }
   ],
   "source": [
    "ttest(en2ru,'A kitten and a rat.','Котёнок и крыса.')#,90"
   ]
  },
  {
   "cell_type": "code",
   "execution_count": 49,
   "metadata": {
    "hidden": true
   },
   "outputs": [
    {
     "name": "stdout",
     "output_type": "stream",
     "text": [
      "OK\n",
      "5\n"
     ]
    }
   ],
   "source": [
    "ttest(en2ru,'A gun and a star.','Ружьё и звезда.')#,100"
   ]
  },
  {
   "cell_type": "code",
   "execution_count": 50,
   "metadata": {
    "hidden": true
   },
   "outputs": [
    {
     "name": "stdout",
     "output_type": "stream",
     "text": [
      "OK\n",
      "2\n"
     ]
    }
   ],
   "source": [
    "ttest(en2ru,'two lamps','две лампы')#,80"
   ]
  },
  {
   "cell_type": "code",
   "execution_count": 51,
   "metadata": {
    "hidden": true,
    "scrolled": false
   },
   "outputs": [
    {
     "name": "stdout",
     "output_type": "stream",
     "text": [
      "OK\n",
      "5\n"
     ]
    }
   ],
   "source": [
    "ttest(en2ru,'I see one dog and one cat.','Я вижу одну собаку и одного кота.')#,80"
   ]
  },
  {
   "cell_type": "code",
   "execution_count": 52,
   "metadata": {
    "hidden": true,
    "scrolled": true
   },
   "outputs": [
    {
     "name": "stdout",
     "output_type": "stream",
     "text": [
      "OK\n",
      "5\n"
     ]
    }
   ],
   "source": [
    "ttest(en2ru,'a wolf and a squirrel, zebras, boys','волк и белка, зебры, мальчики')#,270"
   ]
  },
  {
   "cell_type": "code",
   "execution_count": 53,
   "metadata": {
    "hidden": true,
    "scrolled": true
   },
   "outputs": [
    {
     "name": "stdout",
     "output_type": "stream",
     "text": [
      "OK\n",
      "2\n"
     ]
    }
   ],
   "source": [
    "ttest(decline,'six squirrels',['шесть белок',\n",
    " 'нет шести белок',\n",
    " 'дать шести белкам',\n",
    " 'вижу шесть белок',\n",
    " 'творю шестью белками',\n",
    " 'думаю о шести белках'])"
   ]
  },
  {
   "cell_type": "markdown",
   "metadata": {
    "heading_collapsed": true
   },
   "source": [
    "## Lesson 7"
   ]
  },
  {
   "cell_type": "code",
   "execution_count": 54,
   "metadata": {
    "hidden": true,
    "scrolled": true
   },
   "outputs": [
    {
     "name": "stdout",
     "output_type": "stream",
     "text": [
      "OK\n",
      "5\n"
     ]
    }
   ],
   "source": [
    "ttest(en2ru,'I have a cat.','У меня есть кот.')#,40"
   ]
  },
  {
   "cell_type": "code",
   "execution_count": 55,
   "metadata": {
    "hidden": true,
    "scrolled": true
   },
   "outputs": [
    {
     "name": "stdout",
     "output_type": "stream",
     "text": [
      "OK\n",
      "4\n"
     ]
    }
   ],
   "source": [
    "ttest(en2ru,'I have no a cat.','У меня нет кота.')#,40"
   ]
  },
  {
   "cell_type": "code",
   "execution_count": 56,
   "metadata": {
    "hidden": true,
    "scrolled": true
   },
   "outputs": [
    {
     "name": "stdout",
     "output_type": "stream",
     "text": [
      "OK\n",
      "5\n"
     ]
    }
   ],
   "source": [
    "ttest(en2ru,'I have no two guns.','У меня нет двух ружей.')#,40"
   ]
  },
  {
   "cell_type": "code",
   "execution_count": 57,
   "metadata": {
    "hidden": true,
    "scrolled": true
   },
   "outputs": [
    {
     "name": "stdout",
     "output_type": "stream",
     "text": [
      "OK\n",
      "3\n"
     ]
    }
   ],
   "source": [
    "ttest(en2ru,'have','имей')#,20"
   ]
  },
  {
   "cell_type": "code",
   "execution_count": 58,
   "metadata": {
    "hidden": true
   },
   "outputs": [
    {
     "name": "stdout",
     "output_type": "stream",
     "text": [
      "OK\n",
      "7\n"
     ]
    }
   ],
   "source": [
    "ttest(en2ru,'I have a dog, but I have no cat.',\n",
    "      'У меня есть собака, но у меня нет кота.',10)#,45"
   ]
  },
  {
   "cell_type": "code",
   "execution_count": 59,
   "metadata": {
    "hidden": true
   },
   "outputs": [
    {
     "name": "stdout",
     "output_type": "stream",
     "text": [
      "OK\n",
      "3\n"
     ]
    }
   ],
   "source": [
    "ttest(en2ru,'I have no lamp.','У меня нет лампы.')#,35"
   ]
  },
  {
   "cell_type": "code",
   "execution_count": 60,
   "metadata": {
    "hidden": true,
    "scrolled": true
   },
   "outputs": [
    {
     "name": "stdout",
     "output_type": "stream",
     "text": [
      "OK\n",
      "2\n"
     ]
    }
   ],
   "source": [
    "ttest(en2ru,'copy-book','тетрадь')#,55"
   ]
  },
  {
   "cell_type": "code",
   "execution_count": 61,
   "metadata": {
    "hidden": true,
    "scrolled": true
   },
   "outputs": [
    {
     "name": "stdout",
     "output_type": "stream",
     "text": [
      "OK\n",
      "3\n"
     ]
    }
   ],
   "source": [
    "ttest(en2ru,'give me','дай мне')#,20"
   ]
  },
  {
   "cell_type": "code",
   "execution_count": 62,
   "metadata": {
    "hidden": true,
    "scrolled": true
   },
   "outputs": [
    {
     "name": "stdout",
     "output_type": "stream",
     "text": [
      "OK\n",
      "5\n"
     ]
    }
   ],
   "source": [
    "ttest(en2ru,'give me cat','дай мне кота')#,25"
   ]
  },
  {
   "cell_type": "code",
   "execution_count": 63,
   "metadata": {
    "hidden": true
   },
   "outputs": [
    {
     "name": "stdout",
     "output_type": "stream",
     "text": [
      "OK\n",
      "3\n"
     ]
    }
   ],
   "source": [
    "ttest(en2ru,'to give me cat','давать мне кота')#,30"
   ]
  },
  {
   "cell_type": "code",
   "execution_count": 64,
   "metadata": {
    "hidden": true,
    "scrolled": true
   },
   "outputs": [
    {
     "name": "stdout",
     "output_type": "stream",
     "text": [
      "OK\n",
      "7\n"
     ]
    }
   ],
   "source": [
    "ttest(en2ru,'I have a kitten, but I have no squirrel.'\n",
    "      ,'У меня есть котёнок, но у меня нет белки.')#,45"
   ]
  },
  {
   "cell_type": "code",
   "execution_count": 65,
   "metadata": {
    "hidden": true
   },
   "outputs": [
    {
     "name": "stdout",
     "output_type": "stream",
     "text": [
      "OK\n",
      "3\n"
     ]
    }
   ],
   "source": [
    "ttest(en2ru,'Show me Lesson Four!','Покажи мне Урок Четыре!')#,15"
   ]
  },
  {
   "cell_type": "code",
   "execution_count": 66,
   "metadata": {
    "hidden": true
   },
   "outputs": [
    {
     "name": "stdout",
     "output_type": "stream",
     "text": [
      "OK\n",
      "3\n"
     ]
    }
   ],
   "source": [
    "ttest(en2ru,'cat has cat','у кота есть кот')#,70"
   ]
  },
  {
   "cell_type": "code",
   "execution_count": 67,
   "metadata": {
    "hidden": true,
    "scrolled": true
   },
   "outputs": [
    {
     "name": "stdout",
     "output_type": "stream",
     "text": [
      "OK\n",
      "3\n"
     ]
    }
   ],
   "source": [
    "ttest(en2ru,'cat has me','у кота есть я')#,60"
   ]
  },
  {
   "cell_type": "code",
   "execution_count": 68,
   "metadata": {
    "hidden": true,
    "scrolled": true
   },
   "outputs": [
    {
     "name": "stdout",
     "output_type": "stream",
     "text": [
      "OK\n",
      "1\n"
     ]
    }
   ],
   "source": [
    "ttest(en2ru,'me','мне')#,10"
   ]
  },
  {
   "cell_type": "code",
   "execution_count": 69,
   "metadata": {
    "hidden": true,
    "scrolled": false
   },
   "outputs": [
    {
     "name": "stdout",
     "output_type": "stream",
     "text": [
      "OK\n",
      "3\n"
     ]
    }
   ],
   "source": [
    "ttest(en2ru,'Good_morning','Доброе_утро')#,110"
   ]
  },
  {
   "cell_type": "code",
   "execution_count": 70,
   "metadata": {
    "hidden": true
   },
   "outputs": [
    {
     "name": "stdout",
     "output_type": "stream",
     "text": [
      "OK\n",
      "2\n"
     ]
    }
   ],
   "source": [
    "ttest(en2ru,'good mornings','хорошие утра')#,130"
   ]
  },
  {
   "cell_type": "code",
   "execution_count": 71,
   "metadata": {
    "hidden": true,
    "scrolled": false
   },
   "outputs": [
    {
     "name": "stdout",
     "output_type": "stream",
     "text": [
      "OK\n",
      "2\n"
     ]
    }
   ],
   "source": [
    "ttest(en2ru,'seven','семь')#,80"
   ]
  },
  {
   "cell_type": "markdown",
   "metadata": {
    "heading_collapsed": true
   },
   "source": [
    "## Lesson 8 (открывающие кавычки...)"
   ]
  },
  {
   "cell_type": "code",
   "execution_count": 72,
   "metadata": {
    "hidden": true,
    "scrolled": false
   },
   "outputs": [
    {
     "name": "stdout",
     "output_type": "stream",
     "text": [
      "OK\n",
      "4\n"
     ]
    }
   ],
   "source": [
    "ttest(en2ru,'This boy has a ball.','У этого мальчика есть мяч.')#,60"
   ]
  },
  {
   "cell_type": "code",
   "execution_count": 73,
   "metadata": {
    "hidden": true,
    "scrolled": false
   },
   "outputs": [
    {
     "name": "stdout",
     "output_type": "stream",
     "text": [
      "OK\n",
      "5\n"
     ]
    }
   ],
   "source": [
    "ttest(en2ru,'He has no a copy-book.','У него нет тетради.')#,40"
   ]
  },
  {
   "cell_type": "code",
   "execution_count": 74,
   "metadata": {
    "hidden": true
   },
   "outputs": [
    {
     "name": "stdout",
     "output_type": "stream",
     "text": [
      "OK\n",
      "4\n"
     ]
    }
   ],
   "source": [
    "ttest(en2ru,'He has no him.','У него нет его.')#,30"
   ]
  },
  {
   "cell_type": "code",
   "execution_count": 75,
   "metadata": {
    "hidden": true,
    "scrolled": false
   },
   "outputs": [
    {
     "name": "stdout",
     "output_type": "stream",
     "text": [
      "OK\n",
      "6\n"
     ]
    }
   ],
   "source": [
    "ttest(en2ru,'Say: Good morning!','Скажи: Доброе утро!')#,250"
   ]
  },
  {
   "cell_type": "code",
   "execution_count": 76,
   "metadata": {
    "hidden": true,
    "scrolled": false
   },
   "outputs": [
    {
     "name": "stdout",
     "output_type": "stream",
     "text": [
      "OK\n",
      "3\n"
     ]
    }
   ],
   "source": [
    "ttest(en2ru,'Say information','Скажи информацию')#,220"
   ]
  },
  {
   "cell_type": "code",
   "execution_count": 77,
   "metadata": {
    "hidden": true,
    "scrolled": true
   },
   "outputs": [
    {
     "name": "stdout",
     "output_type": "stream",
     "text": [
      "OK\n",
      "10\n"
     ]
    }
   ],
   "source": [
    "ttest(en2ru,'Say: \"Seven, six, four, two, five, three, one.\"',\n",
    "      'Скажи:\" Семь, шесть, четыре, два, пять, три, один.\"',8)#,2200"
   ]
  },
  {
   "cell_type": "code",
   "execution_count": 78,
   "metadata": {
    "hidden": true,
    "scrolled": true
   },
   "outputs": [
    {
     "name": "stdout",
     "output_type": "stream",
     "text": [
      "OK\n",
      "8\n"
     ]
    }
   ],
   "source": [
    "ttest(en2ru,'say: say seven','скажи: скажи семь',8)#,1200"
   ]
  },
  {
   "cell_type": "code",
   "execution_count": 79,
   "metadata": {
    "hidden": true,
    "scrolled": false
   },
   "outputs": [
    {
     "name": "stdout",
     "output_type": "stream",
     "text": [
      "OK\n",
      "3\n"
     ]
    }
   ],
   "source": [
    "ttest(en2ru,'I have cat too.','Я тоже имею кота.')#,20"
   ]
  },
  {
   "cell_type": "code",
   "execution_count": 80,
   "metadata": {
    "hidden": true
   },
   "outputs": [
    {
     "name": "stdout",
     "output_type": "stream",
     "text": [
      "OK\n",
      "7\n"
     ]
    }
   ],
   "source": [
    "ttest(en2ru,'I have no star and he has no star.',\n",
    "      'У меня нет звезды и у него нет звезды.')#,40"
   ]
  },
  {
   "cell_type": "markdown",
   "metadata": {
    "heading_collapsed": true
   },
   "source": [
    "## Lesson 8.1"
   ]
  },
  {
   "cell_type": "code",
   "execution_count": 81,
   "metadata": {
    "hidden": true
   },
   "outputs": [
    {
     "name": "stdout",
     "output_type": "stream",
     "text": [
      "OK\n",
      "4\n"
     ]
    }
   ],
   "source": [
    "ttest(en2ru,'two balls','два мяча')"
   ]
  },
  {
   "cell_type": "code",
   "execution_count": 82,
   "metadata": {
    "hidden": true
   },
   "outputs": [
    {
     "name": "stdout",
     "output_type": "stream",
     "text": [
      "OK\n",
      "3\n"
     ]
    }
   ],
   "source": [
    "ttest(en2ru,'boy sees','мальчик видит')"
   ]
  },
  {
   "cell_type": "code",
   "execution_count": 83,
   "metadata": {
    "hidden": true
   },
   "outputs": [
    {
     "name": "stdout",
     "output_type": "stream",
     "text": [
      "OK\n",
      "2\n"
     ]
    }
   ],
   "source": [
    "ttest(en2ru,'see','видь')"
   ]
  },
  {
   "cell_type": "code",
   "execution_count": 84,
   "metadata": {
    "hidden": true
   },
   "outputs": [
    {
     "name": "stdout",
     "output_type": "stream",
     "text": [
      "OK\n",
      "3\n"
     ]
    }
   ],
   "source": [
    "ttest(en2ru,'boy says','мальчик говорит')"
   ]
  },
  {
   "cell_type": "code",
   "execution_count": 85,
   "metadata": {
    "hidden": true,
    "scrolled": false
   },
   "outputs": [
    {
     "name": "stdout",
     "output_type": "stream",
     "text": [
      "OK\n",
      "3\n"
     ]
    }
   ],
   "source": [
    "ttest(en2ru,'say','скажи')"
   ]
  },
  {
   "cell_type": "code",
   "execution_count": 86,
   "metadata": {
    "hidden": true
   },
   "outputs": [
    {
     "name": "stdout",
     "output_type": "stream",
     "text": [
      "OK\n",
      "3\n"
     ]
    }
   ],
   "source": [
    "ttest(en2ru,'boy gives','мальчик даёт')"
   ]
  },
  {
   "cell_type": "code",
   "execution_count": 87,
   "metadata": {
    "hidden": true
   },
   "outputs": [
    {
     "name": "stdout",
     "output_type": "stream",
     "text": [
      "OK\n",
      "2\n"
     ]
    }
   ],
   "source": [
    "ttest(en2ru,'give','дай')"
   ]
  },
  {
   "cell_type": "code",
   "execution_count": 88,
   "metadata": {
    "hidden": true
   },
   "outputs": [
    {
     "name": "stdout",
     "output_type": "stream",
     "text": [
      "OK\n",
      "2\n"
     ]
    }
   ],
   "source": [
    "ttest(en2ru,'boy has','мальчик имеет')"
   ]
  },
  {
   "cell_type": "code",
   "execution_count": 89,
   "metadata": {
    "hidden": true,
    "scrolled": false
   },
   "outputs": [
    {
     "name": "stdout",
     "output_type": "stream",
     "text": [
      "OK\n",
      "2\n"
     ]
    }
   ],
   "source": [
    "ttest(en2ru,'have','имей')"
   ]
  },
  {
   "cell_type": "code",
   "execution_count": 90,
   "metadata": {
    "hidden": true,
    "scrolled": true
   },
   "outputs": [
    {
     "name": "stdout",
     "output_type": "stream",
     "text": [
      "OK\n",
      "4\n"
     ]
    }
   ],
   "source": [
    "ttest(en2ru,'\\nThis girl has three balls.','\\nУ этой девочки есть три мяча.')"
   ]
  },
  {
   "cell_type": "markdown",
   "metadata": {},
   "source": [
    "## Result"
   ]
  },
  {
   "cell_type": "code",
   "execution_count": 91,
   "metadata": {
    "scrolled": true
   },
   "outputs": [
    {
     "data": {
      "text/plain": [
       "[]"
      ]
     },
     "execution_count": 91,
     "metadata": {},
     "output_type": "execute_result"
    }
   ],
   "source": [
    "TEST_ERRORS"
   ]
  }
 ],
 "metadata": {
  "hide_input": false,
  "kernelspec": {
   "display_name": "Python 3",
   "language": "python",
   "name": "python3"
  },
  "language_info": {
   "codemirror_mode": {
    "name": "ipython",
    "version": 3
   },
   "file_extension": ".py",
   "mimetype": "text/x-python",
   "name": "python",
   "nbconvert_exporter": "python",
   "pygments_lexer": "ipython3",
   "version": "3.6.7"
  }
 },
 "nbformat": 4,
 "nbformat_minor": 2
}
