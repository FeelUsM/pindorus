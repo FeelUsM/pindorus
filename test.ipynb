{
 "cells": [
  {
   "cell_type": "code",
   "execution_count": 1,
   "metadata": {},
   "outputs": [
    {
     "name": "stderr",
     "output_type": "stream",
     "text": [
      "[NbConvertApp] Converting notebook en2ru.ipynb to script\n",
      "[NbConvertApp] Writing 21869 bytes to en2ru.py\n"
     ]
    }
   ],
   "source": [
    "!jupyter nbconvert --to script en2ru.ipynb"
   ]
  },
  {
   "cell_type": "code",
   "execution_count": 2,
   "metadata": {},
   "outputs": [
    {
     "name": "stdout",
     "output_type": "stream",
     "text": [
      "не совпадают числа числ. и сущ.: один часы\n",
      "не совпадают числа числ. и сущ.: один часы\n",
      "не совпадают числа числ. и сущ.: один часы\n",
      "no tokens\n"
     ]
    }
   ],
   "source": [
    "from en2ru import *"
   ]
  },
  {
   "cell_type": "code",
   "execution_count": 3,
   "metadata": {
    "code_folding": [
     0
    ]
   },
   "outputs": [],
   "source": [
    "TEST_ERRORS=[]\n",
    "\n",
    "def test(tmp,rezs):\n",
    "    if tmp==rezs:\n",
    "        print('OK')\n",
    "    else:\n",
    "        TEST_ERRORS.append((tmp,rezs))\n",
    "        print('TestError')\n",
    "        if len(tmp)!=len(rezs):\n",
    "            print(tmp)\n",
    "        else:\n",
    "            for i in range(len(tmp)):\n",
    "                if tmp[i]!=rezs[i]:\n",
    "                    print(i+1,')',tmp[i])\n",
    "    "
   ]
  },
  {
   "cell_type": "markdown",
   "metadata": {},
   "source": [
    "## Lesson 1"
   ]
  },
  {
   "cell_type": "code",
   "execution_count": 4,
   "metadata": {
    "scrolled": true
   },
   "outputs": [
    {
     "name": "stdout",
     "output_type": "stream",
     "text": [
      "OK\n"
     ]
    }
   ],
   "source": [
    "test(en2ru('cat'),'кот')"
   ]
  },
  {
   "cell_type": "code",
   "execution_count": 5,
   "metadata": {},
   "outputs": [
    {
     "name": "stdout",
     "output_type": "stream",
     "text": [
      "OK\n"
     ]
    }
   ],
   "source": [
    "test(en2ru('a cat'),'кот')"
   ]
  },
  {
   "cell_type": "code",
   "execution_count": 6,
   "metadata": {},
   "outputs": [
    {
     "name": "stdout",
     "output_type": "stream",
     "text": [
      "OK\n"
     ]
    }
   ],
   "source": [
    "test(en2ru('rat'),'крыса')"
   ]
  },
  {
   "cell_type": "code",
   "execution_count": 7,
   "metadata": {},
   "outputs": [
    {
     "name": "stdout",
     "output_type": "stream",
     "text": [
      "OK\n"
     ]
    }
   ],
   "source": [
    "test(en2ru('bat'),'летучая мышь')"
   ]
  },
  {
   "cell_type": "code",
   "execution_count": 8,
   "metadata": {},
   "outputs": [
    {
     "name": "stdout",
     "output_type": "stream",
     "text": [
      "OK\n"
     ]
    }
   ],
   "source": [
    "test(en2ru('a'),'')"
   ]
  },
  {
   "cell_type": "code",
   "execution_count": 9,
   "metadata": {},
   "outputs": [
    {
     "name": "stdout",
     "output_type": "stream",
     "text": [
      "OK\n"
     ]
    }
   ],
   "source": [
    "test(en2ru('lesson'),'урок')"
   ]
  },
  {
   "cell_type": "code",
   "execution_count": 10,
   "metadata": {},
   "outputs": [
    {
     "name": "stdout",
     "output_type": "stream",
     "text": [
      "OK\n"
     ]
    }
   ],
   "source": [
    "test(en2ru('_Cat and cat'),'_Кот и кот')"
   ]
  },
  {
   "cell_type": "code",
   "execution_count": 11,
   "metadata": {
    "scrolled": true
   },
   "outputs": [
    {
     "name": "stdout",
     "output_type": "stream",
     "text": [
      "OK\n"
     ]
    }
   ],
   "source": [
    "test(en2ru('_a cat and cat'),'_кот и кот')"
   ]
  },
  {
   "cell_type": "code",
   "execution_count": 12,
   "metadata": {
    "scrolled": false
   },
   "outputs": [
    {
     "name": "stdout",
     "output_type": "stream",
     "text": [
      "OK\n"
     ]
    }
   ],
   "source": [
    "test(en2ru('_a cat , cat'),'_кот, кот')"
   ]
  },
  {
   "cell_type": "code",
   "execution_count": 13,
   "metadata": {
    "scrolled": false
   },
   "outputs": [
    {
     "name": "stdout",
     "output_type": "stream",
     "text": [
      "OK\n"
     ]
    }
   ],
   "source": [
    "x=p_noun(tokenize('_a cat, cat'),0)[0][1]\n",
    "test(str(x),'_кот, кот')"
   ]
  },
  {
   "cell_type": "code",
   "execution_count": 14,
   "metadata": {},
   "outputs": [
    {
     "name": "stdout",
     "output_type": "stream",
     "text": [
      "OK\n"
     ]
    }
   ],
   "source": [
    "s=tokenize('_a cat, cat')\n",
    "rezs=p_seq(s,0,[ p_noun1, word(',')  , p_noun ],r_noun_comma_noun)\n",
    "test(str(rezs[0][1]),'_кот, кот')"
   ]
  },
  {
   "cell_type": "code",
   "execution_count": 15,
   "metadata": {
    "scrolled": true
   },
   "outputs": [
    {
     "name": "stdout",
     "output_type": "stream",
     "text": [
      "OK\n"
     ]
    }
   ],
   "source": [
    "test(str(p_noun(tokenize('cat,_cat,_a cat'),0)[0][1]),'кот,_кот,_кот')"
   ]
  },
  {
   "cell_type": "code",
   "execution_count": 16,
   "metadata": {
    "scrolled": false
   },
   "outputs": [
    {
     "name": "stdout",
     "output_type": "stream",
     "text": [
      "OK\n"
     ]
    }
   ],
   "source": [
    "test(SAttrs.join(tokenize('cat,_cat,_a cat')),'cat,_cat,_a cat')"
   ]
  },
  {
   "cell_type": "code",
   "execution_count": 17,
   "metadata": {},
   "outputs": [
    {
     "name": "stdout",
     "output_type": "stream",
     "text": [
      "OK\n"
     ]
    }
   ],
   "source": [
    "test(en2ru('rat, cat'),'крыса, кот')"
   ]
  },
  {
   "cell_type": "markdown",
   "metadata": {},
   "source": [
    "## Lesson 2"
   ]
  },
  {
   "cell_type": "code",
   "execution_count": 18,
   "metadata": {
    "scrolled": true
   },
   "outputs": [
    {
     "name": "stdout",
     "output_type": "stream",
     "text": [
      "OK\n"
     ]
    }
   ],
   "source": [
    "test(en2ru('cat AND_Rat'),'кот И_Крыса')"
   ]
  },
  {
   "cell_type": "code",
   "execution_count": 19,
   "metadata": {},
   "outputs": [
    {
     "name": "stdout",
     "output_type": "stream",
     "text": [
      "OK\n"
     ]
    }
   ],
   "source": [
    "test(en2ru('a pen and a hen'),'ручка и курица')"
   ]
  },
  {
   "cell_type": "code",
   "execution_count": 20,
   "metadata": {},
   "outputs": [
    {
     "name": "stdout",
     "output_type": "stream",
     "text": [
      "OK\n"
     ]
    }
   ],
   "source": [
    "test(en2ru('a bat and a cat'),'летучая мышь и кот')"
   ]
  },
  {
   "cell_type": "code",
   "execution_count": 21,
   "metadata": {
    "scrolled": false
   },
   "outputs": [
    {
     "name": "stdout",
     "output_type": "stream",
     "text": [
      "OK\n"
     ]
    }
   ],
   "source": [
    "test(en2ru('a hen, a bat, a cat and a rat'),'курица, летучая мышь, кот и крыса')"
   ]
  },
  {
   "cell_type": "markdown",
   "metadata": {},
   "source": [
    "## Lesson 3"
   ]
  },
  {
   "cell_type": "code",
   "execution_count": 22,
   "metadata": {},
   "outputs": [
    {
     "name": "stdout",
     "output_type": "stream",
     "text": [
      "OK\n"
     ]
    }
   ],
   "source": [
    "test(en2ru('one'),'один')"
   ]
  },
  {
   "cell_type": "code",
   "execution_count": 23,
   "metadata": {},
   "outputs": [
    {
     "name": "stdout",
     "output_type": "stream",
     "text": [
      "OK\n"
     ]
    }
   ],
   "source": [
    "test(en2ru('a bat, a dog and a pig'),'летучая мышь, собака и свинья')"
   ]
  },
  {
   "cell_type": "code",
   "execution_count": 24,
   "metadata": {},
   "outputs": [
    {
     "name": "stdout",
     "output_type": "stream",
     "text": [
      "OK\n"
     ]
    }
   ],
   "source": [
    "test(en2ru('one dog'),'одна собака')"
   ]
  },
  {
   "cell_type": "code",
   "execution_count": 25,
   "metadata": {},
   "outputs": [
    {
     "name": "stdout",
     "output_type": "stream",
     "text": [
      "OK\n"
     ]
    }
   ],
   "source": [
    "test(en2ru('three dogs'),'три собаки')"
   ]
  },
  {
   "cell_type": "code",
   "execution_count": 26,
   "metadata": {},
   "outputs": [
    {
     "name": "stdout",
     "output_type": "stream",
     "text": [
      "OK\n"
     ]
    }
   ],
   "source": [
    "test(decline('rat and cat'),\n",
    "['крыса и кот',\n",
    " 'нет крысы и кота',\n",
    " 'дать крысе и коту',\n",
    " 'вижу крысу и кота',\n",
    " 'творю крысой и котом',\n",
    " 'думаю о крысе и коте'])"
   ]
  },
  {
   "cell_type": "code",
   "execution_count": 27,
   "metadata": {
    "scrolled": true
   },
   "outputs": [
    {
     "name": "stdout",
     "output_type": "stream",
     "text": [
      "OK\n"
     ]
    }
   ],
   "source": [
    "test(decline('one bat and three cups'),\n",
    "['одна летучая мышь и три чашки',\n",
    "'нет одной летучей мыши и трёх чашек',\n",
    "'дать одной летучей мыши и трём чашкам',\n",
    "'вижу одну летучую мышь и три чашки',\n",
    "'творю одной летучей мышью и тремя чашками',\n",
    "'думаю о одной летучей мыши и трёх чашках'])"
   ]
  },
  {
   "cell_type": "code",
   "execution_count": 28,
   "metadata": {},
   "outputs": [
    {
     "name": "stdout",
     "output_type": "stream",
     "text": [
      "OK\n"
     ]
    }
   ],
   "source": [
    "test(en2ru('one bat and three cups'),'одна летучая мышь и три чашки')"
   ]
  },
  {
   "cell_type": "code",
   "execution_count": 29,
   "metadata": {},
   "outputs": [
    {
     "name": "stdout",
     "output_type": "stream",
     "text": [
      "OK\n"
     ]
    }
   ],
   "source": [
    "test(decline('one, two, three, four, five'),[\n",
    "    'один, два, три, четыре, пять',\n",
    "    'нет одного, двух, трёх, четырёх, пяти',\n",
    "    'дать одному, двум, трём, четырём, пяти',\n",
    "    'вижу один, два, три, четыре, пять',\n",
    "    'творю одним, двумя, тремя, четырьмя, пятью',\n",
    "    'думаю о одном, двух, трёх, четырёх, пяти',])"
   ]
  },
  {
   "cell_type": "code",
   "execution_count": 30,
   "metadata": {},
   "outputs": [
    {
     "name": "stdout",
     "output_type": "stream",
     "text": [
      "OK\n"
     ]
    }
   ],
   "source": [
    "test(decline('cat, one cat, cats, two cats, three cats, five cats'),[\n",
    "    'кот, один кот, коты, два кота, три кота, пять котов',\n",
    "    'нет кота, одного кота, котов, двух котов, трёх котов, пяти котов',\n",
    "    'дать коту, одному коту, котам, двум котам, трём котам, пяти котам',\n",
    "    'вижу кота, одного кота, котов, двух котов, трёх котов, пять котов',\n",
    "    'творю котом, одним котом, котами, двумя котами, тремя котами, пятью котами',\n",
    "    'думаю о коте, одном коте, котах, двух котах, трёх котах, пяти котах',\n",
    "])"
   ]
  },
  {
   "cell_type": "code",
   "execution_count": 31,
   "metadata": {},
   "outputs": [
    {
     "name": "stdout",
     "output_type": "stream",
     "text": [
      "OK\n"
     ]
    }
   ],
   "source": [
    "test(decline('lesson, one lesson, lessons, two lessons, three lessons, five lessons'),[\n",
    "    'урок, один урок, уроки, два урока, три урока, пять уроков',\n",
    "    'нет урока, одного урока, уроков, двух уроков, трёх уроков, пяти уроков',\n",
    "    'дать уроку, одному уроку, урокам, двум урокам, трём урокам, пяти урокам',\n",
    "    'вижу урок, один урок, уроки, два урока, три урока, пять уроков',\n",
    "    'творю уроком, одним уроком, уроками, двумя уроками, тремя уроками, пятью уроками',\n",
    "    'думаю о уроке, одном уроке, уроках, двух уроках, трёх уроках, пяти уроках',\n",
    "])"
   ]
  },
  {
   "cell_type": "code",
   "execution_count": 32,
   "metadata": {},
   "outputs": [
    {
     "name": "stdout",
     "output_type": "stream",
     "text": [
      "OK\n"
     ]
    }
   ],
   "source": [
    "test(decline('rat, one rat, rats, two rats, three rats, five rats'),[\n",
    "    'крыса, одна крыса, крысы, две крысы, три крысы, пять крыс',\n",
    "    'нет крысы, одной крысы, крыс, двух крыс, трёх крыс, пяти крыс',\n",
    "    'дать крысе, одной крысе, крысам, двум крысам, трём крысам, пяти крысам',\n",
    "    'вижу крысу, одну крысу, крыс, двух крыс, трёх крыс, пять крыс',\n",
    "    'творю крысой, одной крысой, крысами, двумя крысами, тремя крысами, пятью крысами',\n",
    "    'думаю о крысе, одной крысе, крысах, двух крысах, трёх крысах, пяти крысах',\n",
    "])"
   ]
  },
  {
   "cell_type": "code",
   "execution_count": 33,
   "metadata": {},
   "outputs": [
    {
     "name": "stdout",
     "output_type": "stream",
     "text": [
      "OK\n"
     ]
    }
   ],
   "source": [
    "test(decline('child, one child, children, two children, three children, five children'),\n",
    "['ребёнок, один ребёнок, дети, два ребёнка, три ребёнка, пять детей',\n",
    "'нет ребёнка, одного ребёнка, детей, двух детей, трёх детей, пяти детей',\n",
    "'дать ребёнку, одному ребёнку, детям, двум детям, трём детям, пяти детям',\n",
    "'вижу ребёнка, одного ребёнка, детей, двух детей, трёх детей, пять детей',\n",
    "'творю ребёнком, одним ребёнком, детьми, двумя детьми, тремя детьми, пятью детьми',\n",
    "'думаю о ребёнке, одном ребёнке, детях, двух детях, трёх детях, пяти детях'])"
   ]
  },
  {
   "cell_type": "markdown",
   "metadata": {},
   "source": [
    "## Lesson 4"
   ]
  },
  {
   "cell_type": "code",
   "execution_count": 34,
   "metadata": {
    "scrolled": true
   },
   "outputs": [
    {
     "name": "stdout",
     "output_type": "stream",
     "text": [
      "OK\n"
     ]
    }
   ],
   "source": [
    "test(en2ru(\n",
    "'''  A hat, a cup and a box.\n",
    "A bat, a hen and a fox.'''),\n",
    "'''  Шляпа, чашка и ящик.\n",
    "Летучая мышь, курица и лиса.''')"
   ]
  },
  {
   "cell_type": "code",
   "execution_count": 35,
   "metadata": {},
   "outputs": [
    {
     "name": "stdout",
     "output_type": "stream",
     "text": [
      "OK\n"
     ]
    }
   ],
   "source": [
    "test(en2ru('I'),'я')"
   ]
  },
  {
   "cell_type": "code",
   "execution_count": 36,
   "metadata": {
    "scrolled": true
   },
   "outputs": [
    {
     "name": "stdout",
     "output_type": "stream",
     "text": [
      "OK\n"
     ]
    }
   ],
   "source": [
    "test(en2ru('to see'),'видеть')"
   ]
  },
  {
   "cell_type": "code",
   "execution_count": 37,
   "metadata": {},
   "outputs": [
    {
     "name": "stdout",
     "output_type": "stream",
     "text": [
      "OK\n"
     ]
    }
   ],
   "source": [
    "test(en2ru('I see'),'я вижу')"
   ]
  },
  {
   "cell_type": "code",
   "execution_count": 38,
   "metadata": {
    "scrolled": true
   },
   "outputs": [
    {
     "name": "stdout",
     "output_type": "stream",
     "text": [
      "OK\n"
     ]
    }
   ],
   "source": [
    "test(en2ru('see cat'),'видеть кота')"
   ]
  },
  {
   "cell_type": "code",
   "execution_count": 39,
   "metadata": {
    "scrolled": true
   },
   "outputs": [
    {
     "name": "stdout",
     "output_type": "stream",
     "text": [
      "OK\n"
     ]
    }
   ],
   "source": [
    "test(en2ru('''I see\n",
    "  a pig and a hen,\n",
    "  a dog and a gun,\n",
    "  a cat and a hat.'''),\n",
    "'''Я вижу\n",
    "  свинью и курицу,\n",
    "  собаку и ружьё,\n",
    "  кота и шляпу.''')"
   ]
  },
  {
   "cell_type": "code",
   "execution_count": 40,
   "metadata": {
    "scrolled": true
   },
   "outputs": [
    {
     "name": "stdout",
     "output_type": "stream",
     "text": [
      "OK\n"
     ]
    }
   ],
   "source": [
    "test(en2ru('I see one box, one hat and one cap'),\n",
    "     'я вижу один ящик, одну шляпу и одну кепку')"
   ]
  },
  {
   "cell_type": "code",
   "execution_count": 41,
   "metadata": {
    "scrolled": true
   },
   "outputs": [
    {
     "name": "stdout",
     "output_type": "stream",
     "text": [
      "OK\n"
     ]
    }
   ],
   "source": [
    "test(en2ru('I see jam and one cup'),\n",
    "    'я вижу джем и одну чашку')"
   ]
  },
  {
   "cell_type": "markdown",
   "metadata": {},
   "source": [
    "## Lesson 5"
   ]
  },
  {
   "cell_type": "code",
   "execution_count": 42,
   "metadata": {},
   "outputs": [
    {
     "name": "stdout",
     "output_type": "stream",
     "text": [
      "OK\n"
     ]
    }
   ],
   "source": [
    "test(en2ru('A vase and a cup'),'Ваза и чашка')"
   ]
  },
  {
   "cell_type": "code",
   "execution_count": 43,
   "metadata": {},
   "outputs": [
    {
     "name": "stdout",
     "output_type": "stream",
     "text": [
      "OK\n"
     ]
    }
   ],
   "source": [
    "test(en2ru('A kitten and a rat.'),'Котёнок и крыса.')"
   ]
  },
  {
   "cell_type": "code",
   "execution_count": 44,
   "metadata": {},
   "outputs": [
    {
     "name": "stdout",
     "output_type": "stream",
     "text": [
      "OK\n"
     ]
    }
   ],
   "source": [
    "test(en2ru('A gun and a star.'),'Ружьё и звезда.')"
   ]
  },
  {
   "cell_type": "code",
   "execution_count": 45,
   "metadata": {},
   "outputs": [
    {
     "name": "stdout",
     "output_type": "stream",
     "text": [
      "OK\n"
     ]
    }
   ],
   "source": [
    "test(en2ru('two lamps'),'две лампы')"
   ]
  },
  {
   "cell_type": "code",
   "execution_count": 46,
   "metadata": {
    "scrolled": false
   },
   "outputs": [
    {
     "name": "stdout",
     "output_type": "stream",
     "text": [
      "OK\n"
     ]
    }
   ],
   "source": [
    "test(en2ru('I see one dog and one cat.'),'Я вижу одну собаку и одного кота.')"
   ]
  },
  {
   "cell_type": "code",
   "execution_count": 47,
   "metadata": {
    "scrolled": true
   },
   "outputs": [
    {
     "name": "stdout",
     "output_type": "stream",
     "text": [
      "OK\n"
     ]
    }
   ],
   "source": [
    "test(en2ru('a wolf and a squirrel, zebras, boys'),'волк и белка, зебры, мальчики')"
   ]
  },
  {
   "cell_type": "code",
   "execution_count": 48,
   "metadata": {
    "scrolled": true
   },
   "outputs": [
    {
     "name": "stdout",
     "output_type": "stream",
     "text": [
      "OK\n"
     ]
    }
   ],
   "source": [
    "test(decline('six squirrels'),['шесть белок',\n",
    " 'нет шести белок',\n",
    " 'дать шести белкам',\n",
    " 'вижу шесть белок',\n",
    " 'творю шестью белками',\n",
    " 'думаю о шести белках'])"
   ]
  },
  {
   "cell_type": "markdown",
   "metadata": {},
   "source": [
    "## Result"
   ]
  },
  {
   "cell_type": "code",
   "execution_count": 49,
   "metadata": {},
   "outputs": [
    {
     "data": {
      "text/plain": [
       "0"
      ]
     },
     "execution_count": 49,
     "metadata": {},
     "output_type": "execute_result"
    }
   ],
   "source": [
    "len(TEST_ERRORS)"
   ]
  }
 ],
 "metadata": {
  "hide_input": false,
  "kernelspec": {
   "display_name": "Python 3",
   "language": "python",
   "name": "python3"
  },
  "language_info": {
   "codemirror_mode": {
    "name": "ipython",
    "version": 3
   },
   "file_extension": ".py",
   "mimetype": "text/x-python",
   "name": "python",
   "nbconvert_exporter": "python",
   "pygments_lexer": "ipython3",
   "version": "3.6.7"
  }
 },
 "nbformat": 4,
 "nbformat_minor": 2
}
