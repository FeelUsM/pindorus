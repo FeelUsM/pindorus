{
 "cells": [
  {
   "cell_type": "markdown",
   "metadata": {},
   "source": [
    "```\n",
    "p_паттерн парсит текст (str, pos), \n",
    "    вызывая другие паттерны, возвращающие древовидные структуры\n",
    "    эти древовидные структуры передает одному из правил\n",
    "        (остальные вызовы правил закомментированы \n",
    "            - в рамках одного текста каждый паттерн имеет ровно 1 смысл)\n",
    "    и возвращает (pos, результат этого правила), помещенный в массив\n",
    "    \n",
    "    /*пока на ошибках парсинга концентрировать не будем*/\n",
    "    если ничего не удалось распарсить, ???возвращаемый массив будет пустым???\n",
    "    если удалось распарсить несколько вариантов - в массиве будет насколько вариантов\n",
    "        сначала парсятся все исключения\n",
    "        потом парсятся все обычные варианты (если нет исключений)\n",
    "```\n",
    "\n",
    "```\n",
    "r_правило получает список древовидных структур\n",
    "    обрабатывает их по определенному правилу\n",
    "    возвращает древовидную структуру\n",
    "```\n",
    "\n",
    "```\n",
    "древовидная структура - map, со следующими ключами\n",
    "    type: 'noun'/'adj'/'verb'/'num'/... - определяем через isinstance()\n",
    "    постоянные параметры (для сущ.: род, число)\n",
    "    переменные параметры (для сущ.: падеж)\n",
    "    talk: массив древовидных структур\n",
    "        или пар (тип, слово), где тип - main/punct/other\n",
    "```\n",
    "\n",
    "```\n",
    "str(древовидная структура)\n",
    "    превращает древовидную структуру в строку\n",
    "```\n",
    "\n",
    "```\n",
    "для каждого типа элемента древовидной структуры будет map\n",
    "    где каждой строке (для сущ. - слово в и.п.) будет соответствовать\n",
    "        структура данных, которая вместе в переменными параметрами передается в \n",
    "        sh_функция для этого типа элемента древовидной структуры\n",
    "            которая будет возвращать слово в соотв. форме (для сущ. в соотв. падеже)\n",
    "```"
   ]
  },
  {
   "cell_type": "code",
   "execution_count": 1,
   "metadata": {
    "scrolled": true
   },
   "outputs": [],
   "source": [
    "from classes import *"
   ]
  },
  {
   "cell_type": "markdown",
   "metadata": {},
   "source": [
    "### Отображение"
   ]
  },
  {
   "cell_type": "code",
   "execution_count": 2,
   "metadata": {},
   "outputs": [],
   "source": [
    "def show_noun1(st,word,ip,rp,dp,vp,tp,pp):\n",
    "    if st.pad=='ip' : return word+ip\n",
    "    if st.pad=='rp' : return word+rp\n",
    "    if st.pad=='dp' : return word+dp\n",
    "    if st.pad=='vp' : return word+vp\n",
    "    if st.pad=='tp' : return word+tp\n",
    "    if st.pad=='pp' : return word+pp\n",
    "    raise RuntimeError()\n"
   ]
  },
  {
   "cell_type": "code",
   "execution_count": 3,
   "metadata": {},
   "outputs": [],
   "source": [
    "def show_num1(st,word,ends):\n",
    "    if st.chis=='mn' :\n",
    "        (ip,rp,dp,vp,tp,pp)=ends['mn']\n",
    "    else:\n",
    "        (ip,rp,dp,vp,tp,pp)=ends[st.rod]\n",
    "        \n",
    "    if   st.pad=='ip' : rez=ip\n",
    "    elif st.pad=='rp' : rez=rp\n",
    "    elif st.pad=='dp' : rez=dp\n",
    "    elif st.pad=='vp' : rez=vp[0] if st.odush else vp[1]\n",
    "    elif st.pad=='tp' : rez=tp\n",
    "    elif st.pad=='pp' : rez=pp\n",
    "    else: raise RuntimeError()\n",
    "        \n",
    "    return word+rez\n"
   ]
  },
  {
   "cell_type": "code",
   "execution_count": 4,
   "metadata": {},
   "outputs": [],
   "source": [
    "def show_adj1(st,word,ends):\n",
    "    if st.chis=='mn' :\n",
    "        (ip,rp,dp,vp,tp,pp,sh)=ends['mn']\n",
    "    else:\n",
    "        (ip,rp,dp,vp,tp,pp,sh)=ends[st.rod]\n",
    "        \n",
    "    if   st.pad=='ip' : rez=ip\n",
    "    elif st.pad=='rp' : rez=rp\n",
    "    elif st.pad=='dp' : rez=dp\n",
    "    elif st.pad=='vp' : rez=vp[0] if st.odush else vp[1]\n",
    "    elif st.pad=='tp' : rez=tp\n",
    "    elif st.pad=='pp' : rez=pp\n",
    "    elif st.pad=='sh' : rez=sh\n",
    "    else: raise RuntimeError()\n",
    "        \n",
    "    return word+rez\n"
   ]
  },
  {
   "cell_type": "code",
   "execution_count": 5,
   "metadata": {},
   "outputs": [],
   "source": [
    "#show_noun_map['я']=lambda st: show_noun1(st,\"\",\"я\",\"меня\",\"мне\",\"меня\",\"мной\",\"мне\")\n"
   ]
  },
  {
   "cell_type": "code",
   "execution_count": 6,
   "metadata": {
    "code_folding": []
   },
   "outputs": [],
   "source": [
    "show_adj_map['летучий'] =\\\n",
    "    lambda st: show_adj1(st,'летуч' ,\n",
    "        {\n",
    "            'm' :('ий','его','ему',('его','ий'),'им' ,'ем','' ),\n",
    "            's' :('ее','его','ему',('ий', 'ий'),'им' ,'ем','е'),\n",
    "            'g' :('ая','ей' ,'ей' ,('ую', 'ую'),'ей' ,'ей','а'),\n",
    "            'mn':('ие','их' ,'им' ,('их', 'ие'),'ими','их','и'),\n",
    "        }\n",
    "    )"
   ]
  },
  {
   "cell_type": "code",
   "execution_count": 7,
   "metadata": {
    "code_folding": []
   },
   "outputs": [],
   "source": [
    "show_num_map['один']=\\\n",
    "    lambda st: show_num1(st,'од' ,\n",
    "        {\n",
    "            'm' :('ин','ного','ному',('ного','ин'),'ним' ,'ном'),\n",
    "            's' :('но','ного','ному',('но'  ,'но'),'ним' ,'ном'),\n",
    "            'g' :('на','ной' ,'ной' ,('ну'  ,'ну'),'ной' ,'ной'),\n",
    "            'mn':('ни','них' ,'ним' ,('них', 'ни'),'ними','них'),\n",
    "        }\n",
    "    )\n",
    "show_num_map['два']=\\\n",
    "    (lambda st: \\\n",
    "        (\"две\" if st.rod=='g' else \"два\")                         if st.pad=='ip' else \\\n",
    "        \"двух\"                                                    if st.pad=='rp' else \\\n",
    "        \"двум\"                                                    if st.pad=='dp' else \\\n",
    "        (\"двух\" if st.odush else \"две\" if st.rod=='g' else \"два\") if st.pad=='vp' else \\\n",
    "        \"двумя\"                                                   if st.pad=='tp' else \\\n",
    "        \"двух\"                                                    if st.pad=='pp' else \\\n",
    "        throw(RuntimeError('unknown pad: '+st.pad))\n",
    "    )\n",
    "show_num_map['три']=\\\n",
    "    lambda st: show_num1(st,'тр' ,\n",
    "        {   'mn':('и','ёх' ,'ём' ,('ёх', 'и'),'емя','ёх'), }    )\n",
    "show_num_map['четыре']=\\\n",
    "    lambda st: show_num1(st,'четыр' ,\n",
    "        {   'mn':('е','ёх' ,'ём' ,('ёх', 'е'),'ьмя','ёх'), }    )\n",
    "show_num_map['пять']=\\\n",
    "    lambda st: show_num1(st,'пят' ,\n",
    "        {   'mn':('ь','и' ,'и' ,('ь', 'ь'),'ью','и'), }    )\n",
    "show_num_map['шесть']=\\\n",
    "    lambda st: show_num1(st,'шест' ,\n",
    "        {   'mn':('ь','и' ,'и' ,('ь', 'ь'),'ью','и'), }    )\n",
    "\n",
    "def show_verb1(st,word,end_map):\n",
    "    if st.form=='neopr' or st.form=='povel':\n",
    "        end = end_map[st.form]\n",
    "    else:\n",
    "        (i,you,he,shi,it,we,yous,they)=end_map[st.form]\n",
    "        if   (st.pers,st.chis)==(1,'ed'):\n",
    "            end = i\n",
    "        elif (st.pers,st.chis)==(2,'ed'):\n",
    "            end = you\n",
    "        elif (st.pers,st.chis)==(3,'ed'):\n",
    "            if   st.rod=='m' : end=he\n",
    "            elif st.rod=='g' : end=she\n",
    "            elif st.rod=='s' : end=it\n",
    "        elif (st.pers,st.chis)==(1,'mn'):\n",
    "            end = we\n",
    "        elif (st.pers,st.chis)==(2,'mn'):\n",
    "            end = yous\n",
    "        elif (st.pers,st.chis)==(3,'mn'):\n",
    "            end = they\n",
    "    return word+end\n",
    "\n",
    "show_verb_map['видеть']=\\\n",
    "    lambda st: show_verb1(st,'ви',\n",
    "        {    'neopr':\"деть\",\n",
    "             'povel':\"дь\",\n",
    "             'nast': (\"жу\",\"дишь\",\"дит\",\"дит\",\"дит\",\"дим\",\"дите\",\"дят\")\n",
    "        }   )"
   ]
  },
  {
   "cell_type": "markdown",
   "metadata": {},
   "source": [
    "### Правила Словарь"
   ]
  },
  {
   "cell_type": "code",
   "execution_count": 8,
   "metadata": {
    "code_folding": []
   },
   "outputs": [],
   "source": [
    "ruwords={} #какие-то однословные правила складываются сюда, а какие-то остаются в функциях\n",
    "\n",
    "def add_runoun(name,och,odush,rod,chis,word,ip,rp,dp,vp,tp,pp):\n",
    "    ruwords[name]=StNoun(name,och,odush,rod,chis,'ip')\n",
    "    show_noun_map[name]=lambda st: show_noun1(st,word,ip,rp,dp,vp,tp,pp)\n",
    "\n",
    "def add_runoun2(name,rod,word,ip,rp,dp,vp,tp,pp,\\\n",
    "               mname,odush,mword,mip,mrp,mdp,mvp,mtp,mpp):\n",
    "    add_runoun(name,mname,odush,rod,'ed',word,ip,rp,dp,vp,tp,pp)\n",
    "    add_runoun(mname,name,odush,rod,'mn',mword,mip,mrp,mdp,mvp,mtp,mpp)\n"
   ]
  },
  {
   "cell_type": "code",
   "execution_count": 9,
   "metadata": {
    "code_folding": []
   },
   "outputs": [],
   "source": [
    "ruwords[\"я (муж)\"]=StProNoun(\"я\",\"мы\",1,True,'m','ed','ip')\n",
    "ruwords[\"я (жен)\"]=StProNoun(\"я\",\"мы\",1,True,'g','ed','ip')\n",
    "show_noun_map[\"я\"]=lambda st: show_noun1(st,'',\"я\",\"меня\",\"мне\",\"меня\",\"мной\",\"мне\")\n",
    "\n",
    "#                                  ип ,нет ,дать,вижу,творю,думаю\n",
    "add_runoun2(\"кот\"   ,'m'  ,'кот'  ,'' ,'а' ,'у' ,'а' ,'ом' ,'е' ,\n",
    "            \"коты\"  ,True ,'кот'  ,'ы','ов','ам','ов','ами','ах')\n",
    "\n",
    "add_runoun2(\"волк\"   ,'m'  ,'волк'   ,'' ,'а' ,'у' ,'а' ,'ом' ,'е' ,\n",
    "            \"волки\"  ,True ,'волк'   ,'и','ов','ам','ов','ами','ах')\n",
    "add_runoun2(\"мальчик\",'m'  ,'мальчик','' ,'а' ,'у' ,'а' ,'ом' ,'е' ,\n",
    "            \"мальчики\",True,'мальчик','и','ов','ам','ов','ами','ах')\n",
    "\n",
    "add_runoun2(\"джем\"  ,'m'  ,'джем' ,'' ,'а' ,'у' ,''  ,'ом' ,'е' ,\n",
    "            \"джемы\" ,False,'джем' ,'ы','ов','ам','ы' ,'ами','ах')\n",
    "\n",
    "add_runoun2(\"ящик\"  ,'m'  ,'ящик' ,'' ,'а' ,'у' ,''  ,'ом' ,'е' ,\n",
    "            \"ящики\" ,False,'ящик' ,'и','ов','ам','и' ,'ами','ах')\n",
    "add_runoun2(\"урок\"  ,'m'  ,'урок' ,'' ,'а' ,'у' ,''  ,'ом' ,'е' ,\n",
    "            \"уроки\" ,False,'урок' ,'и','ов','ам','и' ,'ами','ах')\n",
    "\n",
    "add_runoun2(\"кошка\" ,'g'  ,'кошк' ,'а' ,'и' ,'е'  ,'у' ,'ой'  ,'е'  ,\n",
    "            \"кошки\" ,True ,'кош'  ,'ки','ек','кам','ек','ками','ках')\n",
    "\n",
    "add_runoun2(\"белка\" ,'g'  ,'белк' ,'а' ,'и' ,'е'  ,'у' ,'ой'  ,'е'  ,\n",
    "            \"белки\" ,True ,'бел'  ,'ки','ок','кам','ок','ками','ках')\n",
    "\n",
    "add_runoun2(\"собака\",'g'  ,'собак','а' ,'и' ,'е'  ,'у'  ,'ой' ,'е' ,\n",
    "            \"собаки\",True ,'собак','и' ,''  ,'ам' ,''   ,'ами','ах')\n",
    "\n",
    "add_runoun2(\"зебра\",'g'   ,'зебр' ,'а' ,'ы' ,'е'  ,'у'  ,'ой' ,'е' ,\n",
    "            \"зебры\",True  ,'зебр' ,'ы' ,''  ,'ам' ,''   ,'ами','ах')\n",
    "\n",
    "add_runoun2(\"ручка\" ,'g'  ,'ручк' ,'а' ,'и' ,'е'  ,'у'  ,'ой' ,'е'  ,\n",
    "            \"ручки\" ,False,'руч'  ,'ки','ек','кам','ки','ками','ках')\n",
    "add_runoun2(\"чашка\" ,'g'  ,'чашк' ,'а' ,'и' ,'е'  ,'у' ,'ой'  ,'е'  ,\n",
    "            \"чашки\" ,False,'чаш'  ,'ки','ек','кам','ки','ками','ках')\n",
    "\n",
    "add_runoun2(\"кепка\"  ,'g'  ,'кепк'  ,'а' ,'и' ,'е'  ,'у' ,'ой'  ,'е'  ,\n",
    "            \"кепки\"  ,False,'кеп'   ,'ки','ок','кам','ки','ками','ках')\n",
    "add_runoun2(\"шапка\"  ,'g'  ,'шапк'  ,'а' ,'и' ,'е'  ,'у' ,'ой'  ,'е'  ,\n",
    "            \"шапки\"  ,False,'шап'   ,'ки','ок','кам','ки','ками','ках')\n",
    "add_runoun2(\"коробка\",'g'  ,'коробк','а' ,'и' ,'е'  ,'у' ,'ой'  ,'е'  ,\n",
    "            \"коробки\",False,'короб' ,'ки','ок','кам','ки','ками','ках')\n",
    "\n",
    "add_runoun2(\"крыса\" ,'g'  ,'крыс' ,'а','ы','е' ,'у' ,'ой' ,'е' ,\n",
    "            \"крысы\" ,True ,'крыс' ,'ы','' ,'ам',''  ,'ами','ах')\n",
    "add_runoun2(\"курица\",'g'  ,'куриц','а','ы','е' ,'у' ,'ой' ,'е' ,\n",
    "            \"курицы\",True ,'куриц','ы','' ,'ам',''  ,'ами','ах')\n",
    "add_runoun2(\"лиса\"  ,'g'  ,'лис'  ,'а','ы','е' ,'у' ,'ой' ,'е' ,\n",
    "            \"лисы\"  ,True ,'лис'  ,'ы','' ,'ам',''  ,'ами','ах')\n",
    "    \n",
    "add_runoun2(\"шляпа\" ,'g'  ,'шляп' ,'а','ы','е' ,'у' ,'ой' ,'е' ,\n",
    "            \"шляпы\" ,False,'шляп' ,'ы','' ,'ам','ы' ,'ами','ах')\n",
    "add_runoun2(\"ваза\"  ,'g'  ,'ваз'  ,'а','ы','е' ,'у' ,'ой' ,'е' ,\n",
    "            \"вазы\"  ,False,'ваз'  ,'ы','' ,'ам','ы' ,'ами','ах')\n",
    "add_runoun2(\"лампа\" ,'g'  ,'ламп' ,'а','ы','е' ,'у' ,'ой' ,'е' ,\n",
    "            \"лампы\" ,False,'ламп' ,'ы','' ,'ам','ы' ,'ами','ах')\n",
    "add_runoun2(\"звезда\",'g'  ,'звезд','а','ы','е' ,'у' ,'ой' ,'е' ,\n",
    "            \"звёзды\",False,'звёзд','ы','' ,'ам','ы' ,'ами','ах')\n",
    "\n",
    "add_runoun2(\"свинья\",'g'  ,'свинь','я' ,'и' ,'е'  ,'ю' ,'ёй'  ,'е'  ,\n",
    "            \"свиньи\",True ,'свин' ,'ьи','ей','ьям','ей','ьями','ьях')\n",
    "\n",
    "add_runoun2(\"мышь\"   ,'g'  ,'мыш'   ,'ь','и' ,'и' ,'ь' ,'ью' ,'и' ,\n",
    "            \"мыши\"   ,True ,'мыш'   ,'и','ей','ам','ей','ами','ах')\n",
    "\n",
    "add_runoun2(\"кровать\",'g'  ,'кроват','ь','и' ,'и' ,'ь' ,'ью' ,'и' ,\n",
    "            \"кровати\",False,'кроват','и','ей','ям','и' ,'ями','ях')\n",
    "\n",
    "add_runoun2(\"ружьё\"  ,'s'  ,'ружь'  ,'ё' ,'я' ,'ю'  ,'ё' ,'ём'  ,'е'  ,\n",
    "            \"ружья\"  ,False,'руж'   ,'ья','ей','ьям','ьи','ьями','ьях')\n",
    "\n",
    "add_runoun2(\"вареньё\",'s'  ,'варень','е' ,'я' ,'ю'  ,'е' ,'ем' ,'е' ,\n",
    "            \"варенья\",False,'варен' ,'ья','ий','ьям','ья','ьями','ьях')\n",
    "\n",
    "add_runoun2(\"ребёнок\",'m'  ,'ребён','ок' ,'ка' ,'ку'  ,'ка' ,'ком' ,'ке' ,\n",
    "            \"дети\"   ,True ,'дет'  ,'и'  ,'ей' ,'ям'  ,'ей' ,'ьми' ,'ях' )\n",
    "\n",
    "add_runoun2(\"котёнок\",'m'  ,'котён','ок' ,'ка' ,'ку'  ,'ка' ,'ком' ,'ке' ,\n",
    "            \"котята\" ,True ,'котят','а'  ,''   ,'ам'  ,''   ,'ами' ,'ах')\n",
    "\n",
    "add_runoun('часы (предмет)',None,False,'m','mn','час','ы','ов','ам','ы','ами','ах')\n"
   ]
  },
  {
   "cell_type": "code",
   "execution_count": 10,
   "metadata": {},
   "outputs": [],
   "source": [
    "def r_letuchij(): return StAdj('летучий',True,'g','ed','ip')\n",
    "\n",
    "def r_odin(): return StNum('один','1',False,'m','ed','ip')\n",
    "def r_dva(): return StNum('два','2-4',False,'m','mn','ip')\n",
    "def r_tri(): return StNum('три','2-4',False,'m','mn','ip')\n",
    "def r_chetyre(): return StNum('четыре','2-4',False,'m','mn','ip')\n",
    "def r_pyat(): return StNum('пять','>=5',False,'m','mn','ip')\n",
    "def r_shest(): return StNum('шесть','>=5',False,'m','mn','ip')\n",
    "\n",
    "#(self,word,oasp=0,asp=None,form=None,rod=0,chis=0,pers=0)\n",
    "def r_videt(): return StVerb('видеть',\"увидеть\",'nesov','neopr',None,None,None)"
   ]
  },
  {
   "cell_type": "markdown",
   "metadata": {},
   "source": [
    "### Паттерны Словарь"
   ]
  },
  {
   "cell_type": "markdown",
   "metadata": {},
   "source": [
    "### Правила Составные"
   ]
  },
  {
   "cell_type": "code",
   "execution_count": 11,
   "metadata": {},
   "outputs": [],
   "source": [
    "def M(obj,**kvargs):\n",
    "    for k,v in kvargs.items():\n",
    "        setattr(obj,k,v)\n",
    "    return obj\n"
   ]
  },
  {
   "cell_type": "code",
   "execution_count": 12,
   "metadata": {
    "code_folding": []
   },
   "outputs": [],
   "source": [
    "def r_noun_and_noun(sn,a,n):\n",
    "    return StNoun([\n",
    "        I(dep=sn),\n",
    "        I(nodep=S('и',a.attrs)),\n",
    "        I(dep=n)\n",
    "    ],c='mn', p='ip',o=False,r='m')\n",
    "def r_noun_comma_noun(sn,c,n):\n",
    "    return StNoun([\n",
    "        I(dep=sn),\n",
    "        I(punct=S(',',c.attrs)),\n",
    "        I(dep=n)\n",
    "    ],c='mn', p='ip',o=False,r='m')\n"
   ]
  },
  {
   "cell_type": "code",
   "execution_count": 13,
   "metadata": {
    "code_folding": []
   },
   "outputs": [],
   "source": [
    "def r_a_noun(a,n): \n",
    "    return SAttrs.to_right(a,n)\n",
    "\n",
    "def r_adj_noun(a,n): \n",
    "    return StNoun([\n",
    "        I(dep=a),\n",
    "        I(maindep=n)\n",
    "    ])\n"
   ]
  },
  {
   "cell_type": "code",
   "execution_count": 14,
   "metadata": {
    "code_folding": []
   },
   "outputs": [],
   "source": [
    "def r_numeral_noun(num,n):\n",
    "    if num.chis!=n.chis :\n",
    "        print('не совпадают числа числ. и сущ.:',str(num),str(n))\n",
    "    return StNum([\n",
    "        I(quantity=num,\n",
    "            chis=n.chis,\n",
    "            rod=n.rod,\n",
    "            odush=n.odush),\n",
    "        I(maindep=n)\n",
    "    ],quantity=num.quantity)\n",
    "\n",
    "def r_noun_numeral(n,num):\n",
    "    return StNoun([\n",
    "        I(maindep=n),\n",
    "        I(nomer=num)\n",
    "    ])\n"
   ]
  },
  {
   "cell_type": "code",
   "execution_count": 15,
   "metadata": {},
   "outputs": [],
   "source": [
    "def r_to_verb(t,v): \n",
    "    return SAttrs.to_right(t,v)\n",
    "\n",
    "def r_noun_verb(n,v): \n",
    "    return StVerb([\n",
    "        I(ip=n),\n",
    "        I(main=v,\n",
    "            form='nast',\n",
    "            pers=n.pers,\n",
    "            chis=n.chis,\n",
    "            rod=n.rod)\n",
    "    ])\n",
    "def r_verb_noun(v,n): \n",
    "    return StVerb([\n",
    "        I(maindep=v),\n",
    "        I(ip=n,\n",
    "            pad='vp')\n",
    "    ])"
   ]
  },
  {
   "cell_type": "code",
   "execution_count": 16,
   "metadata": {
    "code_folding": []
   },
   "outputs": [],
   "source": [
    "dict_adj={\n",
    "    'a' : S(''),\n",
    "    #'a' : r_nekotoryj(),\n",
    "    'an' : S(''),\n",
    "    #'an' : r_nekotoryj(),\n",
    "}"
   ]
  },
  {
   "cell_type": "code",
   "execution_count": 17,
   "metadata": {
    "code_folding": []
   },
   "outputs": [],
   "source": [
    "dict_noun={\n",
    "    #'cat':   ruwords[\"кошка\"],\n",
    "    'cat':   ruwords[\"кот\"],\n",
    "    #'cats':   ruwords[\"кошки\"],\n",
    "    'cats':   ruwords[\"коты\"],\n",
    "    \n",
    "    #'rat':   ruwords[\"мышь\"],\n",
    "    'rat':   ruwords['крыса'],\n",
    "    #'rats':   ruwords[\"мыши\"],\n",
    "    'rats':   ruwords['крысы'],\n",
    "    \n",
    "    'bat':   r_adj_noun(deepcopy(r_letuchij()),deepcopy(ruwords[\"мышь\"])),\n",
    "    'bats':   r_adj_noun(deepcopy(r_letuchij()),deepcopy(ruwords[\"мыши\"])),\n",
    "    \n",
    "    'lesson':ruwords[\"урок\"],\n",
    "    'lessons':ruwords[\"уроки\"],\n",
    "    \n",
    "    'cap':   ruwords[\"кепка\"],\n",
    "    #'cap':  ruwords[\"шапка\"],\n",
    "    'caps':   ruwords[\"кепки\"],\n",
    "    #'caps':  ruwords[\"шапки\"],\n",
    "    \n",
    "    'pen':   ruwords[\"ручка\"],\n",
    "    'pens':   ruwords[\"ручки\"],\n",
    "    \n",
    "    'hat':   ruwords[\"шляпа\"],\n",
    "    'hats':   ruwords[\"шляпы\"],\n",
    "    \n",
    "    'hen':   ruwords[\"курица\"],\n",
    "    'hens':   ruwords[\"курицы\"],\n",
    "    \n",
    "    'dog':   ruwords['собака'],\n",
    "    'dogs':   ruwords['собаки'],\n",
    "    'pig':   ruwords['свинья'],\n",
    "    'pigs':   ruwords['свиньи'],\n",
    "    'gun':   ruwords['ружьё'],\n",
    "    'guns':   ruwords['ружья'],\n",
    "    'cup':   ruwords['чашка'],\n",
    "    'cups':   ruwords['чашки'],\n",
    "    \n",
    "    #'box':   ruwords['коробка'],\n",
    "    #'boxes':   ruwords['коробки'],\n",
    "    'box':   ruwords['ящик'],\n",
    "    'boxes':   ruwords['ящики'],\n",
    "\n",
    "    'jam':   ruwords['джем'],\n",
    "    #'jam':   ruwords['варенье'],\n",
    "\n",
    "    'bed':   ruwords['кровать'],\n",
    "    'beds':   ruwords['кровати'],\n",
    "\n",
    "    'fox':   ruwords['лиса'],\n",
    "    'foxes':   ruwords['лисы'],\n",
    "    \n",
    "    'child': ruwords['ребёнок'],\n",
    "    'children': ruwords['дети'],\n",
    "\n",
    "    'kitten': ruwords['котёнок'],\n",
    "    'kittens': ruwords['котята'],\n",
    "    'vase': ruwords['ваза'],\n",
    "    'vases': ruwords['вазы'],\n",
    "    'star': ruwords['звезда'],\n",
    "    'stars': ruwords['звёзды'],\n",
    "    'lamp': ruwords['лампа'],\n",
    "    'lamps': ruwords['лампы'],\n",
    "    \n",
    "    'squirrel': ruwords['белка'],\n",
    "    'squirrels': ruwords['белки'],\n",
    "    'wolf': ruwords['волк'],\n",
    "    'wolfs': ruwords['волки'],\n",
    "    'zebra': ruwords['зебра'],\n",
    "    'zebras': ruwords['зебры'],\n",
    "    'boy': ruwords['мальчик'],\n",
    "    'boys': ruwords['мальчики'],\n",
    "#    'boy': ruwords['парень'],\n",
    "#    'boy': ruwords['парни'],\n",
    "\n",
    "    'watch': ruwords['часы (предмет)']\n",
    "}"
   ]
  },
  {
   "cell_type": "code",
   "execution_count": 18,
   "metadata": {},
   "outputs": [],
   "source": [
    "dict_pronoun_ip={\n",
    "    'I': ruwords[\"я (муж)\"],\n",
    "    #'I': ruwords[\"я (жен)\"],\n",
    "}\n",
    "dict_pronoun_vp={\n",
    "    'me': ruwords[\"я (муж)\"],\n",
    "    #'I': ruwords[\"я (жен)\"],\n",
    "}\n"
   ]
  },
  {
   "cell_type": "code",
   "execution_count": 19,
   "metadata": {
    "code_folding": []
   },
   "outputs": [],
   "source": [
    "dict_numeral={\n",
    "    'one':   r_odin(),\n",
    "    'two':   r_dva(),\n",
    "    'three': r_tri(),\n",
    "    'four':  r_chetyre(),\n",
    "    'five':  r_pyat(),\n",
    "    'six':   r_shest(),\n",
    "}"
   ]
  },
  {
   "cell_type": "code",
   "execution_count": 20,
   "metadata": {},
   "outputs": [],
   "source": [
    "dict_verb={}\n",
    "dict_verb_s={}\n",
    "\n",
    "dict_verb  ['see']= r_videt()\n",
    "dict_verb_s['sees']= r_videt()\n"
   ]
  },
  {
   "cell_type": "markdown",
   "metadata": {},
   "source": [
    "### Паттерны Составные"
   ]
  },
  {
   "cell_type": "code",
   "execution_count": 21,
   "metadata": {
    "code_folding": []
   },
   "outputs": [],
   "source": [
    "def debug_pp(fun):\n",
    "    def wrapper(s,p):\n",
    "        print('{'+'.'*p+fun.__name__)\n",
    "        rezs=fun(s,p)\n",
    "        print('_'+'.'*p+str(len(rezs)),'in ',fun.__name__,'}',\n",
    "              [(p,str(r)) for (p,r) in rezs],'\\n')\n",
    "        for i in rezs:\n",
    "            if isinstance(i[1],StDeclinable):\n",
    "                i[1].check_attrs('wrapper:'+fun.__name__)\n",
    "        return rezs\n",
    "#    return wrapper\n",
    "    return fun"
   ]
  },
  {
   "cell_type": "code",
   "execution_count": 22,
   "metadata": {},
   "outputs": [],
   "source": [
    "@debug_pp\n",
    "def p_numeral(s,p):\n",
    "    return fromdict(dict_numeral)(s,p)"
   ]
  },
  {
   "cell_type": "code",
   "execution_count": 23,
   "metadata": {},
   "outputs": [],
   "source": [
    "#2->\n",
    "@debug_pp\n",
    "def p_adj(s,p):\n",
    "    return fromdict(dict_adj)(s,p)"
   ]
  },
  {
   "cell_type": "code",
   "execution_count": 24,
   "metadata": {
    "code_folding": []
   },
   "outputs": [],
   "source": [
    "@debug_pp\n",
    "def p_adj_noun3(s,p):\n",
    "    rezs=[]\n",
    "    if 1: #исключение словосочетания\n",
    "        def lp_an_a(str,pos):\n",
    "            lrezs=word('an')(str,pos)\n",
    "            if len(lrezs)>0 : return lrezs\n",
    "            return word('a')(str,pos)\n",
    "        rezs+=p_seq(s,p,[ lp_an_a, p_noun3 ],r_a_noun)\n",
    "        #return p_seq(s,p,[ lp_an_a, p_noun3 ],r_nekotoryj_noun)\n",
    "    if len(rezs)>0 : return rezs\n",
    "    #словосочетание\n",
    "    return p_seq(s,p,[ p_adj, p_noun3 ],r_adj_noun)    \n",
    "    \n",
    "@debug_pp\n",
    "def p_noun3(s,p):\n",
    "    rezs=  p_adj_noun3(s,p)\n",
    "    rezs+= p_numeral(s,p)\n",
    "    rezs+= fromdict(dict_noun)(s,p)\n",
    "    rezs+= fromdict(dict_pronoun_ip)(s,p)\n",
    "    if len(rezs)>0 : return rezs\n",
    "    rezs+= fromdict(dict_pronoun_vp)(s,p)\n",
    "    return rezs\n",
    "\n",
    "@debug_pp\n",
    "def p_noun2(s,p):\n",
    "    rezs=  p_seq(s,p,[ p_noun3, p_numeral ], r_noun_numeral)\n",
    "    rezs+= p_noun3(s,p)\n",
    "    return rezs\n",
    "\n",
    "@debug_pp\n",
    "def p_noun1(s,p):\n",
    "    rezs=  p_seq(s,p,[ p_numeral, p_noun2 ], r_numeral_noun)\n",
    "    rezs+= p_noun2(s,p)\n",
    "    return rezs\n",
    "\n",
    "#1->\n",
    "@debug_pp\n",
    "def p_noun(s,p):\n",
    "    @debug_pp\n",
    "    def p_noun1_and_noun(s,p):\n",
    "        rezs=  p_seq(s,p,[ p_noun1, word('and'), p_noun ],r_noun_and_noun  )\n",
    "        rezs+= p_seq(s,p,[ p_noun1, word(',')  , p_noun ],r_noun_comma_noun)\n",
    "        return rezs\n",
    "    rezs=  p_noun1_and_noun(s,p)\n",
    "    rezs+= p_noun1(s,p)\n",
    "    return rezs"
   ]
  },
  {
   "cell_type": "code",
   "execution_count": 25,
   "metadata": {},
   "outputs": [],
   "source": [
    "@debug_pp\n",
    "def p_verb1(s,p):\n",
    "    rezs=  p_seq(s,p,[fromdict(dict_verb),p_noun],r_verb_noun)\n",
    "#    rezs+= p_seq(s,p,[word('to'),fromdict(dict_verb)],r_to_verb)\n",
    "    if len(rezs)>0: return rezs\n",
    "    rezs+= fromdict(dict_verb)(s,p)\n",
    "    if len(rezs)>0: return rezs\n",
    "    rezs+= fromdict(dict_verb_s)(s,p)\n",
    "    return rezs\n",
    "\n",
    "@debug_pp\n",
    "def p_verb(s,p):\n",
    "    rezs=  p_seq(s,p,[p_noun,p_verb1],r_noun_verb)\n",
    "    rezs+= p_seq(s,p,[word('to'),p_verb1],r_to_verb)\n",
    "    if len(rezs)>0: return rezs\n",
    "    rezs+= p_verb1(s,p)\n",
    "    return rezs"
   ]
  },
  {
   "cell_type": "code",
   "execution_count": 26,
   "metadata": {},
   "outputs": [],
   "source": [
    "@debug_pp\n",
    "def p_phrase(s,p):\n",
    "    rezs=p_verb(s,p)\n",
    "    if len(rezs)>0: return rezs\n",
    "    rezs=p_noun(s,p)\n",
    "    if len(rezs)>0: return rezs\n",
    "    rezs=p_adj(s,p)\n",
    "    return rezs"
   ]
  },
  {
   "cell_type": "code",
   "execution_count": 27,
   "metadata": {},
   "outputs": [],
   "source": [
    "dict_proper={}\n",
    "@debug_pp\n",
    "def p_sentence(s,p):\n",
    "    first_capital = s[p]=='I' or ch_title in s[p].attrs.changers\n",
    "    def r_sentence(ph,d):\n",
    "        rez=StC([I(nodep=ph),I(punct=d)])\n",
    "        if first_capital: rez.attrs.changers|={ch_sentence}\n",
    "        return rez\n",
    "    restore_title=False\n",
    "    if ch_title in s[p].attrs.changers and s[p] not in dict_proper:\n",
    "        s[p].attrs.changers-={ch_title}\n",
    "        restore_title=True\n",
    "    rezs=p_seq(s,p,[p_phrase,word('.')],r_sentence)\n",
    "    if restore_title:\n",
    "        s[p].attrs.changers|={ch_title}\n",
    "    return rezs"
   ]
  },
  {
   "cell_type": "code",
   "execution_count": 28,
   "metadata": {
    "code_folding": [
     0,
     1
    ]
   },
   "outputs": [],
   "source": [
    "def en2ru(s): # main\n",
    "    def maxlen_rezs(rezs):\n",
    "        m=0\n",
    "        im=set()\n",
    "        for i in range(len(rezs)):\n",
    "            if rezs[i][0]>m:\n",
    "                m=rezs[i][0]\n",
    "                im={i}\n",
    "            elif rezs[i][0]==m:\n",
    "                im.add(i)\n",
    "        return [rezs[i] for i in im]\n",
    "                \n",
    "    s=[ i for i in tokenizer(s)]\n",
    "    if len(s)==0:\n",
    "        print('no tokens')\n",
    "        return ''\n",
    "\n",
    "    p=0\n",
    "    rez=[]\n",
    "    while p<len(s):\n",
    "        rezs=maxlen_rezs(p_sentence(s,p))\n",
    "        if len(rezs)==0: break\n",
    "        p1,r1=next(iter(rezs))\n",
    "        if len(rezs)>1:\n",
    "            print('multiple results:')\n",
    "            print(SAttrs.join(s[p:p1]))\n",
    "            for void,r in rezs:\n",
    "                print(str(r))\n",
    "        p=p1\n",
    "        rez.append(I(nodep=r1))\n",
    "\n",
    "    if len(rez)>0:\n",
    "        if p!=len(s):\n",
    "            print('NOT PARSED:')\n",
    "            print(SAttrs.join(s[p:]))\n",
    "        return str(StC(rez))\n",
    "    else:\n",
    "        assert p==0\n",
    "        rezs=maxlen_rezs(p_phrase(s,p))\n",
    "        if len(rezs)==0:\n",
    "            raise ParseError('no results')\n",
    "        p1,r1=next(iter(rezs))\n",
    "        if len(rezs)>1:\n",
    "            print('multiple results:')\n",
    "            print(SAttrs.join(s[p:p1]))\n",
    "            for void,r in rezs:\n",
    "                print(str(r))\n",
    "        p=p1\n",
    "        if p!=len(s):\n",
    "            print('NOT PARSED!')\n",
    "            print(SAttrs.join(s[p:]))\n",
    "        return str(r1)\n"
   ]
  },
  {
   "cell_type": "markdown",
   "metadata": {},
   "source": [
    "# Тесты"
   ]
  },
  {
   "cell_type": "markdown",
   "metadata": {},
   "source": [
    "```\n",
    "местоимения вп\n",
    "    7)  у меня есть\n",
    "        у меня нет\n",
    "        покажи\n",
    "        дай\n",
    "    8)  скажи\n",
    "    9)  (находится) на/в\n",
    "    10) вопросы-ответы\n",
    "        считать от до\n",
    "        ловить\n",
    "    11) сколько\n",
    "    13) где\n",
    "    14) какого цвета\n",
    "        КОНТЕКСТ\n",
    "    15) посмотри\n",
    "\n",
    "watch, двое, трое, пятеро\n",
    "...\n",
    "I() - чтобы чтобы модификации свойств записывала в 3й элемент тупла\n",
    "get_property(tuple)\n",
    "    если 2 элемента - берет настоящее сойство\n",
    "    если 3 элемента - берет свойство из 3го элемента\n",
    "использовать её в init-ах для main и maindep\n",
    ".pull_deferred():\n",
    "    с каждым tupl-ом из talk\n",
    "        если он Struct\n",
    "            вызываем его.pull_deferred()\n",
    "        применяем свойства из 3го элемента tupl-а\n",
    "    подтягиваем .pre из talk[0]\n",
    ".tistr()\n",
    "    .pull_deferred\n",
    "    .__str__\n",
    "\n",
    "сделать кэширование результатов\n",
    "    статистика использования паттернов/словарей/правил\n",
    "\n",
    "атрибуты слов: (теги)\n",
    "...\n",
    "нужен LR-парсер, причем недетерминированный - посмотреть, какие есть библиотеки\n",
    "    возможно стоит придумать уровни для паттернов...\n",
    "```"
   ]
  },
  {
   "cell_type": "code",
   "execution_count": 29,
   "metadata": {},
   "outputs": [],
   "source": [
    "def decline(s,pads=['ip','rp','dp','vp','tp','pp']):\n",
    "    s=[ i for i in tokenizer(s)]\n",
    "    # добавить дочитывание точки и остаточных пробелов\n",
    "    rezs=[res for pos,res in p_noun(s,0) if pos==len(s)]\n",
    "    if len(rezs)!=1:\n",
    "        raise TextError(rezs)\n",
    "    tmp=rezs[0]\n",
    "    \n",
    "    m=[]\n",
    "    for p in pads:\n",
    "        #print(str(tmp))\n",
    "        prompt= \\\n",
    "            '' if p=='ip' else\\\n",
    "            'нет ' if p=='rp' else\\\n",
    "            'дать ' if p=='dp' else\\\n",
    "            'вижу ' if p=='vp' else\\\n",
    "            'творю ' if p=='tp' else\\\n",
    "            'думаю о ' if p=='pp' else\\\n",
    "            throw(ValueError('bad pad: '+p))\n",
    "        #rez=deepcopy(tmp)\n",
    "        tmp.pad=p\n",
    "        m.append(prompt+str(tmp))#        print(prompt+str(tmp))\n",
    "    return m\n"
   ]
  },
  {
   "cell_type": "code",
   "execution_count": 30,
   "metadata": {
    "scrolled": false
   },
   "outputs": [
    {
     "name": "stdout",
     "output_type": "stream",
     "text": [
      "не совпадают числа числ. и сущ.: один часы\n",
      "не совпадают числа числ. и сущ.: один часы\n",
      "не совпадают числа числ. и сущ.: один часы\n"
     ]
    },
    {
     "data": {
      "text/plain": [
       "['одни часы',\n",
       " 'нет одних часов',\n",
       " 'дать одним часам',\n",
       " 'вижу одни часы',\n",
       " 'творю одними часами',\n",
       " 'думаю о одних часах']"
      ]
     },
     "execution_count": 30,
     "metadata": {},
     "output_type": "execute_result"
    }
   ],
   "source": [
    "decline('one watch')"
   ]
  },
  {
   "cell_type": "code",
   "execution_count": 31,
   "metadata": {
    "scrolled": false
   },
   "outputs": [
    {
     "name": "stdout",
     "output_type": "stream",
     "text": [
      "no tokens\n"
     ]
    },
    {
     "data": {
      "text/plain": [
       "''"
      ]
     },
     "execution_count": 31,
     "metadata": {},
     "output_type": "execute_result"
    }
   ],
   "source": [
    "en2ru('')"
   ]
  },
  {
   "cell_type": "code",
   "execution_count": 32,
   "metadata": {},
   "outputs": [
    {
     "data": {
      "text/plain": [
       "'я вижу джем и одну чашку'"
      ]
     },
     "execution_count": 32,
     "metadata": {},
     "output_type": "execute_result"
    }
   ],
   "source": [
    "en2ru('I see jam and one cup')"
   ]
  },
  {
   "cell_type": "code",
   "execution_count": null,
   "metadata": {},
   "outputs": [],
   "source": []
  }
 ],
 "metadata": {
  "hide_input": false,
  "kernelspec": {
   "display_name": "Python 3",
   "language": "python",
   "name": "python3"
  },
  "language_info": {
   "codemirror_mode": {
    "name": "ipython",
    "version": 3
   },
   "file_extension": ".py",
   "mimetype": "text/x-python",
   "name": "python",
   "nbconvert_exporter": "python",
   "pygments_lexer": "ipython3",
   "version": "3.6.7"
  }
 },
 "nbformat": 4,
 "nbformat_minor": 2
}
