{
 "cells": [
  {
   "cell_type": "markdown",
   "metadata": {},
   "source": [
    "```\n",
    "p_паттерн парсит текст (str, pos), \n",
    "    вызывая другие паттерны, возвращающие древовидные структуры\n",
    "    эти древовидные структуры передает одному из правил\n",
    "        (остальные вызовы правил закомментированы \n",
    "            - в рамках одного текста каждый паттерн имеет ровно 1 смысл)\n",
    "    и возвращает (pos, результат этого правила), помещенный в массив\n",
    "    \n",
    "    /*пока на ошибках парсинга концентрировать не будем*/\n",
    "    если ничего не удалось распарсить, ???возвращаемый массив будет пустым???\n",
    "    если удалось распарсить несколько вариантов - в массиве будет насколько вариантов\n",
    "        сначала парсятся все исключения\n",
    "        потом парсятся все обычные варианты (если нет исключений)\n",
    "```\n",
    "\n",
    "```\n",
    "r_правило получает список древовидных структур\n",
    "    обрабатывает их по определенному правилу\n",
    "    возвращает древовидную структуру\n",
    "```\n",
    "\n",
    "```\n",
    "древовидная структура - map, со следующими ключами\n",
    "    type: 'noun'/'adj'/'verb'/'num'/... - определяем через isinstance()\n",
    "    постоянные параметры (для сущ.: род, число)\n",
    "    переменные параметры (для сущ.: падеж)\n",
    "    talk: массив древовидных структур\n",
    "        или пар (тип, слово), где тип - main/punct/other\n",
    "```\n",
    "\n",
    "```\n",
    "str(древовидная структура)\n",
    "    превращает древовидную структуру в строку\n",
    "```\n",
    "\n",
    "```\n",
    "для каждого типа элемента древовидной структуры будет map\n",
    "    где каждой строке (для сущ. - слово в и.п.) будет соответствовать\n",
    "        структура данных, которая вместе в переменными параметрами передается в \n",
    "        sh_функция для этого типа элемента древовидной структуры\n",
    "            которая будет возвращать слово в соотв. форме (для сущ. в соотв. падеже)\n",
    "```"
   ]
  },
  {
   "cell_type": "markdown",
   "metadata": {},
   "source": [
    "# Общее"
   ]
  },
  {
   "cell_type": "code",
   "execution_count": 1,
   "metadata": {
    "code_folding": []
   },
   "outputs": [],
   "source": [
    "def throw(ex):\n",
    "    raise ex"
   ]
  },
  {
   "cell_type": "code",
   "execution_count": 2,
   "metadata": {
    "code_folding": []
   },
   "outputs": [],
   "source": [
    "class TextError(ValueError):\n",
    "    pass\n",
    "class ParseError(ValueError):\n",
    "    pass\n",
    "class TestError(ValueError):\n",
    "    pass\n"
   ]
  },
  {
   "cell_type": "markdown",
   "metadata": {},
   "source": [
    "# Паттерны парсинга"
   ]
  },
  {
   "cell_type": "code",
   "execution_count": 3,
   "metadata": {},
   "outputs": [],
   "source": [
    "from copy import deepcopy,copy\n",
    "import re"
   ]
  },
  {
   "cell_type": "code",
   "execution_count": 4,
   "metadata": {},
   "outputs": [],
   "source": [
    "PUNCT_CHARS=\".,:;?!'-\""
   ]
  },
  {
   "cell_type": "code",
   "execution_count": 5,
   "metadata": {},
   "outputs": [],
   "source": [
    "class SAttrs:\n",
    "    __slots__=['pre','changers','tags']\n",
    "    def __init__(self,pre='',changers=None,tags=None):\n",
    "        if changers==None: changers=set()\n",
    "        if tags==None: tags=set()\n",
    "        self.pre=pre\n",
    "        self.changers=changers\n",
    "        self.tags=tags\n",
    "    def change(self,s):\n",
    "        for changer in self.changers:\n",
    "            s=changer(s)\n",
    "        # todo gtags\n",
    "        return self.pre+s\n",
    "    def __repr__(self):\n",
    "        return 'SAttrs<'+str(id(self))+'>(pre='+repr(self.pre)+\\\n",
    "            ',changers='+(('{'+\n",
    "                ','.join('<'+i.__name__+'>' for i in self.changers)+'}') \\\n",
    "                    if len(self.changers)>0 else 'set()')+\\\n",
    "            ',tags='+repr(self.tags)+')'\n",
    "    \n",
    "    @staticmethod\n",
    "    def join(arr):\n",
    "        def subr(g):\n",
    "            yield str(next(g))\n",
    "            for i in g:\n",
    "                s=str(i)\n",
    "                if i.attrs.pre!='' or re.fullmatch('['+re.escape(PUNCT_CHARS)+']*',s):\n",
    "                    yield s\n",
    "                else: yield ' '+s\n",
    "        return ''.join(subr(iter(arr)))\n",
    "\n",
    "    @staticmethod\n",
    "    def to_right(l,r):\n",
    "        if r.attrs.pre=='':\n",
    "            r.attrs.pre=l.attrs.pre\n",
    "        r.attrs.changers|=l.attrs.changers\n",
    "        r.attrs.tags|=l.attrs.tags\n",
    "        return r\n",
    "    @staticmethod\n",
    "    def to_left(l,r):\n",
    "        l.attrs.change|=r.attrs.change\n",
    "        l.attrs.tags|=r.attrs.tags\n",
    "        return l\n"
   ]
  },
  {
   "cell_type": "code",
   "execution_count": 6,
   "metadata": {
    "code_folding": []
   },
   "outputs": [],
   "source": [
    "class S(str): # строка с атрибутом\n",
    "    __slots__='attrs'\n",
    "    def __new__(cls,s,attrs=None):\n",
    "        return str.__new__(cls,s)\n",
    "    def __init__(self,s,attrs=None):\n",
    "        self.attrs = attrs if attrs!=None else SAttrs()\n",
    "        \n",
    "    def __repr__(self):\n",
    "        return 'S('+str.__repr__(self)+','+repr(self.attrs)+')'\n",
    "    def __str__(self):\n",
    "        return self.attrs.change(str.__str__(self))\n",
    "\n",
    "#.pre - строка - вместо начальных пробелов\n",
    "#.tags - множество пар строк - объединяется\n",
    "#.changers - множество функций - объединяется"
   ]
  },
  {
   "cell_type": "code",
   "execution_count": 7,
   "metadata": {
    "code_folding": []
   },
   "outputs": [],
   "source": [
    "def sp_seq(str,pos,patterns):\n",
    "#    for patt in patterns:\n",
    "#        tmp=patt(str,pos)\n",
    "#        if len(tmp)>1 : raise NotImplementedError()\n",
    "#        if len(tmp)==0 : return []\n",
    "#        (pos,tmp)=tmp[0]\n",
    "#        rezs.append(tmp)\n",
    "#    return [(pos,rezs)]\n",
    "    if len(patterns)==1:\n",
    "        return [(p,[r]) for (p,r) in patterns[0](str,pos)]\n",
    "    first=patterns[0](str,pos)\n",
    "    first.sort(key=lambda i:i[0]) # в дальнейшем отключить повторное вычисление \n",
    "    # продолжения для одинаковых позиций\n",
    "    rezs=[]\n",
    "    for r in first:\n",
    "        tmp=sp_seq(str,r[0],patterns[1:])\n",
    "        for rr in tmp:\n",
    "            rr[1].insert(0,r[1])\n",
    "        rezs+=tmp\n",
    "    return rezs"
   ]
  },
  {
   "cell_type": "code",
   "execution_count": 8,
   "metadata": {
    "code_folding": []
   },
   "outputs": [],
   "source": [
    "# 'word'\n",
    "def sp_const_word(str,pos,word):\n",
    "    return [(pos+len(word),word)] if str[pos:pos+len(word)]==word else []\n"
   ]
  },
  {
   "cell_type": "code",
   "execution_count": 9,
   "metadata": {
    "code_folding": []
   },
   "outputs": [],
   "source": [
    "def ch_title(s):\n",
    "    return s.title()\n",
    "def ch_upper(s):\n",
    "    return s.upper()\n",
    "def ch_sentence(s):\n",
    "    if len(s)==0: return ''\n",
    "    return s[0].upper()+s[1:]\n",
    "\n",
    "# [a-zA-Z]+\n",
    "def sp_word(str,pos):\n",
    "    pos1=pos\n",
    "    while pos1<len(str) and \\\n",
    "        (str[pos1]>='a' and str[pos1]<='z' or str[pos1]>='A' and str[pos1]<='Z') :\n",
    "        pos1+=1\n",
    "    if pos1==pos:\n",
    "        return []\n",
    "\n",
    "    if str[pos:pos1]=='I':\n",
    "        return [(pos1,S('I'))]\n",
    "\n",
    "    s=S(str[pos:pos1].lower())\n",
    "    if str[pos:pos1].islower():\n",
    "        pass\n",
    "    elif str[pos:pos1].istitle():\n",
    "        s.attrs.changers={ch_title}\n",
    "    elif str[pos:pos1].isupper():\n",
    "        s.attrs.changers={ch_upper}\n",
    "    else:\n",
    "        print(s,' - перепутаны заглавные и малые буквы')\n",
    "    return [(pos1,s)]"
   ]
  },
  {
   "cell_type": "code",
   "execution_count": 10,
   "metadata": {
    "code_folding": []
   },
   "outputs": [],
   "source": [
    "def sp_punct(str,pos):\n",
    "    pos1=pos\n",
    "    while pos1<len(str) and str[pos1] in PUNCT_CHARS :\n",
    "        pos1+=1\n",
    "    return [] if pos1==pos else [(pos1,S(str[pos:pos1]))]"
   ]
  },
  {
   "cell_type": "code",
   "execution_count": 11,
   "metadata": {},
   "outputs": [],
   "source": [
    "def sp_open_tag(s,p):\n",
    "    return []\n",
    "def sp_close_tag(s,p):\n",
    "    return []\n",
    "def sp_openclose_tag(s,p):\n",
    "    return sp_const_word(s,p,'<br>')"
   ]
  },
  {
   "cell_type": "code",
   "execution_count": 12,
   "metadata": {
    "code_folding": []
   },
   "outputs": [],
   "source": [
    "# ([ _\\r\\n\\v\\t]|sp_openclose_tag)+\n",
    "def sp_spcs(str,pos):\n",
    "    pre=''\n",
    "    pos1=pos\n",
    "    while pos1<len(str):\n",
    "        if str[pos1] in ' _\\t\\n\\r\\v':\n",
    "            pre+=str[pos1]\n",
    "            pos1+=1\n",
    "            continue\n",
    "        tmp = sp_openclose_tag(str,pos1)\n",
    "        if len(tmp)!=0:\n",
    "            pre+=tmp[0][1]\n",
    "            pos1=tmp[0][0]\n",
    "            continue\n",
    "        break\n",
    "    return [] if pos1==pos else [(pos1,pre)]    "
   ]
  },
  {
   "cell_type": "code",
   "execution_count": 13,
   "metadata": {
    "code_folding": []
   },
   "outputs": [],
   "source": [
    "def tokenizer(s):\n",
    "    pos=0\n",
    "    pre=''\n",
    "    while pos<len(s):\n",
    "        tmp=sp_spcs(s,pos)\n",
    "        if len(tmp)>0:\n",
    "            (pos,pre)=tmp[0]\n",
    "            if pre==' ': pre=''\n",
    "            continue\n",
    "        tmp=sp_word(s,pos)\n",
    "        if len(tmp)>0:\n",
    "            (pos,foryield) = tmp[0]\n",
    "            foryield.attrs.pre=pre; pre=''\n",
    "            yield foryield\n",
    "            continue\n",
    "        tmp=sp_punct(s,pos)\n",
    "        if len(tmp)>0:\n",
    "            (pos,foryield) = tmp[0]\n",
    "            foryield.attrs.pre=pre; pre=''\n",
    "            yield foryield\n",
    "            continue\n",
    "        raise TextError(\"can't tokenize: \"+\\\n",
    "                        repr(s[max(0,pos-10):pos])+' - '+repr(s[pos:min(len(s),pos+10)]))\n"
   ]
  },
  {
   "cell_type": "code",
   "execution_count": 14,
   "metadata": {},
   "outputs": [],
   "source": [
    "def tokenize(s) : return [i for i in tokenizer(s)]"
   ]
  },
  {
   "cell_type": "code",
   "execution_count": 15,
   "metadata": {
    "code_folding": []
   },
   "outputs": [],
   "source": [
    "#объекты из словаря и паттернов копируются (полностью), потом из них строится дерево\n",
    "\n",
    "#в эти копии потом добваляется .attrs\n",
    "def word(w):\n",
    "    assert type(w)==str\n",
    "    return lambda s,p: \\\n",
    "        [(p+1,deepcopy(s[p]))] if p<len(s) and s[p]==w else []\n",
    "\n",
    "def fromdict(d):\n",
    "    assert type(d)==dict\n",
    "    def p_fromdict(s,p):\n",
    "        if p<len(s) and s[p] in d:\n",
    "            tmp=deepcopy(d[s[p]])\n",
    "            tmp.attrs=deepcopy(s[p].attrs)\n",
    "            return [(p+1,tmp)]\n",
    "        else:\n",
    "            return []\n",
    "    return p_fromdict\n",
    "\n",
    "def p_seq(s,p,patterns,handler,numbers=None):\n",
    "# p_seq(s,p,[p0,p1,p2,p3],handle,[0,2,3]) ->\n",
    "# for k:\n",
    "#   (pos1,rez1) = sp_seq(s,p,[p0,p1,p2,p3]) [k]\n",
    "#   rezs.append((pos1,handle(rezs[0],rezs[2],rezs[3],)))\n",
    "    if numbers==None : numbers=range(len(patterns))\n",
    "    rezs=[]\n",
    "    for (pos1,rez1) in sp_seq(s,p,patterns):\n",
    "        m=[False for i in range(len(patterns))]\n",
    "        for i in numbers: m[i]=True\n",
    "        for i in range(max(numbers)):\n",
    "            if not m[i]: SAttrs.to_right(rez1[i],rez1[i+1])\n",
    "        for i in range(len(patterns)-1,max(numbers),-1):\n",
    "            if not m[i]: SAttrs.to_left(rez1[i-1],rez1[i])\n",
    "        rez2=handler(*[rez1[i] for i in numbers])\n",
    "#        for i in rez1:\n",
    "#            if isinstance(i,StDeclinable):\n",
    "#                i.check_attrs('p_seq')\n",
    "#        if isinstance(rez2,StDeclinable):\n",
    "#                rez2.check_attrs('p_seq:'+handler.__name__)\n",
    "        rezs.append((pos1,rez2))\n",
    "    return rezs"
   ]
  },
  {
   "cell_type": "markdown",
   "metadata": {},
   "source": [
    "##### тесты"
   ]
  },
  {
   "cell_type": "code",
   "execution_count": 16,
   "metadata": {},
   "outputs": [
    {
     "data": {
      "text/plain": [
       "'a,'"
      ]
     },
     "execution_count": 16,
     "metadata": {},
     "output_type": "execute_result"
    }
   ],
   "source": [
    "SAttrs.join([S('a'),S(',')])"
   ]
  },
  {
   "cell_type": "code",
   "execution_count": 17,
   "metadata": {},
   "outputs": [
    {
     "data": {
      "text/plain": [
       "[86424936, 86425048, 86425160, 86425272, 86425384]"
      ]
     },
     "execution_count": 17,
     "metadata": {},
     "output_type": "execute_result"
    }
   ],
   "source": [
    "x=[S('a') for i in range(5)]\n",
    "[id(i) for i in x]"
   ]
  },
  {
   "cell_type": "code",
   "execution_count": 18,
   "metadata": {
    "scrolled": true
   },
   "outputs": [
    {
     "data": {
      "text/plain": [
       "[(1, S('a',SAttrs<86344136>(pre='',changers=set(),tags=set())))]"
      ]
     },
     "execution_count": 18,
     "metadata": {},
     "output_type": "execute_result"
    }
   ],
   "source": [
    "sp_word('a',0)"
   ]
  },
  {
   "cell_type": "code",
   "execution_count": 19,
   "metadata": {
    "hide_input": false,
    "scrolled": true
   },
   "outputs": [
    {
     "name": "stdout",
     "output_type": "stream",
     "text": [
      "[S('a',SAttrs<86274824>(pre='',changers=set(),tags=set()))]\n"
     ]
    }
   ],
   "source": [
    "print(repr(tokenize('a')))"
   ]
  },
  {
   "cell_type": "code",
   "execution_count": 20,
   "metadata": {},
   "outputs": [
    {
     "data": {
      "text/plain": [
       "'preQwer'"
      ]
     },
     "execution_count": 20,
     "metadata": {},
     "output_type": "execute_result"
    }
   ],
   "source": [
    "x=S('qwer')\n",
    "x.attrs.pre='pre'\n",
    "x.attrs.changers={ch_title}\n",
    "str(x)"
   ]
  },
  {
   "cell_type": "code",
   "execution_count": 21,
   "metadata": {},
   "outputs": [
    {
     "data": {
      "text/plain": [
       "\"S('qwe',SAttrs<83857224>(pre='asd',changers=set(),tags=set()))\""
      ]
     },
     "execution_count": 21,
     "metadata": {},
     "output_type": "execute_result"
    }
   ],
   "source": [
    "x=S('qwe')\n",
    "x.attrs.pre='asd'\n",
    "repr(x)"
   ]
  },
  {
   "cell_type": "code",
   "execution_count": 22,
   "metadata": {
    "code_folding": []
   },
   "outputs": [
    {
     "name": "stdout",
     "output_type": "stream",
     "text": [
      "(S('1',SAttrs<86451656>(pre='',changers=set(),tags=set())), S('3',SAttrs<86452424>(pre='',changers=set(),tags=set())))\n"
     ]
    },
    {
     "data": {
      "text/plain": [
       "[(3, None)]"
      ]
     },
     "execution_count": 22,
     "metadata": {},
     "output_type": "execute_result"
    }
   ],
   "source": [
    "def h(*args):\n",
    "    print(args)\n",
    "p_seq([S('1'),S('2'),S('3')],0,[word('1'),word('2'),word('3')],h,[0,2])"
   ]
  },
  {
   "cell_type": "code",
   "execution_count": 23,
   "metadata": {},
   "outputs": [
    {
     "data": {
      "text/plain": [
       "True"
      ]
     },
     "execution_count": 23,
     "metadata": {},
     "output_type": "execute_result"
    }
   ],
   "source": [
    "s=S('qwe')\n",
    "s.attrs=8\n",
    "s=='qwe'"
   ]
  },
  {
   "cell_type": "code",
   "execution_count": 24,
   "metadata": {},
   "outputs": [
    {
     "data": {
      "text/plain": [
       "SAttrs<82776648>(pre='',changers=set(),tags=set())"
      ]
     },
     "execution_count": 24,
     "metadata": {},
     "output_type": "execute_result"
    }
   ],
   "source": [
    "s=S('qwe')\n",
    "s.attrs"
   ]
  },
  {
   "cell_type": "code",
   "execution_count": 25,
   "metadata": {},
   "outputs": [
    {
     "data": {
      "text/plain": [
       "S('qwe',SAttrs<86309256>(pre='',changers=set(),tags=set()))"
      ]
     },
     "execution_count": 25,
     "metadata": {},
     "output_type": "execute_result"
    }
   ],
   "source": [
    "s=S('qwe')\n",
    "copy(s)"
   ]
  },
  {
   "cell_type": "code",
   "execution_count": 26,
   "metadata": {},
   "outputs": [
    {
     "data": {
      "text/plain": [
       "\"S('qwe',SAttrs<86309064>(pre='',changers=set(),tags=set()))\""
      ]
     },
     "execution_count": 26,
     "metadata": {},
     "output_type": "execute_result"
    }
   ],
   "source": [
    "s=S('qwe')\n",
    "repr(s)"
   ]
  },
  {
   "cell_type": "markdown",
   "metadata": {},
   "source": [
    "# Словарь"
   ]
  },
  {
   "cell_type": "markdown",
   "metadata": {},
   "source": [
    "## Классы отображения"
   ]
  },
  {
   "cell_type": "markdown",
   "metadata": {},
   "source": [
    "### Базовые"
   ]
  },
  {
   "cell_type": "code",
   "execution_count": 27,
   "metadata": {
    "code_folding": []
   },
   "outputs": [],
   "source": [
    "def I(**args):\n",
    "    if len(args)!=1:\n",
    "        raise ValueError()\n",
    "    p=[i for i in args.items()][0]\n",
    "    if p[0] not in {'maindep','dep','nodep','punct','nomer','quantity',\n",
    "                   'main','ip'}:\n",
    "        raise ValueError()\n",
    "    return p\n"
   ]
  },
  {
   "cell_type": "code",
   "execution_count": 28,
   "metadata": {
    "code_folding": [
     2,
     13,
     15,
     17
    ]
   },
   "outputs": [],
   "source": [
    "class Struct:\n",
    "    __slots__=['attrs','talk']\n",
    "    def __init__(self,attrs=None):\n",
    "        if attrs==None:\n",
    "            self.attrs=SAttrs()\n",
    "        elif type(attrs)==list:\n",
    "#            self.attrs=SAttrs()\n",
    "            self.attrs=SAttrs(pre=attrs[0][1].attrs.pre)\n",
    "            attrs[0][1].attrs.pre=''\n",
    "            pass # выделеие общих тегов\n",
    "        else:\n",
    "            self.attrs=attrs\n",
    "        #self.talk=talk    #массив структур или туплов (строка-тип, ...)\n",
    "    def __repr__(self):\n",
    "        raise NotImplementedError('virtual function')\n",
    "    def __str__(self):\n",
    "        raise NotImplementedError('virtual function')\n",
    "    def check_attrs(self,mes):\n",
    "        if self.word==None:\n",
    "            if self.talk[0][1].attrs.pre!='':\n",
    "                print(repr(self))\n",
    "            assert self.talk[0][1].attrs.pre=='', mes\n"
   ]
  },
  {
   "cell_type": "code",
   "execution_count": 29,
   "metadata": {
    "code_folding": [
     7,
     11
    ]
   },
   "outputs": [],
   "source": [
    "class StC(Struct): # Container\n",
    "# nodep\n",
    "    def __init__(self,talk):\n",
    "        assert type(talk)==list\n",
    "        Struct.__init__(self,talk)\n",
    "        self.talk=talk\n",
    "        \n",
    "    def __repr__(self):\n",
    "        return 'StContainer<'+str(id(self))+'>('+\\\n",
    "            repr(self.talk) +')'#_'+repr(self.attrs)\n",
    "\n",
    "    def __str__(self):\n",
    "        return self.attrs.change( SAttrs.join(i[1] for i in self.talk) )\n",
    "    "
   ]
  },
  {
   "cell_type": "code",
   "execution_count": 30,
   "metadata": {
    "code_folding": [
     48,
     58
    ]
   },
   "outputs": [],
   "source": [
    "show_verb_map={}\n",
    "\n",
    "class StVerb(Struct):\n",
    "# main maindep ip rp dp vp tp pp gde kogda skolko\n",
    "    __slots__=['word','oasp','asp','_form','_rod','_chis','_pers']\n",
    "    def __init__(self,word,oasp=0,asp=None,form=None,rod=0,chis=0,pers=0):\n",
    "        if type(word)==str:\n",
    "            Struct.__init__(self)\n",
    "            self.word=word\n",
    "            assert oasp==None or type(oasp)==str ,\\\n",
    "                'oasp should be str or None'\n",
    "            self.oasp=oasp\n",
    "        else:\n",
    "            Struct.__init__(self,word)# для тегов\n",
    "            self.word=None\n",
    "            self.talk=word\n",
    "\n",
    "            found=None\n",
    "            for i in word:\n",
    "                if i[0]=='main' or i[0]=='maindep':\n",
    "                    if found!=None:\n",
    "                        raise ValueError('we must have only one main or maindep')\n",
    "                    found =i[1]\n",
    "                    if asp!=None or form!=None or chis!=0 or pers!=0:\n",
    "                        raise ValueError('main or maindep may conflits with asp/form/pers')\n",
    "                    asp=found.asp\n",
    "                    form=found.form\n",
    "                    rod=found.rod\n",
    "                    chis=found.chis\n",
    "                    pers=found.pers\n",
    "        assert asp=='sov' or asp=='nesov' , 'asp should be \"sov\" or \"nesov\"'\n",
    "        assert form=='neopr' or form=='povel' or form=='nast' ,\\\n",
    "            'form should be \"neopr\" or \"povel\" or \"nast\"'\n",
    "        assert form=='neopr' and chis==None or \\\n",
    "                form!='neopr' and (chis=='ed' or chis=='mn'),\\\n",
    "            'wrong chis'\n",
    "        assert (form=='neopr' or form=='povel') and rod==None or \\\n",
    "                not(form=='neopr' or form=='povel') and (rod in {'m','g','s'}),\\\n",
    "            'wrong rod'\n",
    "        assert (form=='neopr' or form=='povel') and pers==None or \\\n",
    "                not(form=='neopr' or form=='povel') and (pers in {1,2,3}),\\\n",
    "            'wrong person'\n",
    "        self.asp=asp\n",
    "        self._form=form\n",
    "        self._rod=rod\n",
    "        self._chis=chis\n",
    "        self._pers=pers\n",
    "    \n",
    "    form=property()\n",
    "    @form.getter\n",
    "    def form(self):\n",
    "        return self._form\n",
    "    @form.setter\n",
    "    def form(self,val):\n",
    "        self._form=val\n",
    "        if self.word==None:\n",
    "            for i in self.talk:\n",
    "                if i[0]=='dep' or i[0]=='maindep' :\n",
    "                    i[1].form=val\n",
    "                \n",
    "    rod=property()\n",
    "    @rod.getter\n",
    "    def rod(self):\n",
    "        return self._rod\n",
    "    @rod.setter\n",
    "    def rod(self,val):\n",
    "        self._rod=val\n",
    "        if self.word==None:\n",
    "            for i in self.talk:\n",
    "                if i[0]=='dep' or i[0]=='maindep' :\n",
    "                    i[1].rod=val\n",
    "                \n",
    "    chis=property()\n",
    "    @chis.getter\n",
    "    def chis(self):\n",
    "        return self._chis\n",
    "    @chis.setter\n",
    "    def chis(self,val):\n",
    "        self._chis=val\n",
    "        if self.word==None:\n",
    "            for i in self.talk:\n",
    "                if i[0]=='dep' or i[0]=='maindep' :\n",
    "                    i[1].chis=val\n",
    "                \n",
    "    pers=property()\n",
    "    @pers.getter\n",
    "    def pers(self):\n",
    "        return self._pers\n",
    "    @pers.setter\n",
    "    def pers(self,val):\n",
    "        self._pers=val\n",
    "        if self.word==None:\n",
    "            for i in self.talk:\n",
    "                if i[0]=='dep' or i[0]=='maindep' :\n",
    "                    i[1].pers=val\n",
    "                \n",
    "    def __repr__(self):\n",
    "            #'<'+str(id(self))+'>'+\\\n",
    "        return 'StVerb'+\\\n",
    "            '('+(repr(self.talk) if self.word==None \\\n",
    "                 else repr(self.word)+','+repr(self.oasp))+','+\\\n",
    "            'asp='+repr(self.asp)+','+\\\n",
    "            'form='+repr(self.form)+','+\\\n",
    "            'chis='+repr(self.chis)+','+\\\n",
    "            'pers='+repr(self.pers)+')'\n",
    "\n",
    "    def __str__(self):\n",
    "        return self.attrs.change(\n",
    "            SAttrs.join(i[1] for i in self.talk)\n",
    "                if self.word==None else show_verb_map[self.word](self)\n",
    "            )\n"
   ]
  },
  {
   "cell_type": "markdown",
   "metadata": {},
   "source": [
    "### Склоняемые"
   ]
  },
  {
   "cell_type": "code",
   "execution_count": 31,
   "metadata": {
    "code_folding": [
     4,
     9,
     14,
     19,
     24,
     68,
     71
    ]
   },
   "outputs": [],
   "source": [
    "class StDeclinable(Struct):\n",
    "    __slots__=['word','odush','rod','chis','_pad']\n",
    "    \n",
    "    @staticmethod\n",
    "    def odush_checker(odush):\n",
    "        if type(odush)!=bool : raise TypeError('odush must be bool')\n",
    "        return odush\n",
    "        \n",
    "    @staticmethod\n",
    "    def rod_checker(rod):\n",
    "        if rod!='m' and rod!='g' and rod!='s' : raise TypeError('rod must be m or g or s')\n",
    "        return rod\n",
    "\n",
    "    @staticmethod\n",
    "    def chis_checker(chis):\n",
    "        if chis!='ed' and chis!='mn' : raise TypeError('chis must be ed or mn')\n",
    "        return chis\n",
    "\n",
    "    @staticmethod\n",
    "    def pad_checker(pad):\n",
    "        if pad!='ip' and pad!='rp' and pad!='dp' and pad!='vp' and pad!='tp' and pad!='pp' : \n",
    "            raise TypeError('pad must be ip, rp, dp, vp, tp or pp')\n",
    "        return pad\n",
    "\n",
    "    def __init__(self,word,o=None,r=None,c=None,p=None):\n",
    "        if type(word)==str:\n",
    "            #Struct.__init__(self,word.attrs)\n",
    "            # в словаре атрибуты отсутствуют\n",
    "            # при парсинге узел копируется со словаря и туда добавляются атрибуты\n",
    "            Struct.__init__(self)\n",
    "            # но тем не менее все должны иметь атрибуты \n",
    "            # например для словосочетаний в словаре паттернов\n",
    "            self.word=word\n",
    "        elif type(word)==list:\n",
    "            Struct.__init__(self,word)# для тегов\n",
    "            self.word=None\n",
    "            self.talk=word\n",
    "            assert self.talk[0][1].attrs.pre==''\n",
    "            \n",
    "            found=None\n",
    "            for i in word:\n",
    "                if i[0]=='maindep':\n",
    "                    if found!=None:\n",
    "                        raise ValueError('we must have only one maindep')\n",
    "                    found =i[1]\n",
    "                    if o!=None or r!=None or c!=None:\n",
    "                        raise ValueError('maindep may conflits with o/r/c')\n",
    "                    o=found.odush\n",
    "                    r=found.rod\n",
    "                    c=found.chis\n",
    "                    if p==None: p=found.pad\n",
    "        self.odush=self.odush_checker(o)\n",
    "        self.rod  =self.  rod_checker(r)\n",
    "        self.chis =self. chis_checker(c)\n",
    "        self._pad =self.  pad_checker(p)\n",
    "        \n",
    "    pad=property()\n",
    "    @pad.getter\n",
    "    def pad(self):\n",
    "        return self._pad\n",
    "    @pad.setter\n",
    "    def pad(self,val):\n",
    "        self._pad=val\n",
    "        if self.word==None:\n",
    "            for i in self.talk:\n",
    "                if i[0]=='dep' or i[0]=='maindep' :\n",
    "                    i[1].pad=val\n",
    "                \n",
    "    def post_repr(self):\n",
    "        return 'o='+repr(self.odush)+',r='+repr(self.rod)+\\\n",
    "            ',c='+repr(self.chis)+',p='+repr(self.pad)+')'#_'+repr(self.attrs)\n",
    "    def __repr__(self):\n",
    "        raise NotImplementedError('virtual function')\n",
    "\n",
    "    show_map=None\n",
    "    def __str__(self):\n",
    "        return self.attrs.change(\n",
    "            SAttrs.join(i[1] for i in self.talk)\n",
    "                if self.word==None else self.show_map[self.word](self)\n",
    "            )\n"
   ]
  },
  {
   "cell_type": "code",
   "execution_count": 32,
   "metadata": {
    "code_folding": [
     20
    ]
   },
   "outputs": [],
   "source": [
    "show_noun_map={}\n",
    "\n",
    "# Существительное\n",
    "class StNoun(StDeclinable):\n",
    "# dep, maindep, nodep, nomer, punct\n",
    "    __slots__=['_chis','och']\n",
    "    def __init__(self,word=None,och=0,o=None,r=None,c=None,p=None):\n",
    "        if type(word)==list:\n",
    "            if och!=0: raise ValueError('Noun-och must be in leaf')\n",
    "        else:\n",
    "            if type(och)!=str and och!=None: raise ValueError('och must be str')\n",
    "            self.och=och\n",
    "        StDeclinable.__init__(self,word,o,r,c,p)\n",
    "    \n",
    "    chis=property()\n",
    "    @chis.getter\n",
    "    def chis(self):\n",
    "        return self._chis\n",
    "    @chis.setter\n",
    "    def chis(self,val):\n",
    "        #print('set chis')#,repr(self))\n",
    "        if not hasattr(self,'_chis'):\n",
    "            self._chis=val\n",
    "        elif self._chis!=val:\n",
    "            #print('change chis')\n",
    "            self._chis=val\n",
    "            if self.word!=None:\n",
    "                if self.och==None :\n",
    "                    pass\n",
    "                elif type(self.och)==str:\n",
    "                    tmp=self.och\n",
    "                    self.och=self.word\n",
    "                    self.word=tmp\n",
    "                else:\n",
    "                    raise RuntimeError('internal error: StNoun.och = '+self.och)\n",
    "            else:\n",
    "                for i in self.talk:\n",
    "                    if i[0]=='dep' or i[0]=='maindep' :\n",
    "                        i[1].chis=val\n",
    "\n",
    "    pers=3\n",
    "        \n",
    "    def __repr__(self):\n",
    "        return 'StNoun<'+str(id(self))+'>('+\\\n",
    "            (repr(self.talk) if self.word==None \\\n",
    "                 else repr(self.word)+','+repr(self.och))+','+\\\n",
    "            self.post_repr()\n",
    "    \n",
    "    show_map=show_noun_map\n",
    "\n",
    "def show_noun1(st,word,ip,rp,dp,vp,tp,pp):\n",
    "    if st.pad=='ip' : return word+ip\n",
    "    if st.pad=='rp' : return word+rp\n",
    "    if st.pad=='dp' : return word+dp\n",
    "    if st.pad=='vp' : return word+vp\n",
    "    if st.pad=='tp' : return word+tp\n",
    "    if st.pad=='pp' : return word+pp\n",
    "    raise RuntimeError()\n"
   ]
  },
  {
   "cell_type": "code",
   "execution_count": 33,
   "metadata": {},
   "outputs": [],
   "source": [
    "# Местоимение личное\n",
    "class StProNoun(StNoun):\n",
    "    __slots__='pers'\n",
    "    def __init__(self,word=None,och=0,pers=None,o=None,r=None,c=None,p=None):\n",
    "        assert type(word)==str\n",
    "        StNoun.__init__(self,word,och,o,r,c,p)\n",
    "        assert pers in {1,2,3}\n",
    "        self.pers=pers"
   ]
  },
  {
   "cell_type": "code",
   "execution_count": 34,
   "metadata": {
    "code_folding": [
     17,
     48
    ]
   },
   "outputs": [],
   "source": [
    "show_num_map={}\n",
    "\n",
    "# Числительное\n",
    "class StNum(StDeclinable):\n",
    "# maindep, quantity\n",
    "    __slots__=['quantity']\n",
    "    def __init__(self,word=None,quantity=None,o=None,r=None,c=None,p=None):\n",
    "        if quantity!='1' and quantity!='2-4' and quantity!='>=5':\n",
    "            raise TypeError('quantity must be \"1\", \"2-4\" or \">=5\"')\n",
    "        self.quantity=quantity\n",
    "        StDeclinable.__init__(self,word,o,r,c,p)\n",
    "\n",
    "    pad=property()\n",
    "    @pad.getter\n",
    "    def pad(self):\n",
    "        return self._pad\n",
    "    @pad.setter\n",
    "    def pad(self,val): #...\n",
    "        #print('num.pad',val)\n",
    "        self._pad=val\n",
    "        if self.word==None:\n",
    "            for i in self.talk:\n",
    "                if i[0]=='quantity':\n",
    "                    i[1].pad=val\n",
    "                if i[0]=='dep' or i[0]=='maindep' :\n",
    "                    if self.quantity=='1':\n",
    "                        i[1].pad=val\n",
    "                    elif self.quantity=='2-4':\n",
    "                        i[1].chis='mn'\n",
    "                        if val=='ip':\n",
    "                            i[1].chis='ed'\n",
    "                            i[1].pad='rp'\n",
    "                        elif val=='vp':\n",
    "                            if i[1].odush :\n",
    "                                i[1].pad='rp'\n",
    "                            else:\n",
    "                                i[1].chis='ed'\n",
    "                                i[1].pad='rp'\n",
    "                        else:\n",
    "                            i[1].pad=val\n",
    "                    elif self.quantity=='>=5':\n",
    "                        if val=='ip' or val=='vp':\n",
    "                            i[1].pad='rp'\n",
    "                        else:\n",
    "                            i[1].pad=val\n",
    "                    else:\n",
    "                        raise RuntimeError()\n",
    "\n",
    "    def __repr__(self):\n",
    "        return 'StNum<'+str(id(self))+'>('+\\\n",
    "            (repr(self.talk) if self.word==None \\\n",
    "                 else repr(self.word))+','+\\\n",
    "            repr(self.quantity)+','+\\\n",
    "            self.post_repr()\n",
    "    \n",
    "    show_map=show_num_map\n",
    "\n",
    "def show_num1(st,word,ends):\n",
    "    if st.chis=='mn' :\n",
    "        (ip,rp,dp,vp,tp,pp)=ends['mn']\n",
    "    else:\n",
    "        (ip,rp,dp,vp,tp,pp)=ends[st.rod]\n",
    "        \n",
    "    if   st.pad=='ip' : rez=ip\n",
    "    elif st.pad=='rp' : rez=rp\n",
    "    elif st.pad=='dp' : rez=dp\n",
    "    elif st.pad=='vp' : rez=vp[0] if st.odush else vp[1]\n",
    "    elif st.pad=='tp' : rez=tp\n",
    "    elif st.pad=='pp' : rez=pp\n",
    "    else: raise RuntimeError()\n",
    "        \n",
    "    return word+rez\n"
   ]
  },
  {
   "cell_type": "code",
   "execution_count": 35,
   "metadata": {
    "code_folding": [
     2,
     5,
     11,
     14,
     22
    ]
   },
   "outputs": [],
   "source": [
    "show_adj_map={}\n",
    "\n",
    "# Прилагательное\n",
    "class StAdj(StDeclinable):\n",
    "#\n",
    "    @staticmethod\n",
    "    def pad_checker(pad):\n",
    "        if pad!='ip' and pad!='rp' and pad!='dp' and pad!='vp' and pad!='tp' and \\\n",
    "                pad!='pp' and pad!='sh' : \n",
    "            raise TypeError('pad must be ip, rp, dp, vp, tp, pp or sh')\n",
    "        return pad# пока особого смысла в этом нет\n",
    "    \n",
    "    def __init__(self,word=None,o=None,r=None,c=None,p=None):\n",
    "        StDeclinable.__init__(self,word,o,r,c,p)\n",
    "\n",
    "    def __repr__(self):\n",
    "        return 'StAdj<'+str(id(self))+'>('+\\\n",
    "            (repr(self.talk) if self.word==None \\\n",
    "                 else repr(self.word))+','+\\\n",
    "            self.post_repr()\n",
    "    \n",
    "    show_map=show_adj_map\n",
    "    \n",
    "def show_adj1(st,word,ends):\n",
    "    if st.chis=='mn' :\n",
    "        (ip,rp,dp,vp,tp,pp,sh)=ends['mn']\n",
    "    else:\n",
    "        (ip,rp,dp,vp,tp,pp,sh)=ends[st.rod]\n",
    "        \n",
    "    if   st.pad=='ip' : rez=ip\n",
    "    elif st.pad=='rp' : rez=rp\n",
    "    elif st.pad=='dp' : rez=dp\n",
    "    elif st.pad=='vp' : rez=vp[0] if st.odush else vp[1]\n",
    "    elif st.pad=='tp' : rez=tp\n",
    "    elif st.pad=='pp' : rez=pp\n",
    "    elif st.pad=='sh' : rez=sh\n",
    "    else: raise RuntimeError()\n",
    "        \n",
    "    return word+rez\n"
   ]
  },
  {
   "cell_type": "markdown",
   "metadata": {},
   "source": [
    "## Отображение"
   ]
  },
  {
   "cell_type": "code",
   "execution_count": 36,
   "metadata": {},
   "outputs": [],
   "source": [
    "#show_noun_map['я']=lambda st: show_noun1(st,\"\",\"я\",\"меня\",\"мне\",\"меня\",\"мной\",\"мне\")\n"
   ]
  },
  {
   "cell_type": "code",
   "execution_count": 37,
   "metadata": {
    "code_folding": []
   },
   "outputs": [],
   "source": [
    "show_adj_map['летучий'] =\\\n",
    "    lambda st: show_adj1(st,'летуч' ,\n",
    "        {\n",
    "            'm' :('ий','его','ему',('его','ий'),'им' ,'ем','' ),\n",
    "            's' :('ее','его','ему',('ий', 'ий'),'им' ,'ем','е'),\n",
    "            'g' :('ая','ей' ,'ей' ,('ую', 'ую'),'ей' ,'ей','а'),\n",
    "            'mn':('ие','их' ,'им' ,('их', 'ие'),'ими','их','и'),\n",
    "        }\n",
    "    )"
   ]
  },
  {
   "cell_type": "code",
   "execution_count": 38,
   "metadata": {
    "code_folding": []
   },
   "outputs": [],
   "source": [
    "show_num_map['один']=\\\n",
    "    lambda st: show_num1(st,'од' ,\n",
    "        {\n",
    "            'm' :('ин','ного','ному',('ного','ин'),'ним' ,'ном'),\n",
    "            's' :('но','ного','ному',('но'  ,'но'),'ним' ,'ном'),\n",
    "            'g' :('на','ной' ,'ной' ,('ну'  ,'ну'),'ной' ,'ной'),\n",
    "            'mn':('ни','них' ,'ним' ,('них', 'ни'),'ними','них'),\n",
    "        }\n",
    "    )\n",
    "show_num_map['два']=\\\n",
    "    (lambda st: \\\n",
    "        (\"две\" if st.rod=='g' else \"два\")                         if st.pad=='ip' else \\\n",
    "        \"двух\"                                                    if st.pad=='rp' else \\\n",
    "        \"двум\"                                                    if st.pad=='dp' else \\\n",
    "        (\"двух\" if st.odush else \"две\" if st.rod=='g' else \"два\") if st.pad=='vp' else \\\n",
    "        \"двумя\"                                                   if st.pad=='tp' else \\\n",
    "        \"двух\"                                                    if st.pad=='pp' else \\\n",
    "        throw(RuntimeError('unknown pad: '+st.pad))\n",
    "    )\n",
    "show_num_map['три']=\\\n",
    "    lambda st: show_num1(st,'тр' ,\n",
    "        {   'mn':('и','ёх' ,'ём' ,('ёх', 'и'),'емя','ёх'), }    )\n",
    "show_num_map['четыре']=\\\n",
    "    lambda st: show_num1(st,'четыр' ,\n",
    "        {   'mn':('е','ёх' ,'ём' ,('ёх', 'е'),'ьмя','ёх'), }    )\n",
    "show_num_map['пять']=\\\n",
    "    lambda st: show_num1(st,'пят' ,\n",
    "        {   'mn':('ь','и' ,'и' ,('ь', 'ь'),'ью','и'), }    )\n",
    "\n",
    "def show_verb1(st,word,end_map):\n",
    "    if st.form=='neopr' or st.form=='povel':\n",
    "        end = end_map[st.form]\n",
    "    else:\n",
    "        (i,you,he,shi,it,we,yous,they)=end_map[st.form]\n",
    "        if   (st.pers,st.chis)==(1,'ed'):\n",
    "            end = i\n",
    "        elif (st.pers,st.chis)==(2,'ed'):\n",
    "            end = you\n",
    "        elif (st.pers,st.chis)==(3,'ed'):\n",
    "            if   st.rod=='m' : end=he\n",
    "            elif st.rod=='g' : end=she\n",
    "            elif st.rod=='s' : end=it\n",
    "        elif (st.pers,st.chis)==(1,'mn'):\n",
    "            end = we\n",
    "        elif (st.pers,st.chis)==(2,'mn'):\n",
    "            end = yous\n",
    "        elif (st.pers,st.chis)==(3,'mn'):\n",
    "            end = they\n",
    "    return word+end\n",
    "\n",
    "show_verb_map['видеть']=\\\n",
    "    lambda st: show_verb1(st,'ви',\n",
    "        {    'neopr':\"деть\",\n",
    "             'povel':\"дь\",\n",
    "             'nast': (\"жу\",\"дишь\",\"дит\",\"дит\",\"дит\",\"дим\",\"дите\",\"дят\")\n",
    "        }   )"
   ]
  },
  {
   "cell_type": "markdown",
   "metadata": {},
   "source": [
    "## Правила"
   ]
  },
  {
   "cell_type": "markdown",
   "metadata": {},
   "source": [
    "### Словарь"
   ]
  },
  {
   "cell_type": "code",
   "execution_count": 39,
   "metadata": {
    "code_folding": []
   },
   "outputs": [],
   "source": [
    "ruwords={} #какие-то однословные правила складываются сюда, а какие-то остаются в функциях\n",
    "\n",
    "def add_runoun(name,och,odush,rod,chis,word,ip,rp,dp,vp,tp,pp):\n",
    "    ruwords[name]=StNoun(name,och,odush,rod,chis,'ip')\n",
    "    show_noun_map[name]=lambda st: show_noun1(st,word,ip,rp,dp,vp,tp,pp)\n",
    "\n",
    "def add_runoun2(name,rod,word,ip,rp,dp,vp,tp,pp,\\\n",
    "               mname,odush,mword,mip,mrp,mdp,mvp,mtp,mpp):\n",
    "    add_runoun(name,mname,odush,rod,'ed',word,ip,rp,dp,vp,tp,pp)\n",
    "    add_runoun(mname,name,odush,rod,'mn',mword,mip,mrp,mdp,mvp,mtp,mpp)\n"
   ]
  },
  {
   "cell_type": "code",
   "execution_count": 40,
   "metadata": {
    "code_folding": []
   },
   "outputs": [],
   "source": [
    "ruwords[\"я (муж)\"]=StProNoun(\"я\",\"мы\",1,True,'m','ed','ip')\n",
    "ruwords[\"я (жен)\"]=StProNoun(\"я\",\"мы\",1,True,'g','ed','ip')\n",
    "show_noun_map[\"я\"]=lambda st: show_noun1(st,'',\"я\",\"меня\",\"мне\",\"меня\",\"мной\",\"мне\")\n",
    "\n",
    "#                                  ип ,нет ,дать,вижу,творю,думаю\n",
    "add_runoun2(\"кот\"   ,'m'  ,'кот'  ,'' ,'а' ,'у' ,'а' ,'ом' ,'е' ,\n",
    "            \"коты\"  ,True ,'кот'  ,'ы','ов','ам','ов','ами','ах')\n",
    "\n",
    "add_runoun2(\"джем\"  ,'m'  ,'джем' ,'' ,'а' ,'у' ,''  ,'ом' ,'е' ,\n",
    "            \"джемы\" ,False,'джем' ,'ы','ов','ам','ы' ,'ами','ах')\n",
    "\n",
    "add_runoun2(\"ящик\"  ,'m'  ,'ящик' ,'' ,'а' ,'у' ,''  ,'ом' ,'е' ,\n",
    "            \"ящики\" ,False,'ящик' ,'и','ов','ам','и' ,'ами','ах')\n",
    "add_runoun2(\"урок\"  ,'m'  ,'урок' ,'' ,'а' ,'у' ,''  ,'ом' ,'е' ,\n",
    "            \"уроки\" ,False,'урок' ,'и','ов','ам','и' ,'ами','ах')\n",
    "\n",
    "add_runoun2(\"кошка\" ,'g'  ,'кошк' ,'а' ,'и' ,'е'  ,'у' ,'ой'  ,'е'  ,\n",
    "            \"кошки\" ,True ,'кош'  ,'ки','ек','кам','ек','ками','ках')\n",
    "\n",
    "add_runoun2(\"собака\",'g'  ,'собак','а' ,'и' ,'е'  ,'у'  ,'ой' ,'е' ,\n",
    "            \"собаки\",True ,'собак','и' ,''  ,'ам' ,''   ,'ами','ах')\n",
    "\n",
    "add_runoun2(\"ручка\" ,'g'  ,'ручк' ,'а' ,'и' ,'е'  ,'у'  ,'ой' ,'е'  ,\n",
    "            \"ручки\" ,False,'руч'  ,'ки','ек','кам','ки','ками','ках')\n",
    "add_runoun2(\"чашка\" ,'g'  ,'чашк' ,'а' ,'и' ,'е'  ,'у' ,'ой'  ,'е'  ,\n",
    "            \"чашки\" ,False,'чаш'  ,'ки','ек','кам','ки','ками','ках')\n",
    "\n",
    "add_runoun2(\"кепка\"  ,'g'  ,'кепк'  ,'а' ,'и' ,'е'  ,'у' ,'ой'  ,'е'  ,\n",
    "            \"кепки\"  ,False,'кеп'   ,'ки','ок','кам','ки','ками','ках')\n",
    "add_runoun2(\"шапка\"  ,'g'  ,'шапк'  ,'а' ,'и' ,'е'  ,'у' ,'ой'  ,'е'  ,\n",
    "            \"шапки\"  ,False,'шап'   ,'ки','ок','кам','ки','ками','ках')\n",
    "add_runoun2(\"коробка\",'g'  ,'коробк','а' ,'и' ,'е'  ,'у' ,'ой'  ,'е'  ,\n",
    "            \"коробки\",False,'короб' ,'ки','ок','кам','ки','ками','ках')\n",
    "\n",
    "add_runoun2(\"крыса\" ,'g'  ,'крыс' ,'а','ы','е' ,'у' ,'ой' ,'е' ,\n",
    "            \"крысы\" ,True ,'крыс' ,'ы','' ,'ам',''  ,'ами','ах')\n",
    "add_runoun2(\"курица\",'g'  ,'куриц','а','ы','е' ,'у' ,'ой' ,'е' ,\n",
    "            \"курицы\",True ,'куриц','ы','' ,'ам',''  ,'ами','ах')\n",
    "add_runoun2(\"лиса\"  ,'g'  ,'лис'  ,'а','ы','е' ,'у' ,'ой' ,'е' ,\n",
    "            \"лисы\"  ,True ,'лис'  ,'ы','' ,'ам',''  ,'ами','ах')\n",
    "    \n",
    "add_runoun2(\"шляпа\" ,'g'  ,'шляп' ,'а','ы','е' ,'у' ,'ой' ,'е' ,\n",
    "            \"шляпы\" ,False,'шляп' ,'ы','' ,'ам','ы' ,'ами','ах')\n",
    "\n",
    "add_runoun2(\"свинья\",'g'  ,'свинь','я' ,'и' ,'е'  ,'ю' ,'ёй'  ,'е'  ,\n",
    "            \"свиньи\",True ,'свин' ,'ьи','ей','ьям','ей','ьями','ьях')\n",
    "\n",
    "add_runoun2(\"мышь\"   ,'g'  ,'мыш'   ,'ь','и' ,'и' ,'ь' ,'ью' ,'и' ,\n",
    "            \"мыши\"   ,True ,'мыш'   ,'и','ей','ам','ей','ами','ах')\n",
    "\n",
    "add_runoun2(\"кровать\",'g'  ,'кроват','ь','и' ,'и' ,'ь' ,'ью' ,'и' ,\n",
    "            \"кровати\",False,'кроват','и','ей','ям','и' ,'ями','ях')\n",
    "\n",
    "add_runoun2(\"ружьё\"  ,'s'  ,'ружь'  ,'ё' ,'я' ,'ю'  ,'ё' ,'ём'  ,'е'  ,\n",
    "            \"ружья\"  ,False,'руж'   ,'ья','ей','ьям','ьи','ьями','ьях')\n",
    "\n",
    "add_runoun2(\"вареньё\",'s'  ,'варень','е' ,'я' ,'ю'  ,'е' ,'ем' ,'е' ,\n",
    "            \"варенья\",False,'варен' ,'ья','ий','ьям','ья','ьями','ьях')\n",
    "\n",
    "add_runoun2(\"ребёнок\",'m'  ,'ребён','ок' ,'ка' ,'ку'  ,'ка' ,'ком' ,'ке' ,\n",
    "            \"дети\"   ,True ,'дет' ,'и','ей','ям','ей','ьми','ях')\n",
    "\n",
    "add_runoun('часы (предмет)',None,False,'m','mn','час','ы','ов','ам','ы','ами','ах')\n"
   ]
  },
  {
   "cell_type": "code",
   "execution_count": 41,
   "metadata": {},
   "outputs": [],
   "source": [
    "def r_letuchij(): return StAdj('летучий',True,'g','ed','ip')\n",
    "\n",
    "def r_odin(): return StNum('один','1',False,'m','ed','ip')\n",
    "def r_dva(): return StNum('два','2-4',False,'m','mn','ip')\n",
    "def r_tri(): return StNum('три','2-4',False,'m','mn','ip')\n",
    "def r_chetyre(): return StNum('четыре','2-4',False,'m','mn','ip')\n",
    "def r_pyat(): return StNum('пять','>=5',False,'m','mn','ip')\n",
    "\n",
    "#(self,word,oasp=0,asp=None,form=None,rod=0,chis=0,pers=0)\n",
    "def r_videt(): return StVerb('видеть',\"увидеть\",'nesov','neopr',None,None,None)"
   ]
  },
  {
   "cell_type": "markdown",
   "metadata": {},
   "source": [
    "### Составные"
   ]
  },
  {
   "cell_type": "code",
   "execution_count": 42,
   "metadata": {
    "code_folding": []
   },
   "outputs": [],
   "source": [
    "def r_noun_and_noun(sn,a,n):\n",
    "    return StNoun([\n",
    "        I(dep=sn),\n",
    "        I(nodep=S('и',a.attrs)),\n",
    "        I(dep=n)\n",
    "    ],c='mn', p='ip',o=False,r='m')\n",
    "def r_noun_comma_noun(sn,c,n):\n",
    "    return StNoun([\n",
    "        I(dep=sn),\n",
    "        I(punct=S(',',c.attrs)),\n",
    "        I(dep=n)\n",
    "    ],c='mn', p='ip',o=False,r='m')\n"
   ]
  },
  {
   "cell_type": "code",
   "execution_count": 43,
   "metadata": {
    "code_folding": []
   },
   "outputs": [],
   "source": [
    "def r_a_noun(a,n): \n",
    "    return SAttrs.to_right(a,n)\n",
    "\n",
    "def r_adj_noun(a,n): \n",
    "    return StNoun([\n",
    "        I(dep=a),\n",
    "        I(maindep=n)\n",
    "    ])\n"
   ]
  },
  {
   "cell_type": "code",
   "execution_count": 44,
   "metadata": {
    "code_folding": []
   },
   "outputs": [],
   "source": [
    "def r_numeral_noun(num,n):\n",
    "    if num.chis!=n.chis :\n",
    "        print('не совпадают числа числ. и сущ.:',str(num),str(n))\n",
    "        num.chis=n.chis\n",
    "    num.rod=n.rod\n",
    "    num.odush=n.odush\n",
    "    return StNum([\n",
    "        I(quantity=num),\n",
    "        I(maindep=n)\n",
    "    ],quantity=num.quantity)\n",
    "\n",
    "def r_noun_numeral(n,num):\n",
    "    return StNoun([\n",
    "        I(maindep=n),\n",
    "        I(nomer=num)\n",
    "    ])\n"
   ]
  },
  {
   "cell_type": "code",
   "execution_count": 45,
   "metadata": {},
   "outputs": [],
   "source": [
    "def r_to_verb(t,v): \n",
    "    return SAttrs.to_right(t,v)\n",
    "\n",
    "def r_noun_verb(n,v): \n",
    "    v.form='nast'\n",
    "    v.pers=n.pers\n",
    "    v.chis=n.chis\n",
    "    v.rod=n.rod\n",
    "    return StVerb([I(ip=n),I(main=v)])\n",
    "def r_verb_noun(v,n): \n",
    "    n.pad='vp'\n",
    "    return StVerb([I(maindep=v),I(ip=n)])"
   ]
  },
  {
   "cell_type": "markdown",
   "metadata": {},
   "source": [
    "\n",
    "## Паттерны"
   ]
  },
  {
   "cell_type": "markdown",
   "metadata": {},
   "source": [
    "### Словарь"
   ]
  },
  {
   "cell_type": "code",
   "execution_count": 46,
   "metadata": {
    "code_folding": []
   },
   "outputs": [],
   "source": [
    "dict_adj={\n",
    "    'a' : S(''),\n",
    "    #'a' : r_nekotoryj(),\n",
    "    'an' : S(''),\n",
    "    #'an' : r_nekotoryj(),\n",
    "}"
   ]
  },
  {
   "cell_type": "code",
   "execution_count": 47,
   "metadata": {
    "code_folding": []
   },
   "outputs": [],
   "source": [
    "dict_noun={\n",
    "    'I': ruwords[\"я (муж)\"],\n",
    "    #'I': ruwords[\"я (жен)\"],\n",
    "    \n",
    "    #'cat':   ruwords[\"кошка\"],\n",
    "    'cat':   ruwords[\"кот\"],\n",
    "    #'cats':   ruwords[\"кошки\"],\n",
    "    'cats':   ruwords[\"коты\"],\n",
    "    \n",
    "    #'rat':   ruwords[\"мышь\"],\n",
    "    'rat':   ruwords['крыса'],\n",
    "    #'rats':   ruwords[\"мыши\"],\n",
    "    'rats':   ruwords['крысы'],\n",
    "    \n",
    "    'bat':   r_adj_noun(deepcopy(r_letuchij()),deepcopy(ruwords[\"мышь\"])),\n",
    "    'bats':   r_adj_noun(deepcopy(r_letuchij()),deepcopy(ruwords[\"мыши\"])),\n",
    "    \n",
    "    'lesson':ruwords[\"урок\"],\n",
    "    'lessons':ruwords[\"уроки\"],\n",
    "    \n",
    "    'cap':   ruwords[\"кепка\"],\n",
    "    #'cap':  ruwords[\"шапка\"],\n",
    "    'caps':   ruwords[\"кепки\"],\n",
    "    #'caps':  ruwords[\"шапки\"],\n",
    "    \n",
    "    'pen':   ruwords[\"ручка\"],\n",
    "    'pens':   ruwords[\"ручки\"],\n",
    "    \n",
    "    'hat':   ruwords[\"шляпа\"],\n",
    "    'hats':   ruwords[\"шляпы\"],\n",
    "    \n",
    "    'hen':   ruwords[\"курица\"],\n",
    "    'hens':   ruwords[\"курицы\"],\n",
    "    \n",
    "    'dog':   ruwords['собака'],\n",
    "    'dogs':   ruwords['собаки'],\n",
    "    'pig':   ruwords['свинья'],\n",
    "    'pigs':   ruwords['свиньи'],\n",
    "    'gun':   ruwords['ружьё'],\n",
    "    'guns':   ruwords['ружья'],\n",
    "    'cup':   ruwords['чашка'],\n",
    "    'cups':   ruwords['чашки'],\n",
    "    \n",
    "    #'box':   ruwords['коробка'],\n",
    "    #'boxes':   ruwords['коробки'],\n",
    "    'box':   ruwords['ящик'],\n",
    "    'boxes':   ruwords['ящики'],\n",
    "\n",
    "    'jam':   ruwords['джем'],\n",
    "    #'jam':   ruwords['варенье'],\n",
    "\n",
    "    'bed':   ruwords['кровать'],\n",
    "    'beds':   ruwords['кровати'],\n",
    "\n",
    "    'fox':   ruwords['лиса'],\n",
    "    'foxes':   ruwords['лисы'],\n",
    "    \n",
    "    'child': ruwords['ребёнок'],\n",
    "    'children': ruwords['дети'],\n",
    "    \n",
    "    'watch': ruwords['часы (предмет)']\n",
    "}"
   ]
  },
  {
   "cell_type": "code",
   "execution_count": 48,
   "metadata": {
    "code_folding": []
   },
   "outputs": [],
   "source": [
    "dict_numeral={\n",
    "    'one':   r_odin(),\n",
    "    'two':   r_dva(),\n",
    "    'three': r_tri(),\n",
    "    'four':  r_chetyre(),\n",
    "    'five':  r_pyat(),\n",
    "}"
   ]
  },
  {
   "cell_type": "code",
   "execution_count": 49,
   "metadata": {},
   "outputs": [],
   "source": [
    "dict_verb={\n",
    "    'see': r_videt(),\n",
    "}"
   ]
  },
  {
   "cell_type": "markdown",
   "metadata": {},
   "source": [
    "### Составные"
   ]
  },
  {
   "cell_type": "code",
   "execution_count": 50,
   "metadata": {
    "code_folding": []
   },
   "outputs": [],
   "source": [
    "def debug_pp(fun):\n",
    "    def wrapper(s,p):\n",
    "        print('{'+'.'*p+fun.__name__)\n",
    "        rezs=fun(s,p)\n",
    "        print('_'+'.'*p+str(len(rezs)),'in ',fun.__name__,'}',\n",
    "              [(p,str(r)) for (p,r) in rezs],'\\n')\n",
    "        for i in rezs:\n",
    "            if isinstance(i[1],StDeclinable):\n",
    "                i[1].check_attrs('wrapper:'+fun.__name__)\n",
    "        return rezs\n",
    "#    return wrapper\n",
    "    return fun"
   ]
  },
  {
   "cell_type": "code",
   "execution_count": 51,
   "metadata": {},
   "outputs": [],
   "source": [
    "@debug_pp\n",
    "def p_numeral(s,p):\n",
    "    return fromdict(dict_numeral)(s,p)"
   ]
  },
  {
   "cell_type": "code",
   "execution_count": 52,
   "metadata": {},
   "outputs": [],
   "source": [
    "#2->\n",
    "@debug_pp\n",
    "def p_adj(s,p):\n",
    "    return fromdict(dict_adj)(s,p)"
   ]
  },
  {
   "cell_type": "code",
   "execution_count": 53,
   "metadata": {
    "code_folding": [
     1,
     35
    ]
   },
   "outputs": [],
   "source": [
    "@debug_pp\n",
    "def p_adj_noun3(s,p):\n",
    "    rezs=[]\n",
    "    if 1: #исключение словосочетания\n",
    "        def lp_an_a(str,pos):\n",
    "            lrezs=word('an')(str,pos)\n",
    "            if len(lrezs)>0 : return lrezs\n",
    "            return word('a')(str,pos)\n",
    "        rezs+=p_seq(s,p,[ lp_an_a, p_noun3 ],r_a_noun)\n",
    "        #return p_seq(s,p,[ lp_an_a, p_noun3 ],r_nekotoryj_noun)\n",
    "    if len(rezs)>0 : return rezs\n",
    "    #словосочетание\n",
    "    return p_seq(s,p,[ p_adj, p_noun3 ],r_adj_noun)    \n",
    "    \n",
    "@debug_pp\n",
    "def p_noun3(s,p):\n",
    "    rezs=  p_adj_noun3(s,p)\n",
    "    rezs+= p_numeral(s,p)\n",
    "    rezs+= fromdict(dict_noun)(s,p)\n",
    "    return rezs\n",
    "\n",
    "@debug_pp\n",
    "def p_noun2(s,p):\n",
    "    rezs=  p_seq(s,p,[ p_noun3, p_numeral ], r_noun_numeral)\n",
    "    rezs+= p_noun3(s,p)\n",
    "    return rezs\n",
    "\n",
    "@debug_pp\n",
    "def p_noun1(s,p):\n",
    "    rezs=  p_seq(s,p,[ p_numeral, p_noun2 ], r_numeral_noun)\n",
    "    rezs+= p_noun2(s,p)\n",
    "    return rezs\n",
    "\n",
    "#1->\n",
    "@debug_pp\n",
    "def p_noun(s,p):\n",
    "    @debug_pp\n",
    "    def p_noun1_and_noun(s,p):\n",
    "        rezs=  p_seq(s,p,[ p_noun1, word('and'), p_noun ],r_noun_and_noun  )\n",
    "        rezs+= p_seq(s,p,[ p_noun1, word(',')  , p_noun ],r_noun_comma_noun)\n",
    "        return rezs\n",
    "    rezs=  p_noun1_and_noun(s,p)\n",
    "    rezs+= p_noun1(s,p)\n",
    "    return rezs"
   ]
  },
  {
   "cell_type": "code",
   "execution_count": 54,
   "metadata": {},
   "outputs": [],
   "source": [
    "@debug_pp\n",
    "def p_verb1(s,p):\n",
    "    rezs=  p_seq(s,p,[fromdict(dict_verb),p_noun],r_verb_noun)\n",
    "#    rezs+= p_seq(s,p,[word('to'),fromdict(dict_verb)],r_to_verb)\n",
    "    if len(rezs)>0: return rezs\n",
    "    rezs+= fromdict(dict_verb)(s,p)\n",
    "    return rezs\n",
    "\n",
    "@debug_pp\n",
    "def p_verb(s,p):\n",
    "    rezs=  p_seq(s,p,[p_noun,p_verb1],r_noun_verb)\n",
    "    rezs+= p_seq(s,p,[word('to'),p_verb1],r_to_verb)\n",
    "    if len(rezs)>0: return rezs\n",
    "    rezs+= p_verb1(s,p)\n",
    "    return rezs"
   ]
  },
  {
   "cell_type": "code",
   "execution_count": 55,
   "metadata": {},
   "outputs": [],
   "source": [
    "@debug_pp\n",
    "def p_phrase(s,p):\n",
    "    rezs=p_verb(s,p)\n",
    "    if len(rezs)>0: return rezs\n",
    "    rezs=p_noun(s,p)\n",
    "    if len(rezs)>0: return rezs\n",
    "    rezs=p_adj(s,p)\n",
    "    return rezs"
   ]
  },
  {
   "cell_type": "code",
   "execution_count": 56,
   "metadata": {},
   "outputs": [],
   "source": [
    "dict_proper={}\n",
    "@debug_pp\n",
    "def p_sentence(s,p):\n",
    "    first_capital = s[p]=='I' or ch_title in s[p].attrs.changers\n",
    "    def r_sentence(ph,d):\n",
    "        rez=StC([I(nodep=ph),I(punct=d)])\n",
    "        if first_capital: rez.attrs.changers|={ch_sentence}\n",
    "        return rez\n",
    "    restore_title=False\n",
    "    if ch_title in s[p].attrs.changers and s[p] not in dict_proper:\n",
    "        s[p].attrs.changers-={ch_title}\n",
    "        restore_title=True\n",
    "    rezs=p_seq(s,p,[p_phrase,word('.')],r_sentence)\n",
    "    if restore_title:\n",
    "        s[p].attrs.changers|={ch_title}\n",
    "    return rezs"
   ]
  },
  {
   "cell_type": "code",
   "execution_count": 57,
   "metadata": {
    "code_folding": [
     0,
     1
    ]
   },
   "outputs": [],
   "source": [
    "def en2ru(s): # main\n",
    "    def maxlen_rezs(rezs):\n",
    "        m=0\n",
    "        im=set()\n",
    "        for i in range(len(rezs)):\n",
    "            if rezs[i][0]>m:\n",
    "                m=rezs[i][0]\n",
    "                im={i}\n",
    "            elif rezs[i][0]==m:\n",
    "                im.add(i)\n",
    "        return [rezs[i] for i in im]\n",
    "                \n",
    "    s=[ i for i in tokenizer(s)]\n",
    "    if len(s)==0:\n",
    "        print('no tokens')\n",
    "        return ''\n",
    "\n",
    "    p=0\n",
    "    rez=[]\n",
    "    while p<len(s):\n",
    "        rezs=maxlen_rezs(p_sentence(s,p))\n",
    "        if len(rezs)==0: break\n",
    "        p1,r1=next(iter(rezs))\n",
    "        if len(rezs)>1:\n",
    "            print('multiple results:')\n",
    "            print(SAttrs.join(s[p:p1]))\n",
    "            for void,r in rezs:\n",
    "                print(str(r))\n",
    "        p=p1\n",
    "        rez.append(I(nodep=r1))\n",
    "\n",
    "    if len(rez)>0:\n",
    "        if p!=len(s):\n",
    "            print('NOT PARSED:')\n",
    "            print(SAttrs.join(s[p:]))\n",
    "        return str(StC(rez))\n",
    "    else:\n",
    "        assert p==0\n",
    "        rezs=maxlen_rezs(p_phrase(s,p))\n",
    "        if len(rezs)==0:\n",
    "            raise ParseError('no results')\n",
    "        p1,r1=next(iter(rezs))\n",
    "        if len(rezs)>1:\n",
    "            print('multiple results:')\n",
    "            print(SAttrs.join(s[p:p1]))\n",
    "            for void,r in rezs:\n",
    "                print(str(r))\n",
    "        p=p1\n",
    "        if p!=len(s):\n",
    "            print('NOT PARSED!')\n",
    "            print(SAttrs.join(s[p:]))\n",
    "        return str(r1)\n"
   ]
  },
  {
   "cell_type": "markdown",
   "metadata": {},
   "source": [
    "# Тесты"
   ]
  },
  {
   "cell_type": "markdown",
   "metadata": {},
   "source": [
    "```\n",
    "... изучить модули\n",
    "выделить в модули общее и классы\n",
    "сделать ф-цию для тестирования\n",
    "... изучить подключение к существующему ядру\n",
    "и сделать отдельные ноутбуки с тестами,\n",
    "иначе выделить модули тесты общего и тесты \n",
    "сделать переменную для дебага паттернов\n",
    "? попробовать сделать кэширование результатов\n",
    "    статистика использования паттернов/словарей/правил\n",
    "попробовать сделать mod(x,prop=val,prop=val...)\n",
    "\n",
    "местоимения вп\n",
    "разбиение на dict_noun_uno & dict_noun_many\n",
    "dict_verb, dict_verb_s\n",
    "    7)  у меня есть\n",
    "        у меня нет\n",
    "        покажи\n",
    "        дай\n",
    "    8)  скажи\n",
    "    9)  (находится) на/в\n",
    "    10) вопросы-ответы\n",
    "        считать от до\n",
    "        ловить\n",
    "    11) сколько\n",
    "    13) где\n",
    "    14) какого цвета\n",
    "        КОНТЕКСТ\n",
    "    15) посмотри\n",
    "\n",
    "watch, двое, трое, пятеро\n",
    "...\n",
    "нужен LR-парсер, причем недетерминированный - посмотреть, какие есть библиотеки\n",
    "    возможно стоит придумать уровни для паттернов...\n",
    "атрибуты слов: (теги)\n",
    "```"
   ]
  },
  {
   "cell_type": "code",
   "execution_count": 58,
   "metadata": {
    "code_folding": [
     0,
     24,
     28
    ]
   },
   "outputs": [],
   "source": [
    "def decline1(s,pads=['ip','rp','dp','vp','tp','pp']):\n",
    "    s=[ i for i in tokenizer(s)]\n",
    "    # добавить дочитывание точки и остаточных пробелов\n",
    "    rezs=[res for pos,res in p_noun(s,0) if pos==len(s)]\n",
    "    if len(rezs)!=1:\n",
    "        raise TextError(rezs)\n",
    "    tmp=rezs[0]\n",
    "    \n",
    "    m=[]\n",
    "    for p in pads:\n",
    "        #print(str(tmp))\n",
    "        prompt= \\\n",
    "            '' if p=='ip' else\\\n",
    "            'нет ' if p=='rp' else\\\n",
    "            'дать ' if p=='dp' else\\\n",
    "            'вижу ' if p=='vp' else\\\n",
    "            'творю ' if p=='tp' else\\\n",
    "            'думаю о ' if p=='pp' else\\\n",
    "            throw(ValueError('bad pad: '+p))\n",
    "        #rez=deepcopy(tmp)\n",
    "        tmp.pad=p\n",
    "        m.append(prompt+str(tmp))#        print(prompt+str(tmp))\n",
    "    return m\n",
    "\n",
    "def decline(s,pads=['ip','rp','dp','vp','tp','pp']):\n",
    "    for i in decline1(s,pads):\n",
    "        print(i)\n",
    "    \n",
    "def decline_test(s,rezs,pads=['ip','rp','dp','vp','tp','pp']):\n",
    "    tmp=decline1(s,pads)\n",
    "    if tmp==rezs:\n",
    "        print('OK')\n",
    "    else:\n",
    "        print('TestError')\n",
    "        if len(tmp)!=len(rezs):\n",
    "            print(tmp)\n",
    "        else:\n",
    "            for i in range(len(tmp)):\n",
    "                if tmp[i]!=rezs[i]:\n",
    "                    print(i+1,')',tmp[i])\n",
    "    "
   ]
  },
  {
   "cell_type": "code",
   "execution_count": 59,
   "metadata": {
    "scrolled": false
   },
   "outputs": [
    {
     "name": "stdout",
     "output_type": "stream",
     "text": [
      "не совпадают числа числ. и сущ.: один часы\n",
      "не совпадают числа числ. и сущ.: один часы\n",
      "не совпадают числа числ. и сущ.: один часы\n",
      "одни часы\n",
      "нет одних часов\n",
      "дать одним часам\n",
      "вижу одни часы\n",
      "творю одними часами\n",
      "думаю о одних часах\n"
     ]
    }
   ],
   "source": [
    "decline('one watch')"
   ]
  },
  {
   "cell_type": "markdown",
   "metadata": {},
   "source": [
    "## Lesson 1"
   ]
  },
  {
   "cell_type": "code",
   "execution_count": 60,
   "metadata": {},
   "outputs": [
    {
     "data": {
      "text/plain": [
       "'кот'"
      ]
     },
     "execution_count": 60,
     "metadata": {},
     "output_type": "execute_result"
    }
   ],
   "source": [
    "en2ru('cat')"
   ]
  },
  {
   "cell_type": "code",
   "execution_count": 61,
   "metadata": {},
   "outputs": [
    {
     "data": {
      "text/plain": [
       "'кот'"
      ]
     },
     "execution_count": 61,
     "metadata": {},
     "output_type": "execute_result"
    }
   ],
   "source": [
    "en2ru('a cat')"
   ]
  },
  {
   "cell_type": "code",
   "execution_count": 62,
   "metadata": {},
   "outputs": [
    {
     "data": {
      "text/plain": [
       "'крыса'"
      ]
     },
     "execution_count": 62,
     "metadata": {},
     "output_type": "execute_result"
    }
   ],
   "source": [
    "en2ru('rat')"
   ]
  },
  {
   "cell_type": "code",
   "execution_count": 63,
   "metadata": {},
   "outputs": [
    {
     "data": {
      "text/plain": [
       "'летучая мышь'"
      ]
     },
     "execution_count": 63,
     "metadata": {},
     "output_type": "execute_result"
    }
   ],
   "source": [
    "en2ru('bat')"
   ]
  },
  {
   "cell_type": "code",
   "execution_count": 64,
   "metadata": {},
   "outputs": [
    {
     "data": {
      "text/plain": [
       "''"
      ]
     },
     "execution_count": 64,
     "metadata": {},
     "output_type": "execute_result"
    }
   ],
   "source": [
    "en2ru('a')"
   ]
  },
  {
   "cell_type": "code",
   "execution_count": 65,
   "metadata": {},
   "outputs": [
    {
     "data": {
      "text/plain": [
       "'урок'"
      ]
     },
     "execution_count": 65,
     "metadata": {},
     "output_type": "execute_result"
    }
   ],
   "source": [
    "en2ru('lesson')"
   ]
  },
  {
   "cell_type": "code",
   "execution_count": 66,
   "metadata": {},
   "outputs": [
    {
     "data": {
      "text/plain": [
       "'_Кот и кот'"
      ]
     },
     "execution_count": 66,
     "metadata": {},
     "output_type": "execute_result"
    }
   ],
   "source": [
    "en2ru('_Cat and cat')"
   ]
  },
  {
   "cell_type": "code",
   "execution_count": 67,
   "metadata": {
    "scrolled": true
   },
   "outputs": [
    {
     "data": {
      "text/plain": [
       "'_кот и кот'"
      ]
     },
     "execution_count": 67,
     "metadata": {},
     "output_type": "execute_result"
    }
   ],
   "source": [
    "en2ru('_a cat and cat')"
   ]
  },
  {
   "cell_type": "code",
   "execution_count": 68,
   "metadata": {
    "scrolled": false
   },
   "outputs": [
    {
     "data": {
      "text/plain": [
       "'_кот, кот'"
      ]
     },
     "execution_count": 68,
     "metadata": {},
     "output_type": "execute_result"
    }
   ],
   "source": [
    "en2ru('_a cat , cat')"
   ]
  },
  {
   "cell_type": "code",
   "execution_count": 69,
   "metadata": {
    "scrolled": false
   },
   "outputs": [
    {
     "data": {
      "text/plain": [
       "'_кот, кот'"
      ]
     },
     "execution_count": 69,
     "metadata": {},
     "output_type": "execute_result"
    }
   ],
   "source": [
    "x=p_noun(tokenize('_a cat, cat'),0)[0][1]\n",
    "str(x)"
   ]
  },
  {
   "cell_type": "code",
   "execution_count": 70,
   "metadata": {},
   "outputs": [
    {
     "data": {
      "text/plain": [
       "'_кот, кот'"
      ]
     },
     "execution_count": 70,
     "metadata": {},
     "output_type": "execute_result"
    }
   ],
   "source": [
    "s=tokenize('_a cat, cat')\n",
    "rezs=p_seq(s,0,[ p_noun1, word(',')  , p_noun ],r_noun_comma_noun)\n",
    "str(rezs[0][1])"
   ]
  },
  {
   "cell_type": "code",
   "execution_count": 71,
   "metadata": {
    "scrolled": true
   },
   "outputs": [
    {
     "data": {
      "text/plain": [
       "'кот,_кот,_кот'"
      ]
     },
     "execution_count": 71,
     "metadata": {},
     "output_type": "execute_result"
    }
   ],
   "source": [
    "str(p_noun(tokenize('cat,_cat,_a cat'),0)[0][1])"
   ]
  },
  {
   "cell_type": "code",
   "execution_count": 72,
   "metadata": {
    "scrolled": false
   },
   "outputs": [
    {
     "data": {
      "text/plain": [
       "'cat,_cat,_a cat'"
      ]
     },
     "execution_count": 72,
     "metadata": {},
     "output_type": "execute_result"
    }
   ],
   "source": [
    "SAttrs.join(tokenize('cat,_cat,_a cat'))"
   ]
  },
  {
   "cell_type": "code",
   "execution_count": 73,
   "metadata": {},
   "outputs": [
    {
     "data": {
      "text/plain": [
       "'крыса, кот'"
      ]
     },
     "execution_count": 73,
     "metadata": {},
     "output_type": "execute_result"
    }
   ],
   "source": [
    "en2ru('rat, cat')"
   ]
  },
  {
   "cell_type": "markdown",
   "metadata": {},
   "source": [
    "## Lesson 2"
   ]
  },
  {
   "cell_type": "code",
   "execution_count": 74,
   "metadata": {
    "scrolled": true
   },
   "outputs": [
    {
     "data": {
      "text/plain": [
       "'кот И_Крыса'"
      ]
     },
     "execution_count": 74,
     "metadata": {},
     "output_type": "execute_result"
    }
   ],
   "source": [
    "en2ru('cat AND_Rat')"
   ]
  },
  {
   "cell_type": "code",
   "execution_count": 75,
   "metadata": {},
   "outputs": [
    {
     "data": {
      "text/plain": [
       "'ручка и курица'"
      ]
     },
     "execution_count": 75,
     "metadata": {},
     "output_type": "execute_result"
    }
   ],
   "source": [
    "en2ru('a pen and a hen')"
   ]
  },
  {
   "cell_type": "code",
   "execution_count": 76,
   "metadata": {},
   "outputs": [
    {
     "data": {
      "text/plain": [
       "'летучая мышь и кот'"
      ]
     },
     "execution_count": 76,
     "metadata": {},
     "output_type": "execute_result"
    }
   ],
   "source": [
    "en2ru('a bat and a cat')"
   ]
  },
  {
   "cell_type": "code",
   "execution_count": 77,
   "metadata": {
    "scrolled": false
   },
   "outputs": [
    {
     "data": {
      "text/plain": [
       "'курица, летучая мышь, кот и крыса'"
      ]
     },
     "execution_count": 77,
     "metadata": {},
     "output_type": "execute_result"
    }
   ],
   "source": [
    "en2ru('a hen, a bat, a cat and a rat')"
   ]
  },
  {
   "cell_type": "markdown",
   "metadata": {},
   "source": [
    "## Lesson 3"
   ]
  },
  {
   "cell_type": "code",
   "execution_count": 78,
   "metadata": {},
   "outputs": [
    {
     "data": {
      "text/plain": [
       "'один'"
      ]
     },
     "execution_count": 78,
     "metadata": {},
     "output_type": "execute_result"
    }
   ],
   "source": [
    "en2ru('one')"
   ]
  },
  {
   "cell_type": "code",
   "execution_count": 79,
   "metadata": {},
   "outputs": [
    {
     "data": {
      "text/plain": [
       "'летучая мышь, собака и свинья'"
      ]
     },
     "execution_count": 79,
     "metadata": {},
     "output_type": "execute_result"
    }
   ],
   "source": [
    "en2ru('a bat, a dog and a pig')"
   ]
  },
  {
   "cell_type": "code",
   "execution_count": 80,
   "metadata": {},
   "outputs": [
    {
     "data": {
      "text/plain": [
       "'одна собака'"
      ]
     },
     "execution_count": 80,
     "metadata": {},
     "output_type": "execute_result"
    }
   ],
   "source": [
    "en2ru('one dog')"
   ]
  },
  {
   "cell_type": "code",
   "execution_count": 81,
   "metadata": {},
   "outputs": [
    {
     "data": {
      "text/plain": [
       "'три собаки'"
      ]
     },
     "execution_count": 81,
     "metadata": {},
     "output_type": "execute_result"
    }
   ],
   "source": [
    "en2ru('three dogs')"
   ]
  },
  {
   "cell_type": "code",
   "execution_count": 82,
   "metadata": {},
   "outputs": [
    {
     "name": "stdout",
     "output_type": "stream",
     "text": [
      "крыса и кот\n",
      "нет крысы и кота\n",
      "дать крысе и коту\n",
      "вижу крысу и кота\n",
      "творю крысой и котом\n",
      "думаю о крысе и коте\n"
     ]
    }
   ],
   "source": [
    "decline('rat and cat')"
   ]
  },
  {
   "cell_type": "code",
   "execution_count": 83,
   "metadata": {
    "scrolled": true
   },
   "outputs": [
    {
     "name": "stdout",
     "output_type": "stream",
     "text": [
      "одна летучая мышь и три чашки\n",
      "нет одной летучей мыши и трёх чашек\n",
      "дать одной летучей мыши и трём чашкам\n",
      "вижу одну летучую мышь и три чашки\n",
      "творю одной летучей мышью и тремя чашками\n",
      "думаю о одной летучей мыши и трёх чашках\n"
     ]
    }
   ],
   "source": [
    "decline('one bat and three cups')"
   ]
  },
  {
   "cell_type": "code",
   "execution_count": 84,
   "metadata": {},
   "outputs": [
    {
     "data": {
      "text/plain": [
       "'одна летучая мышь и три чашки'"
      ]
     },
     "execution_count": 84,
     "metadata": {},
     "output_type": "execute_result"
    }
   ],
   "source": [
    "en2ru('one bat and three cups')"
   ]
  },
  {
   "cell_type": "code",
   "execution_count": 85,
   "metadata": {},
   "outputs": [
    {
     "name": "stdout",
     "output_type": "stream",
     "text": [
      "OK\n"
     ]
    }
   ],
   "source": [
    "decline_test('one, two, three, four, five',[\n",
    "    'один, два, три, четыре, пять',\n",
    "    'нет одного, двух, трёх, четырёх, пяти',\n",
    "    'дать одному, двум, трём, четырём, пяти',\n",
    "    'вижу один, два, три, четыре, пять',\n",
    "    'творю одним, двумя, тремя, четырьмя, пятью',\n",
    "    'думаю о одном, двух, трёх, четырёх, пяти',])"
   ]
  },
  {
   "cell_type": "code",
   "execution_count": 86,
   "metadata": {},
   "outputs": [
    {
     "name": "stdout",
     "output_type": "stream",
     "text": [
      "OK\n"
     ]
    }
   ],
   "source": [
    "decline_test('cat, one cat, cats, two cats, three cats, five cats',[\n",
    "    'кот, один кот, коты, два кота, три кота, пять котов',\n",
    "    'нет кота, одного кота, котов, двух котов, трёх котов, пяти котов',\n",
    "    'дать коту, одному коту, котам, двум котам, трём котам, пяти котам',\n",
    "    'вижу кота, одного кота, котов, двух котов, трёх котов, пять котов',\n",
    "    'творю котом, одним котом, котами, двумя котами, тремя котами, пятью котами',\n",
    "    'думаю о коте, одном коте, котах, двух котах, трёх котах, пяти котах',\n",
    "])"
   ]
  },
  {
   "cell_type": "code",
   "execution_count": 87,
   "metadata": {},
   "outputs": [
    {
     "name": "stdout",
     "output_type": "stream",
     "text": [
      "OK\n"
     ]
    }
   ],
   "source": [
    "decline_test('lesson, one lesson, lessons, two lessons, three lessons, five lessons',[\n",
    "    'урок, один урок, уроки, два урока, три урока, пять уроков',\n",
    "    'нет урока, одного урока, уроков, двух уроков, трёх уроков, пяти уроков',\n",
    "    'дать уроку, одному уроку, урокам, двум урокам, трём урокам, пяти урокам',\n",
    "    'вижу урок, один урок, уроки, два урока, три урока, пять уроков',\n",
    "    'творю уроком, одним уроком, уроками, двумя уроками, тремя уроками, пятью уроками',\n",
    "    'думаю о уроке, одном уроке, уроках, двух уроках, трёх уроках, пяти уроках',\n",
    "])"
   ]
  },
  {
   "cell_type": "code",
   "execution_count": 88,
   "metadata": {},
   "outputs": [
    {
     "name": "stdout",
     "output_type": "stream",
     "text": [
      "OK\n"
     ]
    }
   ],
   "source": [
    "decline_test('rat, one rat, rats, two rats, three rats, five rats',[\n",
    "    'крыса, одна крыса, крысы, две крысы, три крысы, пять крыс',\n",
    "    'нет крысы, одной крысы, крыс, двух крыс, трёх крыс, пяти крыс',\n",
    "    'дать крысе, одной крысе, крысам, двум крысам, трём крысам, пяти крысам',\n",
    "    'вижу крысу, одну крысу, крыс, двух крыс, трёх крыс, пять крыс',\n",
    "    'творю крысой, одной крысой, крысами, двумя крысами, тремя крысами, пятью крысами',\n",
    "    'думаю о крысе, одной крысе, крысах, двух крысах, трёх крысах, пяти крысах',\n",
    "])"
   ]
  },
  {
   "cell_type": "code",
   "execution_count": 89,
   "metadata": {},
   "outputs": [
    {
     "name": "stdout",
     "output_type": "stream",
     "text": [
      "ребёнок, один ребёнок, дети, два ребёнка, три ребёнка, пять детей\n",
      "нет ребёнка, одного ребёнка, детей, двух детей, трёх детей, пяти детей\n",
      "дать ребёнку, одному ребёнку, детям, двум детям, трём детям, пяти детям\n",
      "вижу ребёнка, одного ребёнка, детей, двух детей, трёх детей, пять детей\n",
      "творю ребёнком, одним ребёнком, детьми, двумя детьми, тремя детьми, пятью детьми\n",
      "думаю о ребёнке, одном ребёнке, детях, двух детях, трёх детях, пяти детях\n"
     ]
    }
   ],
   "source": [
    "decline('child, one child, children, two children, three children, five children')"
   ]
  },
  {
   "cell_type": "markdown",
   "metadata": {},
   "source": [
    "## Lesson 4"
   ]
  },
  {
   "cell_type": "code",
   "execution_count": 90,
   "metadata": {
    "scrolled": true
   },
   "outputs": [
    {
     "name": "stdout",
     "output_type": "stream",
     "text": [
      "  Шляпа, чашка и ящик.\n",
      "Летучая мышь, курица и лиса.\n"
     ]
    }
   ],
   "source": [
    "print(en2ru(\n",
    "'''  A hat, a cup and a box.\n",
    "A bat, a hen and a fox.'''\n",
    "))"
   ]
  },
  {
   "cell_type": "code",
   "execution_count": 91,
   "metadata": {},
   "outputs": [
    {
     "data": {
      "text/plain": [
       "'я'"
      ]
     },
     "execution_count": 91,
     "metadata": {},
     "output_type": "execute_result"
    }
   ],
   "source": [
    "en2ru('I')"
   ]
  },
  {
   "cell_type": "code",
   "execution_count": 92,
   "metadata": {
    "scrolled": true
   },
   "outputs": [
    {
     "data": {
      "text/plain": [
       "'видеть'"
      ]
     },
     "execution_count": 92,
     "metadata": {},
     "output_type": "execute_result"
    }
   ],
   "source": [
    "en2ru('to see')"
   ]
  },
  {
   "cell_type": "code",
   "execution_count": 93,
   "metadata": {},
   "outputs": [
    {
     "data": {
      "text/plain": [
       "'я вижу'"
      ]
     },
     "execution_count": 93,
     "metadata": {},
     "output_type": "execute_result"
    }
   ],
   "source": [
    "en2ru('I see')"
   ]
  },
  {
   "cell_type": "code",
   "execution_count": 94,
   "metadata": {
    "scrolled": true
   },
   "outputs": [
    {
     "data": {
      "text/plain": [
       "'видеть кота'"
      ]
     },
     "execution_count": 94,
     "metadata": {},
     "output_type": "execute_result"
    }
   ],
   "source": [
    "en2ru('see cat')"
   ]
  },
  {
   "cell_type": "code",
   "execution_count": 99,
   "metadata": {
    "scrolled": true
   },
   "outputs": [
    {
     "name": "stdout",
     "output_type": "stream",
     "text": [
      "Я вижу\n",
      "  свинью и курицу,\n",
      "  собаку и ружьё,\n",
      "  кота и шляпу.\n"
     ]
    }
   ],
   "source": [
    "print(en2ru('''I see\n",
    "  a pig and a hen,\n",
    "  a dog and a gun,\n",
    "  a cat and a hat.'''))"
   ]
  },
  {
   "cell_type": "code",
   "execution_count": 96,
   "metadata": {
    "scrolled": true
   },
   "outputs": [
    {
     "name": "stdout",
     "output_type": "stream",
     "text": [
      "я вижу один ящик, одну шляпу и одну кепку\n"
     ]
    }
   ],
   "source": [
    "print(en2ru('''I see one box, one hat and one cap'''))"
   ]
  },
  {
   "cell_type": "code",
   "execution_count": 97,
   "metadata": {
    "scrolled": true
   },
   "outputs": [
    {
     "name": "stdout",
     "output_type": "stream",
     "text": [
      "я вижу джем и одну чашку\n"
     ]
    }
   ],
   "source": [
    "print(en2ru('''I see jam and one cup'''))"
   ]
  },
  {
   "cell_type": "markdown",
   "metadata": {},
   "source": [
    "## Lesson 5"
   ]
  },
  {
   "cell_type": "code",
   "execution_count": 98,
   "metadata": {
    "scrolled": true
   },
   "outputs": [
    {
     "name": "stdout",
     "output_type": "stream",
     "text": [
      "no tokens\n"
     ]
    },
    {
     "data": {
      "text/plain": [
       "''"
      ]
     },
     "execution_count": 98,
     "metadata": {},
     "output_type": "execute_result"
    }
   ],
   "source": [
    "en2ru('')"
   ]
  },
  {
   "cell_type": "code",
   "execution_count": null,
   "metadata": {},
   "outputs": [],
   "source": []
  },
  {
   "cell_type": "code",
   "execution_count": null,
   "metadata": {},
   "outputs": [],
   "source": []
  }
 ],
 "metadata": {
  "hide_input": false,
  "kernelspec": {
   "display_name": "Python 3",
   "language": "python",
   "name": "python3"
  },
  "language_info": {
   "codemirror_mode": {
    "name": "ipython",
    "version": 3
   },
   "file_extension": ".py",
   "mimetype": "text/x-python",
   "name": "python",
   "nbconvert_exporter": "python",
   "pygments_lexer": "ipython3",
   "version": "3.6.7"
  }
 },
 "nbformat": 4,
 "nbformat_minor": 2
}
