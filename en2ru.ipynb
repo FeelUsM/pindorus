{
 "cells": [
  {
   "cell_type": "markdown",
   "metadata": {},
   "source": [
    "```\n",
    "p_паттерн парсит текст (str, pos), \n",
    "    вызывая другие паттерны, возвращающие древовидные структуры\n",
    "    эти древовидные структуры передает одному из правил\n",
    "        (остальные вызовы правил закомментированы \n",
    "            - в рамках одного текста каждый паттерн имеет ровно 1 смысл)\n",
    "    и возвращает (pos, результат этого правила), помещенный в массив\n",
    "    \n",
    "    /*пока на ошибках парсинга концентрировать не будем*/\n",
    "    если ничего не удалось распарсить, ???возвращаемый массив будет пустым???\n",
    "    если удалось распарсить несколько вариантов - в массиве будет насколько вариантов\n",
    "        сначала парсятся все исключения\n",
    "        потом парсятся все обычные варианты (если нет исключений)\n",
    "```\n",
    "\n",
    "```\n",
    "r_правило получает список древовидных структур\n",
    "    обрабатывает их по определенному правилу\n",
    "    возвращает древовидную структуру\n",
    "```\n",
    "\n",
    "```\n",
    "древовидная структура - map, со следующими ключами\n",
    "    type: 'noun'/'adj'/'verb'/'num'/...\n",
    "    постоянные параметры (для сущ.: род, число)\n",
    "    переменные параметры (для сущ.: падеж)\n",
    "    talk: массив древовидных структур\n",
    "        или пар (тип, слово), где тип - main/punct/other\n",
    "```\n",
    "\n",
    "```\n",
    "str(древовидная структура)\n",
    "    превращает древовидную структуру в строку\n",
    "```\n",
    "\n",
    "```\n",
    "для каждого типа элемента древовидной структуры будет map\n",
    "    где каждой строке (для сущ. - слово в и.п.) будет соответствовать\n",
    "        структура данных, которая вместе в переменными параметрами передается в \n",
    "        sh_функция для этого типа элемента древовидной структуры\n",
    "            которая будет возвращать слово в соотв. форме (для сущ. в соотв. падеже)\n",
    "```"
   ]
  },
  {
   "cell_type": "markdown",
   "metadata": {},
   "source": [
    "# Общее"
   ]
  },
  {
   "cell_type": "code",
   "execution_count": 1,
   "metadata": {
    "code_folding": []
   },
   "outputs": [],
   "source": [
    "def throw(ex):\n",
    "    raise ex"
   ]
  },
  {
   "cell_type": "code",
   "execution_count": 2,
   "metadata": {
    "code_folding": []
   },
   "outputs": [],
   "source": [
    "class TextError(ValueError):\n",
    "    pass\n",
    "class ParseError(ValueError):\n",
    "    pass\n",
    "class TestError(ValueError):\n",
    "    pass\n"
   ]
  },
  {
   "cell_type": "markdown",
   "metadata": {
    "heading_collapsed": true
   },
   "source": [
    "# Паттерны парсинга"
   ]
  },
  {
   "cell_type": "code",
   "execution_count": 3,
   "metadata": {
    "hidden": true
   },
   "outputs": [],
   "source": [
    "from copy import deepcopy,copy\n",
    "import re"
   ]
  },
  {
   "cell_type": "code",
   "execution_count": 4,
   "metadata": {
    "hidden": true
   },
   "outputs": [],
   "source": [
    "PUNCT_CHARS=\".,:;?!'-\""
   ]
  },
  {
   "cell_type": "code",
   "execution_count": 5,
   "metadata": {
    "hidden": true
   },
   "outputs": [],
   "source": [
    "class SAttrs:\n",
    "    __slots__=['pre','changers','tags']\n",
    "    def __init__(self,pre='',changers=None,tags=None):\n",
    "        if changers==None: changers=set()\n",
    "        if tags==None: tags=set()\n",
    "        self.pre=pre\n",
    "        self.changers=changers\n",
    "        self.tags=tags\n",
    "    def change(self,s):\n",
    "        for changer in self.changers:\n",
    "            s=changer(s)\n",
    "        # todo gtags\n",
    "        return self.pre+s\n",
    "    def __repr__(self):\n",
    "        return 'SAttrs<'+str(id(self))+'>(pre='+repr(self.pre)+\\\n",
    "            ',changers='+(('{'+\n",
    "                ','.join('<'+i.__name__+'>' for i in self.changers)+'}') \\\n",
    "                    if len(self.changers)>0 else 'set()')+\\\n",
    "            ',tags='+repr(self.tags)+')'\n",
    "    \n",
    "    @staticmethod\n",
    "    def join(arr):\n",
    "        def subr(g):\n",
    "            yield str(next(g))\n",
    "            for i in g:\n",
    "                s=str(i)\n",
    "                if i.attrs.pre!='' or re.fullmatch('['+re.escape(PUNCT_CHARS)+']*',s):\n",
    "                    yield s\n",
    "                else: yield ' '+s\n",
    "        return ''.join(subr(iter(arr)))\n",
    "\n",
    "    @staticmethod\n",
    "    def to_right(l,r):\n",
    "        if r.attrs.pre=='':\n",
    "            r.attrs.pre=l.attrs.pre\n",
    "        r.attrs.changers|=l.attrs.changers\n",
    "        r.attrs.tags|=l.attrs.tags\n",
    "        return r\n",
    "    @staticmethod\n",
    "    def to_left(l,r):\n",
    "        l.attrs.change|=r.attrs.change\n",
    "        l.attrs.tags|=r.attrs.tags\n",
    "        return l\n"
   ]
  },
  {
   "cell_type": "code",
   "execution_count": 6,
   "metadata": {
    "code_folding": [],
    "hidden": true
   },
   "outputs": [],
   "source": [
    "class S(str): # строка с атрибутом\n",
    "    __slots__='attrs'\n",
    "    def __new__(cls,s,attrs=None):\n",
    "        return str.__new__(cls,s)\n",
    "    def __init__(self,s,attrs=None):\n",
    "        self.attrs = attrs if attrs!=None else SAttrs()\n",
    "        \n",
    "    def __repr__(self):\n",
    "        return 'S('+str.__repr__(self)+','+repr(self.attrs)+')'\n",
    "    def __str__(self):\n",
    "        return self.attrs.change(str.__str__(self))\n",
    "\n",
    "#.pre - строка - вместо начальных пробелов\n",
    "#.tags - множество пар строк - объединяется\n",
    "#.changers - множество функций - объединяется"
   ]
  },
  {
   "cell_type": "code",
   "execution_count": 7,
   "metadata": {
    "code_folding": [],
    "hidden": true
   },
   "outputs": [],
   "source": [
    "def sp_seq(str,pos,patterns):\n",
    "#    for patt in patterns:\n",
    "#        tmp=patt(str,pos)\n",
    "#        if len(tmp)>1 : raise NotImplementedError()\n",
    "#        if len(tmp)==0 : return []\n",
    "#        (pos,tmp)=tmp[0]\n",
    "#        rezs.append(tmp)\n",
    "#    return [(pos,rezs)]\n",
    "    if len(patterns)==1:\n",
    "        return [(p,[r]) for (p,r) in patterns[0](str,pos)]\n",
    "    first=patterns[0](str,pos)\n",
    "    first.sort(key=lambda i:i[0]) # в дальнейшем отключить повторное вычисление \n",
    "    # продолжения для одинаковых позиций\n",
    "    rezs=[]\n",
    "    for r in first:\n",
    "        tmp=sp_seq(str,r[0],patterns[1:])\n",
    "        for rr in tmp:\n",
    "            rr[1].insert(0,r[1])\n",
    "        rezs+=tmp\n",
    "    return rezs"
   ]
  },
  {
   "cell_type": "code",
   "execution_count": 8,
   "metadata": {
    "code_folding": [],
    "hidden": true
   },
   "outputs": [],
   "source": [
    "# 'word'\n",
    "def sp_const_word(str,pos,word):\n",
    "    return [(pos+len(word),word)] if str[pos:pos+len(word)]==word else []\n"
   ]
  },
  {
   "cell_type": "code",
   "execution_count": 9,
   "metadata": {
    "code_folding": [],
    "hidden": true
   },
   "outputs": [],
   "source": [
    "def ch_title(s):\n",
    "    return s.title()\n",
    "def ch_upper(s):\n",
    "    return s.upper()\n",
    "def ch_sentence(s):\n",
    "    if len(s)==0: return ''\n",
    "    return s[0].upper()+s[1:]\n",
    "\n",
    "# [a-zA-Z]+\n",
    "def sp_word(str,pos):\n",
    "    pos1=pos\n",
    "    while pos1<len(str) and \\\n",
    "        (str[pos1]>='a' and str[pos1]<='z' or str[pos1]>='A' and str[pos1]<='Z') :\n",
    "        pos1+=1\n",
    "    if pos1==pos:\n",
    "        return []\n",
    "\n",
    "    if str[pos:pos1]=='I':\n",
    "        return [(pos1,S('I'))]\n",
    "\n",
    "    s=S(str[pos:pos1].lower())\n",
    "    if str[pos:pos1].islower():\n",
    "        pass\n",
    "    elif str[pos:pos1].istitle():\n",
    "        s.attrs.changers={ch_title}\n",
    "    elif str[pos:pos1].isupper():\n",
    "        s.attrs.changers={ch_upper}\n",
    "    else:\n",
    "        print(s,' - перепутаны заглавные и малые буквы')\n",
    "    return [(pos1,s)]"
   ]
  },
  {
   "cell_type": "code",
   "execution_count": 10,
   "metadata": {
    "code_folding": [],
    "hidden": true
   },
   "outputs": [],
   "source": [
    "def sp_punct(str,pos):\n",
    "    pos1=pos\n",
    "    while pos1<len(str) and str[pos1] in PUNCT_CHARS :\n",
    "        pos1+=1\n",
    "    return [] if pos1==pos else [(pos1,S(str[pos:pos1]))]"
   ]
  },
  {
   "cell_type": "code",
   "execution_count": 11,
   "metadata": {
    "hidden": true
   },
   "outputs": [],
   "source": [
    "def sp_open_tag(s,p):\n",
    "    return []\n",
    "def sp_close_tag(s,p):\n",
    "    return []\n",
    "def sp_openclose_tag(s,p):\n",
    "    return sp_const_word(s,p,'<br>')"
   ]
  },
  {
   "cell_type": "code",
   "execution_count": 12,
   "metadata": {
    "code_folding": [],
    "hidden": true
   },
   "outputs": [],
   "source": [
    "# ([ _\\r\\n\\v\\t]|sp_openclose_tag)+\n",
    "def sp_spcs(str,pos):\n",
    "    pre=''\n",
    "    pos1=pos\n",
    "    while pos1<len(str):\n",
    "        if str[pos1] in ' _\\t\\n\\r\\v':\n",
    "            pre+=str[pos1]\n",
    "            pos1+=1\n",
    "            continue\n",
    "        tmp = sp_openclose_tag(str,pos1)\n",
    "        if len(tmp)!=0:\n",
    "            pre+=tmp[0][1]\n",
    "            pos1=tmp[0][0]\n",
    "            continue\n",
    "        break\n",
    "    return [] if pos1==pos else [(pos1,pre)]    "
   ]
  },
  {
   "cell_type": "code",
   "execution_count": 13,
   "metadata": {
    "code_folding": [],
    "hidden": true
   },
   "outputs": [],
   "source": [
    "def tokenizer(s):\n",
    "    pos=0\n",
    "    pre=''\n",
    "    while pos<len(s):\n",
    "        tmp=sp_spcs(s,pos)\n",
    "        if len(tmp)>0:\n",
    "            (pos,pre)=tmp[0]\n",
    "            if pre==' ': pre=''\n",
    "            continue\n",
    "        tmp=sp_word(s,pos)\n",
    "        if len(tmp)>0:\n",
    "            (pos,foryield) = tmp[0]\n",
    "            foryield.attrs.pre=pre; pre=''\n",
    "            yield foryield\n",
    "            continue\n",
    "        tmp=sp_punct(s,pos)\n",
    "        if len(tmp)>0:\n",
    "            (pos,foryield) = tmp[0]\n",
    "            foryield.attrs.pre=pre; pre=''\n",
    "            yield foryield\n",
    "            continue\n",
    "        raise TextError(\"can't tokenize: \"+\\\n",
    "                        repr(s[max(0,pos-10):pos])+' - '+repr(s[pos:min(len(s),pos+10)]))\n"
   ]
  },
  {
   "cell_type": "code",
   "execution_count": 14,
   "metadata": {
    "hidden": true
   },
   "outputs": [],
   "source": [
    "def tokenize(s) : return [i for i in tokenizer(s)]"
   ]
  },
  {
   "cell_type": "code",
   "execution_count": 15,
   "metadata": {
    "code_folding": [],
    "hidden": true
   },
   "outputs": [],
   "source": [
    "#объекты из словаря и паттернов копируются (полностью), потом из них строится дерево\n",
    "\n",
    "#в эти копии потом добваляется .attrs\n",
    "def word(w):\n",
    "    assert type(w)==str\n",
    "    return lambda s,p: \\\n",
    "        [(p+1,deepcopy(s[p]))] if p<len(s) and s[p]==w else []\n",
    "\n",
    "def fromdict(d):\n",
    "    assert type(d)==dict\n",
    "    def p_fromdict(s,p):\n",
    "        if p<len(s) and s[p] in d:\n",
    "            tmp=deepcopy(d[s[p]])\n",
    "            tmp.attrs=deepcopy(s[p].attrs)\n",
    "            return [(p+1,tmp)]\n",
    "        else:\n",
    "            return []\n",
    "    return p_fromdict\n",
    "\n",
    "def p_seq(s,p,patterns,handler,numbers=None):\n",
    "# p_seq(s,p,[p0,p1,p2,p3],handle,[0,2,3]) ->\n",
    "# for k:\n",
    "#   (pos1,rez1) = sp_seq(s,p,[p0,p1,p2,p3]) [k]\n",
    "#   rezs.append((pos1,handle(rezs[0],rezs[2],rezs[3],)))\n",
    "    if numbers==None : numbers=range(len(patterns))\n",
    "    rezs=[]\n",
    "    for (pos1,rez1) in sp_seq(s,p,patterns):\n",
    "        m=[False for i in range(len(patterns))]\n",
    "        for i in numbers: m[i]=True\n",
    "        for i in range(max(numbers)):\n",
    "            if not m[i]: SAttrs.to_right(rez1[i],rez1[i+1])\n",
    "        for i in range(len(patterns)-1,max(numbers),-1):\n",
    "            if not m[i]: SAttrs.to_left(rez1[i-1],rez1[i])\n",
    "        rez2=handler(*[rez1[i] for i in numbers])\n",
    "#        for i in rez1:\n",
    "#            if isinstance(i,StDeclinable):\n",
    "#                i.check_attrs('p_seq')\n",
    "#        if isinstance(rez2,StDeclinable):\n",
    "#                rez2.check_attrs('p_seq:'+handler.__name__)\n",
    "        rezs.append((pos1,rez2))\n",
    "    return rezs"
   ]
  },
  {
   "cell_type": "markdown",
   "metadata": {
    "heading_collapsed": true,
    "hidden": true
   },
   "source": [
    "##### тесты"
   ]
  },
  {
   "cell_type": "code",
   "execution_count": 16,
   "metadata": {
    "hidden": true
   },
   "outputs": [
    {
     "data": {
      "text/plain": [
       "'a,'"
      ]
     },
     "execution_count": 16,
     "metadata": {},
     "output_type": "execute_result"
    }
   ],
   "source": [
    "SAttrs.join([S('a'),S(',')])"
   ]
  },
  {
   "cell_type": "code",
   "execution_count": 17,
   "metadata": {
    "hidden": true
   },
   "outputs": [
    {
     "data": {
      "text/plain": [
       "[86369448, 86369560, 86368328, 86369112, 86369224]"
      ]
     },
     "execution_count": 17,
     "metadata": {},
     "output_type": "execute_result"
    }
   ],
   "source": [
    "x=[S('a') for i in range(5)]\n",
    "[id(i) for i in x]"
   ]
  },
  {
   "cell_type": "code",
   "execution_count": 18,
   "metadata": {
    "hidden": true,
    "scrolled": true
   },
   "outputs": [
    {
     "data": {
      "text/plain": [
       "[(1, S('a',SAttrs<86313224>(pre='',changers=set(),tags=set())))]"
      ]
     },
     "execution_count": 18,
     "metadata": {},
     "output_type": "execute_result"
    }
   ],
   "source": [
    "sp_word('a',0)"
   ]
  },
  {
   "cell_type": "code",
   "execution_count": 19,
   "metadata": {
    "hidden": true,
    "hide_input": false,
    "scrolled": true
   },
   "outputs": [
    {
     "name": "stdout",
     "output_type": "stream",
     "text": [
      "[S('a',SAttrs<86334920>(pre='',changers=set(),tags=set()))]\n"
     ]
    }
   ],
   "source": [
    "print(repr(tokenize('a')))"
   ]
  },
  {
   "cell_type": "code",
   "execution_count": 20,
   "metadata": {
    "hidden": true
   },
   "outputs": [
    {
     "data": {
      "text/plain": [
       "'preQwer'"
      ]
     },
     "execution_count": 20,
     "metadata": {},
     "output_type": "execute_result"
    }
   ],
   "source": [
    "x=S('qwer')\n",
    "x.attrs.pre='pre'\n",
    "x.attrs.changers={ch_title}\n",
    "str(x)"
   ]
  },
  {
   "cell_type": "code",
   "execution_count": 21,
   "metadata": {
    "hidden": true
   },
   "outputs": [
    {
     "data": {
      "text/plain": [
       "\"S('qwe',SAttrs<82735048>(pre='asd',changers=set(),tags=set()))\""
      ]
     },
     "execution_count": 21,
     "metadata": {},
     "output_type": "execute_result"
    }
   ],
   "source": [
    "x=S('qwe')\n",
    "x.attrs.pre='asd'\n",
    "repr(x)"
   ]
  },
  {
   "cell_type": "code",
   "execution_count": 22,
   "metadata": {
    "code_folding": [],
    "hidden": true
   },
   "outputs": [
    {
     "name": "stdout",
     "output_type": "stream",
     "text": [
      "(S('1',SAttrs<86557128>(pre='',changers=set(),tags=set())), S('3',SAttrs<86557512>(pre='',changers=set(),tags=set())))\n"
     ]
    },
    {
     "data": {
      "text/plain": [
       "[(3, None)]"
      ]
     },
     "execution_count": 22,
     "metadata": {},
     "output_type": "execute_result"
    }
   ],
   "source": [
    "def h(*args):\n",
    "    print(args)\n",
    "p_seq([S('1'),S('2'),S('3')],0,[word('1'),word('2'),word('3')],h,[0,2])"
   ]
  },
  {
   "cell_type": "code",
   "execution_count": 23,
   "metadata": {
    "hidden": true
   },
   "outputs": [
    {
     "data": {
      "text/plain": [
       "True"
      ]
     },
     "execution_count": 23,
     "metadata": {},
     "output_type": "execute_result"
    }
   ],
   "source": [
    "s=S('qwe')\n",
    "s.attrs=8\n",
    "s=='qwe'"
   ]
  },
  {
   "cell_type": "code",
   "execution_count": 24,
   "metadata": {
    "hidden": true
   },
   "outputs": [
    {
     "data": {
      "text/plain": [
       "SAttrs<86552520>(pre='',changers=set(),tags=set())"
      ]
     },
     "execution_count": 24,
     "metadata": {},
     "output_type": "execute_result"
    }
   ],
   "source": [
    "s=S('qwe')\n",
    "s.attrs"
   ]
  },
  {
   "cell_type": "code",
   "execution_count": 25,
   "metadata": {
    "hidden": true
   },
   "outputs": [
    {
     "data": {
      "text/plain": [
       "S('qwe',SAttrs<86346632>(pre='',changers=set(),tags=set()))"
      ]
     },
     "execution_count": 25,
     "metadata": {},
     "output_type": "execute_result"
    }
   ],
   "source": [
    "s=S('qwe')\n",
    "copy(s)"
   ]
  },
  {
   "cell_type": "code",
   "execution_count": 26,
   "metadata": {
    "hidden": true
   },
   "outputs": [
    {
     "data": {
      "text/plain": [
       "\"S('qwe',SAttrs<86466248>(pre='',changers=set(),tags=set()))\""
      ]
     },
     "execution_count": 26,
     "metadata": {},
     "output_type": "execute_result"
    }
   ],
   "source": [
    "s=S('qwe')\n",
    "repr(s)"
   ]
  },
  {
   "cell_type": "markdown",
   "metadata": {},
   "source": [
    "# Словарь"
   ]
  },
  {
   "cell_type": "markdown",
   "metadata": {
    "heading_collapsed": true
   },
   "source": [
    "## Классы отображения"
   ]
  },
  {
   "cell_type": "code",
   "execution_count": 27,
   "metadata": {
    "code_folding": [
     13,
     15
    ],
    "hidden": true
   },
   "outputs": [],
   "source": [
    "class Struct:\n",
    "    __slots__=['attrs','talk']\n",
    "    def __init__(self,attrs=None):\n",
    "        if attrs==None:\n",
    "            self.attrs=SAttrs()\n",
    "        elif type(attrs)==list:\n",
    "#            self.attrs=SAttrs()\n",
    "            self.attrs=SAttrs(pre=attrs[0][1].attrs.pre)\n",
    "            attrs[0][1].attrs.pre=''\n",
    "            pass # выделеие общих тегов\n",
    "        else:\n",
    "            self.attrs=attrs\n",
    "        #self.talk=talk    #массив структур или туплов (строка-тип, ...)\n",
    "    def __repr__(self):\n",
    "        raise NotImplementedError('virtual function')\n",
    "    def __str__(self):\n",
    "        raise NotImplementedError('virtual function')\n",
    "        "
   ]
  },
  {
   "cell_type": "code",
   "execution_count": 28,
   "metadata": {
    "code_folding": [
     6,
     10
    ],
    "hidden": true
   },
   "outputs": [],
   "source": [
    "class StContainer(Struct):\n",
    "# nodep\n",
    "    def __init__(self,talk):\n",
    "        Struct.__init__(self,talk)\n",
    "        self.talk=talk\n",
    "        \n",
    "    def __repr__(self):\n",
    "        return 'StContainer<'+str(id(self))+'>('+\\\n",
    "            repr(self.talk) +')'#_'+repr(self.attrs)\n",
    "\n",
    "    def __str__(self):\n",
    "        return self.attrs.change( SAttrs.join(i[1] for i in self.talk) )\n",
    "    "
   ]
  },
  {
   "cell_type": "code",
   "execution_count": 29,
   "metadata": {
    "code_folding": [
     0
    ],
    "hidden": true
   },
   "outputs": [],
   "source": [
    "def I(**args):\n",
    "    if len(args)!=1:\n",
    "        raise ValueError()\n",
    "    p=[i for i in args.items()][0]\n",
    "    if p[0] not in {'maindep','dep','nodep','punct','nomer','quantity'}:\n",
    "        raise ValueError()\n",
    "    return p\n"
   ]
  },
  {
   "cell_type": "code",
   "execution_count": 30,
   "metadata": {
    "code_folding": [
     4,
     9,
     14,
     19,
     57,
     65,
     68,
     75,
     78,
     82
    ],
    "hidden": true
   },
   "outputs": [],
   "source": [
    "class StDeclinable(Struct):\n",
    "    __slots__=['odush','rod','chis','_pad','word']\n",
    "    \n",
    "    @staticmethod\n",
    "    def odush_checker(odush):\n",
    "        if type(odush)!=bool : raise TypeError('odush must be bool')\n",
    "        return odush\n",
    "        \n",
    "    @staticmethod\n",
    "    def rod_checker(rod):\n",
    "        if rod!='m' and rod!='g' and rod!='s' : raise TypeError('rod must be m or g or s')\n",
    "        return rod\n",
    "\n",
    "    @staticmethod\n",
    "    def chis_checker(chis):\n",
    "        if chis!='ed' and chis!='mn' : raise TypeError('chis must be ed or mn')\n",
    "        return chis\n",
    "\n",
    "    @staticmethod\n",
    "    def pad_checker(pad):\n",
    "        if pad!='ip' and pad!='rp' and pad!='dp' and pad!='vp' and pad!='tp' and pad!='pp' : \n",
    "            raise TypeError('pad must be ip, rp, dp, vp, tp or pp')\n",
    "        return pad\n",
    "\n",
    "    def __init__(self,word,o=None,r=None,c=None,p=None):\n",
    "        if type(word)==str:\n",
    "            #Struct.__init__(self,word.attrs)\n",
    "            # в словаре атрибуты отсутствуют\n",
    "            # при парсинге узел копируется со словаря и туда добавляются атрибуты\n",
    "            Struct.__init__(self)\n",
    "            # но тем не менее все должны иметь атрибуты \n",
    "            # например для словосочетаний в словаре паттернов\n",
    "            self.word=word\n",
    "        elif type(word)==list:\n",
    "            Struct.__init__(self,word)# для тегов\n",
    "            self.word=None\n",
    "            self.talk=word\n",
    "            assert self.talk[0][1].attrs.pre==''\n",
    "            \n",
    "            found=None\n",
    "            for i in word:\n",
    "                if i[0]=='maindep':\n",
    "                    if found!=None:\n",
    "                        raise ValueError('we must have only one maindep')\n",
    "                    found =i[1]\n",
    "                    if o!=None or r!=None or c!=None:\n",
    "                        raise ValueError('maindep may conflits with o/r/c')\n",
    "                    o=found.odush\n",
    "                    r=found.rod\n",
    "                    c=found.chis\n",
    "                    if p==None: p=found.pad\n",
    "        self.odush=self.odush_checker(o)\n",
    "        self.rod  =self.  rod_checker(r)\n",
    "        self.chis =self. chis_checker(c)\n",
    "        self._pad =self.  pad_checker(p)\n",
    "        \n",
    "        #print(hasattr(self,'attrs'))\n",
    "    def check_attrs(self,mes):\n",
    "        if self.word==None:\n",
    "            if self.talk[0][1].attrs.pre!='':\n",
    "                print(repr(self))\n",
    "            assert self.talk[0][1].attrs.pre=='', mes\n",
    "            \n",
    "    pad=property()\n",
    "    @pad.getter\n",
    "    def pad(self):\n",
    "        return self._pad\n",
    "    @pad.setter\n",
    "    def pad(self,val):\n",
    "        self._pad=val\n",
    "        if self.word==None:\n",
    "            for i in self.talk:\n",
    "                if i[0]=='dep' or i[0]=='maindep' :\n",
    "                    i[1].pad=val\n",
    "                \n",
    "    def post_repr(self):\n",
    "        return 'o='+repr(self.odush)+',r='+repr(self.rod)+\\\n",
    "            ',c='+repr(self.chis)+',p='+repr(self.pad)+')'#_'+repr(self.attrs)\n",
    "    def __repr__(self):\n",
    "        raise NotImplementedError('virtual function')\n",
    "\n",
    "    show_map=None\n",
    "    def __str__(self):\n",
    "        return self.attrs.change(\n",
    "            SAttrs.join(i[1] for i in self.talk)\n",
    "                if self.word==None else self.show_map[self.word](self)\n",
    "            )\n"
   ]
  },
  {
   "cell_type": "code",
   "execution_count": 31,
   "metadata": {
    "code_folding": [
     5,
     16,
     19,
     40,
     48
    ],
    "hidden": true
   },
   "outputs": [],
   "source": [
    "show_noun_map={}\n",
    "\n",
    "class StNoun(StDeclinable):\n",
    "# dep, maindep, nodep, nomer, punct\n",
    "    __slots__=['_chis','och']\n",
    "    def __init__(self,word=None,och=0,o=None,r=None,c=None,p=None):\n",
    "        if type(word)==list:\n",
    "            if och!=0: raise ValueError('Noun-och must be in leaf')\n",
    "        else:\n",
    "            if type(och)!=str and och!=None: raise ValueError('och must be str')\n",
    "            self.och=och\n",
    "        StDeclinable.__init__(self,word,o,r,c,p)\n",
    "        \n",
    "            \n",
    "    chis=property()\n",
    "    @chis.getter\n",
    "    def chis(self):\n",
    "        return self._chis\n",
    "    @chis.setter\n",
    "    def chis(self,val):\n",
    "        #print('set chis')#,repr(self))\n",
    "        if not hasattr(self,'_chis'):\n",
    "            self._chis=val\n",
    "        elif self._chis!=val:\n",
    "            #print('change chis')\n",
    "            self._chis=val\n",
    "            if self.word!=None:\n",
    "                if self.och==None :\n",
    "                    pass\n",
    "                elif type(self.och)==str:\n",
    "                    tmp=self.och\n",
    "                    self.och=self.word\n",
    "                    self.word=tmp\n",
    "                else:\n",
    "                    raise RuntimeError('internal error: StNoun.och = '+self.och)\n",
    "            else:\n",
    "                for i in self.talk:\n",
    "                    if i[0]=='dep' or i[0]=='maindep' :\n",
    "                        i[1].chis=val\n",
    "        \n",
    "    def __repr__(self):\n",
    "        return 'StNoun<'+str(id(self))+'>('+\\\n",
    "            (repr(self.talk) if self.word==None \\\n",
    "                 else repr(self.word)+','+repr(self.och))+','+\\\n",
    "            self.post_repr()\n",
    "    \n",
    "    show_map=show_noun_map\n",
    "\n",
    "def show_noun1(st,word,ip,rp,dp,vp,tp,pp):\n",
    "    if st.pad=='ip' : return word+ip\n",
    "    if st.pad=='rp' : return word+rp\n",
    "    if st.pad=='dp' : return word+dp\n",
    "    if st.pad=='vp' : return word+vp\n",
    "    if st.pad=='tp' : return word+tp\n",
    "    if st.pad=='pp' : return word+pp\n",
    "    raise RuntimeError()\n"
   ]
  },
  {
   "cell_type": "code",
   "execution_count": 32,
   "metadata": {
    "code_folding": [
     3,
     11,
     14,
     45,
     54
    ],
    "hidden": true
   },
   "outputs": [],
   "source": [
    "show_num_map={}\n",
    "\n",
    "class StNum(StDeclinable):\n",
    "# maindep, quantity\n",
    "    __slots__=['quantity']\n",
    "    def __init__(self,word=None,quantity=None,o=None,r=None,c=None,p=None):\n",
    "        if quantity!='1' and quantity!='2-4' and quantity!='>=5':\n",
    "            raise TypeError('quantity must be \"1\", \"2-4\" or \">=5\"')\n",
    "        self.quantity=quantity\n",
    "        StDeclinable.__init__(self,word,o,r,c,p)\n",
    "\n",
    "    pad=property()\n",
    "    @pad.getter\n",
    "    def pad(self):\n",
    "        return self._pad\n",
    "    @pad.setter\n",
    "    def pad(self,val): #...\n",
    "        #print('num.pad',val)\n",
    "        self._pad=val\n",
    "        if self.word==None:\n",
    "            for i in self.talk:\n",
    "                if i[0]=='quantity':\n",
    "                    i[1].pad=val\n",
    "                if i[0]=='dep' or i[0]=='maindep' :\n",
    "                    if self.quantity=='1':\n",
    "                        i[1].pad=val\n",
    "                    elif self.quantity=='2-4':\n",
    "                        i[1].chis='mn'\n",
    "                        if val=='ip':\n",
    "                            i[1].chis='ed'\n",
    "                            i[1].pad='rp'\n",
    "                        elif val=='vp':\n",
    "                            if i[1].odush :\n",
    "                                i[1].pad='rp'\n",
    "                            else:\n",
    "                                i[1].chis='ed'\n",
    "                                i[1].pad='rp'\n",
    "                        else:\n",
    "                            i[1].pad=val\n",
    "                    elif self.quantity=='>=5':\n",
    "                        if val=='ip' or val=='vp':\n",
    "                            i[1].pad='rp'\n",
    "                        else:\n",
    "                            i[1].pad=val\n",
    "                    else:\n",
    "                        raise RuntimeError()\n",
    "\n",
    "    def __repr__(self):\n",
    "        return 'StNum<'+str(id(self))+'>('+\\\n",
    "            (repr(self.talk) if self.word==None \\\n",
    "                 else repr(self.word))+','+\\\n",
    "            repr(self.quantity)+','+\\\n",
    "            self.post_repr()\n",
    "    \n",
    "    show_map=show_num_map\n",
    "\n",
    "def show_num1(st,word,ends):\n",
    "    if st.chis=='mn' :\n",
    "        (ip,rp,dp,vp,tp,pp)=ends['mn']\n",
    "    else:\n",
    "        (ip,rp,dp,vp,tp,pp)=ends[st.rod]\n",
    "        \n",
    "    if   st.pad=='ip' : rez=ip\n",
    "    elif st.pad=='rp' : rez=rp\n",
    "    elif st.pad=='dp' : rez=dp\n",
    "    elif st.pad=='vp' : rez=vp[0] if st.odush else vp[1]\n",
    "    elif st.pad=='tp' : rez=tp\n",
    "    elif st.pad=='pp' : rez=pp\n",
    "    else: raise RuntimeError()\n",
    "        \n",
    "    return word+rez\n"
   ]
  },
  {
   "cell_type": "code",
   "execution_count": 33,
   "metadata": {
    "code_folding": [
     4,
     10,
     13,
     21
    ],
    "hidden": true
   },
   "outputs": [],
   "source": [
    "show_adj_map={}\n",
    "\n",
    "class StAdj(StDeclinable):\n",
    "#\n",
    "    @staticmethod\n",
    "    def pad_checker(pad):\n",
    "        if pad!='ip' and pad!='rp' and pad!='dp' and pad!='vp' and pad!='tp' and \\\n",
    "                pad!='pp' and pad!='sh' : \n",
    "            raise TypeError('pad must be ip, rp, dp, vp, tp, pp or sh')\n",
    "        return pad# пока особого смысла в этом нет\n",
    "    \n",
    "    def __init__(self,word=None,o=None,r=None,c=None,p=None):\n",
    "        StDeclinable.__init__(self,word,o,r,c,p)\n",
    "\n",
    "    def __repr__(self):\n",
    "        return 'StAdj<'+str(id(self))+'>('+\\\n",
    "            (repr(self.talk) if self.word==None \\\n",
    "                 else repr(self.word))+','+\\\n",
    "            self.post_repr()\n",
    "    \n",
    "    show_map=show_adj_map\n",
    "    \n",
    "def show_adj1(st,word,ends):\n",
    "    if st.chis=='mn' :\n",
    "        (ip,rp,dp,vp,tp,pp,sh)=ends['mn']\n",
    "    else:\n",
    "        (ip,rp,dp,vp,tp,pp,sh)=ends[st.rod]\n",
    "        \n",
    "    if   st.pad=='ip' : rez=ip\n",
    "    elif st.pad=='rp' : rez=rp\n",
    "    elif st.pad=='dp' : rez=dp\n",
    "    elif st.pad=='vp' : rez=vp[0] if st.odush else vp[1]\n",
    "    elif st.pad=='tp' : rez=tp\n",
    "    elif st.pad=='pp' : rez=pp\n",
    "    elif st.pad=='sh' : rez=sh\n",
    "    else: raise RuntimeError()\n",
    "        \n",
    "    return word+rez\n"
   ]
  },
  {
   "cell_type": "markdown",
   "metadata": {
    "heading_collapsed": true
   },
   "source": [
    "## Отображение"
   ]
  },
  {
   "cell_type": "code",
   "execution_count": 34,
   "metadata": {
    "hidden": true
   },
   "outputs": [],
   "source": [
    "#show_noun_map={}"
   ]
  },
  {
   "cell_type": "code",
   "execution_count": 35,
   "metadata": {
    "code_folding": [],
    "hidden": true
   },
   "outputs": [],
   "source": [
    "show_adj_map['летучий'] =\\\n",
    "    lambda st: show_adj1(st,'летуч' ,\n",
    "        {\n",
    "            'm' :('ий','его','ему',('его','ий'),'им' ,'ем','' ),\n",
    "            's' :('ее','его','ему',('ий', 'ий'),'им' ,'ем','е'),\n",
    "            'g' :('ая','ей' ,'ей' ,('ую', 'ую'),'ей' ,'ей','а'),\n",
    "            'mn':('ие','их' ,'им' ,('их', 'ие'),'ими','их','и'),\n",
    "        }\n",
    "    )"
   ]
  },
  {
   "cell_type": "code",
   "execution_count": 36,
   "metadata": {
    "code_folding": [],
    "hidden": true
   },
   "outputs": [],
   "source": [
    "show_num_map['один']=\\\n",
    "    lambda st: show_num1(st,'од' ,\n",
    "        {\n",
    "            'm' :('ин','ного','ному',('ного','ин'),'ним' ,'ном'),\n",
    "            's' :('но','ного','ному',('но'  ,'но'),'ним' ,'ном'),\n",
    "            'g' :('на','ной' ,'ной' ,('ну'  ,'ну'),'ной' ,'ной'),\n",
    "            'mn':('ни','них' ,'ним' ,('них', 'ни'),'ними','них'),\n",
    "        }\n",
    "    )\n",
    "show_num_map['два']=\\\n",
    "    (lambda st: \\\n",
    "        (\"две\" if st.rod=='g' else \"два\")                         if st.pad=='ip' else \\\n",
    "        \"двух\"                                                    if st.pad=='rp' else \\\n",
    "        \"двум\"                                                    if st.pad=='dp' else \\\n",
    "        (\"двух\" if st.odush else \"две\" if st.rod=='g' else \"два\") if st.pad=='vp' else \\\n",
    "        \"двумя\"                                                   if st.pad=='tp' else \\\n",
    "        \"двух\"                                                    if st.pad=='pp' else \\\n",
    "        throw(RuntimeError('unknown pad: '+st.pad))\n",
    "    )\n",
    "show_num_map['три']=\\\n",
    "    lambda st: show_num1(st,'тр' ,\n",
    "        {   'mn':('и','ёх' ,'ём' ,('ёх', 'и'),'емя','ёх'), }    )\n",
    "show_num_map['четыре']=\\\n",
    "    lambda st: show_num1(st,'четыр' ,\n",
    "        {   'mn':('е','ёх' ,'ём' ,('ёх', 'е'),'ьмя','ёх'), }    )\n",
    "show_num_map['пять']=\\\n",
    "    lambda st: show_num1(st,'пят' ,\n",
    "        {   'mn':('ь','и' ,'и' ,('ь', 'ь'),'ью','и'), }    )\n"
   ]
  },
  {
   "cell_type": "markdown",
   "metadata": {},
   "source": [
    "## Правила"
   ]
  },
  {
   "cell_type": "markdown",
   "metadata": {
    "heading_collapsed": true
   },
   "source": [
    "### Словарь"
   ]
  },
  {
   "cell_type": "code",
   "execution_count": 37,
   "metadata": {
    "code_folding": [],
    "hidden": true
   },
   "outputs": [],
   "source": [
    "ruwords={} #какие-то однословные правила складываются сюда, а какие-то остаются в функциях\n",
    "\n",
    "def add_runoun(name,och,odush,rod,chis,word,ip,rp,dp,vp,tp,pp):\n",
    "    ruwords[name]=StNoun(name,och,odush,rod,chis,'ip')\n",
    "    show_noun_map[name]=lambda st: show_noun1(st,word,ip,rp,dp,vp,tp,pp)\n",
    "\n",
    "def add_runoun2(name,rod,word,ip,rp,dp,vp,tp,pp,\\\n",
    "               mname,odush,mword,mip,mrp,mdp,mvp,mtp,mpp):\n",
    "    add_runoun(name,mname,odush,rod,'ed',word,ip,rp,dp,vp,tp,pp)\n",
    "    add_runoun(mname,name,odush,rod,'mn',mword,mip,mrp,mdp,mvp,mtp,mpp)"
   ]
  },
  {
   "cell_type": "code",
   "execution_count": 38,
   "metadata": {
    "code_folding": [],
    "hidden": true
   },
   "outputs": [],
   "source": [
    "#                                  ип ,нет ,дать,вижу,творю,думаю\n",
    "add_runoun2(\"кот\"   ,'m'  ,'кот'  ,'' ,'а' ,'у' ,'а' ,'ом' ,'е' ,\n",
    "            \"коты\"  ,True ,'кот'  ,'ы','ов','ам','ов','ами','ах')\n",
    "\n",
    "add_runoun2(\"джем\"  ,'m'  ,'джем' ,'' ,'а' ,'у' ,''  ,'ом' ,'е' ,\n",
    "            \"джемы\" ,False,'джем' ,'ы','ов','ам','ы' ,'ами','ах')\n",
    "\n",
    "add_runoun2(\"ящик\"  ,'m'  ,'ящик' ,'' ,'а' ,'у' ,''  ,'ом' ,'е' ,\n",
    "            \"ящики\" ,False,'ящик' ,'и','ов','ам','и' ,'ами','ах')\n",
    "add_runoun2(\"урок\"  ,'m'  ,'урок' ,'' ,'а' ,'у' ,''  ,'ом' ,'е' ,\n",
    "            \"уроки\" ,False,'урок' ,'и','ов','ам','и' ,'ами','ах')\n",
    "\n",
    "add_runoun2(\"кошка\" ,'g'  ,'кошк' ,'а' ,'и' ,'е'  ,'у' ,'ой'  ,'е'  ,\n",
    "            \"кошки\" ,True ,'кош'  ,'ки','ек','кам','ек','ками','ках')\n",
    "\n",
    "add_runoun2(\"собака\",'g'  ,'собак','а' ,'и' ,'е'  ,'у'  ,'ой' ,'е' ,\n",
    "            \"собаки\",True ,'собак','и' ,''  ,'ам' ,''   ,'ами','ах')\n",
    "\n",
    "add_runoun2(\"ручка\" ,'g'  ,'ручк' ,'а' ,'и' ,'е'  ,'у'  ,'ой' ,'е'  ,\n",
    "            \"ручки\" ,False,'руч'  ,'ки','ек','кам','ки','ками','ках')\n",
    "add_runoun2(\"чашка\" ,'g'  ,'чашк' ,'а' ,'и' ,'е'  ,'у' ,'ой'  ,'е'  ,\n",
    "            \"чашки\" ,False,'чаш'  ,'ки','ек','кам','ки','ками','ках')\n",
    "\n",
    "add_runoun2(\"кепка\"  ,'g'  ,'кепк'  ,'а' ,'и' ,'е'  ,'у' ,'ой'  ,'е'  ,\n",
    "            \"кепки\"  ,False,'кеп'   ,'ки','ок','кам','ки','ками','ках')\n",
    "add_runoun2(\"шапка\"  ,'g'  ,'шапк'  ,'а' ,'и' ,'е'  ,'у' ,'ой'  ,'е'  ,\n",
    "            \"шапки\"  ,False,'шап'   ,'ки','ок','кам','ки','ками','ках')\n",
    "add_runoun2(\"коробка\",'g'  ,'коробк','а' ,'и' ,'е'  ,'у' ,'ой'  ,'е'  ,\n",
    "            \"коробки\",False,'короб' ,'ки','ок','кам','ки','ками','ках')\n",
    "\n",
    "add_runoun2(\"крыса\" ,'g'  ,'крыс' ,'а','ы','е' ,'у' ,'ой' ,'е' ,\n",
    "            \"крысы\" ,True ,'крыс' ,'ы','' ,'ам',''  ,'ами','ах')\n",
    "add_runoun2(\"курица\",'g'  ,'куриц','а','ы','е' ,'у' ,'ой' ,'е' ,\n",
    "            \"курицы\",True ,'куриц','ы','' ,'ам',''  ,'ами','ах')\n",
    "add_runoun2(\"лиса\"  ,'g'  ,'лис'  ,'а','ы','е' ,'у' ,'ой' ,'е' ,\n",
    "            \"лисы\"  ,True ,'лис'  ,'ы','' ,'ам',''  ,'ами','ах')\n",
    "    \n",
    "add_runoun2(\"шляпа\" ,'g'  ,'шляп' ,'а','ы','е' ,'у' ,'ой' ,'е' ,\n",
    "            \"шляпы\" ,False,'шляп' ,'ы','' ,'ам','ы' ,'ами','ах')\n",
    "\n",
    "add_runoun2(\"свинья\",'g'  ,'свинь','я' ,'и' ,'е'  ,'ю' ,'ёй'  ,'е'  ,\n",
    "            \"свиньи\",True ,'свин' ,'ьи','ей','ьям','ей','ьями','ьях')\n",
    "\n",
    "add_runoun2(\"мышь\"   ,'g'  ,'мыш'   ,'ь','и' ,'и' ,'ь' ,'ью' ,'и' ,\n",
    "            \"мыши\"   ,True ,'мыш'   ,'и','ей','ам','ей','ами','ах')\n",
    "\n",
    "add_runoun2(\"кровать\",'g'  ,'кроват','ь','и' ,'и' ,'ь' ,'ью' ,'и' ,\n",
    "            \"кровати\",False,'кроват','и','ей','ям','и' ,'ями','ях')\n",
    "\n",
    "add_runoun2(\"ружьё\"  ,'s'  ,'ружь'  ,'ё' ,'я' ,'ю'  ,'ё' ,'ём'  ,'е'  ,\n",
    "            \"ружья\"  ,False,'руж'   ,'ья','ей','ьям','ьи','ьями','ьях')\n",
    "\n",
    "add_runoun2(\"вареньё\",'s'  ,'варень','е' ,'я' ,'ю'  ,'е' ,'ем' ,'е' ,\n",
    "            \"варенья\",False,'варен' ,'ья','ий','ьям','ья','ьями','ьях')\n",
    "\n",
    "add_runoun2(\"ребёнок\",'m'  ,'ребён','ок' ,'ка' ,'ку'  ,'ка' ,'ком' ,'ке' ,\n",
    "            \"дети\"   ,True ,'дет' ,'и','ей','ям','ей','ьми','ях')\n",
    "\n",
    "add_runoun('часы (предмет)',None,False,'m','mn','час','ы','ов','ам','ы','ами','ах')\n"
   ]
  },
  {
   "cell_type": "code",
   "execution_count": 39,
   "metadata": {
    "hidden": true
   },
   "outputs": [],
   "source": [
    "def r_letuchij(): return StAdj('летучий',True,'g','ed','ip')\n",
    "\n",
    "def r_odin(): return StNum('один','1',False,'m','ed','ip')\n",
    "def r_dva(): return StNum('два','2-4',False,'m','mn','ip')\n",
    "def r_tri(): return StNum('три','2-4',False,'m','mn','ip')\n",
    "def r_chetyre(): return StNum('четыре','2-4',False,'m','mn','ip')\n",
    "def r_pyat(): return StNum('пять','>=5',False,'m','mn','ip')"
   ]
  },
  {
   "cell_type": "markdown",
   "metadata": {
    "heading_collapsed": true
   },
   "source": [
    "### Составные"
   ]
  },
  {
   "cell_type": "code",
   "execution_count": 40,
   "metadata": {
    "code_folding": [],
    "hidden": true
   },
   "outputs": [],
   "source": [
    "def r_noun_and_noun(sn,a,n):\n",
    "    return StNoun([\n",
    "        I(dep=sn),\n",
    "        I(nodep=S('и',a.attrs)),\n",
    "        I(dep=n)\n",
    "    ],c='mn', p='ip',o=False,r='m')\n",
    "def r_noun_comma_noun(sn,c,n):\n",
    "    return StNoun([\n",
    "        I(dep=sn),\n",
    "        I(punct=S(',',c.attrs)),\n",
    "        I(dep=n)\n",
    "    ],c='mn', p='ip',o=False,r='m')\n"
   ]
  },
  {
   "cell_type": "code",
   "execution_count": 41,
   "metadata": {
    "code_folding": [],
    "hidden": true
   },
   "outputs": [],
   "source": [
    "def r_a_noun(a,n): \n",
    "    return SAttrs.to_right(a,n)\n",
    "\n",
    "def r_adj_noun(a,n): \n",
    "    return StNoun([\n",
    "        I(dep=a),\n",
    "        I(maindep=n)\n",
    "    ])\n"
   ]
  },
  {
   "cell_type": "code",
   "execution_count": 42,
   "metadata": {
    "code_folding": [],
    "hidden": true
   },
   "outputs": [],
   "source": [
    "def r_numeral_noun(num,n):\n",
    "    if num.chis!=n.chis :\n",
    "        print('не совпадают числа числ. и сущ.:',str(num),str(n))\n",
    "        num.chis=n.chis\n",
    "    num.rod=n.rod\n",
    "    num.odush=n.odush\n",
    "    return StNum([\n",
    "        I(quantity=num),\n",
    "        I(maindep=n)\n",
    "    ],quantity=num.quantity)\n",
    "\n",
    "def r_noun_numeral(n,num):\n",
    "    return StNoun([\n",
    "        I(maindep=n),\n",
    "        I(nomer=num)\n",
    "    ])\n"
   ]
  },
  {
   "cell_type": "markdown",
   "metadata": {},
   "source": [
    "## Паттерны"
   ]
  },
  {
   "cell_type": "markdown",
   "metadata": {
    "heading_collapsed": true
   },
   "source": [
    "### Словарь"
   ]
  },
  {
   "cell_type": "code",
   "execution_count": 43,
   "metadata": {
    "code_folding": [],
    "hidden": true
   },
   "outputs": [],
   "source": [
    "dict_adj={\n",
    "    'a' : S(''),\n",
    "    #'a' : r_nekotoryj(),\n",
    "    'an' : S(''),\n",
    "    #'an' : r_nekotoryj(),\n",
    "}"
   ]
  },
  {
   "cell_type": "code",
   "execution_count": 44,
   "metadata": {
    "code_folding": [],
    "hidden": true
   },
   "outputs": [],
   "source": [
    "dict_noun={\n",
    "    #'cat':   ruwords[\"кошка\"],\n",
    "    'cat':   ruwords[\"кот\"],\n",
    "    #'cats':   ruwords[\"кошки\"],\n",
    "    'cats':   ruwords[\"коты\"],\n",
    "    \n",
    "    #'rat':   ruwords[\"мышь\"],\n",
    "    'rat':   ruwords['крыса'],\n",
    "    #'rats':   ruwords[\"мыши\"],\n",
    "    'rats':   ruwords['крысы'],\n",
    "    \n",
    "    'bat':   r_adj_noun(deepcopy(r_letuchij()),deepcopy(ruwords[\"мышь\"])),\n",
    "    'bats':   r_adj_noun(deepcopy(r_letuchij()),deepcopy(ruwords[\"мыши\"])),\n",
    "    \n",
    "    'lesson':ruwords[\"урок\"],\n",
    "    'lessons':ruwords[\"уроки\"],\n",
    "    \n",
    "    'cap':   ruwords[\"кепка\"],\n",
    "    #'cap':  ruwords[\"шапка\"],\n",
    "    'caps':   ruwords[\"кепки\"],\n",
    "    #'caps':  ruwords[\"шапки\"],\n",
    "    \n",
    "    'pen':   ruwords[\"ручка\"],\n",
    "    'pens':   ruwords[\"ручки\"],\n",
    "    \n",
    "    'hat':   ruwords[\"шляпа\"],\n",
    "    'hats':   ruwords[\"шляпы\"],\n",
    "    \n",
    "    'hen':   ruwords[\"курица\"],\n",
    "    'hens':   ruwords[\"курицы\"],\n",
    "    \n",
    "    'dog':   ruwords['собака'],\n",
    "    'dogs':   ruwords['собаки'],\n",
    "    'pig':   ruwords['свинья'],\n",
    "    'pigs':   ruwords['свиньи'],\n",
    "    'gun':   ruwords['ружьё'],\n",
    "    'guns':   ruwords['ружья'],\n",
    "    'cup':   ruwords['чашка'],\n",
    "    'cups':   ruwords['чашки'],\n",
    "    \n",
    "    #'box':   ruwords['коробка'],\n",
    "    #'boxes':   ruwords['коробки'],\n",
    "    'box':   ruwords['ящик'],\n",
    "    'boxes':   ruwords['ящики'],\n",
    "\n",
    "    'jam':   ruwords['джем'],\n",
    "    #'jam':   ruwords['варенье'],\n",
    "\n",
    "    'bed':   ruwords['кровать'],\n",
    "    'beds':   ruwords['кровати'],\n",
    "\n",
    "    'fox':   ruwords['лиса'],\n",
    "    'foxes':   ruwords['лисы'],\n",
    "    \n",
    "    'child': ruwords['ребёнок'],\n",
    "    'children': ruwords['дети'],\n",
    "    \n",
    "    'watch': ruwords['часы (предмет)']\n",
    "}"
   ]
  },
  {
   "cell_type": "code",
   "execution_count": 45,
   "metadata": {
    "code_folding": [],
    "hidden": true
   },
   "outputs": [],
   "source": [
    "dict_numeral={\n",
    "    'one':   r_odin(),\n",
    "    'two':   r_dva(),\n",
    "    'three': r_tri(),\n",
    "    'four':  r_chetyre(),\n",
    "    'five':  r_pyat(),\n",
    "}"
   ]
  },
  {
   "cell_type": "code",
   "execution_count": 46,
   "metadata": {
    "hidden": true
   },
   "outputs": [
    {
     "data": {
      "text/plain": [
       "StNoun<86669800>('кот','коты',o=True,r='m',c='ed',p='ip')"
      ]
     },
     "execution_count": 46,
     "metadata": {},
     "output_type": "execute_result"
    }
   ],
   "source": [
    "dict_noun['cat']"
   ]
  },
  {
   "cell_type": "markdown",
   "metadata": {},
   "source": [
    "### Составные"
   ]
  },
  {
   "cell_type": "code",
   "execution_count": 47,
   "metadata": {
    "code_folding": []
   },
   "outputs": [],
   "source": [
    "def debug_pp(fun):\n",
    "    def wrapper(s,p):\n",
    "        print('{'+'.'*p+fun.__name__)\n",
    "        rezs=fun(s,p)\n",
    "        print('_'+'.'*p+str(len(rezs)),'in ',fun.__name__,'}',\n",
    "              [(p,repr(r)) for (p,r) in rezs],'\\n')\n",
    "        for i in rezs:\n",
    "            if isinstance(i[1],StDeclinable):\n",
    "                i[1].check_attrs('wrapper:'+fun.__name__)\n",
    "        return rezs\n",
    "#    return wrapper\n",
    "    return fun"
   ]
  },
  {
   "cell_type": "code",
   "execution_count": 48,
   "metadata": {},
   "outputs": [],
   "source": [
    "@debug_pp\n",
    "def p_numeral(s,p):\n",
    "    return fromdict(dict_numeral)(s,p)"
   ]
  },
  {
   "cell_type": "code",
   "execution_count": 49,
   "metadata": {},
   "outputs": [],
   "source": [
    "#2->\n",
    "@debug_pp\n",
    "def p_adj(s,p):\n",
    "    return fromdict(dict_adj)(s,p)"
   ]
  },
  {
   "cell_type": "code",
   "execution_count": 50,
   "metadata": {
    "code_folding": [
     1,
     15,
     22,
     35
    ]
   },
   "outputs": [],
   "source": [
    "@debug_pp\n",
    "def p_adj_noun3(s,p):\n",
    "    rezs=[]\n",
    "    if 1: #исключение словосочетания\n",
    "        def lp_an_a(str,pos):\n",
    "            lrezs=word('an')(str,pos)\n",
    "            if len(lrezs)>0 : return lrezs\n",
    "            return word('a')(str,pos)\n",
    "        rezs+=p_seq(s,p,[ lp_an_a, p_noun3 ],r_a_noun)\n",
    "        #return p_seq(s,p,[ lp_an_a, p_noun3 ],r_nekotoryj_noun)\n",
    "    if len(rezs)>0 : return rezs\n",
    "    #словосочетание\n",
    "    return p_seq(s,p,[ p_adj, p_noun3 ],r_adj_noun)    \n",
    "    \n",
    "@debug_pp\n",
    "def p_noun3(s,p):\n",
    "    rezs=  p_adj_noun3(s,p)\n",
    "    rezs+= p_numeral(s,p)\n",
    "    rezs+= fromdict(dict_noun)(s,p)\n",
    "    return rezs\n",
    "\n",
    "@debug_pp\n",
    "def p_noun2(s,p):\n",
    "    rezs=  p_seq(s,p,[ p_noun3, p_numeral ], r_noun_numeral)\n",
    "    rezs+= p_noun3(s,p)\n",
    "    return rezs\n",
    "\n",
    "@debug_pp\n",
    "def p_noun1(s,p):\n",
    "    rezs=  p_seq(s,p,[ p_numeral, p_noun2 ], r_numeral_noun)\n",
    "    rezs+= p_noun2(s,p)\n",
    "    return rezs\n",
    "\n",
    "#1->\n",
    "@debug_pp\n",
    "def p_noun(s,p):\n",
    "    @debug_pp\n",
    "    def p_noun1_and_noun(s,p):\n",
    "        rezs=  p_seq(s,p,[ p_noun1, word('and'), p_noun ],r_noun_and_noun  )\n",
    "        rezs+= p_seq(s,p,[ p_noun1, word(',')  , p_noun ],r_noun_comma_noun)\n",
    "        return rezs\n",
    "    rezs=  p_noun1_and_noun(s,p)\n",
    "    rezs+= p_noun1(s,p)\n",
    "    return rezs"
   ]
  },
  {
   "cell_type": "code",
   "execution_count": 51,
   "metadata": {},
   "outputs": [],
   "source": [
    "@debug_pp\n",
    "def p_phrase(s,p):\n",
    "    rezs=p_noun(s,p)\n",
    "    if len(rezs)>0: return rezs\n",
    "    rezs=p_adj(s,p)\n",
    "    return rezs"
   ]
  },
  {
   "cell_type": "code",
   "execution_count": 52,
   "metadata": {},
   "outputs": [],
   "source": [
    "dict_proper={}\n",
    "@debug_pp\n",
    "def p_sentence(s,p):\n",
    "    first_capital = s[p]=='I' or ch_title in s[p].attrs.changers\n",
    "    def r_sentence(ph,d):\n",
    "        rez=StContainer([I(nodep=ph),I(punct=d)])\n",
    "        if first_capital: rez.attrs.changers|={ch_sentence}\n",
    "        return rez\n",
    "    restore_title=False\n",
    "    if ch_title in s[p].attrs.changers and s[p] not in dict_proper:\n",
    "        s[p].attrs.changers-={ch_title}\n",
    "        restore_title=True\n",
    "    rezs=p_seq(s,p,[p_phrase,word('.')],r_sentence)\n",
    "    if restore_title:\n",
    "        s[p].attrs.changers|={ch_title}\n",
    "    return rezs"
   ]
  },
  {
   "cell_type": "code",
   "execution_count": 53,
   "metadata": {
    "code_folding": [
     0,
     1
    ]
   },
   "outputs": [],
   "source": [
    "def en2ru(s): # main\n",
    "    def maxlen_rezs(rezs):\n",
    "        m=0\n",
    "        im=set()\n",
    "        for i in range(len(rezs)):\n",
    "            if rezs[i][0]>m:\n",
    "                m=rezs[i][0]\n",
    "                im={i}\n",
    "            elif rezs[i][0]==m:\n",
    "                im.add(i)\n",
    "        return [rezs[i] for i in im]\n",
    "                \n",
    "    s=[ i for i in tokenizer(s)]\n",
    "    if len(s)==0:\n",
    "        print('no tokens')\n",
    "        return ''\n",
    "\n",
    "    p=0\n",
    "    rez=[]\n",
    "    while p<len(s):\n",
    "        rezs=maxlen_rezs(p_sentence(s,p))\n",
    "        if len(rezs)==0: break\n",
    "        p1,r1=next(iter(rezs))\n",
    "        if len(rezs)>1:\n",
    "            print('multiple results:')\n",
    "            print(SAttrs.join(s[p:p1]))\n",
    "            for void,r in rezs:\n",
    "                print(str(r))\n",
    "        p=p1\n",
    "        rez.append(I(nodep=r1))\n",
    "\n",
    "    if len(rez)>0:\n",
    "        if p!=len(s):\n",
    "            print('NOT PARSED:')\n",
    "            print(SAttrs.join(s[p:]))\n",
    "        return str(StContainer(rez))\n",
    "    else:\n",
    "        assert p==0\n",
    "        rezs=maxlen_rezs(p_phrase(s,p))\n",
    "        if len(rezs)==0:\n",
    "            raise ParseError('no results')\n",
    "        p1,r1=next(iter(rezs))\n",
    "        if len(rezs)>1:\n",
    "            print('multiple results:')\n",
    "            print(SAttrs.join(s[p:p1]))\n",
    "            for void,r in rezs:\n",
    "                print(str(r))\n",
    "        p=p1\n",
    "        if p!=len(s):\n",
    "            print('NOT PARSED!')\n",
    "            print(SAttrs.join(s[p:]))\n",
    "        return str(r1)\n"
   ]
  },
  {
   "cell_type": "markdown",
   "metadata": {},
   "source": [
    "# Тесты"
   ]
  },
  {
   "cell_type": "markdown",
   "metadata": {},
   "source": [
    "```\n",
    "местоимения ип./вп\n",
    "разбиение на dict_noun_uno & dict_noun_many\n",
    "глаголы, наст. время, спряжение\n",
    "предлоги\n",
    "    I see noun\n",
    "    I have noun\n",
    "    I have no noun\n",
    "    show me noun\n",
    "    give me noun\n",
    "verb, but verb\n",
    "watch, двое, трое, пятеро\n",
    "...\n",
    "нужен LR-парсер, причем недетерминированный - посмотреть, какие есть библиотеки\n",
    "    возможно стоит придумать уровни для паттернов...\n",
    "атрибуты слов: (теги)\n",
    "```"
   ]
  },
  {
   "cell_type": "code",
   "execution_count": 54,
   "metadata": {
    "code_folding": [
     0,
     24,
     28
    ]
   },
   "outputs": [],
   "source": [
    "def decline1(s,pads=['ip','rp','dp','vp','tp','pp']):\n",
    "    s=[ i for i in tokenizer(s)]\n",
    "    # добавить дочитывание точки и остаточных пробелов\n",
    "    rezs=[res for pos,res in p_noun(s,0) if pos==len(s)]\n",
    "    if len(rezs)!=1:\n",
    "        raise TextError(rezs)\n",
    "    tmp=rezs[0]\n",
    "    \n",
    "    m=[]\n",
    "    for p in pads:\n",
    "        #print(str(tmp))\n",
    "        prompt= \\\n",
    "            '' if p=='ip' else\\\n",
    "            'нет ' if p=='rp' else\\\n",
    "            'дать ' if p=='dp' else\\\n",
    "            'вижу ' if p=='vp' else\\\n",
    "            'творю ' if p=='tp' else\\\n",
    "            'думаю о ' if p=='pp' else\\\n",
    "            throw(ValueError('bad pad: '+p))\n",
    "        #rez=deepcopy(tmp)\n",
    "        tmp.pad=p\n",
    "        m.append(prompt+str(tmp))#        print(prompt+str(tmp))\n",
    "    return m\n",
    "\n",
    "def decline(s,pads=['ip','rp','dp','vp','tp','pp']):\n",
    "    for i in decline1(s,pads):\n",
    "        print(i)\n",
    "    \n",
    "def decline_test(s,rezs,pads=['ip','rp','dp','vp','tp','pp']):\n",
    "    tmp=decline1(s,pads)\n",
    "    if tmp==rezs:\n",
    "        print('OK')\n",
    "    else:\n",
    "        print('TestError')\n",
    "        if len(tmp)!=len(rezs):\n",
    "            print(tmp)\n",
    "        else:\n",
    "            for i in range(len(tmp)):\n",
    "                if tmp[i]!=rezs[i]:\n",
    "                    print(i+1,')',tmp[i])\n",
    "    "
   ]
  },
  {
   "cell_type": "code",
   "execution_count": 55,
   "metadata": {
    "scrolled": false
   },
   "outputs": [
    {
     "name": "stdout",
     "output_type": "stream",
     "text": [
      "не совпадают числа числ. и сущ.: один часы\n",
      "не совпадают числа числ. и сущ.: один часы\n",
      "не совпадают числа числ. и сущ.: один часы\n",
      "одни часы\n",
      "нет одних часов\n",
      "дать одним часам\n",
      "вижу одни часы\n",
      "творю одними часами\n",
      "думаю о одних часах\n"
     ]
    }
   ],
   "source": [
    "decline('one watch')"
   ]
  },
  {
   "cell_type": "markdown",
   "metadata": {
    "heading_collapsed": true
   },
   "source": [
    "## Lesson 1"
   ]
  },
  {
   "cell_type": "code",
   "execution_count": 56,
   "metadata": {
    "hidden": true
   },
   "outputs": [
    {
     "data": {
      "text/plain": [
       "'кот'"
      ]
     },
     "execution_count": 56,
     "metadata": {},
     "output_type": "execute_result"
    }
   ],
   "source": [
    "en2ru('cat')"
   ]
  },
  {
   "cell_type": "code",
   "execution_count": 57,
   "metadata": {
    "hidden": true
   },
   "outputs": [
    {
     "data": {
      "text/plain": [
       "'кот'"
      ]
     },
     "execution_count": 57,
     "metadata": {},
     "output_type": "execute_result"
    }
   ],
   "source": [
    "en2ru('a cat')"
   ]
  },
  {
   "cell_type": "code",
   "execution_count": 58,
   "metadata": {
    "hidden": true
   },
   "outputs": [
    {
     "data": {
      "text/plain": [
       "'крыса'"
      ]
     },
     "execution_count": 58,
     "metadata": {},
     "output_type": "execute_result"
    }
   ],
   "source": [
    "en2ru('rat')"
   ]
  },
  {
   "cell_type": "code",
   "execution_count": 59,
   "metadata": {
    "hidden": true
   },
   "outputs": [
    {
     "data": {
      "text/plain": [
       "'летучая мышь'"
      ]
     },
     "execution_count": 59,
     "metadata": {},
     "output_type": "execute_result"
    }
   ],
   "source": [
    "en2ru('bat')"
   ]
  },
  {
   "cell_type": "code",
   "execution_count": 60,
   "metadata": {
    "hidden": true
   },
   "outputs": [
    {
     "data": {
      "text/plain": [
       "''"
      ]
     },
     "execution_count": 60,
     "metadata": {},
     "output_type": "execute_result"
    }
   ],
   "source": [
    "en2ru('a')"
   ]
  },
  {
   "cell_type": "code",
   "execution_count": 61,
   "metadata": {
    "hidden": true
   },
   "outputs": [
    {
     "data": {
      "text/plain": [
       "'урок'"
      ]
     },
     "execution_count": 61,
     "metadata": {},
     "output_type": "execute_result"
    }
   ],
   "source": [
    "en2ru('lesson')"
   ]
  },
  {
   "cell_type": "code",
   "execution_count": 62,
   "metadata": {
    "hidden": true
   },
   "outputs": [
    {
     "data": {
      "text/plain": [
       "'_Кот и кот'"
      ]
     },
     "execution_count": 62,
     "metadata": {},
     "output_type": "execute_result"
    }
   ],
   "source": [
    "en2ru('_Cat and cat')"
   ]
  },
  {
   "cell_type": "code",
   "execution_count": 63,
   "metadata": {
    "hidden": true,
    "scrolled": true
   },
   "outputs": [
    {
     "data": {
      "text/plain": [
       "'_кот и кот'"
      ]
     },
     "execution_count": 63,
     "metadata": {},
     "output_type": "execute_result"
    }
   ],
   "source": [
    "en2ru('_a cat and cat')"
   ]
  },
  {
   "cell_type": "code",
   "execution_count": 64,
   "metadata": {
    "hidden": true,
    "scrolled": false
   },
   "outputs": [
    {
     "data": {
      "text/plain": [
       "'_кот, кот'"
      ]
     },
     "execution_count": 64,
     "metadata": {},
     "output_type": "execute_result"
    }
   ],
   "source": [
    "en2ru('_a cat , cat')"
   ]
  },
  {
   "cell_type": "code",
   "execution_count": 65,
   "metadata": {
    "hidden": true,
    "scrolled": false
   },
   "outputs": [
    {
     "data": {
      "text/plain": [
       "'_кот, кот'"
      ]
     },
     "execution_count": 65,
     "metadata": {},
     "output_type": "execute_result"
    }
   ],
   "source": [
    "x=p_noun(tokenize('_a cat, cat'),0)[0][1]\n",
    "str(x)"
   ]
  },
  {
   "cell_type": "code",
   "execution_count": 66,
   "metadata": {
    "hidden": true
   },
   "outputs": [
    {
     "data": {
      "text/plain": [
       "'_кот, кот'"
      ]
     },
     "execution_count": 66,
     "metadata": {},
     "output_type": "execute_result"
    }
   ],
   "source": [
    "s=tokenize('_a cat, cat')\n",
    "rezs=p_seq(s,0,[ p_noun1, word(',')  , p_noun ],r_noun_comma_noun)\n",
    "str(rezs[0][1])"
   ]
  },
  {
   "cell_type": "code",
   "execution_count": 67,
   "metadata": {
    "hidden": true,
    "scrolled": true
   },
   "outputs": [
    {
     "data": {
      "text/plain": [
       "'кот,_кот,_кот'"
      ]
     },
     "execution_count": 67,
     "metadata": {},
     "output_type": "execute_result"
    }
   ],
   "source": [
    "str(p_noun(tokenize('cat,_cat,_a cat'),0)[0][1])"
   ]
  },
  {
   "cell_type": "code",
   "execution_count": 68,
   "metadata": {
    "hidden": true,
    "scrolled": false
   },
   "outputs": [
    {
     "data": {
      "text/plain": [
       "'cat,_cat,_a cat'"
      ]
     },
     "execution_count": 68,
     "metadata": {},
     "output_type": "execute_result"
    }
   ],
   "source": [
    "SAttrs.join(tokenize('cat,_cat,_a cat'))"
   ]
  },
  {
   "cell_type": "code",
   "execution_count": 69,
   "metadata": {
    "hidden": true
   },
   "outputs": [
    {
     "data": {
      "text/plain": [
       "'крыса, кот'"
      ]
     },
     "execution_count": 69,
     "metadata": {},
     "output_type": "execute_result"
    }
   ],
   "source": [
    "en2ru('rat, cat')"
   ]
  },
  {
   "cell_type": "markdown",
   "metadata": {
    "heading_collapsed": true
   },
   "source": [
    "## Lesson 2"
   ]
  },
  {
   "cell_type": "code",
   "execution_count": 70,
   "metadata": {
    "hidden": true
   },
   "outputs": [
    {
     "data": {
      "text/plain": [
       "'кот И_Крыса'"
      ]
     },
     "execution_count": 70,
     "metadata": {},
     "output_type": "execute_result"
    }
   ],
   "source": [
    "en2ru('cat AND_Rat')"
   ]
  },
  {
   "cell_type": "code",
   "execution_count": 71,
   "metadata": {
    "hidden": true
   },
   "outputs": [
    {
     "data": {
      "text/plain": [
       "'ручка и курица'"
      ]
     },
     "execution_count": 71,
     "metadata": {},
     "output_type": "execute_result"
    }
   ],
   "source": [
    "en2ru('a pen and a hen')"
   ]
  },
  {
   "cell_type": "code",
   "execution_count": 72,
   "metadata": {
    "hidden": true
   },
   "outputs": [
    {
     "data": {
      "text/plain": [
       "'летучая мышь и кот'"
      ]
     },
     "execution_count": 72,
     "metadata": {},
     "output_type": "execute_result"
    }
   ],
   "source": [
    "en2ru('a bat and a cat')"
   ]
  },
  {
   "cell_type": "code",
   "execution_count": 73,
   "metadata": {
    "hidden": true,
    "scrolled": false
   },
   "outputs": [
    {
     "data": {
      "text/plain": [
       "'курица, летучая мышь, кот и крыса'"
      ]
     },
     "execution_count": 73,
     "metadata": {},
     "output_type": "execute_result"
    }
   ],
   "source": [
    "en2ru('a hen, a bat, a cat and a rat')"
   ]
  },
  {
   "cell_type": "markdown",
   "metadata": {
    "heading_collapsed": true
   },
   "source": [
    "## Lesson 3"
   ]
  },
  {
   "cell_type": "code",
   "execution_count": 74,
   "metadata": {
    "hidden": true
   },
   "outputs": [
    {
     "data": {
      "text/plain": [
       "'один'"
      ]
     },
     "execution_count": 74,
     "metadata": {},
     "output_type": "execute_result"
    }
   ],
   "source": [
    "en2ru('one')"
   ]
  },
  {
   "cell_type": "code",
   "execution_count": 75,
   "metadata": {
    "hidden": true
   },
   "outputs": [
    {
     "data": {
      "text/plain": [
       "'летучая мышь, собака и свинья'"
      ]
     },
     "execution_count": 75,
     "metadata": {},
     "output_type": "execute_result"
    }
   ],
   "source": [
    "en2ru('a bat, a dog and a pig')"
   ]
  },
  {
   "cell_type": "code",
   "execution_count": 76,
   "metadata": {
    "hidden": true
   },
   "outputs": [
    {
     "data": {
      "text/plain": [
       "'одна собака'"
      ]
     },
     "execution_count": 76,
     "metadata": {},
     "output_type": "execute_result"
    }
   ],
   "source": [
    "en2ru('one dog')"
   ]
  },
  {
   "cell_type": "code",
   "execution_count": 77,
   "metadata": {
    "hidden": true
   },
   "outputs": [
    {
     "data": {
      "text/plain": [
       "'три собаки'"
      ]
     },
     "execution_count": 77,
     "metadata": {},
     "output_type": "execute_result"
    }
   ],
   "source": [
    "en2ru('three dogs')"
   ]
  },
  {
   "cell_type": "code",
   "execution_count": 78,
   "metadata": {
    "hidden": true
   },
   "outputs": [
    {
     "name": "stdout",
     "output_type": "stream",
     "text": [
      "крыса и кот\n",
      "нет крысы и кота\n",
      "дать крысе и коту\n",
      "вижу крысу и кота\n",
      "творю крысой и котом\n",
      "думаю о крысе и коте\n"
     ]
    }
   ],
   "source": [
    "decline('rat and cat')"
   ]
  },
  {
   "cell_type": "code",
   "execution_count": 79,
   "metadata": {
    "hidden": true,
    "scrolled": true
   },
   "outputs": [
    {
     "name": "stdout",
     "output_type": "stream",
     "text": [
      "одна летучая мышь и три чашки\n",
      "нет одной летучей мыши и трёх чашек\n",
      "дать одной летучей мыши и трём чашкам\n",
      "вижу одну летучую мышь и три чашки\n",
      "творю одной летучей мышью и тремя чашками\n",
      "думаю о одной летучей мыши и трёх чашках\n"
     ]
    }
   ],
   "source": [
    "decline('one bat and three cups')"
   ]
  },
  {
   "cell_type": "code",
   "execution_count": 80,
   "metadata": {
    "hidden": true
   },
   "outputs": [
    {
     "data": {
      "text/plain": [
       "'одна летучая мышь и три чашки'"
      ]
     },
     "execution_count": 80,
     "metadata": {},
     "output_type": "execute_result"
    }
   ],
   "source": [
    "en2ru('one bat and three cups')"
   ]
  },
  {
   "cell_type": "code",
   "execution_count": 81,
   "metadata": {
    "hidden": true
   },
   "outputs": [
    {
     "name": "stdout",
     "output_type": "stream",
     "text": [
      "OK\n"
     ]
    }
   ],
   "source": [
    "decline_test('one, two, three, four, five',[\n",
    "    'один, два, три, четыре, пять',\n",
    "    'нет одного, двух, трёх, четырёх, пяти',\n",
    "    'дать одному, двум, трём, четырём, пяти',\n",
    "    'вижу один, два, три, четыре, пять',\n",
    "    'творю одним, двумя, тремя, четырьмя, пятью',\n",
    "    'думаю о одном, двух, трёх, четырёх, пяти',])"
   ]
  },
  {
   "cell_type": "code",
   "execution_count": 82,
   "metadata": {
    "hidden": true
   },
   "outputs": [
    {
     "name": "stdout",
     "output_type": "stream",
     "text": [
      "OK\n"
     ]
    }
   ],
   "source": [
    "decline_test('cat, one cat, cats, two cats, three cats, five cats',[\n",
    "    'кот, один кот, коты, два кота, три кота, пять котов',\n",
    "    'нет кота, одного кота, котов, двух котов, трёх котов, пяти котов',\n",
    "    'дать коту, одному коту, котам, двум котам, трём котам, пяти котам',\n",
    "    'вижу кота, одного кота, котов, двух котов, трёх котов, пять котов',\n",
    "    'творю котом, одним котом, котами, двумя котами, тремя котами, пятью котами',\n",
    "    'думаю о коте, одном коте, котах, двух котах, трёх котах, пяти котах',\n",
    "])"
   ]
  },
  {
   "cell_type": "code",
   "execution_count": 83,
   "metadata": {
    "hidden": true
   },
   "outputs": [
    {
     "name": "stdout",
     "output_type": "stream",
     "text": [
      "OK\n"
     ]
    }
   ],
   "source": [
    "decline_test('lesson, one lesson, lessons, two lessons, three lessons, five lessons',[\n",
    "    'урок, один урок, уроки, два урока, три урока, пять уроков',\n",
    "    'нет урока, одного урока, уроков, двух уроков, трёх уроков, пяти уроков',\n",
    "    'дать уроку, одному уроку, урокам, двум урокам, трём урокам, пяти урокам',\n",
    "    'вижу урок, один урок, уроки, два урока, три урока, пять уроков',\n",
    "    'творю уроком, одним уроком, уроками, двумя уроками, тремя уроками, пятью уроками',\n",
    "    'думаю о уроке, одном уроке, уроках, двух уроках, трёх уроках, пяти уроках',\n",
    "])"
   ]
  },
  {
   "cell_type": "code",
   "execution_count": 84,
   "metadata": {
    "hidden": true
   },
   "outputs": [
    {
     "name": "stdout",
     "output_type": "stream",
     "text": [
      "OK\n"
     ]
    }
   ],
   "source": [
    "decline_test('rat, one rat, rats, two rats, three rats, five rats',[\n",
    "    'крыса, одна крыса, крысы, две крысы, три крысы, пять крыс',\n",
    "    'нет крысы, одной крысы, крыс, двух крыс, трёх крыс, пяти крыс',\n",
    "    'дать крысе, одной крысе, крысам, двум крысам, трём крысам, пяти крысам',\n",
    "    'вижу крысу, одну крысу, крыс, двух крыс, трёх крыс, пять крыс',\n",
    "    'творю крысой, одной крысой, крысами, двумя крысами, тремя крысами, пятью крысами',\n",
    "    'думаю о крысе, одной крысе, крысах, двух крысах, трёх крысах, пяти крысах',\n",
    "])"
   ]
  },
  {
   "cell_type": "code",
   "execution_count": 85,
   "metadata": {
    "hidden": true
   },
   "outputs": [
    {
     "name": "stdout",
     "output_type": "stream",
     "text": [
      "ребёнок, один ребёнок, дети, два ребёнка, три ребёнка, пять детей\n",
      "нет ребёнка, одного ребёнка, детей, двух детей, трёх детей, пяти детей\n",
      "дать ребёнку, одному ребёнку, детям, двум детям, трём детям, пяти детям\n",
      "вижу ребёнка, одного ребёнка, детей, двух детей, трёх детей, пять детей\n",
      "творю ребёнком, одним ребёнком, детьми, двумя детьми, тремя детьми, пятью детьми\n",
      "думаю о ребёнке, одном ребёнке, детях, двух детях, трёх детях, пяти детях\n"
     ]
    }
   ],
   "source": [
    "decline('child, one child, children, two children, three children, five children')"
   ]
  },
  {
   "cell_type": "markdown",
   "metadata": {},
   "source": [
    "## Lesson 4"
   ]
  },
  {
   "cell_type": "code",
   "execution_count": 86,
   "metadata": {
    "scrolled": true
   },
   "outputs": [
    {
     "name": "stdout",
     "output_type": "stream",
     "text": [
      "  Шляпа, чашка и ящик.\n",
      "Летучая мышь, курица и ящик.\n"
     ]
    }
   ],
   "source": [
    "print(en2ru(\n",
    "'''  A hat, a cup and a box.\n",
    "A bat, a hen and a box.'''\n",
    "))"
   ]
  },
  {
   "cell_type": "code",
   "execution_count": 87,
   "metadata": {
    "scrolled": true
   },
   "outputs": [
    {
     "name": "stdout",
     "output_type": "stream",
     "text": [
      "no tokens\n"
     ]
    },
    {
     "data": {
      "text/plain": [
       "''"
      ]
     },
     "execution_count": 87,
     "metadata": {},
     "output_type": "execute_result"
    }
   ],
   "source": [
    "en2ru('')"
   ]
  },
  {
   "cell_type": "code",
   "execution_count": null,
   "metadata": {},
   "outputs": [],
   "source": []
  },
  {
   "cell_type": "code",
   "execution_count": null,
   "metadata": {},
   "outputs": [],
   "source": []
  }
 ],
 "metadata": {
  "hide_input": false,
  "kernelspec": {
   "display_name": "Python 3",
   "language": "python",
   "name": "python3"
  },
  "language_info": {
   "codemirror_mode": {
    "name": "ipython",
    "version": 3
   },
   "file_extension": ".py",
   "mimetype": "text/x-python",
   "name": "python",
   "nbconvert_exporter": "python",
   "pygments_lexer": "ipython3",
   "version": "3.6.7"
  }
 },
 "nbformat": 4,
 "nbformat_minor": 2
}
