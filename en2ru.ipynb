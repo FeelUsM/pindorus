{
 "cells": [
  {
   "cell_type": "markdown",
   "metadata": {},
   "source": [
    "```\n",
    "p_паттерн парсит текст (str, pos), \n",
    "    вызывая другие паттерны, возвращающие древовидные структуры\n",
    "    эти древовидные структуры передает одному из правил\n",
    "        (остальные вызовы правил закомментированы \n",
    "            - в рамках одного текста каждый паттерн имеет ровно 1 смысл)\n",
    "    и возвращает (pos, результат этого правила), помещенный в массив\n",
    "    \n",
    "    /*пока на ошибках парсинга концентрировать не будем*/\n",
    "    если ничего не удалось распарсить, ???возвращаемый массив будет пустым???\n",
    "    если удалось распарсить несколько вариантов - в массиве будет насколько вариантов\n",
    "        сначала парсятся все исключения\n",
    "        потом парсятся все обычные варианты (если нет исключений)\n",
    "```\n",
    "\n",
    "```\n",
    "r_правило получает список древовидных структур\n",
    "    обрабатывает их по определенному правилу\n",
    "    возвращает древовидную структуру\n",
    "```\n",
    "\n",
    "```\n",
    "древовидная структура - map, со следующими ключами\n",
    "    type: 'noun'/'adj'/'verb'/'num'/... - определяем через isinstance()\n",
    "    постоянные параметры (для сущ.: род, число)\n",
    "    переменные параметры (для сущ.: падеж)\n",
    "    talk: массив древовидных структур\n",
    "        или пар (тип, слово), где тип - main/punct/other\n",
    "```\n",
    "\n",
    "```\n",
    "str(древовидная структура)\n",
    "    превращает древовидную структуру в строку\n",
    "```\n",
    "\n",
    "```\n",
    "для каждого типа элемента древовидной структуры будет map\n",
    "    где каждой строке (для сущ. - слово в и.п.) будет соответствовать\n",
    "        структура данных, которая вместе в переменными параметрами передается в \n",
    "        sh_функция для этого типа элемента древовидной структуры\n",
    "            которая будет возвращать слово в соотв. форме (для сущ. в соотв. падеже)\n",
    "```"
   ]
  },
  {
   "cell_type": "code",
   "execution_count": 1,
   "metadata": {
    "scrolled": true
   },
   "outputs": [],
   "source": [
    "from classes import *"
   ]
  },
  {
   "cell_type": "markdown",
   "metadata": {},
   "source": [
    "# Правила: Словарь, +отображение"
   ]
  },
  {
   "cell_type": "code",
   "execution_count": 2,
   "metadata": {},
   "outputs": [],
   "source": [
    "ruwords={} #какие-то однословные правила складываются сюда, а какие-то остаются в функциях"
   ]
  },
  {
   "cell_type": "markdown",
   "metadata": {},
   "source": [
    "## Noun"
   ]
  },
  {
   "cell_type": "markdown",
   "metadata": {},
   "source": [
    "##### Функции"
   ]
  },
  {
   "cell_type": "code",
   "execution_count": 3,
   "metadata": {},
   "outputs": [],
   "source": [
    "def show_noun1(st,word,ip,rp,dp,vp,tp,pp):\n",
    "    if st.pad=='ip' : return word+ip\n",
    "    if st.pad=='rp' : return word+rp\n",
    "    if st.pad=='dp' : return word+dp\n",
    "    if st.pad=='vp' : return word+vp\n",
    "    if st.pad=='tp' : return word+tp\n",
    "    if st.pad=='pp' : return word+pp\n",
    "    raise RuntimeError()\n"
   ]
  },
  {
   "cell_type": "code",
   "execution_count": 4,
   "metadata": {},
   "outputs": [],
   "source": [
    "#show_noun_map['я']=lambda st: show_noun1(st,\"\",\"я\",\"меня\",\"мне\",\"меня\",\"мной\",\"мне\")\n"
   ]
  },
  {
   "cell_type": "code",
   "execution_count": 5,
   "metadata": {
    "code_folding": []
   },
   "outputs": [],
   "source": [
    "def add_runoun(name,och,odush,rod,chis,word,ip,rp,dp,vp,tp,pp):\n",
    "    ruwords[name]=StNoun(name,och,odush,rod,chis,'ip')\n",
    "    show_noun_map[name]=lambda st: show_noun1(st,word,ip,rp,dp,vp,tp,pp)\n",
    "\n",
    "def add_runoun2(name,rod,word,ip,rp,dp,vp,tp,pp,\\\n",
    "               mname,odush,mword,mip,mrp,mdp,mvp,mtp,mpp):\n",
    "    add_runoun(name,mname,odush,rod,'ed',word,ip,rp,dp,vp,tp,pp)\n",
    "    add_runoun(mname,name,odush,rod,'mn',mword,mip,mrp,mdp,mvp,mtp,mpp)\n"
   ]
  },
  {
   "cell_type": "markdown",
   "metadata": {},
   "source": [
    "##### М.р."
   ]
  },
  {
   "cell_type": "code",
   "execution_count": 6,
   "metadata": {
    "code_folding": []
   },
   "outputs": [],
   "source": [
    "#                                     ип ,нет ,дать,вижу,творю,думаю\n",
    "add_runoun2(\"кот\"    ,'m'  ,'кот'    ,'' ,'а' ,'у' ,'а' ,'ом' ,'е' ,\n",
    "            \"коты\"   ,True ,'кот'    ,'ы','ов','ам','ов','ами','ах')\n",
    "\n",
    "add_runoun2(\"джем\"   ,'m'  ,'джем'   ,'' ,'а' ,'у' ,''  ,'ом' ,'е' ,\n",
    "            \"джемы\"  ,False,'джем'   ,'ы','ов','ам','ы' ,'ами','ах')\n",
    "\n",
    "add_runoun2(\"волк\"   ,'m'  ,'волк'   ,'' ,'а' ,'у' ,'а' ,'ом' ,'е' ,\n",
    "            \"волки\"  ,True ,'волк'   ,'и','ов','ам','ов','ами','ах')\n",
    "add_runoun2(\"мальчик\",'m'  ,'мальчик','' ,'а' ,'у' ,'а' ,'ом' ,'е' ,\n",
    "            \"мальчики\",True,'мальчик','и','ов','ам','ов','ами','ах')\n",
    "\n",
    "add_runoun2(\"ящик\"   ,'m'  ,'ящик'   ,'' ,'а' ,'у' ,''  ,'ом' ,'е' ,\n",
    "            \"ящики\"  ,False,'ящик'   ,'и','ов','ам','и' ,'ами','ах')\n",
    "add_runoun2(\"урок\"   ,'m'  ,'урок'   ,'' ,'а' ,'у' ,''  ,'ом' ,'е' ,\n",
    "            \"уроки\"  ,False,'урок'   ,'и','ов','ам','и' ,'ами','ах')"
   ]
  },
  {
   "cell_type": "code",
   "execution_count": 7,
   "metadata": {
    "code_folding": []
   },
   "outputs": [],
   "source": [
    "add_runoun2(\"ребёнок\",'m'  ,'ребён'  ,'ок','ка','ку','ка','ком','ке',\n",
    "            \"дети\"   ,True ,'дет'    ,'и' ,'ей','ям','ей','ьми','ях')\n",
    "\n",
    "add_runoun2(\"котёнок\",'m'  ,'котён'  ,'ок','ка','ку','ка','ком','ке',\n",
    "            \"котята\" ,True ,'котят'  ,'а' ,''  ,'ам',''  ,'ами','ах')"
   ]
  },
  {
   "cell_type": "markdown",
   "metadata": {},
   "source": [
    "##### Ж.р."
   ]
  },
  {
   "cell_type": "code",
   "execution_count": 8,
   "metadata": {
    "code_folding": []
   },
   "outputs": [],
   "source": [
    "#                                   ип ,нет ,дать ,вижу,творю ,думаю\n",
    "add_runoun2(\"белка\" ,'g'  ,'белк' ,'а' ,'и' ,'е'  ,'у' ,'ой'  ,'е'  ,\n",
    "            \"белки\" ,True ,'бел'  ,'ки','ок','кам','ок','ками','ках')\n",
    "\n",
    "add_runoun2(\"кепка\"  ,'g'  ,'кепк'  ,'а' ,'и' ,'е'  ,'у' ,'ой'  ,'е'  ,\n",
    "            \"кепки\"  ,False,'кеп'   ,'ки','ок','кам','ки','ками','ках')\n",
    "add_runoun2(\"шапка\"  ,'g'  ,'шапк'  ,'а' ,'и' ,'е'  ,'у' ,'ой'  ,'е'  ,\n",
    "            \"шапки\"  ,False,'шап'   ,'ки','ок','кам','ки','ками','ках')\n",
    "add_runoun2(\"коробка\",'g'  ,'коробк','а' ,'и' ,'е'  ,'у' ,'ой'  ,'е'  ,\n",
    "            \"коробки\",False,'короб' ,'ки','ок','кам','ки','ками','ках')\n",
    "\n",
    "add_runoun2(\"кошка\" ,'g'  ,'кошк' ,'а' ,'и' ,'е'  ,'у' ,'ой'  ,'е'  ,\n",
    "            \"кошки\" ,True ,'кош'  ,'ки','ек','кам','ек','ками','ках')\n",
    "\n",
    "add_runoun2(\"ручка\" ,'g'  ,'ручк' ,'а' ,'и' ,'е'  ,'у'  ,'ой' ,'е'  ,\n",
    "            \"ручки\" ,False,'руч'  ,'ки','ек','кам','ки','ками','ках')\n",
    "add_runoun2(\"чашка\" ,'g'  ,'чашк' ,'а' ,'и' ,'е'  ,'у' ,'ой'  ,'е'  ,\n",
    "            \"чашки\" ,False,'чаш'  ,'ки','ек','кам','ки','ками','ках')\n",
    "add_runoun2(\"ложка\" ,'g'  ,'ложк' ,'а' ,'и' ,'е'  ,'у' ,'ой'  ,'е'  ,\n",
    "            \"ложки\" ,False,'лож'  ,'ки','ек','кам','ки','ками','ках')"
   ]
  },
  {
   "cell_type": "code",
   "execution_count": 9,
   "metadata": {
    "code_folding": []
   },
   "outputs": [],
   "source": [
    "add_runoun2(\"собака\",'g'  ,'собак','а' ,'и' ,'е'  ,'у'  ,'ой' ,'е' ,\n",
    "            \"собаки\",True ,'собак','и' ,''  ,'ам' ,''   ,'ами','ах')\n",
    "\n",
    "add_runoun2(\"книга\" ,'g'  ,'книг' ,'а' ,'и' ,'е'  ,'у'  ,'ой' ,'е' ,\n",
    "            \"книги\" ,False,'книг' ,'и' ,''  ,'ам' ,'и'  ,'ами','ах')\n",
    "\n",
    "add_runoun2(\"зебра\" ,'g'  ,'зебр' ,'а','ы','е' ,'у' ,'ой' ,'е' ,\n",
    "            \"зебры\" ,True ,'зебр' ,'ы','' ,'ам',''  ,'ами','ах')\n",
    "add_runoun2(\"крыса\" ,'g'  ,'крыс' ,'а','ы','е' ,'у' ,'ой' ,'е' ,\n",
    "            \"крысы\" ,True ,'крыс' ,'ы','' ,'ам',''  ,'ами','ах')\n",
    "add_runoun2(\"курица\",'g'  ,'куриц','а','ы','е' ,'у' ,'ой' ,'е' ,\n",
    "            \"курицы\",True ,'куриц','ы','' ,'ам',''  ,'ами','ах')\n",
    "add_runoun2(\"лиса\"  ,'g'  ,'лис'  ,'а','ы','е' ,'у' ,'ой' ,'е' ,\n",
    "            \"лисы\"  ,True ,'лис'  ,'ы','' ,'ам',''  ,'ами','ах')\n",
    "    \n",
    "add_runoun2(\"шляпа\" ,'g'  ,'шляп' ,'а','ы','е' ,'у' ,'ой' ,'е' ,\n",
    "            \"шляпы\" ,False,'шляп' ,'ы','' ,'ам','ы' ,'ами','ах')\n",
    "add_runoun2(\"ваза\"  ,'g'  ,'ваз'  ,'а','ы','е' ,'у' ,'ой' ,'е' ,\n",
    "            \"вазы\"  ,False,'ваз'  ,'ы','' ,'ам','ы' ,'ами','ах')\n",
    "add_runoun2(\"лампа\" ,'g'  ,'ламп' ,'а','ы','е' ,'у' ,'ой' ,'е' ,\n",
    "            \"лампы\" ,False,'ламп' ,'ы','' ,'ам','ы' ,'ами','ах')\n",
    "add_runoun2(\"звезда\",'g'  ,'звезд','а','ы','е' ,'у' ,'ой' ,'е' ,\n",
    "            \"звёзды\",False,'звёзд','ы','' ,'ам','ы' ,'ами','ах')"
   ]
  },
  {
   "cell_type": "code",
   "execution_count": 10,
   "metadata": {
    "code_folding": []
   },
   "outputs": [],
   "source": [
    "add_runoun2(\"свинья\",'g'  ,'свинь','я' ,'и' ,'е'  ,'ю' ,'ёй'  ,'е'  ,\n",
    "            \"свиньи\",True ,'свин' ,'ьи','ей','ьям','ей','ьями','ьях')"
   ]
  },
  {
   "cell_type": "code",
   "execution_count": 11,
   "metadata": {
    "code_folding": []
   },
   "outputs": [],
   "source": [
    "add_runoun2(\"мышь\"   ,'g'  ,'мыш'   ,'ь','и' ,'и' ,'ь' ,'ью' ,'и' ,\n",
    "            \"мыши\"   ,True ,'мыш'   ,'и','ей','ам','ей','ами','ах')\n",
    "\n",
    "add_runoun2(\"тетрадь\",'g'  ,'тетрад','ь','и' ,'и' ,'ь' ,'ью' ,'и' ,\n",
    "            \"тетради\",False,'тетрад','и','ей','ям','и' ,'ями','ях')\n",
    "add_runoun2(\"кровать\",'g'  ,'кроват','ь','и' ,'и' ,'ь' ,'ью' ,'и' ,\n",
    "            \"кровати\",False,'кроват','и','ей','ям','и' ,'ями','ях')"
   ]
  },
  {
   "cell_type": "markdown",
   "metadata": {},
   "source": [
    "##### С.р."
   ]
  },
  {
   "cell_type": "code",
   "execution_count": 12,
   "metadata": {
    "code_folding": []
   },
   "outputs": [],
   "source": [
    "#                                    ип  ,нет ,дать ,вижу,творю ,думаю о\n",
    "add_runoun2(\"утро\"  ,'s'  ,'утр'    ,'о' ,'а' ,'у'  ,'о' ,'ом'  ,'е'  ,\n",
    "            \"утра\"  ,False,'утр'    ,'а' ,''  ,'ам' ,'а' ,'ами' ,'ах' )\n",
    "\n",
    "add_runoun2(\"ружьё\"  ,'s'  ,'ружь'  ,'ё' ,'я' ,'ю'  ,'ё' ,'ём'  ,'е'  ,\n",
    "            \"ружья\"  ,False,'руж'   ,'ья','ей','ьям','ьи','ьями','ьях')\n",
    "\n",
    "add_runoun2(\"вареньё\",'s'  ,'варень','е' ,'я' ,'ю'  ,'е' ,'ем' ,'е' ,\n",
    "            \"варенья\",False,'варен' ,'ья','ий','ьям','ья','ьями','ьях')"
   ]
  },
  {
   "cell_type": "markdown",
   "metadata": {},
   "source": [
    "##### Мн.ч."
   ]
  },
  {
   "cell_type": "code",
   "execution_count": 13,
   "metadata": {
    "code_folding": []
   },
   "outputs": [],
   "source": [
    "#                                  ип ,нет ,дать,вижу,творю,думаю\n",
    "add_runoun('часы (предмет)',None,False,'m','mn','час','ы','ов','ам','ы','ами','ах')"
   ]
  },
  {
   "cell_type": "markdown",
   "metadata": {},
   "source": [
    "## Pronoun"
   ]
  },
  {
   "cell_type": "code",
   "execution_count": 14,
   "metadata": {
    "code_folding": []
   },
   "outputs": [],
   "source": [
    "ruwords[\"я (муж)\"]=StProNoun(\"я\",\"мы\",1,True,'m','ed','ip')\n",
    "ruwords[\"я (жен)\"]=StProNoun(\"я\",\"мы\",1,True,'g','ed','ip')\n",
    "show_noun_map[\"я\"]=lambda st: show_noun1(st,'',\"я\",\"меня\",\"мне\",\"меня\",\"мной\",\"мне\")"
   ]
  },
  {
   "cell_type": "markdown",
   "metadata": {},
   "source": [
    "## Adj"
   ]
  },
  {
   "cell_type": "code",
   "execution_count": 15,
   "metadata": {},
   "outputs": [],
   "source": [
    "def show_adj1(st,word,ends):\n",
    "    if st.chis=='mn' :\n",
    "        (ip,rp,dp,vp,tp,pp,sh)=ends['mn']\n",
    "    else:\n",
    "        (ip,rp,dp,vp,tp,pp,sh)=ends[st.rod]\n",
    "        \n",
    "    if   st.pad=='ip' : rez=ip\n",
    "    elif st.pad=='rp' : rez=rp\n",
    "    elif st.pad=='dp' : rez=dp\n",
    "    elif st.pad=='vp' : rez=vp[0] if st.odush else vp[1]\n",
    "    elif st.pad=='tp' : rez=tp\n",
    "    elif st.pad=='pp' : rez=pp\n",
    "    elif st.pad=='sh' : rez=sh\n",
    "    else: raise RuntimeError()\n",
    "        \n",
    "    return word+rez\n"
   ]
  },
  {
   "cell_type": "code",
   "execution_count": 16,
   "metadata": {},
   "outputs": [],
   "source": [
    "def add_ruadj(name,sh_word,ends):\n",
    "    ruwords[name]=StAdj(name,True,'m','ed','ip')\n",
    "    show_adj_map[name]=lambda st: show_adj1(st,sh_word,ends)\n"
   ]
  },
  {
   "cell_type": "code",
   "execution_count": 17,
   "metadata": {
    "code_folding": []
   },
   "outputs": [],
   "source": [
    "adj_std_ends_i={# и\n",
    "    'm' :('ий','его','ему',('его','ий'),'им' ,'ем','' ),\n",
    "    's' :('ее','его','ему',('ее', 'ее'),'им' ,'ем','е'),\n",
    "    'g' :('ая','ей' ,'ей' ,('ую', 'ую'),'ей' ,'ей','а'),\n",
    "    'mn':('ие','их' ,'им' ,('их', 'ие'),'ими','их','и'),\n",
    "}\n",
    "adj_std_ends_y={# ы\n",
    "    'm' :('ый','ого','ому',('ого','ый'),'ым' ,'ом','' ),\n",
    "    's' :('ое','ого','ому',('ое', 'ое'),'ым' ,'ом','о'),\n",
    "    'g' :('ая','ой' ,'ой' ,('ую', 'ую'),'ой' ,'ой','а'),\n",
    "    'mn':('ые','ых' ,'ым' ,('ых', 'ые'),'ыми','ых','ы'),\n",
    "}\n",
    "\n",
    "add_ruadj('летучий','летуч' ,adj_std_ends_i)\n",
    "add_ruadj('хороший','хорош' ,adj_std_ends_i)\n",
    "\n",
    "add_ruadj('добрый' ,'добр' ,adj_std_ends_y)\n"
   ]
  },
  {
   "cell_type": "markdown",
   "metadata": {},
   "source": [
    "## Num"
   ]
  },
  {
   "cell_type": "code",
   "execution_count": 18,
   "metadata": {},
   "outputs": [],
   "source": [
    "def show_num1(st,word,ends):\n",
    "    if st.chis=='mn' :\n",
    "        (ip,rp,dp,vp,tp,pp)=ends['mn']\n",
    "    else:\n",
    "        (ip,rp,dp,vp,tp,pp)=ends[st.rod]\n",
    "        \n",
    "    if   st.pad=='ip' : rez=ip\n",
    "    elif st.pad=='rp' : rez=rp\n",
    "    elif st.pad=='dp' : rez=dp\n",
    "    elif st.pad=='vp' : rez=vp[0] if st.odush else vp[1]\n",
    "    elif st.pad=='tp' : rez=tp\n",
    "    elif st.pad=='pp' : rez=pp\n",
    "    else: raise RuntimeError()\n",
    "        \n",
    "    return word+rez\n"
   ]
  },
  {
   "cell_type": "code",
   "execution_count": 19,
   "metadata": {
    "code_folding": []
   },
   "outputs": [],
   "source": [
    "show_num_map['один']=\\\n",
    "    lambda st: show_num1(st,'од' ,\n",
    "        {\n",
    "            'm' :('ин','ного','ному',('ного','ин'),'ним' ,'ном'),\n",
    "            's' :('но','ного','ному',('но'  ,'но'),'ним' ,'ном'),\n",
    "            'g' :('на','ной' ,'ной' ,('ну'  ,'ну'),'ной' ,'ной'),\n",
    "            'mn':('ни','них' ,'ним' ,('них', 'ни'),'ними','них'),\n",
    "        }\n",
    "    )\n",
    "show_num_map['два']=\\\n",
    "    (lambda st: \\\n",
    "        (\"две\" if st.rod=='g' else \"два\")                         if st.pad=='ip' else \\\n",
    "        \"двух\"                                                    if st.pad=='rp' else \\\n",
    "        \"двум\"                                                    if st.pad=='dp' else \\\n",
    "        (\"двух\" if st.odush else \"две\" if st.rod=='g' else \"два\") if st.pad=='vp' else \\\n",
    "        \"двумя\"                                                   if st.pad=='tp' else \\\n",
    "        \"двух\"                                                    if st.pad=='pp' else \\\n",
    "        throw(RuntimeError('unknown pad: '+st.pad))\n",
    "    )\n",
    "show_num_map['три']=\\\n",
    "    lambda st: show_num1(st,'тр' ,\n",
    "        {   'mn':('и','ёх' ,'ём' ,('ёх', 'и'),'емя','ёх'), }    )\n",
    "show_num_map['четыре']=\\\n",
    "    lambda st: show_num1(st,'четыр' ,\n",
    "        {   'mn':('е','ёх' ,'ём' ,('ёх', 'е'),'ьмя','ёх'), }    )\n",
    "show_num_map['пять']=\\\n",
    "    lambda st: show_num1(st,'пят' ,\n",
    "        {   'mn':('ь','и' ,'и' ,('ь', 'ь'),'ью','и'), }    )\n",
    "show_num_map['шесть']=\\\n",
    "    lambda st: show_num1(st,'шест' ,\n",
    "        {   'mn':('ь','и' ,'и' ,('ь', 'ь'),'ью','и'), }    )\n",
    "show_num_map['семь']=\\\n",
    "    lambda st: show_num1(st,'сем' ,\n",
    "        {   'mn':('ь','и' ,'и' ,('ь', 'ь'),'ью','и'), }    )\n"
   ]
  },
  {
   "cell_type": "code",
   "execution_count": 20,
   "metadata": {},
   "outputs": [],
   "source": [
    "def r_odin():    return StNum('один'  ,'1'  ,False,'m','ed','ip')\n",
    "def r_dva():     return StNum('два'   ,'2-4',False,'m','mn','ip')\n",
    "def r_tri():     return StNum('три'   ,'2-4',False,'m','mn','ip')\n",
    "def r_chetyre(): return StNum('четыре','2-4',False,'m','mn','ip')\n",
    "def r_pyat():    return StNum('пять'  ,'>=5',False,'m','mn','ip')\n",
    "def r_shest():   return StNum('шесть' ,'>=5',False,'m','mn','ip')\n",
    "def r_sem():     return StNum('семь'  ,'>=5',False,'m','mn','ip')\n"
   ]
  },
  {
   "cell_type": "markdown",
   "metadata": {},
   "source": [
    "## Verb"
   ]
  },
  {
   "cell_type": "code",
   "execution_count": 21,
   "metadata": {
    "code_folding": []
   },
   "outputs": [],
   "source": [
    "def show_verb1(st,word,end_map):\n",
    "    if st.form=='neopr':\n",
    "        end = end_map[st.form]\n",
    "    elif  st.form=='povel':\n",
    "        end = end_map[st.form][0 if st.chis=='ed' else 1]\n",
    "    else:\n",
    "        (i,you,he,shi,it,we,yous,they)=end_map[st.form]\n",
    "        if   (st.pers,st.chis)==(1,'ed'):\n",
    "            end = i\n",
    "        elif (st.pers,st.chis)==(2,'ed'):\n",
    "            end = you\n",
    "        elif (st.pers,st.chis)==(3,'ed'):\n",
    "            if   st.rod=='m' : end=he\n",
    "            elif st.rod=='g' : end=she\n",
    "            elif st.rod=='s' : end=it\n",
    "        elif (st.pers,st.chis)==(1,'mn'):\n",
    "            end = we\n",
    "        elif (st.pers,st.chis)==(2,'mn'):\n",
    "            end = yous\n",
    "        elif (st.pers,st.chis)==(3,'mn'):\n",
    "            end = they\n",
    "    return word+end"
   ]
  },
  {
   "cell_type": "code",
   "execution_count": 22,
   "metadata": {
    "code_folding": []
   },
   "outputs": [],
   "source": [
    "show_verb_map['видеть']=\\\n",
    "    lambda st: show_verb1(st,'ви',\n",
    "        {    'neopr':\"деть\",\n",
    "             'povel':(\"дь\",\"дьте\"),\n",
    "             'nast': (\"жу\",\"дишь\",\"дит\",\"дит\",\"дит\",\"дим\",\"дите\",\"дят\")\n",
    "        }   )\n",
    "show_verb_map['иметь']=\\\n",
    "    lambda st: show_verb1(st,'име',\n",
    "        {    'neopr':\"ть\",\n",
    "             'povel':(\"й\",\"йте\"),\n",
    "             'nast': (\"ю\",\"ешь\",\"ет\",\"ет\",\"ет\",\"ем\",\"ете\",\"ют\")\n",
    "        }   )\n",
    "show_verb_map['показать']=\\\n",
    "    lambda st: show_verb1(st,'пока',\n",
    "        {    'neopr':\"зать\",\n",
    "             'povel':(\"жи\",\"жите\"),\n",
    "             'nast': (\"жу\",\"жешь\",\"жет\",\"жет\",\"жет\",\"жем\",\"жете\",\"жут\")\n",
    "        }   )\n",
    "show_verb_map['дать']=\\\n",
    "    lambda st: show_verb1(st,'да',\n",
    "        {    'neopr':\"ть\",\n",
    "             'povel':(\"й\",\"йте\"),\n",
    "             'nast': (\"м\",\"шь\",\"ст\",\"ст\",\"ст\",\"дим\",\"дите\",\"дут\")\n",
    "        }   )"
   ]
  },
  {
   "cell_type": "code",
   "execution_count": 23,
   "metadata": {},
   "outputs": [],
   "source": [
    "#(self,word,oasp=0,asp=None,form=None,chis=0,rod=0,pers=0)\n",
    "def r_videt():   return StVerb('видеть'  ,\"увидеть\"   ,'nesov','povel','mn',None,None)\n",
    "def r_imet():    return StVerb('иметь'   ,\"заиметь\"   ,'nesov','povel','mn',None,None)\n",
    "def r_dat():     return StVerb('дать'    ,'давать'    ,'sov'  ,'povel','mn',None,None)\n",
    "def r_pokazat(): return StVerb('показать','показывать','sov'  ,'povel','mn',None,None)"
   ]
  },
  {
   "cell_type": "markdown",
   "metadata": {},
   "source": [
    "# Правила: Составные - общие"
   ]
  },
  {
   "cell_type": "code",
   "execution_count": 24,
   "metadata": {
    "code_folding": []
   },
   "outputs": [],
   "source": [
    "def r_adj_noun(_a_,_n_): \n",
    "    return StNoun([\n",
    "        I(dep=_a_,\n",
    "            rod=_n_.rod,\n",
    "            chis=_n_.chis,\n",
    "            pad=_n_.pad),\n",
    "        I(maindep=_n_)\n",
    "    ])"
   ]
  },
  {
   "cell_type": "markdown",
   "metadata": {},
   "source": [
    "# Паттерны: Словарь"
   ]
  },
  {
   "cell_type": "markdown",
   "metadata": {},
   "source": [
    "## Adj"
   ]
  },
  {
   "cell_type": "code",
   "execution_count": 25,
   "metadata": {},
   "outputs": [],
   "source": [
    "dict_adj={}"
   ]
  },
  {
   "cell_type": "code",
   "execution_count": 26,
   "metadata": {
    "code_folding": []
   },
   "outputs": [],
   "source": [
    "dict_adj['a'] = S('')\n",
    "#dict_adj['a'] : r_nekotoryj(),\n",
    "dict_adj['an']= S('')\n",
    "#dict_adj['an'] : r_nekotoryj(),\n",
    "\n",
    "dict_adj['good']=ruwords[\"хороший\"]\n"
   ]
  },
  {
   "cell_type": "markdown",
   "metadata": {},
   "source": [
    "## Noun"
   ]
  },
  {
   "cell_type": "code",
   "execution_count": 27,
   "metadata": {},
   "outputs": [],
   "source": [
    "dict_noun={}"
   ]
  },
  {
   "cell_type": "code",
   "execution_count": 28,
   "metadata": {
    "code_folding": []
   },
   "outputs": [],
   "source": [
    "#dict_noun['cat']=   ruwords[\"кошка\"]\n",
    "dict_noun['cat']=   ruwords[\"кот\"]\n",
    "#dict_noun['cats']=   ruwords[\"кошки\"]\n",
    "dict_noun['cats']=   ruwords[\"коты\"]\n",
    "    \n",
    "#dict_noun['rat']=   ruwords[\"мышь\"]\n",
    "dict_noun['rat']=   ruwords['крыса']\n",
    "#dict_noun['rats']=   ruwords[\"мыши\"]\n",
    "dict_noun['rats']=   ruwords['крысы']\n",
    "    \n",
    "dict_noun['bat']=   r_adj_noun(deepcopy(ruwords['летучий']),deepcopy(ruwords[\"мышь\"]))\n",
    "dict_noun['bats']=   r_adj_noun(deepcopy(ruwords['летучий']),deepcopy(ruwords[\"мыши\"]))\n",
    "    \n",
    "dict_noun['lesson']=ruwords[\"урок\"]\n",
    "dict_noun['lessons']=ruwords[\"уроки\"]\n",
    "    "
   ]
  },
  {
   "cell_type": "code",
   "execution_count": 29,
   "metadata": {
    "code_folding": []
   },
   "outputs": [],
   "source": [
    "dict_noun['cap']=   ruwords[\"кепка\"]\n",
    "#dict_noun['cap']=  ruwords[\"шапка\"]\n",
    "dict_noun['caps']=   ruwords[\"кепки\"]\n",
    "#dict_noun['caps']=  ruwords[\"шапки\"]\n",
    "    \n",
    "dict_noun['pen']=   ruwords[\"ручка\"]\n",
    "dict_noun['pens']=   ruwords[\"ручки\"]\n",
    "    \n",
    "dict_noun['hat']=   ruwords[\"шляпа\"]\n",
    "dict_noun['hats']=   ruwords[\"шляпы\"]\n",
    "    \n",
    "dict_noun['hen']=   ruwords[\"курица\"]\n",
    "dict_noun['hens']=   ruwords[\"курицы\"]\n",
    "    "
   ]
  },
  {
   "cell_type": "code",
   "execution_count": 30,
   "metadata": {
    "code_folding": []
   },
   "outputs": [],
   "source": [
    "dict_noun['dog']=   ruwords['собака']\n",
    "dict_noun['dogs']=   ruwords['собаки']\n",
    "dict_noun['pig']=   ruwords['свинья']\n",
    "dict_noun['pigs']=   ruwords['свиньи']\n",
    "dict_noun['gun']=   ruwords['ружьё']\n",
    "dict_noun['guns']=   ruwords['ружья']\n",
    "dict_noun['cup']=   ruwords['чашка']\n",
    "dict_noun['cups']=   ruwords['чашки']\n",
    "    "
   ]
  },
  {
   "cell_type": "code",
   "execution_count": 31,
   "metadata": {
    "code_folding": []
   },
   "outputs": [],
   "source": [
    "#dict_noun['box']=   ruwords['коробка']\n",
    "#dict_noun['boxes']=   ruwords['коробки']\n",
    "dict_noun['box']=   ruwords['ящик']\n",
    "dict_noun['boxes']=   ruwords['ящики']\n",
    "\n",
    "dict_noun['jam']=   ruwords['джем']\n",
    "#dict_noun['jam']=   ruwords['варенье']\n",
    "\n",
    "dict_noun['bed']=   ruwords['кровать']\n",
    "dict_noun['beds']=   ruwords['кровати']\n",
    "\n",
    "dict_noun['fox']=   ruwords['лиса']\n",
    "dict_noun['foxes']=   ruwords['лисы']\n",
    "    "
   ]
  },
  {
   "cell_type": "code",
   "execution_count": 32,
   "metadata": {
    "code_folding": []
   },
   "outputs": [],
   "source": [
    "dict_noun['kitten']= ruwords['котёнок']\n",
    "dict_noun['kittens']= ruwords['котята']\n",
    "dict_noun['vase']= ruwords['ваза']\n",
    "dict_noun['vases']= ruwords['вазы']\n",
    "dict_noun['star']= ruwords['звезда']\n",
    "dict_noun['stars']= ruwords['звёзды']\n",
    "dict_noun['lamp']= ruwords['лампа']\n",
    "dict_noun['lamps']= ruwords['лампы']\n",
    "    "
   ]
  },
  {
   "cell_type": "code",
   "execution_count": 33,
   "metadata": {
    "code_folding": []
   },
   "outputs": [],
   "source": [
    "dict_noun['squirrel']= ruwords['белка']\n",
    "dict_noun['squirrels']= ruwords['белки']\n",
    "dict_noun['wolf']= ruwords['волк']\n",
    "dict_noun['wolfs']= ruwords['волки']\n",
    "dict_noun['zebra']= ruwords['зебра']\n",
    "dict_noun['zebras']= ruwords['зебры']\n",
    "dict_noun['boy']= ruwords['мальчик']\n",
    "dict_noun['boys']= ruwords['мальчики']\n",
    "#dict_noun['boy']= ruwords['парень']\n",
    "#dict_noun['boy']= ruwords['парни']"
   ]
  },
  {
   "cell_type": "code",
   "execution_count": 34,
   "metadata": {
    "code_folding": []
   },
   "outputs": [],
   "source": [
    "dict_noun['copy-book']= ruwords['тетрадь']\n",
    "dict_noun['copy-books']= ruwords['тетради']\n",
    "dict_noun['book']= ruwords['книга']\n",
    "dict_noun['books']= ruwords['книги']\n",
    "dict_noun['spoon']= ruwords['ложка']\n",
    "dict_noun['spoons']= ruwords['ложки']\n",
    "dict_noun['morning']= ruwords['утро']\n",
    "dict_noun['mornings']= ruwords['утра']\n"
   ]
  },
  {
   "cell_type": "code",
   "execution_count": 35,
   "metadata": {
    "code_folding": []
   },
   "outputs": [],
   "source": [
    "dict_noun['child']= ruwords['ребёнок']\n",
    "dict_noun['children']= ruwords['дети']\n",
    "\n",
    "dict_noun['watch']= ruwords['часы (предмет)']"
   ]
  },
  {
   "cell_type": "markdown",
   "metadata": {},
   "source": [
    "## Pronoun"
   ]
  },
  {
   "cell_type": "code",
   "execution_count": 36,
   "metadata": {},
   "outputs": [],
   "source": [
    "dict_pronoun_ip={}\n",
    "dict_pronoun_dp={}"
   ]
  },
  {
   "cell_type": "code",
   "execution_count": 37,
   "metadata": {},
   "outputs": [],
   "source": [
    "dict_pronoun_ip['I']= ruwords[\"я (муж)\"]\n",
    "#dict_pronoun_ip['I']= ruwords[\"я (жен)\"]\n",
    "\n",
    "dict_pronoun_dp['me']= ruwords[\"я (муж)\"]\n",
    "#dict_pronoun_dp['I']= ruwords[\"я (жен)\"]"
   ]
  },
  {
   "cell_type": "markdown",
   "metadata": {},
   "source": [
    "## Numeral"
   ]
  },
  {
   "cell_type": "code",
   "execution_count": 38,
   "metadata": {},
   "outputs": [],
   "source": [
    "dict_numeral={}"
   ]
  },
  {
   "cell_type": "code",
   "execution_count": 39,
   "metadata": {
    "code_folding": []
   },
   "outputs": [],
   "source": [
    "dict_numeral['one']=   r_odin()\n",
    "dict_numeral['two']=   r_dva()\n",
    "dict_numeral['three']= r_tri()\n",
    "dict_numeral['four']=  r_chetyre()\n",
    "dict_numeral['five']=  r_pyat()\n",
    "dict_numeral['six']=   r_shest()\n",
    "dict_numeral['seven']= r_sem()\n"
   ]
  },
  {
   "cell_type": "markdown",
   "metadata": {},
   "source": [
    "## Verb"
   ]
  },
  {
   "cell_type": "code",
   "execution_count": 40,
   "metadata": {},
   "outputs": [],
   "source": [
    "dict_verb={}\n",
    "dict_verb_s={}"
   ]
  },
  {
   "cell_type": "code",
   "execution_count": 41,
   "metadata": {},
   "outputs": [],
   "source": [
    "dict_verb  ['see']= r_videt()\n",
    "dict_verb_s['sees']= r_videt()\n",
    "dict_verb  ['have']= r_imet()\n",
    "dict_verb_s['has']= r_imet()\n",
    "\n",
    "dict_verb  ['give']= r_dat()\n",
    "dict_verb_s['gives']= r_dat()\n",
    "dict_verb  ['show']= r_pokazat()\n",
    "dict_verb_s['shows']= r_pokazat()\n"
   ]
  },
  {
   "cell_type": "markdown",
   "metadata": {},
   "source": [
    "# Паттерны и правила: Составные"
   ]
  },
  {
   "cell_type": "code",
   "execution_count": 42,
   "metadata": {},
   "outputs": [],
   "source": [
    "DEBUG_PP_PRINTS=False"
   ]
  },
  {
   "cell_type": "code",
   "execution_count": 43,
   "metadata": {
    "code_folding": [
     0
    ]
   },
   "outputs": [],
   "source": [
    "def debug_pp(fun):\n",
    "    def wrapper(s,p):\n",
    "        if DEBUG_PP_PRINTS:\n",
    "            print('{'+'.'*p+fun.__name__)\n",
    "            \n",
    "        rezs=fun(s,p)\n",
    "        \n",
    "        if DEBUG_PP_PRINTS:\n",
    "            print('_'+'.'*p+str(len(rezs)),'in ',fun.__name__,'}',\n",
    "                  [(p,str(r)) for (p,r) in rezs],'\\n')\n",
    "            for i in rezs:\n",
    "                if isinstance(i[1],StDeclinable):\n",
    "                    i[1].check_attrs('wrapper:'+fun.__name__)\n",
    "        return rezs\n",
    "    return wrapper\n",
    "    return fun\n"
   ]
  },
  {
   "cell_type": "markdown",
   "metadata": {
    "heading_collapsed": true
   },
   "source": [
    "## Other"
   ]
  },
  {
   "cell_type": "code",
   "execution_count": 44,
   "metadata": {
    "hidden": true
   },
   "outputs": [],
   "source": [
    "@debug_pp\n",
    "def p_numeral(s,p):\n",
    "    return D(dict_numeral)(s,p)"
   ]
  },
  {
   "cell_type": "code",
   "execution_count": 45,
   "metadata": {
    "hidden": true
   },
   "outputs": [],
   "source": [
    "#2->\n",
    "@debug_pp\n",
    "def p_adj(s,p):\n",
    "    return D(dict_adj)(s,p)"
   ]
  },
  {
   "cell_type": "markdown",
   "metadata": {
    "heading_collapsed": true
   },
   "source": [
    "## Noun-like"
   ]
  },
  {
   "cell_type": "code",
   "execution_count": 46,
   "metadata": {
    "code_folding": [],
    "hidden": true
   },
   "outputs": [],
   "source": [
    "def r_A_noun(a,n): \n",
    "    return SAttrs.to_right(a,n)"
   ]
  },
  {
   "cell_type": "code",
   "execution_count": 47,
   "metadata": {
    "hidden": true
   },
   "outputs": [],
   "source": [
    "def r_GOOD_MORNING(g,m):\n",
    "    _g_=deepcopy(ruwords['добрый'])\n",
    "    _g_.attrs=g.attrs\n",
    "    _m_=deepcopy(ruwords['утро'])\n",
    "    _m_.attrs=m.attrs\n",
    "    return r_adj_noun(_g_,_m_)"
   ]
  },
  {
   "cell_type": "code",
   "execution_count": 48,
   "metadata": {
    "code_folding": [],
    "hidden": true
   },
   "outputs": [],
   "source": [
    "@debug_pp\n",
    "def p_adj_noun3(s,p): return alt(\n",
    "    seq([ alt(W('an'),ELSE,W('a')), p_noun3 ],r_A_noun),\n",
    "    #seq([ alt(W('an'),ELSE,W('a')), p_noun3 ],r_NEKOTORYJ_noun),\n",
    "    seq([ W('good'), W('morning') ],r_GOOD_MORNING),             ELSE,\n",
    "    seq([ p_adj, p_noun3 ],r_adj_noun)\n",
    ")(s,p)"
   ]
  },
  {
   "cell_type": "code",
   "execution_count": 49,
   "metadata": {
    "code_folding": [
     1
    ],
    "hidden": true
   },
   "outputs": [],
   "source": [
    "@debug_pp\n",
    "def p_noun3(s,p): return alt(\n",
    "    p_adj_noun3,\n",
    "    p_numeral,\n",
    "    D(dict_noun),\n",
    "    D(dict_pronoun_ip)\n",
    ")(s,p)"
   ]
  },
  {
   "cell_type": "code",
   "execution_count": 50,
   "metadata": {
    "code_folding": [
     0
    ],
    "hidden": true
   },
   "outputs": [],
   "source": [
    "def r_noun_numeral(n,num):\n",
    "    return StNoun([\n",
    "        I(maindep=n),\n",
    "        I(nomer=num)\n",
    "    ])"
   ]
  },
  {
   "cell_type": "code",
   "execution_count": 51,
   "metadata": {
    "code_folding": [
     1
    ],
    "hidden": true
   },
   "outputs": [],
   "source": [
    "@debug_pp\n",
    "def p_noun2(s,p):\n",
    "    rezs=[]\n",
    "    rezs+= seq([ p_noun3, p_numeral ], r_noun_numeral)(s,p)\n",
    "    rezs+= p_noun3(s,p)\n",
    "    return rezs"
   ]
  },
  {
   "cell_type": "code",
   "execution_count": 52,
   "metadata": {
    "code_folding": [
     0
    ],
    "hidden": true
   },
   "outputs": [],
   "source": [
    "def r_numeral_noun(num,n):\n",
    "    if num.chis!=n.chis :\n",
    "        print('не совпадают числа числ. и сущ.:',str(num),str(n))\n",
    "    return StNum([\n",
    "        I(quantity=num,\n",
    "            chis=n.chis,\n",
    "            rod=n.rod,\n",
    "            odush=n.odush),\n",
    "        I(maindep=n)\n",
    "    ],quantity=num.quantity)"
   ]
  },
  {
   "cell_type": "code",
   "execution_count": 53,
   "metadata": {
    "code_folding": [
     1
    ],
    "hidden": true
   },
   "outputs": [],
   "source": [
    "@debug_pp\n",
    "def p_noun1(s,p):\n",
    "    rezs=[]\n",
    "    rezs+= seq([ p_numeral, p_noun2 ], r_numeral_noun)(s,p)\n",
    "    rezs+= p_noun2(s,p)\n",
    "    return rezs"
   ]
  },
  {
   "cell_type": "code",
   "execution_count": 54,
   "metadata": {
    "code_folding": [
     0,
     6
    ],
    "hidden": true
   },
   "outputs": [],
   "source": [
    "def r_noun_and_noun(sn,a,n):\n",
    "    return StNoun([\n",
    "        I(dep=sn),\n",
    "        I(nodep=S('и',a.attrs)),\n",
    "        I(dep=n)\n",
    "    ],c='mn', p='ip',o=False,r='m')\n",
    "def r_noun_comma_noun(sn,c,n):\n",
    "    return StNoun([\n",
    "        I(dep=sn),\n",
    "        I(punct=S(',',c.attrs)),\n",
    "        I(dep=n)\n",
    "    ],c='mn', p='ip',o=False,r='m')\n"
   ]
  },
  {
   "cell_type": "code",
   "execution_count": 55,
   "metadata": {
    "code_folding": [
     1
    ],
    "hidden": true
   },
   "outputs": [],
   "source": [
    "@debug_pp\n",
    "def p_noun(s,p):\n",
    "    @debug_pp\n",
    "    def p_noun1_and_noun(s,p):\n",
    "        rezs=  seq([ p_noun1, W('and'), p_noun ],r_noun_and_noun  )(s,p)\n",
    "        rezs+= seq([ p_noun1, W(',')  , p_noun ],r_noun_comma_noun)(s,p)\n",
    "        return rezs\n",
    "    rezs=[]\n",
    "    rezs+=  p_noun1_and_noun(s,p)\n",
    "    rezs+= p_noun1(s,p)\n",
    "    return rezs"
   ]
  },
  {
   "cell_type": "code",
   "execution_count": 56,
   "metadata": {
    "code_folding": [
     0
    ],
    "hidden": true
   },
   "outputs": [],
   "source": [
    "def r_noun_dp(_n_):\n",
    "    _n_.pad='dp'\n",
    "    return _n_"
   ]
  },
  {
   "cell_type": "code",
   "execution_count": 57,
   "metadata": {
    "code_folding": [
     1
    ],
    "hidden": true
   },
   "outputs": [],
   "source": [
    "@debug_pp\n",
    "def p_noun_dp(s,p): return alt(\n",
    "    rule1( D(dict_pronoun_dp) ,r_noun_dp), ELSE,\n",
    "    seq([ W('to'), p_noun ],r_noun_dp,[1])\n",
    ")(s,p)"
   ]
  },
  {
   "cell_type": "markdown",
   "metadata": {},
   "source": [
    "## Verb-like"
   ]
  },
  {
   "cell_type": "code",
   "execution_count": 58,
   "metadata": {},
   "outputs": [],
   "source": [
    "def r_verb_noun_dp_mn(_v_,_n_): \n",
    "    return StVerb([\n",
    "        I(maindep=_v_,\n",
    "            chis='mn'),\n",
    "        I(dp=_n_,\n",
    "            pad='dp')\n",
    "    ])"
   ]
  },
  {
   "cell_type": "code",
   "execution_count": 59,
   "metadata": {},
   "outputs": [],
   "source": [
    "def r_verb_noun_dp_ed(_v_,_n_): \n",
    "    return StVerb([\n",
    "        I(maindep=_v_,\n",
    "            chis='ed'),\n",
    "        I(dp=_n_,\n",
    "            pad='dp')\n",
    "    ])"
   ]
  },
  {
   "cell_type": "code",
   "execution_count": 60,
   "metadata": {},
   "outputs": [],
   "source": [
    "@debug_pp\n",
    "def p_verb3(s,p): return alt(\n",
    "    seq([ D(dict_verb),   p_noun_dp ],r_verb_noun_dp_ed),\n",
    "    seq([ D(dict_verb_s), p_noun_dp ],r_verb_noun_dp_ed),  ELSE,\n",
    "#    seq([ D(dict_verb),   p_noun_dp ],r_verb_noun_dp_mn),\n",
    "#    seq([ D(dict_verb_s), p_noun_dp ],r_verb_noun_dp_mn),  ELSE,\n",
    "    D(dict_verb),                                       \n",
    "    D(dict_verb_s)\n",
    ")(s,p)"
   ]
  },
  {
   "cell_type": "code",
   "execution_count": 61,
   "metadata": {},
   "outputs": [],
   "source": [
    "def r_verb_noun(v,n): \n",
    "    return StVerb([\n",
    "        I(maindep=v),\n",
    "        I(vp=n,\n",
    "            pad='vp')\n",
    "    ])"
   ]
  },
  {
   "cell_type": "code",
   "execution_count": 62,
   "metadata": {},
   "outputs": [],
   "source": [
    "@debug_pp\n",
    "def p_verb2(s,p): return alt(\n",
    "    seq([ p_verb3, p_noun ],r_verb_noun),    ELSE,\n",
    "    p_verb3\n",
    ")(s,p)    "
   ]
  },
  {
   "cell_type": "code",
   "execution_count": 63,
   "metadata": {},
   "outputs": [],
   "source": [
    "def r_U_noun_EST_noun(_n1_,_h_,_n2_):\n",
    "    return StC([\n",
    "        I(nodep=StC([\n",
    "            I(nodep=S('у')),\n",
    "            I(nodep=_n1_,\n",
    "                pad='rp')\n",
    "        ])),\n",
    "        I(nodep=S('есть',_h_.attrs)),\n",
    "        I(nodep=_n2_)\n",
    "    ])\n",
    "\n",
    "def r_U_noun_NET_noun(_n1_,_h_,_no_,_n2_):\n",
    "    return StC([\n",
    "        I(nodep=StC([\n",
    "            I(nodep=S('у')),\n",
    "            I(nodep=_n1_,\n",
    "                pad='rp')\n",
    "        ])),\n",
    "        I(nodep=S('нет',_h_.attrs)),\n",
    "        I(nodep=_n2_,\n",
    "            pad='rp')\n",
    "    ])"
   ]
  },
  {
   "cell_type": "code",
   "execution_count": 64,
   "metadata": {},
   "outputs": [],
   "source": [
    "@debug_pp\n",
    "def p_HAVE_noun(s,p):\n",
    "    p_HAVE_HAS = alt( W('have'), W('has') )\n",
    "    p_pronoun_dp = alt( D(dict_pronoun_dp), ELSE, p_noun )\n",
    "    return alt(\n",
    "        seq([ p_noun, p_HAVE_HAS,          p_pronoun_dp ],r_U_noun_EST_noun),\n",
    "        seq([ p_noun, p_HAVE_HAS, W('no'), p_pronoun_dp ],r_U_noun_NET_noun)\n",
    "    )(s,p)"
   ]
  },
  {
   "cell_type": "code",
   "execution_count": 65,
   "metadata": {},
   "outputs": [],
   "source": [
    "def r_to_verb(t,v): \n",
    "    v.form='neopr'\n",
    "    return SAttrs.to_right(t,v)"
   ]
  },
  {
   "cell_type": "code",
   "execution_count": 66,
   "metadata": {},
   "outputs": [],
   "source": [
    "def r_noun_verb(n,v): \n",
    "    return StVerb([\n",
    "        I(ip=n),\n",
    "        I(main=v,\n",
    "            form='nast',\n",
    "            pers=n.pers,\n",
    "            chis=n.chis,\n",
    "            rod=n.rod)\n",
    "    ])"
   ]
  },
  {
   "cell_type": "code",
   "execution_count": 67,
   "metadata": {},
   "outputs": [],
   "source": [
    "@debug_pp\n",
    "def p_verb1(s,p): return alt(\n",
    "    p_HAVE_noun,                           ELSE,\n",
    "    seq([ p_noun, p_verb2 ],r_noun_verb),\n",
    "    seq([ W('to'), p_verb2 ],r_to_verb),   ELSE,\n",
    "    p_verb2\n",
    ")(s,p)"
   ]
  },
  {
   "cell_type": "code",
   "execution_count": 68,
   "metadata": {},
   "outputs": [],
   "source": [
    "def r_verb_BUT_verb(_v1_,_c_,_but_,_v2_):\n",
    "    return StC([\n",
    "        I(nodep=_v1_),\n",
    "        I(nodep=_c_),\n",
    "        I(nodep=S('но',_c_.attrs)),\n",
    "        I(nodep=_v2_)\n",
    "    ])"
   ]
  },
  {
   "cell_type": "code",
   "execution_count": 69,
   "metadata": {},
   "outputs": [],
   "source": [
    "@debug_pp\n",
    "def p_verb(s,p): return alt(\n",
    "    seq([ p_verb1, W(','), W('but'), p_verb1 ],r_verb_BUT_verb),    ELSE,\n",
    "    p_verb1\n",
    ")(s,p)"
   ]
  },
  {
   "cell_type": "markdown",
   "metadata": {},
   "source": [
    "## Фразы, предложения, текст"
   ]
  },
  {
   "cell_type": "code",
   "execution_count": 70,
   "metadata": {
    "code_folding": []
   },
   "outputs": [],
   "source": [
    "@debug_pp\n",
    "def p_phrase(s,p): return alt(\n",
    "    p_verb,    ELSE,\n",
    "    p_noun,    ELSE,\n",
    "    p_noun_dp, ELSE,\n",
    "    p_adj\n",
    ")(s,p)\n"
   ]
  },
  {
   "cell_type": "code",
   "execution_count": 71,
   "metadata": {
    "code_folding": []
   },
   "outputs": [],
   "source": [
    "dict_proper={}\n",
    "@debug_pp\n",
    "def p_sentence(s,p):\n",
    "    first_capital = s[p]=='I' or ch_title in s[p].attrs.changers\n",
    "    def r_sentence(ph,d):\n",
    "        rez=StC([I(nodep=ph),I(punct=d)])\n",
    "        if first_capital: rez.attrs.changers|={ch_sentence}\n",
    "        return rez\n",
    "    restore_title=False\n",
    "    if ch_title in s[p].attrs.changers and s[p] not in dict_proper:\n",
    "        s[p].attrs.changers-={ch_title}\n",
    "        restore_title=True\n",
    "    \n",
    "    def p_DOT_EXCL(s,p):\n",
    "        rezs=W('.')(s,p)\n",
    "        rezs+=W('!')(s,p)\n",
    "        return rezs\n",
    "    rezs=seq([p_phrase,p_DOT_EXCL],r_sentence)(s,p)\n",
    "    \n",
    "    if restore_title:\n",
    "        s[p].attrs.changers|={ch_title}\n",
    "    return rezs"
   ]
  },
  {
   "cell_type": "code",
   "execution_count": 72,
   "metadata": {
    "code_folding": [
     1
    ]
   },
   "outputs": [],
   "source": [
    "def en2ru(s): # main\n",
    "    def maxlen_rezs(rezs):\n",
    "        m=0\n",
    "        im=set()\n",
    "        for i in range(len(rezs)):\n",
    "            if rezs[i][0]>m:\n",
    "                m=rezs[i][0]\n",
    "                im={i}\n",
    "            elif rezs[i][0]==m:\n",
    "                im.add(i)\n",
    "        return [rezs[i] for i in im]\n",
    "                \n",
    "    s=[ i for i in tokenizer(s)]\n",
    "    if len(s)==0:\n",
    "        print('no tokens')\n",
    "        return ''\n",
    "\n",
    "    p=0\n",
    "    rez=[]\n",
    "    while p<len(s):\n",
    "        rezs=maxlen_rezs(p_sentence(s,p))\n",
    "        if len(rezs)==0: break\n",
    "        p1,r1=next(iter(rezs))\n",
    "        if len(rezs)>1:\n",
    "            print('multiple results:')\n",
    "            print(SAttrs.join(s[p:p1]))\n",
    "            for void,r in rezs:\n",
    "                print(str(r))\n",
    "        p=p1\n",
    "        rez.append(I(nodep=r1))\n",
    "\n",
    "    if len(rez)>0:\n",
    "        if p!=len(s):\n",
    "            print('NOT PARSED:')\n",
    "            print(SAttrs.join(s[p:]))\n",
    "        return str(StC(rez))\n",
    "    else:\n",
    "        assert p==0\n",
    "        rezs=maxlen_rezs(p_phrase(s,p))\n",
    "        if len(rezs)==0:\n",
    "            raise ParseError('no results')\n",
    "        p1,r1=next(iter(rezs))\n",
    "        if len(rezs)>1:\n",
    "            print('multiple results:')\n",
    "            print(SAttrs.join(s[p:p1]))\n",
    "            for void,r in rezs:\n",
    "                print(str(r))\n",
    "        p=p1\n",
    "        if p!=len(s):\n",
    "            print('NOT PARSED!')\n",
    "            print(SAttrs.join(s[p:]))\n",
    "        return str(r1)\n"
   ]
  },
  {
   "cell_type": "markdown",
   "metadata": {},
   "source": [
    "# Тесты"
   ]
  },
  {
   "cell_type": "markdown",
   "metadata": {},
   "source": [
    "```\n",
    "местоимения вп\n",
    "    7)  у меня есть\n",
    "        у меня нет\n",
    "        покажи\n",
    "        дай\n",
    "    8)  скажи\n",
    "    9)  (находится) на/в\n",
    "    10) вопросы-ответы\n",
    "        считать от до\n",
    "        ловить\n",
    "    11) сколько\n",
    "    13) где\n",
    "    14) какого цвета\n",
    "        КОНТЕКСТ\n",
    "    15) посмотри\n",
    "\n",
    "watch, двое, трое, пятеро\n",
    "...\n",
    "I() - чтобы чтобы модификации свойств записывала в 3й элемент тупла\n",
    "get_property(tuple)\n",
    "    если 2 элемента - берет настоящее сойство\n",
    "    если 3 элемента - берет свойство из 3го элемента\n",
    "использовать её в init-ах для main и maindep\n",
    ".pull_deferred():\n",
    "    с каждым tupl-ом из talk\n",
    "        если он Struct\n",
    "            вызываем его.pull_deferred()\n",
    "        применяем свойства из 3го элемента tupl-а\n",
    "    подтягиваем .pre из talk[0]\n",
    ".tistr()\n",
    "    .pull_deferred\n",
    "    .__str__\n",
    "\n",
    "сделать кэширование результатов\n",
    "    статистика использования паттернов/словарей/правил\n",
    "\n",
    "атрибуты слов: (теги)\n",
    "...\n",
    "нужен LR-парсер, причем недетерминированный - посмотреть, какие есть библиотеки\n",
    "    возможно стоит придумать уровни для паттернов...\n",
    "```"
   ]
  },
  {
   "cell_type": "code",
   "execution_count": 73,
   "metadata": {
    "code_folding": []
   },
   "outputs": [],
   "source": [
    "def decline(s,pads=['ip','rp','dp','vp','tp','pp']):\n",
    "    s=[ i for i in tokenizer(s)]\n",
    "    # добавить дочитывание точки и остаточных пробелов\n",
    "    rezs=[res for pos,res in p_noun(s,0) if pos==len(s)]\n",
    "    if len(rezs)!=1:\n",
    "        raise TextError(rezs)\n",
    "    tmp=rezs[0]\n",
    "    \n",
    "    m=[]\n",
    "    for p in pads:\n",
    "        #print(str(tmp))\n",
    "        prompt= \\\n",
    "            '' if p=='ip' else\\\n",
    "            'нет ' if p=='rp' else\\\n",
    "            'дать ' if p=='dp' else\\\n",
    "            'вижу ' if p=='vp' else\\\n",
    "            'творю ' if p=='tp' else\\\n",
    "            'думаю о ' if p=='pp' else\\\n",
    "            throw(ValueError('bad pad: '+p))\n",
    "        #rez=deepcopy(tmp)\n",
    "        tmp.pad=p\n",
    "        m.append(prompt+str(tmp))#        print(prompt+str(tmp))\n",
    "    return m\n"
   ]
  },
  {
   "cell_type": "code",
   "execution_count": 74,
   "metadata": {
    "scrolled": true
   },
   "outputs": [
    {
     "name": "stdout",
     "output_type": "stream",
     "text": [
      "не совпадают числа числ. и сущ.: один часы\n",
      "не совпадают числа числ. и сущ.: один часы\n",
      "не совпадают числа числ. и сущ.: один часы\n"
     ]
    },
    {
     "data": {
      "text/plain": [
       "['одни часы',\n",
       " 'нет одних часов',\n",
       " 'дать одним часам',\n",
       " 'вижу одни часы',\n",
       " 'творю одними часами',\n",
       " 'думаю о одних часах']"
      ]
     },
     "execution_count": 74,
     "metadata": {},
     "output_type": "execute_result"
    }
   ],
   "source": [
    "decline('one watch')"
   ]
  },
  {
   "cell_type": "code",
   "execution_count": 75,
   "metadata": {
    "scrolled": false
   },
   "outputs": [
    {
     "name": "stdout",
     "output_type": "stream",
     "text": [
      "no tokens\n"
     ]
    },
    {
     "data": {
      "text/plain": [
       "''"
      ]
     },
     "execution_count": 75,
     "metadata": {},
     "output_type": "execute_result"
    }
   ],
   "source": [
    "en2ru('')"
   ]
  },
  {
   "cell_type": "code",
   "execution_count": 76,
   "metadata": {
    "scrolled": false
   },
   "outputs": [
    {
     "data": {
      "text/plain": [
       "'я вижу джем и одну чашку'"
      ]
     },
     "execution_count": 76,
     "metadata": {},
     "output_type": "execute_result"
    }
   ],
   "source": [
    "en2ru('I see jam and one cup')"
   ]
  },
  {
   "cell_type": "code",
   "execution_count": 77,
   "metadata": {},
   "outputs": [
    {
     "data": {
      "text/plain": [
       "'У меня есть кот.'"
      ]
     },
     "execution_count": 77,
     "metadata": {},
     "output_type": "execute_result"
    }
   ],
   "source": [
    "en2ru('I have a cat.')"
   ]
  },
  {
   "cell_type": "code",
   "execution_count": 78,
   "metadata": {
    "scrolled": true
   },
   "outputs": [
    {
     "data": {
      "text/plain": [
       "'У меня нет кота.'"
      ]
     },
     "execution_count": 78,
     "metadata": {},
     "output_type": "execute_result"
    }
   ],
   "source": [
    "en2ru('I have no a cat.')"
   ]
  },
  {
   "cell_type": "code",
   "execution_count": 79,
   "metadata": {
    "scrolled": true
   },
   "outputs": [
    {
     "data": {
      "text/plain": [
       "'У меня нет двух ружей.'"
      ]
     },
     "execution_count": 79,
     "metadata": {},
     "output_type": "execute_result"
    }
   ],
   "source": [
    "en2ru('I have no two guns.')"
   ]
  },
  {
   "cell_type": "code",
   "execution_count": 80,
   "metadata": {},
   "outputs": [
    {
     "data": {
      "text/plain": [
       "'имейте'"
      ]
     },
     "execution_count": 80,
     "metadata": {},
     "output_type": "execute_result"
    }
   ],
   "source": [
    "en2ru('have')"
   ]
  },
  {
   "cell_type": "code",
   "execution_count": 81,
   "metadata": {},
   "outputs": [
    {
     "data": {
      "text/plain": [
       "'У меня есть собака, но у меня нет кота.'"
      ]
     },
     "execution_count": 81,
     "metadata": {},
     "output_type": "execute_result"
    }
   ],
   "source": [
    "en2ru('I have a dog, but I have no cat.')"
   ]
  },
  {
   "cell_type": "code",
   "execution_count": 82,
   "metadata": {},
   "outputs": [
    {
     "data": {
      "text/plain": [
       "'У меня нет лампы.'"
      ]
     },
     "execution_count": 82,
     "metadata": {},
     "output_type": "execute_result"
    }
   ],
   "source": [
    "en2ru('I have no lamp.')"
   ]
  },
  {
   "cell_type": "code",
   "execution_count": 83,
   "metadata": {
    "scrolled": true
   },
   "outputs": [
    {
     "data": {
      "text/plain": [
       "'тетрадь'"
      ]
     },
     "execution_count": 83,
     "metadata": {},
     "output_type": "execute_result"
    }
   ],
   "source": [
    "en2ru('copy-book')"
   ]
  },
  {
   "cell_type": "code",
   "execution_count": 84,
   "metadata": {
    "scrolled": true
   },
   "outputs": [
    {
     "data": {
      "text/plain": [
       "'дай мне'"
      ]
     },
     "execution_count": 84,
     "metadata": {},
     "output_type": "execute_result"
    }
   ],
   "source": [
    "en2ru('give me')"
   ]
  },
  {
   "cell_type": "code",
   "execution_count": 85,
   "metadata": {
    "scrolled": true
   },
   "outputs": [
    {
     "data": {
      "text/plain": [
       "'дай мне кота'"
      ]
     },
     "execution_count": 85,
     "metadata": {},
     "output_type": "execute_result"
    }
   ],
   "source": [
    "en2ru('give me cat')"
   ]
  },
  {
   "cell_type": "code",
   "execution_count": 86,
   "metadata": {},
   "outputs": [
    {
     "data": {
      "text/plain": [
       "'дать мне кота'"
      ]
     },
     "execution_count": 86,
     "metadata": {},
     "output_type": "execute_result"
    }
   ],
   "source": [
    "en2ru('to give me cat')"
   ]
  },
  {
   "cell_type": "code",
   "execution_count": 87,
   "metadata": {},
   "outputs": [
    {
     "data": {
      "text/plain": [
       "'У меня есть котёнок, но у меня нет белки.'"
      ]
     },
     "execution_count": 87,
     "metadata": {},
     "output_type": "execute_result"
    }
   ],
   "source": [
    "en2ru('I have a kitten, but I have no squirrel.')"
   ]
  },
  {
   "cell_type": "code",
   "execution_count": 88,
   "metadata": {},
   "outputs": [
    {
     "data": {
      "text/plain": [
       "'Покажи мне Урок Четыре!'"
      ]
     },
     "execution_count": 88,
     "metadata": {},
     "output_type": "execute_result"
    }
   ],
   "source": [
    "en2ru('Show me Lesson Four!')"
   ]
  },
  {
   "cell_type": "code",
   "execution_count": 89,
   "metadata": {},
   "outputs": [
    {
     "data": {
      "text/plain": [
       "'у кота есть кот'"
      ]
     },
     "execution_count": 89,
     "metadata": {},
     "output_type": "execute_result"
    }
   ],
   "source": [
    "en2ru('cat has cat')"
   ]
  },
  {
   "cell_type": "code",
   "execution_count": 90,
   "metadata": {
    "scrolled": true
   },
   "outputs": [
    {
     "data": {
      "text/plain": [
       "'у кота есть я'"
      ]
     },
     "execution_count": 90,
     "metadata": {},
     "output_type": "execute_result"
    }
   ],
   "source": [
    "en2ru('cat has me')"
   ]
  },
  {
   "cell_type": "code",
   "execution_count": 91,
   "metadata": {
    "scrolled": false
   },
   "outputs": [
    {
     "data": {
      "text/plain": [
       "'мне'"
      ]
     },
     "execution_count": 91,
     "metadata": {},
     "output_type": "execute_result"
    }
   ],
   "source": [
    "en2ru('me')"
   ]
  },
  {
   "cell_type": "code",
   "execution_count": 92,
   "metadata": {
    "scrolled": false
   },
   "outputs": [
    {
     "data": {
      "text/plain": [
       "'Доброе_утро'"
      ]
     },
     "execution_count": 92,
     "metadata": {},
     "output_type": "execute_result"
    }
   ],
   "source": [
    "en2ru('Good_morning')"
   ]
  },
  {
   "cell_type": "code",
   "execution_count": 93,
   "metadata": {},
   "outputs": [
    {
     "data": {
      "text/plain": [
       "'хорошие утра'"
      ]
     },
     "execution_count": 93,
     "metadata": {},
     "output_type": "execute_result"
    }
   ],
   "source": [
    "en2ru('good mornings')"
   ]
  },
  {
   "cell_type": "code",
   "execution_count": 94,
   "metadata": {},
   "outputs": [
    {
     "data": {
      "text/plain": [
       "'семь'"
      ]
     },
     "execution_count": 94,
     "metadata": {},
     "output_type": "execute_result"
    }
   ],
   "source": [
    "en2ru('seven')"
   ]
  },
  {
   "cell_type": "code",
   "execution_count": null,
   "metadata": {},
   "outputs": [],
   "source": []
  }
 ],
 "metadata": {
  "hide_input": false,
  "kernelspec": {
   "display_name": "Python 3",
   "language": "python",
   "name": "python3"
  },
  "language_info": {
   "codemirror_mode": {
    "name": "ipython",
    "version": 3
   },
   "file_extension": ".py",
   "mimetype": "text/x-python",
   "name": "python",
   "nbconvert_exporter": "python",
   "pygments_lexer": "ipython3",
   "version": "3.6.7"
  }
 },
 "nbformat": 4,
 "nbformat_minor": 2
}
