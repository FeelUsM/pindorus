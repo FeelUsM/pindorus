{
 "cells": [
  {
   "cell_type": "markdown",
   "metadata": {},
   "source": [
    "```\n",
    "p_паттерн парсит текст (str, pos), \n",
    "    вызывая другие паттерны, возвращающие древовидные структуры\n",
    "    эти древовидные структуры передает одному из правил\n",
    "        (остальные вызовы правил закомментированы \n",
    "            - в рамках одного текста каждый паттерн имеет ровно 1 смысл)\n",
    "    и возвращает (pos, результат этого правила), помещенный в массив\n",
    "    \n",
    "    /*пока на ошибках парсинга концентрировать не будем*/\n",
    "    если ничего не удалось распарсить, ???возвращаемый массив будет пустым???\n",
    "    если удалось распарсить несколько вариантов - в массиве будет насколько вариантов\n",
    "        сначала парсятся все исключения\n",
    "        потом парсятся все обычные варианты (если нет исключений)\n",
    "```\n",
    "\n",
    "```\n",
    "r_правило получает список древовидных структур\n",
    "    обрабатывает их по определенному правилу\n",
    "    возвращает древовидную структуру\n",
    "```\n",
    "\n",
    "```\n",
    "древовидная структура - map, со следующими ключами\n",
    "    type: 'noun'/'adj'/'verb'/'numeric'/...\n",
    "    постоянные параметры (для сущ.: род, число)\n",
    "    переменные параметры (для сущ.: падеж)\n",
    "    talk: массив древовидных структур\n",
    "        который также может содержать 1 слово (для сущ. в и.п.)\n",
    "```\n",
    "\n",
    "```\n",
    "show древовидная структура\n",
    "    превращает древовидную структуру в строку\n",
    "```\n",
    "\n",
    "```\n",
    "для каждого типа элемента древовидной структуры будет map\n",
    "    где каждой строке (для сущ. - слово в и.п.) будет соответствовать\n",
    "        структура данных, которая вместе в переменными параметрами передается в \n",
    "        sh_функция для этого типа элемента древовидной структуры\n",
    "            которая будет возвращать слово в соотв. форме (для сущ. в соотв. падеже)\n",
    "```"
   ]
  },
  {
   "cell_type": "markdown",
   "metadata": {
    "heading_collapsed": true
   },
   "source": [
    "# Общее"
   ]
  },
  {
   "cell_type": "code",
   "execution_count": 3,
   "metadata": {
    "code_folding": [
     0
    ],
    "hidden": true
   },
   "outputs": [],
   "source": [
    "def throw(ex):\n",
    "    raise ex"
   ]
  },
  {
   "cell_type": "code",
   "execution_count": 10,
   "metadata": {
    "code_folding": [],
    "hidden": true
   },
   "outputs": [],
   "source": [
    "def en2ru(s): # main\n",
    "    rezs=[]\n",
    "    \n",
    "    rezs+=[res for pos,res in p_noun(s,0) if pos==len(s)]\n",
    "    # добавить дочитывание точки и остаточных пробелов\n",
    "        \n",
    "    return [str(i) for i in rezs]"
   ]
  },
  {
   "cell_type": "markdown",
   "metadata": {
    "heading_collapsed": true,
    "hidden": true
   },
   "source": [
    "## Паттерны парсинга"
   ]
  },
  {
   "cell_type": "code",
   "execution_count": 71,
   "metadata": {
    "hidden": true
   },
   "outputs": [],
   "source": [
    "def p_spcs(str,pos):\n",
    "    pos1=pos\n",
    "    while pos1<len(str) and (str[pos1]==' ' or str[pos1]=='\\n' or str[pos1]=='\\t') :\n",
    "        pos1+=1\n",
    "    return [] if pos1==pos else [(pos1,'')]"
   ]
  },
  {
   "cell_type": "code",
   "execution_count": 130,
   "metadata": {
    "hidden": true
   },
   "outputs": [],
   "source": [
    "def p_word(str,pos):\n",
    "    pos1=pos\n",
    "    while pos1<len(str) and (str[pos1]>='a' and str[pos1]<='z' or \\\n",
    "                             str[pos1]>='A' and str[pos1]<='Z') :\n",
    "        pos1+=1\n",
    "    return [] if pos1==pos else [(pos1,str[pos:pos1])]"
   ]
  },
  {
   "cell_type": "code",
   "execution_count": 79,
   "metadata": {
    "hidden": true
   },
   "outputs": [],
   "source": [
    "def p_seq(str,pos,*patterns):\n",
    "    rezs=[]\n",
    "    for patt in patterns:\n",
    "        tmp=patt(str,pos)\n",
    "        if len(tmp)>1 : raise NotImplementedError()\n",
    "        if len(tmp)==0 : return []\n",
    "        (pos,tmp)=tmp[0]\n",
    "        rezs.append(tmp)\n",
    "    return [(pos,rezs)]"
   ]
  },
  {
   "cell_type": "markdown",
   "metadata": {},
   "source": [
    "# Словарь"
   ]
  },
  {
   "cell_type": "markdown",
   "metadata": {
    "heading_collapsed": true
   },
   "source": [
    "## Классы отображения"
   ]
  },
  {
   "cell_type": "code",
   "execution_count": 93,
   "metadata": {
    "code_folding": [],
    "hidden": true
   },
   "outputs": [],
   "source": [
    "class Struct:\n",
    "    type=None\n",
    "    talk=[]\n",
    "    def __str__(self):\n",
    "        ' '.join(str(i) for i in self.talk)\n",
    "        # убрать пробелы перед знаками препинания и сделать заглавные буквы"
   ]
  },
  {
   "cell_type": "code",
   "execution_count": 155,
   "metadata": {
    "code_folding": [],
    "hidden": true
   },
   "outputs": [],
   "source": [
    "class StNoun(Struct):\n",
    "    def __init__(self,odush,rod,chis,pad,talk):\n",
    "        self.type='noun'\n",
    "        \n",
    "        if type(odush)!=bool : raise TypeError('odush must be bool')\n",
    "        self.odush=odush\n",
    "        \n",
    "        if rod!='m' and rod!='g' and rod!='s' : raise TypeError('rod must be m or g or s')\n",
    "        self.rod=rod\n",
    "        \n",
    "        if chis!='ed' and chis!='mn' : raise TypeError('chis must be ed or mn')\n",
    "        self.chis=chis\n",
    "        \n",
    "        if pad!='ip' and pad!='rp' and pad!='dp' and pad!='vp' and pad!='tp' and pad!='pp' : \n",
    "            raise TypeError('pad must be ip, rp, dp, vp, tp or pp')\n",
    "        self.pad=pad\n",
    "        \n",
    "        self.talk=talk\n",
    "        \n",
    "    def __repr__(self):\n",
    "        return '{type:'+self.type+',odush:'+str(self.odush)+',rod:'+self.rod+\\\n",
    "            ',chis:'+self.chis+',pad:'+self.pad+',talk:'+\\\n",
    "            repr(self.talk)+'}'\n",
    "    \n",
    "    def __str__(self):\n",
    "        return ' '.join(str(i) if isinstance(i,Struct) else show_noun_map[i](self) for i in self.talk)\n",
    "\n",
    "def show_noun1(pad,word,ip,rp,dp,vp,tp,pp):\n",
    "    if pad=='ip' : return word+ip\n",
    "    if pad=='rp' : return word+rp\n",
    "    if pad=='dp' : return word+dp\n",
    "    if pad=='vp' : return word+vp\n",
    "    if pad=='tp' : return word+tp\n",
    "    if pad=='pp' : return word+pp\n",
    "    raise InternalError()\n"
   ]
  },
  {
   "cell_type": "code",
   "execution_count": 153,
   "metadata": {
    "hidden": true
   },
   "outputs": [],
   "source": [
    "class StAdj(Struct):\n",
    "    def __init__(self,odush,rod,chis,pad,talk):\n",
    "        self.type='adj'\n",
    "        \n",
    "        if type(odush)!=bool : raise TypeError('odush must be bool')\n",
    "        self.odush=odush\n",
    "        \n",
    "        if rod!='m' and rod!='g' and rod!='s' : raise TypeError('rod must be m or g or s')\n",
    "        self.rod=rod\n",
    "        \n",
    "        if chis!='ed' and chis!='mn' : raise TypeError('chis must be ed or mn')\n",
    "        self.chis=chis\n",
    "        \n",
    "        if pad!='ip' and pad!='rp' and pad!='dp' and pad!='vp' and pad!='tp' and pad!='pp' : \n",
    "            raise TypeError('pad must be ip, rp, dp, vp, tp or pp')\n",
    "        self.pad=pad\n",
    "        \n",
    "        self.talk=talk\n",
    "        \n",
    "    def __repr__(self):\n",
    "        return '{type:'+self.type+',odush:'+str(self.odush)+',rod:'+self.rod+\\\n",
    "            ',chis:'+self.chis+',pad:'+self.pad+',talk:'+\\\n",
    "            repr(self.talk)+'}'\n",
    "    \n",
    "    def __str__(self):\n",
    "        return ' '.join(str(i) if isinstance(i,Struct) else show_adj_map[i](self) for i in self.talk)\n",
    "\n",
    "def show_adj1(st,word,ends):\n",
    "    if st.chis=='mn' :\n",
    "        (ip,rp,dp,vp,tp,pp,sh)=ends['mn']\n",
    "    else:\n",
    "        (ip,rp,dp,vp,tp,pp,sh)=ends[st.rod]\n",
    "        \n",
    "    if   st.pad=='ip' : rez=ip\n",
    "    elif st.pad=='rp' : rez=rp\n",
    "    elif st.pad=='dp' : rez=dp\n",
    "    elif st.pad=='vp' : rez=vp[0] if st.odush else vp[1]\n",
    "    elif st.pad=='tp' : rez=tp\n",
    "    elif st.pad=='pp' : rez=pp\n",
    "    elif st.pad=='sh' : rez=sh\n",
    "    else: raise InternalError()\n",
    "        \n",
    "    return word+rez\n"
   ]
  },
  {
   "cell_type": "markdown",
   "metadata": {},
   "source": [
    "## Отображение"
   ]
  },
  {
   "cell_type": "code",
   "execution_count": 154,
   "metadata": {},
   "outputs": [],
   "source": [
    "show_adj_map={\n",
    "    'летучий'  :lambda st: show_adj1(st,'летуч' ,\n",
    "        {\n",
    "            'm' :('ий','его','ему',('его','ий'),'им' ,'ем','' ),\n",
    "            's' :('ее','его','ему',('ий', 'ий'),'им' ,'ем','е'),\n",
    "            'g' :('ая','ей' ,'ей' ,('ую', 'ую'),'ей' ,'ей','а'),\n",
    "            'mn':('ие','их' ,'им' ,('их', 'ие'),'ими','их','и'),\n",
    "        }\n",
    "    ) ,\n",
    "}"
   ]
  },
  {
   "cell_type": "code",
   "execution_count": 156,
   "metadata": {},
   "outputs": [],
   "source": [
    "show_noun_map={\n",
    "    'кот'  :lambda st: show_noun1(st.pad,'кот' ,'' ,'а','у','а','ом','е') ,\n",
    "    'урок' :lambda st: show_noun1(st.pad,'урок','' ,'а','у','' ,'ом','е') ,\n",
    "    'кошка':lambda st: show_noun1(st.pad,'кошк','а','и','е','у','ой','е') ,\n",
    "    'крыса':lambda st: show_noun1(st.pad,'крыс','а','ы','е','у','ой','е') ,\n",
    "    'мышь' :lambda st: show_noun1(st.pad,'мыш' ,'ь','и','и','ь','ью','и') ,\n",
    "}"
   ]
  },
  {
   "cell_type": "markdown",
   "metadata": {},
   "source": [
    "## Правила"
   ]
  },
  {
   "cell_type": "code",
   "execution_count": 150,
   "metadata": {
    "code_folding": []
   },
   "outputs": [],
   "source": [
    "def r_kot():    return StNoun(True,'m','ed','ip',['кот'])\n",
    "def r_koshka(): return StNoun(True,'g','ed','ip',['кошка'])\n",
    "def r_krysa():  return StNoun(True,'g','ed','ip',['крыса'])\n",
    "def r_mysh():   return StNoun(True,'g','ed','ip',['мышь'])\n",
    "def r_urok():   return StNoun(False,'m','ed','ip',['урок'])"
   ]
  },
  {
   "cell_type": "code",
   "execution_count": 125,
   "metadata": {},
   "outputs": [],
   "source": [
    "def r_letuchij(): return StAdj(True,'g','ed','ip',['летучий'])"
   ]
  },
  {
   "cell_type": "code",
   "execution_count": 104,
   "metadata": {},
   "outputs": [],
   "source": [
    "def r_a_noun(a,n): return n\n",
    "def r_adj_noun(a,n): \n",
    "    a.rod=n.rod\n",
    "    a.odush=n.odush\n",
    "    n.talk.insert(0,a)\n",
    "    return n"
   ]
  },
  {
   "cell_type": "markdown",
   "metadata": {},
   "source": [
    "## Словарь"
   ]
  },
  {
   "cell_type": "code",
   "execution_count": 49,
   "metadata": {},
   "outputs": [],
   "source": [
    "def p_ad_an_article(str,pos):\n",
    "\n",
    "    if str[pos:pos+2]=='an' :\n",
    "        return [(pos+2,'')]\n",
    "        #return [(pos+2),r_nekotoryj()]\n",
    "    if str[pos:pos+1]=='a' :\n",
    "        return [(pos+1,'')]\n",
    "        #return [(pos+1),r_nekotoryj()]\n",
    "        \n",
    "    return []"
   ]
  },
  {
   "cell_type": "code",
   "execution_count": 158,
   "metadata": {
    "code_folding": []
   },
   "outputs": [],
   "source": [
    "dict_noun={\n",
    "    'cat':  r_koshka(),\n",
    "    #'cat':  r_kot(),\n",
    "    \n",
    "    #'rat':  r_mysh(),\n",
    "    'rat':  r_krysa(),\n",
    "    \n",
    "    'bat':  r_adj_noun(r_letuchij(),r_mysh()),\n",
    "    \n",
    "    'lesson': r_urok(),\n",
    "}"
   ]
  },
  {
   "cell_type": "markdown",
   "metadata": {},
   "source": [
    "## Паттерны"
   ]
  },
  {
   "cell_type": "code",
   "execution_count": 45,
   "metadata": {},
   "outputs": [],
   "source": [
    "def p_adj(str,pos):\n",
    "    rezs=[]\n",
    "    \n",
    "    rezs+=p_ad_an_article(str,pos)\n",
    "        \n",
    "    return rezs"
   ]
  },
  {
   "cell_type": "code",
   "execution_count": 135,
   "metadata": {
    "code_folding": []
   },
   "outputs": [],
   "source": [
    "def p_noun(str,pos):\n",
    "    rezs=[]\n",
    "    \n",
    "    #исключение словосочетания\n",
    "    if 1:\n",
    "        rezs+=[\\\n",
    "            (pos1,r_a_noun(a,n)) \\\n",
    "            #(pos1,r_nekotoryj_noun(a,s)) \\\n",
    "                for (pos1,[a,s,n]) in p_seq(str,pos,p_ad_an_arcticle,p_spcs,p_noun) ]\n",
    "    \n",
    "    if len(rezs)>0 : return rezs\n",
    "    #словосочетание\n",
    "    if 1:\n",
    "        rezs+=[\\\n",
    "            (pos1,r_adj_noun(a,n)) \\\n",
    "            #(pos1,r_nekotoryj_noun(a,s)) \\\n",
    "                for (pos1,[a,s,n]) in p_seq(str,pos,p_adj,p_spcs,p_noun) ]\n",
    "    \n",
    "    if len(rezs)>0 : return rezs\n",
    "    #слово\n",
    "\n",
    "    tmp=[]\n",
    "    for tpos,tword in p_word(str,pos):\n",
    "        if tword in dict_noun:\n",
    "            tmp.append((tpos,dict_noun[tword]))\n",
    "    rezs+=tmp\n",
    "        \n",
    "    return rezs"
   ]
  },
  {
   "cell_type": "markdown",
   "metadata": {},
   "source": [
    "# Тесты"
   ]
  },
  {
   "cell_type": "markdown",
   "metadata": {},
   "source": [
    "```\n",
    "контроль версий\n",
    "словарь прилагательных\n",
    "p_adj_noun\n",
    "p_noun_and_noun\n",
    "p_simple_noun\n",
    "StWNoun\n",
    "getter & setter падежей сущ\n",
    "числительные: род число падеж одуш - пока будем использовать как прилагательные, \n",
    "    но число числит. и число сущ. должны совпадать - проверка во время парсинга, \n",
    "        иначе исключение\n",
    "```"
   ]
  },
  {
   "cell_type": "code",
   "execution_count": 136,
   "metadata": {
    "scrolled": true
   },
   "outputs": [
    {
     "data": {
      "text/plain": [
       "[(3, {type:noun,odush:True,rod:g,chis:ed,pad:ip,talk:['кошка']})]"
      ]
     },
     "execution_count": 136,
     "metadata": {},
     "output_type": "execute_result"
    }
   ],
   "source": [
    "p_noun('cat',0)"
   ]
  },
  {
   "cell_type": "code",
   "execution_count": 138,
   "metadata": {},
   "outputs": [
    {
     "data": {
      "text/plain": [
       "[(1, '')]"
      ]
     },
     "execution_count": 138,
     "metadata": {},
     "output_type": "execute_result"
    }
   ],
   "source": [
    "p_spcs(' ',0)"
   ]
  },
  {
   "cell_type": "code",
   "execution_count": 100,
   "metadata": {},
   "outputs": [
    {
     "data": {
      "text/plain": [
       "True"
      ]
     },
     "execution_count": 100,
     "metadata": {},
     "output_type": "execute_result"
    }
   ],
   "source": [
    "[]"
   ]
  },
  {
   "cell_type": "markdown",
   "metadata": {},
   "source": [
    "## Lesson 1"
   ]
  },
  {
   "cell_type": "code",
   "execution_count": 159,
   "metadata": {},
   "outputs": [
    {
     "data": {
      "text/plain": [
       "['кошка']"
      ]
     },
     "execution_count": 159,
     "metadata": {},
     "output_type": "execute_result"
    }
   ],
   "source": [
    "en2ru('cat')"
   ]
  },
  {
   "cell_type": "code",
   "execution_count": 140,
   "metadata": {
    "scrolled": true
   },
   "outputs": [
    {
     "data": {
      "text/plain": [
       "['кошка']"
      ]
     },
     "execution_count": 140,
     "metadata": {},
     "output_type": "execute_result"
    }
   ],
   "source": [
    "en2ru('a cat')"
   ]
  },
  {
   "cell_type": "code",
   "execution_count": 149,
   "metadata": {},
   "outputs": [
    {
     "data": {
      "text/plain": [
       "['крыса']"
      ]
     },
     "execution_count": 149,
     "metadata": {},
     "output_type": "execute_result"
    }
   ],
   "source": [
    "en2ru('rat')"
   ]
  },
  {
   "cell_type": "code",
   "execution_count": 145,
   "metadata": {},
   "outputs": [
    {
     "data": {
      "text/plain": [
       "['летучая мышь']"
      ]
     },
     "execution_count": 145,
     "metadata": {},
     "output_type": "execute_result"
    }
   ],
   "source": [
    "en2ru('a bat')"
   ]
  },
  {
   "cell_type": "code",
   "execution_count": 160,
   "metadata": {},
   "outputs": [
    {
     "data": {
      "text/plain": [
       "['урок']"
      ]
     },
     "execution_count": 160,
     "metadata": {},
     "output_type": "execute_result"
    }
   ],
   "source": [
    "en2ru('lesson')"
   ]
  },
  {
   "cell_type": "markdown",
   "metadata": {},
   "source": [
    "## Lesson 2"
   ]
  },
  {
   "cell_type": "code",
   "execution_count": null,
   "metadata": {},
   "outputs": [],
   "source": []
  }
 ],
 "metadata": {
  "hide_input": false,
  "kernelspec": {
   "display_name": "Python 3",
   "language": "python",
   "name": "python3"
  },
  "language_info": {
   "codemirror_mode": {
    "name": "ipython",
    "version": 3
   },
   "file_extension": ".py",
   "mimetype": "text/x-python",
   "name": "python",
   "nbconvert_exporter": "python",
   "pygments_lexer": "ipython3",
   "version": "3.6.7"
  }
 },
 "nbformat": 4,
 "nbformat_minor": 2
}
