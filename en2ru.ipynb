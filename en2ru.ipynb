{
 "cells": [
  {
   "cell_type": "markdown",
   "metadata": {},
   "source": [
    "```\n",
    "p_паттерн парсит текст (str, pos), \n",
    "    вызывая другие паттерны, возвращающие древовидные структуры\n",
    "    эти древовидные структуры передает одному из правил\n",
    "        (остальные вызовы правил закомментированы \n",
    "            - в рамках одного текста каждый паттерн имеет ровно 1 смысл)\n",
    "    и возвращает (pos, результат этого правила), помещенный в массив\n",
    "    \n",
    "    /*пока на ошибках парсинга концентрировать не будем*/\n",
    "    если ничего не удалось распарсить, ???возвращаемый массив будет пустым???\n",
    "    если удалось распарсить несколько вариантов - в массиве будет насколько вариантов\n",
    "        сначала парсятся все исключения\n",
    "        потом парсятся все обычные варианты (если нет исключений)\n",
    "```\n",
    "\n",
    "```\n",
    "r_правило получает список древовидных структур\n",
    "    обрабатывает их по определенному правилу\n",
    "    возвращает древовидную структуру\n",
    "```\n",
    "\n",
    "```\n",
    "древовидная структура - map, со следующими ключами\n",
    "    type: 'noun'/'adj'/'verb'/'numeric'/...\n",
    "    постоянные параметры (для сущ.: род, число)\n",
    "    переменные параметры (для сущ.: падеж)\n",
    "    talk: массив древовидных структур\n",
    "        который также может содержать 1 слово (для сущ. в и.п.)\n",
    "```\n",
    "\n",
    "```\n",
    "show древовидная структура\n",
    "    превращает древовидную структуру в строку\n",
    "```\n",
    "\n",
    "```\n",
    "для каждого типа элемента древовидной структуры будет map\n",
    "    где каждой строке (для сущ. - слово в и.п.) будет соответствовать\n",
    "        структура данных, которая вместе в переменными параметрами передается в \n",
    "        sh_функция для этого типа элемента древовидной структуры\n",
    "            которая будет возвращать слово в соотв. форме (для сущ. в соотв. падеже)\n",
    "```"
   ]
  },
  {
   "cell_type": "markdown",
   "metadata": {
    "heading_collapsed": true
   },
   "source": [
    "# Общее"
   ]
  },
  {
   "cell_type": "code",
   "execution_count": 1,
   "metadata": {
    "code_folding": [
     0
    ],
    "hidden": true
   },
   "outputs": [],
   "source": [
    "def throw(ex):\n",
    "    raise ex"
   ]
  },
  {
   "cell_type": "code",
   "execution_count": 2,
   "metadata": {
    "code_folding": [],
    "hidden": true
   },
   "outputs": [],
   "source": [
    "def en2ru(s): # main\n",
    "    # добавить дочитывание точки и остаточных пробелов\n",
    "    rezs=[res for pos,res in p_noun(s,0) if pos==len(s)]\n",
    "    if len(rezs)>0: return [str(i) for i in rezs]\n",
    "    rezs=[res for pos,res in p_adj(s,0) if pos==len(s)]\n",
    "    if len(rezs)>0: return [str(i) for i in rezs]\n",
    "    return []"
   ]
  },
  {
   "cell_type": "markdown",
   "metadata": {
    "hidden": true
   },
   "source": [
    "## Паттерны парсинга"
   ]
  },
  {
   "cell_type": "code",
   "execution_count": 3,
   "metadata": {
    "hidden": true
   },
   "outputs": [],
   "source": [
    "def p_spcs(str,pos):\n",
    "    pos1=pos\n",
    "    while pos1<len(str) and (str[pos1]==' ' or str[pos1]=='\\n' or str[pos1]=='\\t') :\n",
    "        pos1+=1\n",
    "    return [] if pos1==pos else [(pos1,'')]"
   ]
  },
  {
   "cell_type": "code",
   "execution_count": 4,
   "metadata": {
    "hidden": true
   },
   "outputs": [],
   "source": [
    "def p_word(str,pos,word=None):\n",
    "    if word!=None:\n",
    "        return [(pos+len(word),word)] if str[pos:pos+len(word)]==word else []\n",
    "    pos1=pos\n",
    "    while pos1<len(str) and (str[pos1]>='a' and str[pos1]<='z' or \\\n",
    "                             str[pos1]>='A' and str[pos1]<='Z') :\n",
    "        pos1+=1\n",
    "    return [] if pos1==pos else [(pos1,str[pos:pos1])]"
   ]
  },
  {
   "cell_type": "code",
   "execution_count": 5,
   "metadata": {
    "hidden": true
   },
   "outputs": [],
   "source": [
    "def p_seq(str,pos,*patterns):\n",
    "    rezs=[]\n",
    "    for patt in patterns:\n",
    "        tmp=patt(str,pos)\n",
    "        if len(tmp)>1 : raise NotImplementedError()\n",
    "        if len(tmp)==0 : return []\n",
    "        (pos,tmp)=tmp[0]\n",
    "        rezs.append(tmp)\n",
    "    return [(pos,rezs)]"
   ]
  },
  {
   "cell_type": "markdown",
   "metadata": {},
   "source": [
    "# Словарь"
   ]
  },
  {
   "cell_type": "markdown",
   "metadata": {},
   "source": [
    "## Классы отображения"
   ]
  },
  {
   "cell_type": "code",
   "execution_count": 6,
   "metadata": {
    "code_folding": []
   },
   "outputs": [],
   "source": [
    "class Struct:\n",
    "    type=None\n",
    "    talk=[] #массив структур или пар (строка-тип,строка-значение)\n",
    "    def __str__(self):\n",
    "        raise NotImplementedError('virtual function')"
   ]
  },
  {
   "cell_type": "code",
   "execution_count": 26,
   "metadata": {
    "code_folding": [
     1,
     26,
     31,
     39
    ]
   },
   "outputs": [],
   "source": [
    "class StNoun(Struct):\n",
    "    def __init__(self,odush=None,rod=None,chis=None,pad=None,word=None):\n",
    "        self.type='noun'\n",
    "        \n",
    "        if odush==None and rod==None and chis==None and pad==None and word==None :\n",
    "            self.odush=False\n",
    "            self.rod='m'\n",
    "            self.chis='ed'\n",
    "            self.pad='ip'\n",
    "            self.talk=[]\n",
    "        else:\n",
    "            if type(odush)!=bool : raise TypeError('odush must be bool')\n",
    "            self.odush=odush\n",
    "\n",
    "            if rod!='m' and rod!='g' and rod!='s' : raise TypeError('rod must be m or g or s')\n",
    "            self.rod=rod\n",
    "\n",
    "            if chis!='ed' and chis!='mn' : raise TypeError('chis must be ed or mn')\n",
    "            self.chis=chis\n",
    "\n",
    "            if pad!='ip' and pad!='rp' and pad!='dp' and pad!='vp' and pad!='tp' and pad!='pp' : \n",
    "                raise TypeError('pad must be ip, rp, dp, vp, tp or pp')\n",
    "            self.pad=pad\n",
    "\n",
    "            self.talk=[('main',word)]\n",
    "        \n",
    "    def __repr__(self):\n",
    "        return '{type:'+self.type+',odush:'+str(self.odush)+',rod:'+self.rod+\\\n",
    "            ',chis:'+self.chis+',pad:'+self.pad+',talk:'+\\\n",
    "            repr(self.talk)+'}'\n",
    "    \n",
    "    def __str__(self):\n",
    "        return ' '.join(\\\n",
    "            str(i) if isinstance(i,Struct) else \\\n",
    "            show_noun_map[i[1]](self) if i[0]=='main' else\\\n",
    "            i[1] if i[0]=='other' else\\\n",
    "            '#'+i[1] if i[0]=='punct' else throw(RuntimeError()) \\\n",
    "                        for i in self.talk).replace(' #','')\n",
    "\n",
    "def show_noun1(pad,word,ip,rp,dp,vp,tp,pp):\n",
    "    if pad=='ip' : return word+ip\n",
    "    if pad=='rp' : return word+rp\n",
    "    if pad=='dp' : return word+dp\n",
    "    if pad=='vp' : return word+vp\n",
    "    if pad=='tp' : return word+tp\n",
    "    if pad=='pp' : return word+pp\n",
    "    raise InternalError()\n"
   ]
  },
  {
   "cell_type": "code",
   "execution_count": 25,
   "metadata": {
    "code_folding": [
     1,
     27,
     32,
     40
    ]
   },
   "outputs": [],
   "source": [
    "class StAdj(Struct):\n",
    "    def __init__(self,odush=None,rod=None,chis=None,pad=None,word=None):\n",
    "        self.type='adj'\n",
    "        \n",
    "        if odush==None and rod==None and chis==None and pad==None and word==None :\n",
    "            self.odush=False\n",
    "            self.rod='m'\n",
    "            self.chis='ed'\n",
    "            self.pad='ip'\n",
    "            self.talk=[]\n",
    "        else:\n",
    "            if type(odush)!=bool : raise TypeError('odush must be bool')\n",
    "            self.odush=odush\n",
    "\n",
    "            if rod!='m' and rod!='g' and rod!='s' : raise TypeError('rod must be m or g or s')\n",
    "            self.rod=rod\n",
    "\n",
    "            if chis!='ed' and chis!='mn' : raise TypeError('chis must be ed or mn')\n",
    "            self.chis=chis\n",
    "\n",
    "            if pad!='ip' and pad!='rp' and pad!='dp' and pad!='vp' and pad!='tp'\\\n",
    "                    and pad!='pp'  and pad!='sh' : \n",
    "                raise TypeError('pad must be ip, rp, dp, vp, tp, pp or sh')\n",
    "            self.pad=pad\n",
    "\n",
    "            self.talk=[('main',word)]\n",
    "        \n",
    "    def __repr__(self):\n",
    "        return '{type:'+self.type+',odush:'+str(self.odush)+',rod:'+self.rod+\\\n",
    "            ',chis:'+self.chis+',pad:'+self.pad+',talk:'+\\\n",
    "            repr(self.talk)+'}'\n",
    "    \n",
    "    def __str__(self):\n",
    "        return ' '.join(\\\n",
    "            str(i) if isinstance(i,Struct) else \\\n",
    "            show_adj_map[i[1]](self) if i[0]=='main' else\\\n",
    "            i[1] if i[0]=='other' else\\\n",
    "            '#'+i[1] if i[0]=='punct' else throw(RuntimeError()) \\\n",
    "                        for i in self.talk).replace(' #','')\n",
    "\n",
    "def show_adj1(st,word,ends):\n",
    "    if st.chis=='mn' :\n",
    "        (ip,rp,dp,vp,tp,pp,sh)=ends['mn']\n",
    "    else:\n",
    "        (ip,rp,dp,vp,tp,pp,sh)=ends[st.rod]\n",
    "        \n",
    "    if   st.pad=='ip' : rez=ip\n",
    "    elif st.pad=='rp' : rez=rp\n",
    "    elif st.pad=='dp' : rez=dp\n",
    "    elif st.pad=='vp' : rez=vp[0] if st.odush else vp[1]\n",
    "    elif st.pad=='tp' : rez=tp\n",
    "    elif st.pad=='pp' : rez=pp\n",
    "    elif st.pad=='sh' : rez=sh\n",
    "    else: raise InternalError()\n",
    "        \n",
    "    return word+rez\n"
   ]
  },
  {
   "cell_type": "markdown",
   "metadata": {},
   "source": [
    "## Отображение"
   ]
  },
  {
   "cell_type": "code",
   "execution_count": 9,
   "metadata": {},
   "outputs": [],
   "source": [
    "show_adj_map={\n",
    "    'летучий'  :lambda st: show_adj1(st,'летуч' ,\n",
    "        {\n",
    "            'm' :('ий','его','ему',('его','ий'),'им' ,'ем','' ),\n",
    "            's' :('ее','его','ему',('ий', 'ий'),'им' ,'ем','е'),\n",
    "            'g' :('ая','ей' ,'ей' ,('ую', 'ую'),'ей' ,'ей','а'),\n",
    "            'mn':('ие','их' ,'им' ,('их', 'ие'),'ими','их','и'),\n",
    "        }\n",
    "    ) ,\n",
    "}"
   ]
  },
  {
   "cell_type": "code",
   "execution_count": 51,
   "metadata": {},
   "outputs": [],
   "source": [
    "show_noun_map={\n",
    "}"
   ]
  },
  {
   "cell_type": "markdown",
   "metadata": {},
   "source": [
    "## Правила"
   ]
  },
  {
   "cell_type": "code",
   "execution_count": 79,
   "metadata": {},
   "outputs": [],
   "source": [
    "ruwords={}\n",
    "\n",
    "def add_runoun(name,odush,rodchis,word,ip,rp,dp,vp,tp,pp):\n",
    "    if rodchis=='mn':\n",
    "        ruwords[name]=StNoun(odush,'m',rodchis,'ip',name)\n",
    "    else:\n",
    "        ruwords[name]=StNoun(odush,rodchis,'ed','ip',name)\n",
    "    show_noun_map[name]=lambda st: show_noun1(st.pad,word,ip,rp,dp,vp,tp,pp)\n"
   ]
  },
  {
   "cell_type": "code",
   "execution_count": 80,
   "metadata": {
    "code_folding": []
   },
   "outputs": [],
   "source": [
    "#                                   ип ,нет,дать,вижу,творю,думаю\n",
    "add_runoun(\"кот\"   ,True ,'m','кот'  ,'' ,'а','у' ,'а' ,'ом' ,'е' )\n",
    "\n",
    "add_runoun(\"урок\"  ,False,'m','урок' ,'' ,'а','у' ,''  ,'ом' ,'е' )\n",
    "\n",
    "add_runoun(\"кошка\" ,True ,'g','кошк' ,'а','и','е' ,'у' ,'ой' ,'е' )\n",
    "add_runoun(\"кепка\" ,False,'g','кепк' ,'а','и','е' ,'у' ,'ой' ,'е' )\n",
    "add_runoun(\"шапка\" ,False,'g','шапк' ,'а','и','е' ,'у' ,'ой' ,'е' )\n",
    "add_runoun(\"ручка\" ,False,'g','ручк' ,'а','и','е' ,'у' ,'ой' ,'е' )\n",
    "\n",
    "add_runoun(\"крыса\" ,True ,'g','крыс' ,'а','ы','е' ,'у' ,'ой' ,'е' )\n",
    "add_runoun(\"шляпа\" ,False,'g','шляп' ,'а','ы','е' ,'у' ,'ой' ,'е' )\n",
    "add_runoun(\"курица\",False,'g','куриц','а','ы','е' ,'у' ,'ой' ,'е' )\n",
    "\n",
    "add_runoun(\"мышь\"  ,True ,'g','мыш' ,'ь','и','и' ,'ь' ,'ью' ,'и' )\n"
   ]
  },
  {
   "cell_type": "code",
   "execution_count": 12,
   "metadata": {},
   "outputs": [],
   "source": [
    "def r_letuchij(): return StAdj(True,'g','ed','ip','летучий')"
   ]
  },
  {
   "cell_type": "code",
   "execution_count": 94,
   "metadata": {},
   "outputs": [],
   "source": [
    "def r_a_noun(a,n): return n\n",
    "\n",
    "def r_adj_noun(aa,nn): \n",
    "    from copy import copy\n",
    "    a=copy(aa)\n",
    "    n=copy(nn)\n",
    "    n.talk=copy(n.talk)\n",
    "    a.rod=n.rod\n",
    "    a.odush=n.odush\n",
    "    n.talk.insert(0,a)\n",
    "    return n\n",
    "\n",
    "def r_snoun_and_noun(sn,n):\n",
    "    root=StNoun()\n",
    "    root.chis='mn'\n",
    "    root.talk=[sn,('other','и'),n]\n",
    "    return root\n",
    "def r_snoun_comma_noun(sn,n):\n",
    "    root=StNoun()\n",
    "    root.chis='mn'\n",
    "    root.talk=[sn,('punct',','),n]\n",
    "    return root"
   ]
  },
  {
   "cell_type": "markdown",
   "metadata": {},
   "source": [
    "## Словарь"
   ]
  },
  {
   "cell_type": "code",
   "execution_count": 29,
   "metadata": {},
   "outputs": [],
   "source": [
    "dict_adj={\n",
    "    'a' : '',\n",
    "    #'a' : r_nekotoryj(),\n",
    "    'an' : '',\n",
    "    #'an' : r_nekotoryj(),\n",
    "}"
   ]
  },
  {
   "cell_type": "code",
   "execution_count": 83,
   "metadata": {
    "code_folding": []
   },
   "outputs": [],
   "source": [
    "dict_noun={\n",
    "    'cat':   ruwords[\"кошка\"],\n",
    "    #'cat':   ruwords[\"кот\"],\n",
    "    \n",
    "    #'rat':   ruwords[\"мышь\"],\n",
    "    'rat':   ruwords['крыса'],\n",
    "    \n",
    "    'bat':   r_adj_noun(r_letuchij(),ruwords[\"мышь\"]),\n",
    "    \n",
    "    'lesson':ruwords[\"урок\"],\n",
    "    \n",
    "    'cap':   ruwords[\"кепка\"],\n",
    "    #'cap':  ruwords[\"шапка\"],\n",
    "    \n",
    "    'pen':   ruwords[\"ручка\"],\n",
    "    \n",
    "    'hat':   ruwords[\"шляпа\"],\n",
    "    \n",
    "    'hen':   ruwords[\"курица\"],\n",
    "}"
   ]
  },
  {
   "cell_type": "markdown",
   "metadata": {},
   "source": [
    "## Паттерны"
   ]
  },
  {
   "cell_type": "code",
   "execution_count": 59,
   "metadata": {},
   "outputs": [],
   "source": [
    "def p_adj(str,pos):\n",
    "    rezs=[]\n",
    "    for tpos,tword in p_word(str,pos):\n",
    "        if tword in dict_adj:\n",
    "            rezs.append((tpos,dict_adj[tword]))\n",
    "    return rezs"
   ]
  },
  {
   "cell_type": "code",
   "execution_count": 60,
   "metadata": {},
   "outputs": [],
   "source": [
    "def p_adj_noun(str,pos):\n",
    "    rezs=[]\n",
    "    #исключение словосочетания\n",
    "    if 1:\n",
    "        def lp_an_a(str,pos):\n",
    "            lrezs=p_word(str,pos,'an')\n",
    "            if len(lrezs)>0 : return lrezs\n",
    "            return p_word(str,pos,'a')\n",
    "        rezs+=[\\\n",
    "            (pos1,r_a_noun(a,n)) \\\n",
    "            #(pos1,r_nekotoryj_noun(a,s)) \\\n",
    "                for (pos1,[a,s,n]) in p_seq(str,pos,lp_an_a,p_spcs,p_noun) ]\n",
    "    \n",
    "    if len(rezs)>0 : return rezs\n",
    "    #словосочетание\n",
    "    return [\\\n",
    "        (pos1,r_adj_noun(a,n)) \\\n",
    "        #(pos1,r_nekotoryj_noun(a,s)) \\\n",
    "            for (pos1,[a,s,n]) in p_seq(str,pos,p_adj,p_spcs,p_noun) ]\n",
    "    "
   ]
  },
  {
   "cell_type": "code",
   "execution_count": 61,
   "metadata": {
    "code_folding": []
   },
   "outputs": [],
   "source": [
    "def p_simple_noun(str,pos):\n",
    "    rezs=p_adj_noun(str,pos)\n",
    "    if len(rezs)>0 : return rezs\n",
    "\n",
    "    #слово\n",
    "    tmp=[]\n",
    "    for tpos,tword in p_word(str,pos):\n",
    "        if tword in dict_noun:\n",
    "            tmp.append((tpos,dict_noun[tword]))\n",
    "    rezs+=tmp\n",
    "        \n",
    "    return rezs"
   ]
  },
  {
   "cell_type": "code",
   "execution_count": 62,
   "metadata": {},
   "outputs": [],
   "source": [
    "def p_snoun_and_noun(str,pos):\n",
    "    def lp_and(str,pos): return p_word(str,pos,'and')\n",
    "    def lp_comma(str,pos): return p_word(str,pos,',')\n",
    "    rezs= [\\\n",
    "        (pos1,r_snoun_and_noun(sn,n)) \\\n",
    "        #(pos1,r_nekotoryj_noun(a,s)) \\\n",
    "            for (pos1,[sn,s1,a,s2,n]) in p_seq(str,pos,\\\n",
    "                p_simple_noun,p_spcs,lp_and,p_spcs,p_noun) ]\n",
    "    if len(rezs)>0: return rezs\n",
    "    \n",
    "    return [\\\n",
    "        (pos1,r_snoun_comma_noun(sn,n)) \\\n",
    "        #(pos1,r_nekotoryj_noun(a,s)) \\\n",
    "            for (pos1,[sn,c,s2,n]) in p_seq(str,pos,\\\n",
    "                p_simple_noun,lp_comma,p_spcs,p_noun) ]\n",
    "    "
   ]
  },
  {
   "cell_type": "code",
   "execution_count": 63,
   "metadata": {},
   "outputs": [],
   "source": [
    "def p_noun(str,pos):\n",
    "    rezs=p_snoun_and_noun(str,pos)\n",
    "    if len(rezs)>0 : return rezs\n",
    "    return p_simple_noun(str,pos)"
   ]
  },
  {
   "cell_type": "markdown",
   "metadata": {},
   "source": [
    "# Тесты"
   ]
  },
  {
   "cell_type": "markdown",
   "metadata": {},
   "source": [
    "```\n",
    "getter & setter падежей сущ\n",
    "числительные: род число падеж одуш - пока будем использовать как прилагательные, \n",
    "    но число числит. и число сущ. должны совпадать - проверка во время парсинга, \n",
    "        иначе исключение\n",
    "```"
   ]
  },
  {
   "cell_type": "code",
   "execution_count": 64,
   "metadata": {},
   "outputs": [
    {
     "data": {
      "text/plain": [
       "{type:noun,odush:True,rod:g,chis:ed,pad:ip,talk:[('main', 'кошка')]}"
      ]
     },
     "execution_count": 64,
     "metadata": {},
     "output_type": "execute_result"
    }
   ],
   "source": [
    "r_koshka()"
   ]
  },
  {
   "cell_type": "code",
   "execution_count": 65,
   "metadata": {
    "scrolled": true
   },
   "outputs": [
    {
     "data": {
      "text/plain": [
       "[(3, {type:noun,odush:True,rod:g,chis:ed,pad:ip,talk:[('main', 'кошка')]})]"
      ]
     },
     "execution_count": 65,
     "metadata": {},
     "output_type": "execute_result"
    }
   ],
   "source": [
    "p_noun('cat',0)"
   ]
  },
  {
   "cell_type": "code",
   "execution_count": 66,
   "metadata": {},
   "outputs": [
    {
     "data": {
      "text/plain": [
       "[(1, '')]"
      ]
     },
     "execution_count": 66,
     "metadata": {},
     "output_type": "execute_result"
    }
   ],
   "source": [
    "p_spcs(' ',0)"
   ]
  },
  {
   "cell_type": "code",
   "execution_count": 67,
   "metadata": {},
   "outputs": [
    {
     "name": "stdout",
     "output_type": "stream",
     "text": [
      "2\n"
     ]
    }
   ],
   "source": [
    "def foo():\n",
    "    x=1\n",
    "    def bar():\n",
    "        nonlocal x\n",
    "        x=2\n",
    "    bar()\n",
    "    print(x)\n",
    "foo()"
   ]
  },
  {
   "cell_type": "code",
   "execution_count": 68,
   "metadata": {},
   "outputs": [
    {
     "data": {
      "text/plain": [
       "{type:noun,odush:False,rod:m,chis:ed,pad:ip,talk:[]}"
      ]
     },
     "execution_count": 68,
     "metadata": {},
     "output_type": "execute_result"
    }
   ],
   "source": [
    "StNoun()"
   ]
  },
  {
   "cell_type": "markdown",
   "metadata": {
    "heading_collapsed": true
   },
   "source": [
    "## Lesson 1"
   ]
  },
  {
   "cell_type": "code",
   "execution_count": 69,
   "metadata": {
    "hidden": true
   },
   "outputs": [
    {
     "data": {
      "text/plain": [
       "['кошка']"
      ]
     },
     "execution_count": 69,
     "metadata": {},
     "output_type": "execute_result"
    }
   ],
   "source": [
    "en2ru('cat')"
   ]
  },
  {
   "cell_type": "code",
   "execution_count": 70,
   "metadata": {
    "hidden": true,
    "scrolled": true
   },
   "outputs": [
    {
     "data": {
      "text/plain": [
       "['кошка']"
      ]
     },
     "execution_count": 70,
     "metadata": {},
     "output_type": "execute_result"
    }
   ],
   "source": [
    "en2ru('a cat')"
   ]
  },
  {
   "cell_type": "code",
   "execution_count": 71,
   "metadata": {
    "hidden": true
   },
   "outputs": [
    {
     "data": {
      "text/plain": [
       "['крыса']"
      ]
     },
     "execution_count": 71,
     "metadata": {},
     "output_type": "execute_result"
    }
   ],
   "source": [
    "en2ru('rat')"
   ]
  },
  {
   "cell_type": "code",
   "execution_count": 85,
   "metadata": {
    "hidden": true
   },
   "outputs": [
    {
     "data": {
      "text/plain": [
       "['летучая мышь']"
      ]
     },
     "execution_count": 85,
     "metadata": {},
     "output_type": "execute_result"
    }
   ],
   "source": [
    "en2ru('bat')"
   ]
  },
  {
   "cell_type": "code",
   "execution_count": 86,
   "metadata": {
    "hidden": true
   },
   "outputs": [
    {
     "data": {
      "text/plain": [
       "['']"
      ]
     },
     "execution_count": 86,
     "metadata": {},
     "output_type": "execute_result"
    }
   ],
   "source": [
    "en2ru('a')"
   ]
  },
  {
   "cell_type": "code",
   "execution_count": 87,
   "metadata": {
    "hidden": true
   },
   "outputs": [
    {
     "data": {
      "text/plain": [
       "['урок']"
      ]
     },
     "execution_count": 87,
     "metadata": {},
     "output_type": "execute_result"
    }
   ],
   "source": [
    "en2ru('lesson')"
   ]
  },
  {
   "cell_type": "code",
   "execution_count": 88,
   "metadata": {
    "hidden": true
   },
   "outputs": [
    {
     "data": {
      "text/plain": [
       "['крыса, летучая мышь, кошка']"
      ]
     },
     "execution_count": 88,
     "metadata": {},
     "output_type": "execute_result"
    }
   ],
   "source": [
    "en2ru('a rat, a bat, a cat')"
   ]
  },
  {
   "cell_type": "markdown",
   "metadata": {},
   "source": [
    "## Lesson 2"
   ]
  },
  {
   "cell_type": "code",
   "execution_count": 91,
   "metadata": {},
   "outputs": [
    {
     "data": {
      "text/plain": [
       "['ручка и курица']"
      ]
     },
     "execution_count": 91,
     "metadata": {},
     "output_type": "execute_result"
    }
   ],
   "source": [
    "en2ru('a pen and a hen')"
   ]
  },
  {
   "cell_type": "code",
   "execution_count": 92,
   "metadata": {},
   "outputs": [
    {
     "data": {
      "text/plain": [
       "['летучая мышь и кошка']"
      ]
     },
     "execution_count": 92,
     "metadata": {},
     "output_type": "execute_result"
    }
   ],
   "source": [
    "en2ru('a bat and a cat')"
   ]
  },
  {
   "cell_type": "code",
   "execution_count": 93,
   "metadata": {},
   "outputs": [
    {
     "data": {
      "text/plain": [
       "['курица, летучая мышь, кошка и крыса']"
      ]
     },
     "execution_count": 93,
     "metadata": {},
     "output_type": "execute_result"
    }
   ],
   "source": [
    "en2ru('a hen, a bat, a cat and a rat')"
   ]
  }
 ],
 "metadata": {
  "hide_input": false,
  "kernelspec": {
   "display_name": "Python 3",
   "language": "python",
   "name": "python3"
  },
  "language_info": {
   "codemirror_mode": {
    "name": "ipython",
    "version": 3
   },
   "file_extension": ".py",
   "mimetype": "text/x-python",
   "name": "python",
   "nbconvert_exporter": "python",
   "pygments_lexer": "ipython3",
   "version": "3.6.7"
  }
 },
 "nbformat": 4,
 "nbformat_minor": 2
}
