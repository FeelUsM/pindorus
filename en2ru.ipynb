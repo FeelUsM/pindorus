{
 "cells": [
  {
   "cell_type": "markdown",
   "metadata": {},
   "source": [
    "```\n",
    "p_паттерн парсит текст (str, pos), \n",
    "    вызывая другие паттерны, возвращающие древовидные структуры\n",
    "    эти древовидные структуры передает одному из правил\n",
    "        (остальные вызовы правил закомментированы \n",
    "            - в рамках одного текста каждый паттерн имеет ровно 1 смысл)\n",
    "    и возвращает (pos, результат этого правила), помещенный в массив\n",
    "    \n",
    "    /*пока на ошибках парсинга концентрировать не будем*/\n",
    "    если ничего не удалось распарсить, ???возвращаемый массив будет пустым???\n",
    "    если удалось распарсить несколько вариантов - в массиве будет насколько вариантов\n",
    "        сначала парсятся все исключения\n",
    "        потом парсятся все обычные варианты (если нет исключений)\n",
    "```\n",
    "\n",
    "```\n",
    "r_правило получает список древовидных структур\n",
    "    обрабатывает их по определенному правилу\n",
    "    возвращает древовидную структуру\n",
    "```\n",
    "\n",
    "```\n",
    "древовидная структура - map, со следующими ключами\n",
    "    type: 'noun'/'adj'/'verb'/'numeric'/...\n",
    "    постоянные параметры (для сущ.: род, число)\n",
    "    переменные параметры (для сущ.: падеж)\n",
    "    talk: массив древовидных структур\n",
    "        или пар (тип, слово), где тип - main/punct/other\n",
    "```\n",
    "\n",
    "```\n",
    "str(древовидная структура)\n",
    "    превращает древовидную структуру в строку\n",
    "```\n",
    "\n",
    "```\n",
    "для каждого типа элемента древовидной структуры будет map\n",
    "    где каждой строке (для сущ. - слово в и.п.) будет соответствовать\n",
    "        структура данных, которая вместе в переменными параметрами передается в \n",
    "        sh_функция для этого типа элемента древовидной структуры\n",
    "            которая будет возвращать слово в соотв. форме (для сущ. в соотв. падеже)\n",
    "```"
   ]
  },
  {
   "cell_type": "markdown",
   "metadata": {
    "heading_collapsed": true
   },
   "source": [
    "# Общее"
   ]
  },
  {
   "cell_type": "code",
   "execution_count": 1,
   "metadata": {
    "code_folding": [
     0
    ],
    "hidden": true
   },
   "outputs": [],
   "source": [
    "def throw(ex):\n",
    "    raise ex"
   ]
  },
  {
   "cell_type": "code",
   "execution_count": 2,
   "metadata": {
    "code_folding": [],
    "hidden": true
   },
   "outputs": [],
   "source": [
    "class S(str): # строка с атрибутом\n",
    "    __slots__='attrs'\n",
    "#    def __new__(self, *args, **kwargs):\n",
    "#        return super(S, self).__new__(self, *args, **kwargs)\n",
    "    def __init__(self,*args,**kwargs):\n",
    "#        super(S, self).__init__()\n",
    "        self.attrs=dict()\n",
    "\n",
    "def attrs2right(l,r):\n",
    "    return r\n",
    "def attr2left(l,r):\n",
    "    return l\n",
    "#.pre - строка - конкатенируется (? с пробелом?)\n",
    "#.post - строка - конкатенируется (? с пробелом?)\n",
    "#.prepost - массив пар строк - конкатенируется\n",
    "#.change - функция - если не совпадают - ошибка"
   ]
  },
  {
   "cell_type": "code",
   "execution_count": 3,
   "metadata": {
    "code_folding": [
     0
    ],
    "hidden": true
   },
   "outputs": [],
   "source": [
    "def en2ru(s): # main\n",
    "    s=[ i for i in tokenizer(s)]\n",
    "    # добавить дочитывание точки и остаточных пробелов\n",
    "    rezs=[res for pos,res in p_noun(s,0) if pos==len(s)]\n",
    "    if len(rezs)>0: return [str(i) for i in rezs]\n",
    "    rezs=[res for pos,res in p_adj(s,0) if pos==len(s)]\n",
    "    if len(rezs)>0: return [str(i) for i in rezs]\n",
    "    return []"
   ]
  },
  {
   "cell_type": "markdown",
   "metadata": {
    "heading_collapsed": true,
    "hidden": true
   },
   "source": [
    "## Паттерны парсинга"
   ]
  },
  {
   "cell_type": "code",
   "execution_count": 4,
   "metadata": {
    "code_folding": [
     0
    ],
    "hidden": true
   },
   "outputs": [],
   "source": [
    "def debug_pp(fun):\n",
    "    def wrapper(s,p):\n",
    "        print('{'+' '*p,fun.__name__)\n",
    "        rezs=fun(s,p)\n",
    "        print('.'+' '*p,len(rezs),' in ',fun.__name__,'}')\n",
    "        return rezs\n",
    "#    return wrapper\n",
    "    return fun"
   ]
  },
  {
   "cell_type": "code",
   "execution_count": 5,
   "metadata": {
    "code_folding": [
     0
    ],
    "hidden": true
   },
   "outputs": [],
   "source": [
    "def sp_spcs(str,pos):\n",
    "    pos1=pos\n",
    "    while pos1<len(str) and (str[pos1]==' ') : #  or str[pos1]=='\\n' or str[pos1]=='\\t'\n",
    "        pos1+=1\n",
    "    return [] if pos1==pos else [(pos1,'')]"
   ]
  },
  {
   "cell_type": "code",
   "execution_count": 6,
   "metadata": {
    "code_folding": [
     0
    ],
    "hidden": true
   },
   "outputs": [],
   "source": [
    "def sp_word(str,pos,word=None):\n",
    "    if word!=None:\n",
    "        return [(pos+len(word),word)] if str[pos:pos+len(word)]==word else []\n",
    "    pos1=pos\n",
    "    while pos1<len(str) and \\\n",
    "        (str[pos1]>='a' and str[pos1]<='z' or str[pos1]>='A' and str[pos1]<='Z') :\n",
    "        pos1+=1\n",
    "    return [] if pos1==pos else [(pos1,str[pos:pos1])]"
   ]
  },
  {
   "cell_type": "code",
   "execution_count": 7,
   "metadata": {
    "code_folding": [
     0
    ],
    "hidden": true
   },
   "outputs": [],
   "source": [
    "def sp_punct(str,pos):\n",
    "    pos1=pos\n",
    "    while pos1<len(str) and str[pos1]!=' ' and\\\n",
    "        not (str[pos1]>='a' and str[pos1]<='z' or str[pos1]>='A' and str[pos1]<='Z') :\n",
    "        pos1+=1\n",
    "    return [] if pos1==pos else [(pos1,str[pos:pos1])]    "
   ]
  },
  {
   "cell_type": "code",
   "execution_count": 8,
   "metadata": {
    "code_folding": [
     0
    ],
    "hidden": true
   },
   "outputs": [],
   "source": [
    "def tokenizer(s):\n",
    "    pos=0\n",
    "    while pos<len(s):\n",
    "        tmp=sp_word(s,pos)\n",
    "        if len(tmp)>0:\n",
    "            yield S(tmp[0][1]) # можем добавить атрибуты\n",
    "            pos=tmp[0][0]\n",
    "        tmp=sp_spcs(s,pos)\n",
    "        if len(tmp)>0:\n",
    "            pos=tmp[0][0]\n",
    "        tmp=sp_punct(s,pos)\n",
    "        if len(tmp)>0:\n",
    "            yield S(tmp[0][1]) # можем добавить атрибуты\n",
    "            pos=tmp[0][0]"
   ]
  },
  {
   "cell_type": "code",
   "execution_count": 9,
   "metadata": {
    "code_folding": [
     0
    ],
    "hidden": true
   },
   "outputs": [],
   "source": [
    "def sp_seq(str,pos,patterns):\n",
    "#    for patt in patterns:\n",
    "#        tmp=patt(str,pos)\n",
    "#        if len(tmp)>1 : raise NotImplementedError()\n",
    "#        if len(tmp)==0 : return []\n",
    "#        (pos,tmp)=tmp[0]\n",
    "#        rezs.append(tmp)\n",
    "#    return [(pos,rezs)]\n",
    "    if len(patterns)==1:\n",
    "        return [(p,[r]) for (p,r) in patterns[0](str,pos)]\n",
    "    first=patterns[0](str,pos)\n",
    "    first.sort(key=lambda i:i[0]) # в дальнейшем отключить повторное вычисление \n",
    "    # продолжения для одинаковых позиций\n",
    "    rezs=[]\n",
    "    for r in first:\n",
    "        tmp=sp_seq(str,r[0],patterns[1:])\n",
    "        for rr in tmp:\n",
    "            rr[1].insert(0,r[1])\n",
    "        rezs+=tmp\n",
    "    return rezs"
   ]
  },
  {
   "cell_type": "code",
   "execution_count": 10,
   "metadata": {
    "code_folding": [
     2,
     6,
     17
    ],
    "hidden": true
   },
   "outputs": [],
   "source": [
    "#объекты из словаря и паттернов копируются, потом из них строится дерево\n",
    "#в эти копии потом добваляется .attrs\n",
    "def word(w):\n",
    "    from copy import copy\n",
    "    return lambda s,p: [(p+1,copy(s[p]))] if p<len(s) and s[p]==w else []\n",
    "\n",
    "def fromdict(d):\n",
    "    from copy import copy\n",
    "    def p_fromdict(s,p):\n",
    "        if p<len(s) and s[p] in d:\n",
    "            tmp=copy(d[s[p]])\n",
    "            tmp.attrs=s[p].attrs\n",
    "            return [(p+1,tmp)]\n",
    "        else:\n",
    "            return []\n",
    "    return p_fromdict\n",
    "\n",
    "def p_seq(s,p,patterns,handler,numbers=None):\n",
    "# p_seq(s,p,[p0,p1,p2,p3],handle,[0,2,3]) ->\n",
    "# for k:\n",
    "#   (pos1,rez1) = sp_seq(s,p,[p0,p1,p2,p3]) [k]\n",
    "#   rezs.append((pos1,handle(rezs[0],rezs[2],rezs[3],)))\n",
    "    if numbers==None : numbers=range(len(patterns))\n",
    "    rezs=[]\n",
    "    for (pos1,rez1) in sp_seq(s,p,patterns):\n",
    "        m=[False for i in range(len(patterns))]\n",
    "        for i in numbers: m[i]=True\n",
    "        for i in range(max(numbers)):\n",
    "            if not m[i]: attrs2right(rez1[i],rez1[i+1])\n",
    "        for i in range(len(patterns)-1,max(numbers),-1):\n",
    "            if not m[i]: attrs2left(rez1[i-1],rez1[i])\n",
    "        rezs.append((pos1,handler(*[rez1[i] for i in numbers])))\n",
    "    return rezs"
   ]
  },
  {
   "cell_type": "markdown",
   "metadata": {
    "hidden": true
   },
   "source": [
    "##### тесты"
   ]
  },
  {
   "cell_type": "code",
   "execution_count": 11,
   "metadata": {
    "hidden": true
   },
   "outputs": [
    {
     "data": {
      "text/plain": [
       "[5, 4]"
      ]
     },
     "execution_count": 11,
     "metadata": {},
     "output_type": "execute_result"
    }
   ],
   "source": [
    "[i for i in range(5,3,-1)]"
   ]
  },
  {
   "cell_type": "code",
   "execution_count": 12,
   "metadata": {
    "hidden": true
   },
   "outputs": [
    {
     "name": "stdout",
     "output_type": "stream",
     "text": [
      "('1', '3')\n"
     ]
    },
    {
     "data": {
      "text/plain": [
       "[(3, None)]"
      ]
     },
     "execution_count": 12,
     "metadata": {},
     "output_type": "execute_result"
    }
   ],
   "source": [
    "def h(*args):\n",
    "    print(args)\n",
    "p_seq(['1','2','3'],0,[word('1'),word('2'),word('3')],h,[0,2])"
   ]
  },
  {
   "cell_type": "code",
   "execution_count": 13,
   "metadata": {
    "hidden": true
   },
   "outputs": [
    {
     "data": {
      "text/plain": [
       "True"
      ]
     },
     "execution_count": 13,
     "metadata": {},
     "output_type": "execute_result"
    }
   ],
   "source": [
    "s=S('qwe')\n",
    "s.attrs=8\n",
    "s=='qwe'"
   ]
  },
  {
   "cell_type": "code",
   "execution_count": 14,
   "metadata": {
    "hidden": true
   },
   "outputs": [
    {
     "data": {
      "text/plain": [
       "{}"
      ]
     },
     "execution_count": 14,
     "metadata": {},
     "output_type": "execute_result"
    }
   ],
   "source": [
    "s=S('qwe')\n",
    "s.attrs"
   ]
  },
  {
   "cell_type": "code",
   "execution_count": 15,
   "metadata": {
    "hidden": true
   },
   "outputs": [
    {
     "data": {
      "text/plain": [
       "'qwe'"
      ]
     },
     "execution_count": 15,
     "metadata": {},
     "output_type": "execute_result"
    }
   ],
   "source": [
    "from copy import copy\n",
    "s=S('qwe')\n",
    "copy(s)"
   ]
  },
  {
   "cell_type": "code",
   "execution_count": 16,
   "metadata": {
    "hidden": true
   },
   "outputs": [
    {
     "data": {
      "text/plain": [
       "\"'qwe'\""
      ]
     },
     "execution_count": 16,
     "metadata": {},
     "output_type": "execute_result"
    }
   ],
   "source": [
    "s=S('qwe')\n",
    "repr(s)"
   ]
  },
  {
   "cell_type": "markdown",
   "metadata": {},
   "source": [
    "# Словарь"
   ]
  },
  {
   "cell_type": "markdown",
   "metadata": {},
   "source": [
    "## Классы отображения"
   ]
  },
  {
   "cell_type": "code",
   "execution_count": 17,
   "metadata": {
    "code_folding": [
     0
    ]
   },
   "outputs": [],
   "source": [
    "class Struct:\n",
    "    type=None\n",
    "    talk=[] #массив структур или пар (строка-тип,строка-значение)\n",
    "    def __str__(self):\n",
    "        raise NotImplementedError('virtual function')"
   ]
  },
  {
   "cell_type": "code",
   "execution_count": 18,
   "metadata": {
    "code_folding": [
     0,
     1,
     4,
     37,
     42,
     50
    ]
   },
   "outputs": [],
   "source": [
    "class StNoun(Struct):\n",
    "    def __init__(self,odush=None,rod=None,chis=None,pad=None,word=None):\n",
    "        self.type='noun'\n",
    "        \n",
    "        if odush==None and rod==None and chis==None and pad==None and word==None :\n",
    "            self.odush=False\n",
    "            self.rod='m'\n",
    "            self.chis='ed'\n",
    "            self._pad='ip'\n",
    "            self.talk=[]\n",
    "        else:\n",
    "            if type(odush)!=bool : raise TypeError('odush must be bool')\n",
    "            self.odush=odush\n",
    "\n",
    "            if rod!='m' and rod!='g' and rod!='s' : raise TypeError('rod must be m or g or s')\n",
    "            self.rod=rod\n",
    "\n",
    "            if chis!='ed' and chis!='mn' : raise TypeError('chis must be ed or mn')\n",
    "            self.chis=chis\n",
    "\n",
    "            if pad!='ip' and pad!='rp' and pad!='dp' and pad!='vp' and pad!='tp' and pad!='pp' : \n",
    "                raise TypeError('pad must be ip, rp, dp, vp, tp or pp')\n",
    "            self._pad=pad\n",
    "\n",
    "            self.talk=[('main',word)]\n",
    "            \n",
    "    pad=property()\n",
    "    @pad.getter\n",
    "    def pad(self):\n",
    "        return self._pad\n",
    "    @pad.setter\n",
    "    def pad(self,val):\n",
    "        self._pad=val\n",
    "        for i in self.talk:\n",
    "            if isinstance(i,StNoun) or isinstance(i,StAdj):\n",
    "                i.pad=val\n",
    "        \n",
    "    def __repr__(self):\n",
    "        return '{type:'+self.type+',odush:'+str(self.odush)+',rod:'+self.rod+\\\n",
    "            ',chis:'+self.chis+',pad:'+self.pad+',talk:'+\\\n",
    "            repr(self.talk)+'}'\n",
    "    \n",
    "    def __str__(self):\n",
    "        return ' '.join(\\\n",
    "            str(i) if isinstance(i,Struct) else \\\n",
    "            show_noun_map[i[1]](self) if i[0]=='main' else\\\n",
    "            i[1] if i[0]=='other' else\\\n",
    "            '#'+i[1] if i[0]=='punct' else throw(RuntimeError()) \\\n",
    "                        for i in self.talk).replace(' #','')\n",
    "\n",
    "def show_noun1(pad,word,ip,rp,dp,vp,tp,pp):\n",
    "    if pad=='ip' : return word+ip\n",
    "    if pad=='rp' : return word+rp\n",
    "    if pad=='dp' : return word+dp\n",
    "    if pad=='vp' : return word+vp\n",
    "    if pad=='tp' : return word+tp\n",
    "    if pad=='pp' : return word+pp\n",
    "    raise InternalError()\n"
   ]
  },
  {
   "cell_type": "code",
   "execution_count": 19,
   "metadata": {
    "code_folding": [
     0,
     1,
     4,
     28,
     31,
     37,
     42,
     50
    ]
   },
   "outputs": [],
   "source": [
    "class StNumeral(Struct):\n",
    "    def __init__(self,odush=None,rod=None,chis=None,pad=None,word=None):\n",
    "        self.type='noun'\n",
    "        \n",
    "        if odush==None and rod==None and chis==None and pad==None and word==None :\n",
    "            self.odush=False\n",
    "            self.rod='m'\n",
    "            self.chis='ed'\n",
    "            self._pad='ip'\n",
    "            self.talk=[]\n",
    "        else:\n",
    "            if type(odush)!=bool : raise TypeError('odush must be bool')\n",
    "            self.odush=odush\n",
    "\n",
    "            if rod!='m' and rod!='g' and rod!='s' : raise TypeError('rod must be m or g or s')\n",
    "            self.rod=rod\n",
    "\n",
    "            if chis!='ed' and chis!='mn' : raise TypeError('chis must be ed or mn')\n",
    "            self.chis=chis\n",
    "\n",
    "            if pad!='ip' and pad!='rp' and pad!='dp' and pad!='vp' and pad!='tp' and pad!='pp' : \n",
    "                raise TypeError('pad must be ip, rp, dp, vp, tp or pp')\n",
    "            self._pad=pad\n",
    "\n",
    "            self.talk=[('main',word)]\n",
    "            \n",
    "    pad=property()\n",
    "    @pad.getter\n",
    "    def pad(self):\n",
    "        return self._pad\n",
    "    @pad.setter\n",
    "    def pad(self,val):\n",
    "        self._pad=val\n",
    "        for i in self.talk:\n",
    "            if isinstance(i,StNoun) or isinstance(i,StAdj):\n",
    "                i.pad=val\n",
    "        \n",
    "    def __repr__(self):\n",
    "        return '{type:'+self.type+',odush:'+str(self.odush)+',rod:'+self.rod+\\\n",
    "            ',chis:'+self.chis+',pad:'+self.pad+',talk:'+\\\n",
    "            repr(self.talk)+'}'\n",
    "    \n",
    "    def __str__(self):\n",
    "        return ' '.join(\\\n",
    "            str(i) if isinstance(i,Struct) else \\\n",
    "            show_noun_map[i[1]](self) if i[0]=='main' else\\\n",
    "            i[1] if i[0]=='other' else\\\n",
    "            '#'+i[1] if i[0]=='punct' else throw(RuntimeError()) \\\n",
    "                        for i in self.talk).replace(' #','')\n",
    "\n",
    "def show_noun1(pad,word,ip,rp,dp,vp,tp,pp):\n",
    "    if pad=='ip' : return word+ip\n",
    "    if pad=='rp' : return word+rp\n",
    "    if pad=='dp' : return word+dp\n",
    "    if pad=='vp' : return word+vp\n",
    "    if pad=='tp' : return word+tp\n",
    "    if pad=='pp' : return word+pp\n",
    "    raise InternalError()\n"
   ]
  },
  {
   "cell_type": "code",
   "execution_count": 20,
   "metadata": {
    "code_folding": [
     0,
     1,
     27,
     32,
     40
    ]
   },
   "outputs": [],
   "source": [
    "class StAdj(Struct):\n",
    "    def __init__(self,odush=None,rod=None,chis=None,pad=None,word=None):\n",
    "        self.type='adj'\n",
    "        \n",
    "        if odush==None and rod==None and chis==None and pad==None and word==None :\n",
    "            self.odush=False\n",
    "            self.rod='m'\n",
    "            self.chis='ed'\n",
    "            self.pad='ip'\n",
    "            self.talk=[]\n",
    "        else:\n",
    "            if type(odush)!=bool : raise TypeError('odush must be bool')\n",
    "            self.odush=odush\n",
    "\n",
    "            if rod!='m' and rod!='g' and rod!='s' : raise TypeError('rod must be m or g or s')\n",
    "            self.rod=rod\n",
    "\n",
    "            if chis!='ed' and chis!='mn' : raise TypeError('chis must be ed or mn')\n",
    "            self.chis=chis\n",
    "\n",
    "            if pad!='ip' and pad!='rp' and pad!='dp' and pad!='vp' and pad!='tp'\\\n",
    "                    and pad!='pp'  and pad!='sh' : \n",
    "                raise TypeError('pad must be ip, rp, dp, vp, tp, pp or sh')\n",
    "            self.pad=pad\n",
    "\n",
    "            self.talk=[('main',word)]\n",
    "        \n",
    "    def __repr__(self):\n",
    "        return '{type:'+self.type+',odush:'+str(self.odush)+',rod:'+self.rod+\\\n",
    "            ',chis:'+self.chis+',pad:'+self.pad+',talk:'+\\\n",
    "            repr(self.talk)+'}'\n",
    "    \n",
    "    def __str__(self):\n",
    "        return ' '.join(\\\n",
    "            str(i) if isinstance(i,Struct) else \\\n",
    "            show_adj_map[i[1]](self) if i[0]=='main' else\\\n",
    "            i[1] if i[0]=='other' else\\\n",
    "            '#'+i[1] if i[0]=='punct' else throw(RuntimeError()) \\\n",
    "                        for i in self.talk).replace(' #','')\n",
    "\n",
    "def show_adj1(st,word,ends):\n",
    "    if st.chis=='mn' :\n",
    "        (ip,rp,dp,vp,tp,pp,sh)=ends['mn']\n",
    "    else:\n",
    "        (ip,rp,dp,vp,tp,pp,sh)=ends[st.rod]\n",
    "        \n",
    "    if   st.pad=='ip' : rez=ip\n",
    "    elif st.pad=='rp' : rez=rp\n",
    "    elif st.pad=='dp' : rez=dp\n",
    "    elif st.pad=='vp' : rez=vp[0] if st.odush else vp[1]\n",
    "    elif st.pad=='tp' : rez=tp\n",
    "    elif st.pad=='pp' : rez=pp\n",
    "    elif st.pad=='sh' : rez=sh\n",
    "    else: raise InternalError()\n",
    "        \n",
    "    return word+rez\n"
   ]
  },
  {
   "cell_type": "markdown",
   "metadata": {},
   "source": [
    "## Отображение"
   ]
  },
  {
   "cell_type": "code",
   "execution_count": 21,
   "metadata": {
    "code_folding": []
   },
   "outputs": [],
   "source": [
    "show_adj_map={\n",
    "    'летучий'  :lambda st: show_adj1(st,'летуч' ,\n",
    "        {\n",
    "            'm' :('ий','его','ему',('его','ий'),'им' ,'ем','' ),\n",
    "            's' :('ее','его','ему',('ий', 'ий'),'им' ,'ем','е'),\n",
    "            'g' :('ая','ей' ,'ей' ,('ую', 'ую'),'ей' ,'ей','а'),\n",
    "            'mn':('ие','их' ,'им' ,('их', 'ие'),'ими','их','и'),\n",
    "        }\n",
    "    ) ,\n",
    "}"
   ]
  },
  {
   "cell_type": "code",
   "execution_count": 22,
   "metadata": {},
   "outputs": [],
   "source": [
    "show_noun_map={\n",
    "}"
   ]
  },
  {
   "cell_type": "markdown",
   "metadata": {},
   "source": [
    "## Правила"
   ]
  },
  {
   "cell_type": "code",
   "execution_count": 23,
   "metadata": {
    "code_folding": [
     2
    ]
   },
   "outputs": [],
   "source": [
    "ruwords={}\n",
    "\n",
    "def add_runoun(name,odush,rodchis,word,ip,rp,dp,vp,tp,pp):\n",
    "    if rodchis=='mn':\n",
    "        ruwords[name]=StNoun(odush,'m',rodchis,'ip',name)\n",
    "    else:\n",
    "        ruwords[name]=StNoun(odush,rodchis,'ed','ip',name)\n",
    "    show_noun_map[name]=lambda st: show_noun1(st.pad,word,ip,rp,dp,vp,tp,pp)\n"
   ]
  },
  {
   "cell_type": "code",
   "execution_count": 24,
   "metadata": {
    "code_folding": []
   },
   "outputs": [],
   "source": [
    "#                                     ип ,нет,дать,вижу,творю,думаю\n",
    "add_runoun(\"кот\"   ,True ,'m','кот'  ,'' ,'а','у' ,'а' ,'ом' ,'е' )\n",
    "\n",
    "add_runoun(\"урок\"  ,False,'m','урок' ,'' ,'а','у' ,''  ,'ом' ,'е' )\n",
    "\n",
    "add_runoun(\"кошка\" ,True ,'g','кошк' ,'а','и','е' ,'у' ,'ой' ,'е' )\n",
    "add_runoun(\"кепка\" ,False,'g','кепк' ,'а','и','е' ,'у' ,'ой' ,'е' )\n",
    "add_runoun(\"шапка\" ,False,'g','шапк' ,'а','и','е' ,'у' ,'ой' ,'е' )\n",
    "add_runoun(\"ручка\" ,False,'g','ручк' ,'а','и','е' ,'у' ,'ой' ,'е' )\n",
    "\n",
    "add_runoun(\"крыса\" ,True ,'g','крыс' ,'а','ы','е' ,'у' ,'ой' ,'е' )\n",
    "add_runoun(\"шляпа\" ,False,'g','шляп' ,'а','ы','е' ,'у' ,'ой' ,'е' )\n",
    "add_runoun(\"курица\",False,'g','куриц','а','ы','е' ,'у' ,'ой' ,'е' )\n",
    "\n",
    "add_runoun(\"мышь\"  ,True ,'g','мыш'  ,'ь','и','и' ,'ь' ,'ью' ,'и' )\n"
   ]
  },
  {
   "cell_type": "code",
   "execution_count": 25,
   "metadata": {},
   "outputs": [],
   "source": [
    "def r_letuchij(): return StAdj(True,'g','ed','ip','летучий')"
   ]
  },
  {
   "cell_type": "code",
   "execution_count": 26,
   "metadata": {
    "code_folding": []
   },
   "outputs": [],
   "source": [
    "def r_a_noun(a,n): return attrs2right(a,n)\n",
    "\n",
    "def r_adj_noun(a,n): \n",
    "    a.rod=n.rod\n",
    "    a.odush=n.odush\n",
    "    n.talk.insert(0,a)\n",
    "    return n\n",
    "\n",
    "def r_snoun_and_noun(sn,n):\n",
    "    root=StNoun()\n",
    "    root.chis='mn'\n",
    "    root.talk=[sn,('other','и'),n]\n",
    "    return root\n",
    "def r_snoun_comma_noun(sn,n):\n",
    "    root=StNoun()\n",
    "    root.chis='mn'\n",
    "    root.talk=[sn,('punct',','),n]\n",
    "    return root"
   ]
  },
  {
   "cell_type": "markdown",
   "metadata": {},
   "source": [
    "## Словарь"
   ]
  },
  {
   "cell_type": "code",
   "execution_count": 27,
   "metadata": {
    "code_folding": []
   },
   "outputs": [],
   "source": [
    "dict_adj={\n",
    "    'a' : S(''),\n",
    "    #'a' : r_nekotoryj(),\n",
    "    'an' : S(''),\n",
    "    #'an' : r_nekotoryj(),\n",
    "}"
   ]
  },
  {
   "cell_type": "code",
   "execution_count": 28,
   "metadata": {
    "code_folding": []
   },
   "outputs": [],
   "source": [
    "dict_noun={\n",
    "    'cat':   ruwords[\"кошка\"],\n",
    "    #'cat':   ruwords[\"кот\"],\n",
    "    \n",
    "    #'rat':   ruwords[\"мышь\"],\n",
    "    'rat':   ruwords['крыса'],\n",
    "    \n",
    "    'bat':   r_adj_noun(r_letuchij(),ruwords[\"мышь\"]),\n",
    "    \n",
    "    'lesson':ruwords[\"урок\"],\n",
    "    \n",
    "    'cap':   ruwords[\"кепка\"],\n",
    "    #'cap':  ruwords[\"шапка\"],\n",
    "    \n",
    "    'pen':   ruwords[\"ручка\"],\n",
    "    \n",
    "    'hat':   ruwords[\"шляпа\"],\n",
    "    \n",
    "    'hen':   ruwords[\"курица\"],\n",
    "}"
   ]
  },
  {
   "cell_type": "markdown",
   "metadata": {},
   "source": [
    "## Паттерны"
   ]
  },
  {
   "cell_type": "code",
   "execution_count": 29,
   "metadata": {},
   "outputs": [],
   "source": [
    "#2->\n",
    "@debug_pp\n",
    "def p_adj(s,p):\n",
    "    return fromdict(dict_adj)(s,p)"
   ]
  },
  {
   "cell_type": "code",
   "execution_count": 30,
   "metadata": {},
   "outputs": [],
   "source": [
    "@debug_pp\n",
    "def p_adj_snoun(s,p):\n",
    "    rezs=[]\n",
    "    if 1: #исключение словосочетания\n",
    "        def lp_an_a(str,pos):\n",
    "            lrezs=word('an')(str,pos)\n",
    "            if len(lrezs)>0 : return lrezs\n",
    "            return word('a')(str,pos)\n",
    "        rezs+=p_seq(s,p,[ lp_an_a, p_simple_noun ],r_a_noun)\n",
    "        #return p_seq(s,p,[ p_adj, p_nekotoryj_noun ],r_adj_noun)\n",
    "    if len(rezs)>0 : return rezs\n",
    "    #словосочетание\n",
    "    return p_seq(s,p,[ p_adj, p_simple_noun ],r_adj_noun)    "
   ]
  },
  {
   "cell_type": "code",
   "execution_count": 31,
   "metadata": {
    "code_folding": []
   },
   "outputs": [],
   "source": [
    "@debug_pp\n",
    "def p_simple_noun(s,p):\n",
    "    rezs=  p_adj_snoun(s,p)\n",
    "#+        numeral noun ->r_numeral_noun\n",
    "#+        noun numeral ->r_noun_numeral\n",
    "#+        numeral\n",
    "    rezs+= fromdict(dict_noun)(s,p)\n",
    "    return rezs"
   ]
  },
  {
   "cell_type": "code",
   "execution_count": 32,
   "metadata": {},
   "outputs": [],
   "source": [
    "@debug_pp\n",
    "def p_snoun_and_noun(s,p):\n",
    "    rezs=  p_seq(s,p,[ p_simple_noun, word('and'), p_noun ],r_snoun_and_noun  ,[0,2])\n",
    "    rezs+= p_seq(s,p,[ p_simple_noun, word(',')  , p_noun ],r_snoun_comma_noun,[0,2])\n",
    "    return rezs"
   ]
  },
  {
   "cell_type": "code",
   "execution_count": 33,
   "metadata": {},
   "outputs": [],
   "source": [
    "#1->\n",
    "@debug_pp\n",
    "def p_noun(s,p):\n",
    "    rezs=  p_snoun_and_noun(s,p)\n",
    "    rezs+= p_simple_noun(s,p)\n",
    "    return rezs"
   ]
  },
  {
   "cell_type": "code",
   "execution_count": 34,
   "metadata": {},
   "outputs": [],
   "source": [
    "#+    numeral ::= word(dict_numeral)"
   ]
  },
  {
   "cell_type": "markdown",
   "metadata": {},
   "source": [
    "# Тесты"
   ]
  },
  {
   "cell_type": "markdown",
   "metadata": {},
   "source": [
    "```\n",
    "числительные: род число падеж одуш - пока будем использовать как прилагательные, \n",
    "    но число числит. и число сущ. должны совпадать - проверка во время парсинга, \n",
    "        иначе исключение\n",
    "```"
   ]
  },
  {
   "cell_type": "code",
   "execution_count": 35,
   "metadata": {
    "scrolled": true
   },
   "outputs": [
    {
     "data": {
      "text/plain": [
       "[(1, {type:noun,odush:True,rod:g,chis:ed,pad:ip,talk:[('main', 'кошка')]})]"
      ]
     },
     "execution_count": 35,
     "metadata": {},
     "output_type": "execute_result"
    }
   ],
   "source": [
    "p_noun([S('cat')],0)"
   ]
  },
  {
   "cell_type": "markdown",
   "metadata": {
    "heading_collapsed": true
   },
   "source": [
    "## Lesson 1"
   ]
  },
  {
   "cell_type": "code",
   "execution_count": 36,
   "metadata": {
    "hidden": true
   },
   "outputs": [
    {
     "data": {
      "text/plain": [
       "['кошка']"
      ]
     },
     "execution_count": 36,
     "metadata": {},
     "output_type": "execute_result"
    }
   ],
   "source": [
    "en2ru('cat')"
   ]
  },
  {
   "cell_type": "code",
   "execution_count": 37,
   "metadata": {
    "hidden": true,
    "scrolled": true
   },
   "outputs": [
    {
     "data": {
      "text/plain": [
       "['кошка']"
      ]
     },
     "execution_count": 37,
     "metadata": {},
     "output_type": "execute_result"
    }
   ],
   "source": [
    "en2ru('a cat')"
   ]
  },
  {
   "cell_type": "code",
   "execution_count": 38,
   "metadata": {
    "hidden": true
   },
   "outputs": [
    {
     "data": {
      "text/plain": [
       "['крыса']"
      ]
     },
     "execution_count": 38,
     "metadata": {},
     "output_type": "execute_result"
    }
   ],
   "source": [
    "en2ru('rat')"
   ]
  },
  {
   "cell_type": "code",
   "execution_count": 39,
   "metadata": {
    "hidden": true
   },
   "outputs": [
    {
     "data": {
      "text/plain": [
       "['летучая мышь']"
      ]
     },
     "execution_count": 39,
     "metadata": {},
     "output_type": "execute_result"
    }
   ],
   "source": [
    "en2ru('bat')"
   ]
  },
  {
   "cell_type": "code",
   "execution_count": 40,
   "metadata": {
    "hidden": true
   },
   "outputs": [
    {
     "data": {
      "text/plain": [
       "['']"
      ]
     },
     "execution_count": 40,
     "metadata": {},
     "output_type": "execute_result"
    }
   ],
   "source": [
    "en2ru('a')"
   ]
  },
  {
   "cell_type": "code",
   "execution_count": 41,
   "metadata": {
    "hidden": true
   },
   "outputs": [
    {
     "data": {
      "text/plain": [
       "['урок']"
      ]
     },
     "execution_count": 41,
     "metadata": {},
     "output_type": "execute_result"
    }
   ],
   "source": [
    "en2ru('lesson')"
   ]
  },
  {
   "cell_type": "code",
   "execution_count": 42,
   "metadata": {
    "hidden": true
   },
   "outputs": [
    {
     "data": {
      "text/plain": [
       "['крыса, летучая мышь, кошка']"
      ]
     },
     "execution_count": 42,
     "metadata": {},
     "output_type": "execute_result"
    }
   ],
   "source": [
    "en2ru('a rat, a bat, a cat')"
   ]
  },
  {
   "cell_type": "markdown",
   "metadata": {},
   "source": [
    "## Lesson 2"
   ]
  },
  {
   "cell_type": "code",
   "execution_count": 43,
   "metadata": {},
   "outputs": [
    {
     "data": {
      "text/plain": [
       "['ручка и курица']"
      ]
     },
     "execution_count": 43,
     "metadata": {},
     "output_type": "execute_result"
    }
   ],
   "source": [
    "en2ru('a pen and a hen')"
   ]
  },
  {
   "cell_type": "code",
   "execution_count": 44,
   "metadata": {},
   "outputs": [
    {
     "data": {
      "text/plain": [
       "['летучая мышь и кошка']"
      ]
     },
     "execution_count": 44,
     "metadata": {},
     "output_type": "execute_result"
    }
   ],
   "source": [
    "en2ru('a bat and a cat')"
   ]
  },
  {
   "cell_type": "code",
   "execution_count": 45,
   "metadata": {},
   "outputs": [
    {
     "data": {
      "text/plain": [
       "['курица, летучая мышь, кошка и крыса']"
      ]
     },
     "execution_count": 45,
     "metadata": {},
     "output_type": "execute_result"
    }
   ],
   "source": [
    "en2ru('a hen, a bat, a cat and a rat')"
   ]
  },
  {
   "cell_type": "code",
   "execution_count": null,
   "metadata": {},
   "outputs": [],
   "source": []
  }
 ],
 "metadata": {
  "hide_input": false,
  "kernelspec": {
   "display_name": "Python 3",
   "language": "python",
   "name": "python3"
  },
  "language_info": {
   "codemirror_mode": {
    "name": "ipython",
    "version": 3
   },
   "file_extension": ".py",
   "mimetype": "text/x-python",
   "name": "python",
   "nbconvert_exporter": "python",
   "pygments_lexer": "ipython3",
   "version": "3.6.7"
  }
 },
 "nbformat": 4,
 "nbformat_minor": 2
}
